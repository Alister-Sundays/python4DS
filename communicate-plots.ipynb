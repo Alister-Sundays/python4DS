{
 "cells": [
  {
   "cell_type": "markdown",
   "id": "95f0a171",
   "metadata": {},
   "source": [
    "(communicate-plots)=\n",
    "# Graphics for Communication\n",
    "\n",
    "## Introduction\n",
    "\n",
    "In this chapter, you'll learn about using visualisation to communicate.\n",
    "\n",
    "In {ref}`exploratory-data-analysis`, you learned how to use plots as tools for *exploration*.\n",
    "When you make exploratory plots, you know—even before looking—which variables the plot will display.\n",
    "You made each plot for a purpose, quickly looked at it, and then moved on to the next plot.\n",
    "In the course of most analyses, you'll produce tens or hundreds of plots, most of which are immediately thrown away.\n",
    "\n",
    "Now that you understand your data, you need to *communicate* your understanding to others.\n",
    "Your audience will likely not share your background knowledge and will not be deeply invested in the data. To help others quickly build up a good mental model of the data, you will need to invest considerable effort in making your plots as self-explanatory as possible. In this chapter, you'll learn some of the tools that **lets-plot** provides to do make charts tell a story.\n",
    "\n",
    "### Prerequisities\n",
    "\n",
    "As ever, there are a plethora of options (and packages) for data visualisation using code. We're focusing on the declarative, \"grammar of graphics\" approach using **lets-plot** here, but advanced users looking for more complex graphics might wish to use an imperative library such as the excellent **matplotlib**. You should have both **lets-plot** and **pandas** installed. Once you have them installed, import them like so:"
   ]
  },
  {
   "cell_type": "code",
   "execution_count": null,
   "id": "51a55374",
   "metadata": {
    "tags": [
     "remove-cell"
    ]
   },
   "outputs": [],
   "source": [
    "# remove cell\n",
    "import matplotlib_inline.backend_inline\n",
    "import matplotlib.pyplot as plt\n",
    "\n",
    "# Plot settings\n",
    "plt.style.use(\"https://github.com/aeturrell/python4DS/raw/main/plot_style.txt\")\n",
    "matplotlib_inline.backend_inline.set_matplotlib_formats(\"svg\")"
   ]
  },
  {
   "cell_type": "code",
   "execution_count": null,
   "id": "ae4a818a",
   "metadata": {},
   "outputs": [],
   "source": [
    "from lets_plot import *\n",
    "from lets_plot.mapping import as_discrete\n",
    "import pandas as pd\n",
    "import numpy as np\n",
    "\n",
    "LetsPlot.setup_html()"
   ]
  },
  {
   "cell_type": "markdown",
   "id": "a0dc9c10",
   "metadata": {},
   "source": [
    "## Labels, titles, and other contextual information\n",
    "\n",
    "The easiest place to start when turning an exploratory graphic into an expository graphic is with good labels. Let's look at an example using the MPG (miles per gallon) data, which covers the fuel economy for 38 popular models of cars from 1999 to 2008."
   ]
  },
  {
   "cell_type": "code",
   "execution_count": null,
   "id": "c36b4cd5",
   "metadata": {},
   "outputs": [],
   "source": [
    "# load the data\n",
    "mpg = pd.read_csv(\n",
    "    \"https://vincentarelbundock.github.io/Rdatasets/csv/ggplot2/mpg.csv\", index_col=0\n",
    ")"
   ]
  },
  {
   "cell_type": "markdown",
   "id": "1813ab08",
   "metadata": {},
   "source": [
    "We want to show fuel efficiency on the highway changes with engine displacement, in litres. The most basic chart we can do with these variables is:"
   ]
  },
  {
   "cell_type": "code",
   "execution_count": null,
   "id": "c7574bc6",
   "metadata": {},
   "outputs": [],
   "source": [
    "(ggplot(mpg, aes(x=\"displ\", y=\"hwy\")) + geom_point())"
   ]
  },
  {
   "cell_type": "markdown",
   "id": "ff5ed0d4",
   "metadata": {},
   "source": [
    "Now we're going to add lots of extra useful information that will make the chart better. The purpose of a plot title is to summarize the main finding.\n",
    "Avoid titles that just describe what the plot is, e.g., \"A scatterplot of engine displacement vs. fuel economy\".\n",
    "\n",
    "We're going to:\n",
    "\n",
    "- add a title that summarises the main finding you'd like the viewer to take away (as opposed to one just describing the obvious!)\n",
    "- add a subtitle that provides more info on the y-axis, and make the x-label more understandable\n",
    "- remove the y-axis label that is at an awkward viewing angle\n",
    "- add a caption with the source of the data\n",
    "\n",
    "Putting this all in, we get:"
   ]
  },
  {
   "cell_type": "code",
   "execution_count": null,
   "id": "24b3513e",
   "metadata": {},
   "outputs": [],
   "source": [
    "(\n",
    "    ggplot(mpg, aes(x=\"displ\", y=\"hwy\"))\n",
    "    + geom_point(aes(color=\"class\"))\n",
    "    + geom_smooth(se=False, method=\"loess\", size=1)\n",
    "    + labs(\n",
    "        title=\"Fuel efficiency generally decreases with engine size\",\n",
    "        subtitle=\"Highway fuel efficiency (miles per gallon)\",\n",
    "        caption=\"Source: fueleconomy.gov\",\n",
    "        y=\"\",\n",
    "        x=\"Engine displacement (litres)\",\n",
    "    )\n",
    ")"
   ]
  },
  {
   "cell_type": "markdown",
   "id": "2e28877a",
   "metadata": {},
   "source": [
    "This is much clearer. It's easier to read, we know where the data come from, and we can see *why* we're being shown it too.\n",
    "\n",
    "But maybe we want a different message? You can flex depending on your needs, and some people prefer to have a rotated y-axis so that the subtitle can provide even more context:"
   ]
  },
  {
   "cell_type": "code",
   "execution_count": null,
   "id": "6489a6bf",
   "metadata": {},
   "outputs": [],
   "source": [
    "(\n",
    "    ggplot(mpg, aes(x=\"displ\", y=\"hwy\"))\n",
    "    + geom_point(aes(color=\"class\"))\n",
    "    + geom_smooth(se=False, method=\"loess\", size=1)\n",
    "    + labs(\n",
    "        x=\"Engine displacement (L)\",\n",
    "        y=\"Highway fuel economy (mpg)\",\n",
    "        color=\"Car type\",\n",
    "        title=\"Fuel efficiency generally decreases with engine size\",\n",
    "        subtitle=\"Two seaters (sports cars) are an exception because of their light weight\",\n",
    "        caption=\"Source: fueleconomy.gov\",\n",
    "    )\n",
    ")"
   ]
  },
  {
   "cell_type": "markdown",
   "id": "9d88f188",
   "metadata": {},
   "source": [
    "### Exercises\n",
    "\n",
    "1.  Create one plot on the fuel economy data with customized `title`, `subtitle`, `caption`, `x`, `y`, and `color` labels.\n",
    "\n",
    "2.  Recreate the following plot using the fuel economy data.\n",
    "    Note that both the colors and shapes of points vary by type of drive train."
   ]
  },
  {
   "cell_type": "code",
   "execution_count": null,
   "id": "683d547c",
   "metadata": {
    "tags": [
     "remove-cell"
    ]
   },
   "outputs": [],
   "source": [
    "(\n",
    "    ggplot(mpg, aes(x=\"cty\", y=\"hwy\", color=\"drv\", shape=\"drv\"))\n",
    "    + geom_point()\n",
    "    + labs(\n",
    "        x=\"City MPG\",\n",
    "        y=\"Highway MPG\",\n",
    "        shape=\"Type of\\ndrive train\",\n",
    "        color=\"Type of\\ndrive train\",\n",
    "    )\n",
    ")"
   ]
  },
  {
   "cell_type": "markdown",
   "id": "e10cdbd9",
   "metadata": {},
   "source": [
    "3.  Take an exploratory graphic that you've created in the last month, and add informative titles to make it easier for others to understand."
   ]
  },
  {
   "cell_type": "markdown",
   "id": "289418c9",
   "metadata": {},
   "source": [
    "## Annotations\n",
    "\n",
    "In addition to labelling major components of your plot, it's often useful to label individual observations or groups of observations.\n",
    "The first tool you have at your disposal is `geom_text()`.\n",
    "`geom_text()` is similar to `geom_point()`, but it has an additional aesthetic: `label`.\n",
    "This makes it possible to add textual labels to your plots.\n",
    "\n",
    "There are two possible sources of labels: ones that are part of the data, which we'll add with `geom_text`; and ones that we add directly and manually as annotations using `geom_label`.\n",
    "\n",
    "In the first case, you might have a dataframe that contains labels.\n",
    "In the following plot we pull out the cars with the highest engine size in each drive type and save their information as a new data frame called `label_info`. In creating it, we pick out the mean values of \"hwy\" by \"drv\" as the points to label—but we could do any aggregation we feel would work well on the chart."
   ]
  },
  {
   "cell_type": "code",
   "execution_count": null,
   "id": "60826a32",
   "metadata": {},
   "outputs": [],
   "source": [
    "mapping = {\n",
    "    \"4\": \"4-wheel drive\",\n",
    "    \"f\": \"front-wheel drive\",\n",
    "    \"r\": \"rear-wheel drive\",\n",
    "}\n",
    "label_info = (\n",
    "    mpg.groupby(\"drv\")\n",
    "    .agg({\"hwy\": \"mean\", \"displ\": \"mean\"})\n",
    "    .reset_index()\n",
    "    .assign(drive_type=lambda x: x[\"drv\"].map(mapping))\n",
    "    .round(2)\n",
    ")\n",
    "label_info"
   ]
  },
  {
   "cell_type": "markdown",
   "id": "93a136fe",
   "metadata": {},
   "source": [
    "Then, we use this new data frame to directly label the three groups to replace the legend with labels placed directly on the plot. Using the fontface and size arguments we can customize the look of the text labels. They’re larger than the rest of the text on the plot and bolded. (`theme(legend.position = \"none\")` turns all the legends off — we’ll talk about it more shortly.)"
   ]
  },
  {
   "cell_type": "code",
   "execution_count": null,
   "id": "6f90c2aa",
   "metadata": {},
   "outputs": [],
   "source": [
    "(\n",
    "    ggplot(mpg, aes(x=\"displ\", y=\"hwy\", color=\"drv\"))\n",
    "    + geom_point(alpha=0.5)\n",
    "    + geom_smooth(se=False, method=\"loess\")\n",
    "    + geom_text(\n",
    "        aes(x=\"displ\", y=\"hwy\", label=\"drive_type\"),\n",
    "        data=label_info,\n",
    "        fontface=\"bold\",\n",
    "        size=8,\n",
    "        hjust=\"left\",\n",
    "        vjust=\"bottom\",\n",
    "    )\n",
    "    + theme(legend_position=\"none\")\n",
    ")"
   ]
  },
  {
   "cell_type": "markdown",
   "id": "98c17829",
   "metadata": {},
   "source": [
    "Note the use of `hjust` (horizontal justification) and `vjust` (vertical justification) to control the alignment of the label.\n",
    "\n",
    "\n",
    "The second of the two methods we're looking at is `geom_label`. This has two modes: in the first, it works like `geom_text` but with a box around the text, like so:"
   ]
  },
  {
   "cell_type": "code",
   "execution_count": null,
   "id": "bdcd79bb",
   "metadata": {},
   "outputs": [],
   "source": [
    "potential_outliers = mpg.query(\"hwy > 40 | (hwy > 20 & displ > 5)\")\n",
    "(\n",
    "    ggplot(mpg, aes(x=\"displ\", y=\"hwy\"))\n",
    "    + geom_point(color=\"black\")\n",
    "    + geom_smooth(se=False, method=\"loess\", color=\"black\")\n",
    "    + geom_point(\n",
    "        data=potential_outliers,\n",
    "        color=\"red\",\n",
    "    )\n",
    "    + geom_label(\n",
    "        aes(label=\"model\"),\n",
    "        data=potential_outliers,\n",
    "        color=\"red\",\n",
    "        position=position_jitter(),\n",
    "        fontface=\"bold\",\n",
    "        size=5,\n",
    "        hjust=\"left\",\n",
    "        vjust=\"bottom\",\n",
    "    )\n",
    "    + theme(legend_position=\"none\")\n",
    ")"
   ]
  },
  {
   "cell_type": "markdown",
   "id": "38b69dcf",
   "metadata": {},
   "source": [
    "The second method is generally useful for adding either a single or several annotations to a plot, like so:"
   ]
  },
  {
   "cell_type": "code",
   "execution_count": null,
   "id": "d1e2cc3a",
   "metadata": {},
   "outputs": [],
   "source": [
    "import textwrap\n",
    "\n",
    "# wrap the text so it is over multiple lines:\n",
    "trend_text = textwrap.fill(\"Larger engine sizes tend to have lower fuel economy.\", 30)\n",
    "trend_text"
   ]
  },
  {
   "cell_type": "code",
   "execution_count": null,
   "id": "e8c09f57",
   "metadata": {},
   "outputs": [],
   "source": [
    "(\n",
    "    ggplot(mpg, aes(x=\"displ\", y=\"hwy\"))\n",
    "    + geom_point()\n",
    "    + geom_label(x=3.5, y=38, label=trend_text, hjust=\"left\", color=\"red\")\n",
    "    + geom_segment(x=2, y=40, xend=5, yend=25, arrow=arrow(type=\"closed\"), color=\"red\")\n",
    ")"
   ]
  },
  {
   "cell_type": "markdown",
   "id": "0720e7eb",
   "metadata": {},
   "source": [
    "Annotation is a powerful tool for communicating main takeaways and interesting features of your visualisations. The only limit is your imagination (and your patience with positioning annotations to be aesthetically pleasing)!"
   ]
  },
  {
   "cell_type": "markdown",
   "id": "9c00a0fd",
   "metadata": {},
   "source": [
    "Remember, in addition to `geom_text()` and `geom_label()`, you have many other geoms in **lets-plot** available to help annotate your plot.\n",
    "A couple ideas:\n",
    "\n",
    "-   Use `geom_hline()` and `geom_vline()` to add reference lines.\n",
    "    We often make them thick (`size = 2`) and grey (`color = gray`), and draw them underneath the primary data layer.\n",
    "    That makes them easy to see, without drawing attention away from the data.\n",
    "\n",
    "-   Use `geom_rect()` to draw a rectangle around points of interest.\n",
    "    The boundaries of the rectangle are defined by aesthetics `xmin`, `xmax`, `ymin`, `ymax`.\n",
    "\n",
    "-   You already saw the use of `geom_segment()` with the `arrow` argument to draw attention to a point with an arrow.\n",
    "    Use aesthetics `x` and `y` to define the starting location, and `xend` and `yend` to define the end location.\n"
   ]
  },
  {
   "cell_type": "markdown",
   "id": "730162e6",
   "metadata": {},
   "source": [
    "### Exercises\n",
    "\n",
    "1.  Use `geom_text()` with infinite positions to place text at the four corners of the plot.\n",
    "\n",
    "2.  Use `geom_label()` to add a point geom in the middle of your last plot without having to create a dataframe\n",
    "    Customise the shape, size, or color of the point.\n",
    "\n",
    "3.  How do labels with `geom_text()` interact with faceting?\n",
    "    How can you add a label to a single facet?\n",
    "    How can you put a different label in each facet?\n",
    "    (Hint: Think about the dataset that is being passed to `geom_text()`.)\n",
    "\n",
    "4.  What arguments to `geom_label()` control the appearance of the background box?\n",
    "\n",
    "5.  What are the four arguments to `arrow()`?\n",
    "    How do they work?\n",
    "    Create a series of plots that demonstrate the most important options.\n"
   ]
  },
  {
   "cell_type": "markdown",
   "id": "2f665492",
   "metadata": {},
   "source": [
    "## Scales\n",
    "\n",
    "Another you can make your plot better for communication is to adjust the scales.\n",
    "Scales control how the aesthetic mappings manifest visually.\n",
    "\n",
    "### Default scales\n",
    "\n",
    "Normally, **lets-plot** automatically adds scales for you and you don't need to worry about them. For example, when you type:\n",
    "\n",
    "```python\n",
    "(\n",
    "    ggplot(mpg, aes(x=\"displ\", y=\"hwy\")) +\n",
    "    geom_point(aes(color=\"class\"))\n",
    ")\n",
    "```\n",
    "\n",
    "**lets-plot** is automatically doing this behind the scenes:\n",
    "\n",
    "```python\n",
    "(\n",
    "    ggplot(mpg, aes(x=\"displ\", y=\"hwy\")) +\n",
    "    geom_point(aes(color=\"class\")) +\n",
    "    scale_x_continous() +\n",
    "    scale_y_continuous() +\n",
    "    scale_color_discrete()\n",
    ")\n",
    "```"
   ]
  },
  {
   "cell_type": "markdown",
   "id": "39332b3b",
   "metadata": {},
   "source": [
    "Note the naming scheme for scales: `scale_` followed by the name of the aesthetic, then `_`, then the name of the scale.\n",
    "The default scales are named according to the type of variable they align with: continuous, discrete, datetime, or date.\n",
    "`scale_x_continuous()` puts the numeric values from `displ` on a continuous number line on the x-axis, `scale_color_discrete()` chooses colors for each of the `class` of car, etc.\n",
    "There are lots of non-default scales which you'll learn about below.\n",
    "\n",
    "The default scales have been carefully chosen to do a good job for a wide range of inputs.\n",
    "Nevertheless, you might want to override the defaults for two reasons:\n",
    "\n",
    "-   You might want to tweak some of the parameters of the default scale.\n",
    "    This allows you to do things like change the breaks on the axes, or the key labels on the legend.\n",
    "\n",
    "-   You might want to replace the scale altogether, and use a completely different algorithm.\n",
    "    Often you can do better than the default because you know more about the data.\n"
   ]
  },
  {
   "cell_type": "markdown",
   "id": "c645247f",
   "metadata": {},
   "source": [
    "### Axis ticks and legend keys\n",
    "\n",
    "Collectively axes and legends get the somewhat confusing name **guides** in **lets-plot**. Axes are used for x and y aesthetics; legends are used for everything else.\n",
    "\n",
    "There are two primary arguments that affect the appearance of the ticks on the axes and the keys on the legend: `breaks` and `labels`.\n",
    "Breaks controls the position of the ticks, or the values associated with the keys. If you like, the breaks *are* the ticks.\n",
    "Labels controls the text label associated with each tick/key. We might more accurately call these *tick labels*.\n",
    "The most common use of `breaks` is to override the default choice:\n"
   ]
  },
  {
   "cell_type": "code",
   "execution_count": null,
   "id": "a95604d8",
   "metadata": {},
   "outputs": [],
   "source": [
    "(\n",
    "    ggplot(mpg, aes(x=\"displ\", y=\"hwy\", color=\"drv\"))\n",
    "    + geom_point()\n",
    "    + scale_y_continuous(breaks=np.arange(15, 40, step=5))\n",
    ")"
   ]
  },
  {
   "cell_type": "markdown",
   "id": "bd1113b7",
   "metadata": {},
   "source": [
    "You can use `labels` in the same way (ie pass in an array or list of strings the same length as `breaks`). To remove them altogether, you would have to use a theme, though, a topic we'll return to later.\n",
    "You can also use `breaks` and `labels` to control the appearance of legends.\n",
    "For discrete scales for categorical variables, `labels` can be a named list of the existing levels names and the desired labels for them.\n"
   ]
  },
  {
   "cell_type": "code",
   "execution_count": null,
   "id": "1a852304",
   "metadata": {},
   "outputs": [],
   "source": [
    "(\n",
    "    ggplot(mpg, aes(x=\"displ\", y=\"hwy\", color=\"drv\"))\n",
    "    + geom_point()\n",
    "    + scale_color_discrete(labels=[\"4-wheel\", \"front\", \"rear\"])\n",
    ")"
   ]
  },
  {
   "cell_type": "markdown",
   "id": "184dfb30",
   "metadata": {},
   "source": [
    "To change the formatting of the tick labels, use the `format=` keyword argument. This is useful to render currencies, percentages, and so on—though it's often easier for the reader to just see this symbol once in the axis label.\n",
    "\n",
    "In the example below, we read in the `diamonds` dataset and then format it with a command `format=\"$.2s\"`; let's break this down:\n",
    "\n",
    "- the dollar sign says put a dollar sign in front of every number\n",
    "- the .2 says use two significant digits\n",
    "- the s says, use the Système International (SI)\n",
    "\n",
    "There are a wealth of alternative options for formatting—it's best to use the [helpful page on formatting](https://lets-plot.org/pages/formats.html) in the documentation of **lets-plot** to find out more."
   ]
  },
  {
   "cell_type": "code",
   "execution_count": null,
   "id": "40ac230e",
   "metadata": {},
   "outputs": [],
   "source": [
    "diamonds = pd.read_csv(\n",
    "    \"https://vincentarelbundock.github.io/Rdatasets/csv/ggplot2/diamonds.csv\"\n",
    ")\n",
    "diamonds[\"cut\"] = diamonds[\"cut\"].astype(\n",
    "    pd.CategoricalDtype(\n",
    "        categories=[\"Fair\", \"Good\", \"Very Good\", \"Premium\", \"Ideal\"], ordered=True\n",
    "    )\n",
    ")\n",
    "diamonds[\"color\"] = diamonds[\"color\"].astype(\n",
    "    pd.CategoricalDtype(categories=[\"D\", \"E\", \"F\", \"G\", \"H\", \"I\", \"J\"], ordered=True)\n",
    ")"
   ]
  },
  {
   "cell_type": "code",
   "execution_count": null,
   "id": "1520bb3c",
   "metadata": {},
   "outputs": [],
   "source": [
    "(\n",
    "    ggplot(diamonds, aes(x=\"cut\", y=\"price\"))\n",
    "    + geom_boxplot()\n",
    "    + coord_flip()\n",
    "    + scale_y_continuous(format=\"$.2s\", breaks=np.arange(0, 19000, step=6000))\n",
    ")"
   ]
  },
  {
   "cell_type": "markdown",
   "id": "6ca1b42b",
   "metadata": {},
   "source": [
    "To double check this works, let's use the terminal. We'll try the command `ls`, which lists everything in directory, and `grep *.svg` to pull out any files that end in `.svg` from what is returned by `ls`. These are strung together as commands by a `|`. (Note that the leading exclamation mark below just tells the software that builds this book to use the terminal.)"
   ]
  },
  {
   "cell_type": "code",
   "execution_count": null,
   "id": "8ffc45b8",
   "metadata": {},
   "outputs": [],
   "source": [
    "!ls | grep *.svg"
   ]
  },
  {
   "cell_type": "code",
   "execution_count": null,
   "id": "e7cf90a9",
   "metadata": {
    "tags": [
     "remove-cell"
    ]
   },
   "outputs": [],
   "source": [
    "# remove-cell\n",
    "import os\n",
    "\n",
    "os.remove(\"output_chart.svg\")"
   ]
  }
 ],
 "metadata": {
  "interpreter": {
   "hash": "9d7534ecd9fbc7d385378f8400cf4d6cb9c6175408a574f1c99c5269f08771cc"
  },
  "jupytext": {
   "cell_metadata_filter": "-all",
   "encoding": "# -*- coding: utf-8 -*-",
   "formats": "md:myst",
   "main_language": "python"
  },
  "kernelspec": {
   "display_name": "Python 3 (ipykernel)",
   "language": "python",
   "name": "python3"
  },
  "language_info": {
   "codemirror_mode": {
    "name": "ipython",
    "version": 3
   },
   "file_extension": ".py",
   "mimetype": "text/x-python",
   "name": "python",
   "nbconvert_exporter": "python",
   "pygments_lexer": "ipython3",
   "version": "3.10.12"
  },
  "toc-showtags": true
 },
 "nbformat": 4,
 "nbformat_minor": 5
}
