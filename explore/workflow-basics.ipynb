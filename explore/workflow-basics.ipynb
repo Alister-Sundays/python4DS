{
 "cells": [
  {
   "cell_type": "markdown",
   "id": "95f0a171",
   "metadata": {},
   "source": [
    "(workflow-basics)=\n",
    "# Workflow: Basics\n",
    "\n",
    "If you followed the previous chapters, you will now have some experience running Python code.\n",
    "\n",
    "We didn't give you many details, but you've obviously figured out the basics, or you would've thrown this book away in frustration!\n",
    "\n",
    "Frustration is natural when you start programming in Python, because it is such a stickler for punctuation, and even one character out of place will cause it to complain. But while you should expect to be a little frustrated, take comfort in that this experience is both typical and temporary: it happens to everyone, and the only way to get over it is to keep trying.\n",
    "\n",
    "Before we go any further, let's make sure you've got a solid foundation in running Python code, and that you know about some of the most helpful Visual Studio Code features for working with Python."
   ]
  },
  {
   "cell_type": "markdown",
   "id": "52bd88aa",
   "metadata": {},
   "source": [
    "## Coding Basics\n",
    "\n",
    "Let's review some basics we've omitted thus far in the interests of getting you up to speed as quickly as possible. You can use Python as a calculator:"
   ]
  },
  {
   "cell_type": "code",
   "execution_count": null,
   "id": "23465996",
   "metadata": {},
   "outputs": [],
   "source": [
    "print(1/200 * 30)\n",
    "print((59 + 73 + 2) / 3)"
   ]
  },
  {
   "cell_type": "markdown",
   "id": "0f0ee026",
   "metadata": {},
   "source": [
    "The extra package **numpy** contains many of the additional mathematical operators that you might need. If you don't already have **numpy** installed, open up the terminal in Visual Studio Code (go to \"Terminal -> New Terminal\" and then type `conda install numpy` into the terminal then hit return). Once you have **numpy** installed, you can import it and use it like this:"
   ]
  },
  {
   "cell_type": "code",
   "execution_count": null,
   "id": "bdd3c2c0",
   "metadata": {},
   "outputs": [],
   "source": [
    "import numpy as np\n",
    "\n",
    "print(np.sin(np.pi/2))"
   ]
  },
  {
   "cell_type": "markdown",
   "id": "735168ca",
   "metadata": {},
   "source": [
    "You can create new objects with the assignment operator `=`. You should think of this as copying the value of whatever is on the right-hand side into the variable on the left-hand side."
   ]
  },
  {
   "cell_type": "code",
   "execution_count": null,
   "id": "cead1264",
   "metadata": {},
   "outputs": [],
   "source": [
    "x = 3 * 4\n",
    "print(x)"
   ]
  },
  {
   "cell_type": "markdown",
   "id": "95cdd9bf",
   "metadata": {},
   "source": [
    "There are several structures in Python that capture multiple objects simultaneously but perhaps the most common is the *list*, which is designated by *square brackets*."
   ]
  },
  {
   "cell_type": "code",
   "execution_count": null,
   "id": "91a44d83",
   "metadata": {},
   "outputs": [],
   "source": [
    "primes = [1, 2, 3, 5, 7, 11, 13]\n",
    "print(primes)"
   ]
  },
  {
   "cell_type": "markdown",
   "id": "4978f028",
   "metadata": {},
   "source": [
    "To do basic arithmetic on a list, use a *list comprehension* which has the structure \"for every element in this list, perform an operation\". For example, to multiply each element by three."
   ]
  },
  {
   "cell_type": "code",
   "execution_count": null,
   "id": "1a526124",
   "metadata": {},
   "outputs": [],
   "source": [
    "[element*3 for element in primes]"
   ]
  },
  {
   "cell_type": "markdown",
   "id": "8c829c5b",
   "metadata": {},
   "source": [
    "Note that the word \"element\" above could have been almost any word because we define it by saying `...for element in ...`. You can try the above with a different word, eg `[entry*3 for entry in primes]`."
   ]
  },
  {
   "cell_type": "markdown",
   "id": "acf1e506",
   "metadata": {},
   "source": [
    "All Python statements where you create objects (known as *assignment* statements) have the same form:\n",
    "\n",
    "```\n",
    "object_name = value\n",
    "```\n",
    "\n",
    "When reading that code, say \"object name gets value\" in your head."
   ]
  },
  {
   "cell_type": "markdown",
   "id": "2322fab5",
   "metadata": {},
   "source": [
    "## Comments\n",
    "\n",
    "Python will ignore any text after `#`. This allows to you to write **comments**, text that is ignored by Python but can be read by other humans. We'll sometimes include comments in examples explaining what's happening with the code.\n",
    "\n",
    "Comments can be helpful for briefly describing what the subsequent code does."
   ]
  },
  {
   "cell_type": "code",
   "execution_count": null,
   "id": "c061f9cc",
   "metadata": {},
   "outputs": [],
   "source": [
    "# define primes\n",
    "primes = [1, 2, 3, 5, 7, 11, 13]\n",
    "# multiply primes by 2\n",
    "[el * 2 for el in primes]"
   ]
  },
  {
   "cell_type": "markdown",
   "id": "cb49df46",
   "metadata": {},
   "source": [
    "With short pieces of code like this, it is not necessary to leave a command for every single line of code and you should try to use informative names wherever you can because these help readers of your code (likely to be you in the future) understand what is going on!"
   ]
  },
  {
   "cell_type": "markdown",
   "id": "9f19d076",
   "metadata": {},
   "source": [
    "## What's in a name?\n",
    "\n",
    "First, names matter. Use meaningful names for variables, functions, or whatever it is you're naming. Avoid abbreviations that you understand *now* but which will be unclear to others, or future you. For example, use `real_wage_hourly` over `re_wg_ph`. I know it's tempting to use `temp` but you'll feel silly later when you can't for the life of you remember what `temp` does or is. A good trick when naming booleans (variables that are either true or false) is to use `is` followed by what the boolean variable refers to, for example `is_married`.\n",
    "\n",
    "As well as this general tip, Python has conventions on naming different kinds of variables. The naming convention for almost all objects is lower case separated by underscores, e.g. `a_variable=10` or ‘this_is_a_script.py’. This style of naming is also known as snake case. There are different naming conventions though—[Allison Horst](https://twitter.com/allison_horst) made this fantastic cartoon of the different conventions that are in use.\n",
    "\n",
    "![Different naming conventions. Artwork by @allison_horst.](https://github.com/aeturrell/coding-for-economists/raw/main/img/in_that_case.jpg) Different naming conventions. Artwork by @allison_horst.\n",
    "\n",
    "There are three exceptions to the snake case convention: classes, which should be in camel case, eg `ThisIsAClass`; constants, which are in capital snake case, eg `THIS_IS_A_CONSTANT`; and packages, which are typically without spaces or underscores and are lowercase `thisisapackage`.\n",
    "\n",
    "For some quick shortcuts to re-naming columns in **pandas** dataframes or other string variables, try the unicode-friendly [**slugify**](https://github.com/un33k/python-slugify) library or the `clean_headers` function from the [**dataprep**](https://docs.dataprep.ai/index.html) library.\n",
    "\n",
    "The better named your variables, the clearer your code will be--and the fewer comments you will need to write!\n",
    "\n",
    "In summary:\n",
    "- use descriptive variable names that reveal your intention, eg `days_since_treatment`\n",
    "- avoid using ambiguous abbreviations in names, eg use `real_wage_hourly` over `rw_ph`\n",
    "- always use the same vocabulary, eg don't switch from `worker_type` to `employee_type`\n",
    "- avoid 'magic numbers', eg numbers in your code that set a key parameter. Set these as named constants instead. Here's an example:\n",
    "  ```python\n",
    "    import random\n",
    "\n",
    "    # This is bad\n",
    "    def roll():\n",
    "        return random.randint(0, 36)  # magic number!\n",
    "\n",
    "    # This is good\n",
    "    MAX_INT_VALUE = 36\n",
    "\n",
    "    def roll():\n",
    "        return random.randint(0, MAX_INT_VALUE)\n",
    "  ```\n",
    "- use verbs for function names, eg `get_regression`\n",
    "- use consistent verbs for function names, don't use `get_score` and `grab_results` (instead use `get` for both)\n",
    "- variable names should be snake_case and all lowercase, eg `first_name`\n",
    " - class names should be CamelCase, eg `MyClass`\n",
    "function names should be snake_case and all lowercase, eg `quick_sort()`\n",
    " - constants should be snake_case and all uppercase, eg `PI = 3.14159`\n",
    " - modules should have short, snake_case names and all lowercase, eg `pandas`\n",
    " - single quotes and double quotes are equivalent so pick one and be consistent—most automatic formatters prefer `\"`\n",
    "\n",
    "You can always inspect an already-created object by typing its name into the interactive window:"
   ]
  },
  {
   "cell_type": "code",
   "execution_count": null,
   "id": "e77540e0",
   "metadata": {},
   "outputs": [],
   "source": [
    "primes"
   ]
  },
  {
   "cell_type": "markdown",
   "id": "26a8ac97",
   "metadata": {},
   "source": [
    "If you want to know what *type* of object it is, use `type(object)` in the interactive window like this:"
   ]
  },
  {
   "cell_type": "code",
   "execution_count": null,
   "id": "9dd0fd49",
   "metadata": {},
   "outputs": [],
   "source": [
    "type(primes)"
   ]
  },
  {
   "cell_type": "markdown",
   "id": "e533b440",
   "metadata": {},
   "source": [
    "Visual Studio Code has some powerful features to help you keep track of objects:\n",
    "\n",
    "1. At the top of your interactive window, you should see a 'Variables' button. Click it to see a panel appear with all variables that you've defined.\n",
    "2. Hover your mouse over variables you've previously entered into the interactive window; you will see a pop-up that tells you what type of object it is.\n",
    "3. If you start typing a variable name into the interactive window, Visual Studio Code will try to auto-complete the name for you. Press the 'tab' key on your keyboard to accept the top option."
   ]
  },
  {
   "cell_type": "markdown",
   "id": "ffd026fc",
   "metadata": {},
   "source": [
    "### Whitespace\n",
    "\n",
    "Surrounding bits of code with whitespace can significantly enhance readability. One such convention is that functions should have two blank lines following their last line. Another is that assignments are separated by spaces\n",
    "\n",
    "```python\n",
    "this_is_a_var = 5\n",
    "```\n",
    "\n",
    "Another convention is that a space appears after a `,`, for example in the definition of a list we would have\n",
    "\n",
    "```python\n",
    "list_var = [1, 2, 3, 4]\n",
    "```\n",
    "\n",
    "rather than\n",
    "\n",
    "```python\n",
    "list_var = [1,2,3,4]\n",
    "# or\n",
    "list_var = [1 , 2 , 3 , 4]\n",
    "```"
   ]
  },
  {
   "cell_type": "markdown",
   "id": "e6f6c2b3",
   "metadata": {},
   "source": [
    "## Calling Functions\n",
    "\n",
    "Python has a large number of built-in functions. You can also import functions from packages (like we did with `np.sin`) or define your own.\n",
    "\n",
    "In coding, a function has inputs, it performs its function, and it returns any outputs. Let's see a simple example of using a built-in function, `sum`:"
   ]
  },
  {
   "cell_type": "code",
   "execution_count": null,
   "id": "97af119d",
   "metadata": {},
   "outputs": [],
   "source": [
    "sum(primes)"
   ]
  },
  {
   "cell_type": "markdown",
   "id": "010019c9",
   "metadata": {},
   "source": [
    "The general structure of functions is the function name, followed by brackets, followed by one or more arguments. Sometimes there will also be *keyword arguments*. For example, `sum` comes with a keyword argument that tells the function to start counting from a specific number. Let's see this in action by starting from ten:"
   ]
  },
  {
   "cell_type": "code",
   "execution_count": null,
   "id": "14ce9b99",
   "metadata": {},
   "outputs": [],
   "source": [
    "sum(primes, start=10)"
   ]
  },
  {
   "cell_type": "markdown",
   "id": "68c60946",
   "metadata": {},
   "source": [
    "If you're ever unsure of what a function does, you can call `help` on it (itself a function):"
   ]
  },
  {
   "cell_type": "code",
   "execution_count": null,
   "id": "f5e45616",
   "metadata": {},
   "outputs": [],
   "source": [
    "help(sum)"
   ]
  },
  {
   "cell_type": "markdown",
   "id": "93e81f5c",
   "metadata": {},
   "source": [
    "Or, in Visual Studio Code, hover your mouse over the function name.\n",
    "\n"
   ]
  },
  {
   "cell_type": "markdown",
   "id": "51346af1",
   "metadata": {},
   "source": [
    "````{admonition} Exercise What type is this Python object?\n",
    "Why does this code not work?\n",
    "\n",
    "```python\n",
    "my_variable = 10\n",
    "my_varıable\n",
    "```\n",
    "\n",
    "Look carefully! This may seem like an exercise in pointlessness, but training your brain to notice even the tiniest difference will pay off when programming.\n",
    "````"
   ]
  }
 ],
 "metadata": {
  "interpreter": {
   "hash": "9d7534ecd9fbc7d385378f8400cf4d6cb9c6175408a574f1c99c5269f08771cc"
  },
  "jupytext": {
   "cell_metadata_filter": "-all",
   "encoding": "# -*- coding: utf-8 -*-",
   "formats": "md:myst",
   "main_language": "python"
  },
  "kernelspec": {
   "display_name": "Python 3 (ipykernel)",
   "language": "python",
   "name": "python3"
  },
  "language_info": {
   "codemirror_mode": {
    "name": "ipython",
    "version": 3
   },
   "file_extension": ".py",
   "mimetype": "text/x-python",
   "name": "python",
   "nbconvert_exporter": "python",
   "pygments_lexer": "ipython3",
   "version": "3.9.12"
  },
  "toc-showtags": true
 },
 "nbformat": 4,
 "nbformat_minor": 5
}
