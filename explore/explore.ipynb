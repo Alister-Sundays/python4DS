{
 "cells": [
  {
   "cell_type": "markdown",
   "id": "95f0a171",
   "metadata": {},
   "source": [
    "(explore-intro)=\n",
    "# Introduction\n",
    "\n",
    "The goal of the first part of this book is to get you up to speed with the basic tools of *data exploration* as quickly as possible. Data exploration is the art of looking at your data, rapidly generating hypotheses, quickly testing them, then repeating again and again and again. The goal of data exploration is to generate many promising leads that you can later explore in more depth.\n",
    "\n",
    "In this part of the book you will learn some useful tools that have an immediate payoff:\n",
    "\n",
    "- Visualisation is a great place to start with Python programming, because the payoff is so clear: you get to make elegant and informative plots that help you understand data. In data visualisation you’ll dive into visualisation, learning the basic structure of a plot, and powerful techniques for turning data into plots.\n",
    "\n",
    "- Visualisation alone is typically not enough, so in data transformation you’ll learn the key verbs that allow you to select important variables, filter out key observations, create new variables, and compute summaries.\n",
    "\n",
    "- Finally, in exploratory data analysis, you’ll combine visualisation and transformation with your curiosity and scepticism to ask and answer interesting questions about data.\n",
    "\n",
    "Analysis is an important part of the exploratory process, but you don’t have the skills to effectively learn or apply it with Python yet. We’ll come back to it once you’re better equipped with more data transformation and programming tools.\n",
    "\n",
    "Nestled among these three chapters that teach you the tools of exploration are three chapters that focus on your Python workflow. In workflow: basics, workflow: scripts, and workflow: projects you’ll learn good practices for writing and organising your Python code. These will set you up for success in the long run, as they’ll give you the tools to stay organised when you tackle real projects."
   ]
  }
 ],
 "metadata": {
  "interpreter": {
   "hash": "9d7534ecd9fbc7d385378f8400cf4d6cb9c6175408a574f1c99c5269f08771cc"
  },
  "jupytext": {
   "cell_metadata_filter": "-all",
   "encoding": "# -*- coding: utf-8 -*-",
   "formats": "md:myst",
   "main_language": "python"
  },
  "kernelspec": {
   "display_name": "Python 3 (ipykernel)",
   "language": "python",
   "name": "python3"
  },
  "language_info": {
   "codemirror_mode": {
    "name": "ipython",
    "version": 3
   },
   "file_extension": ".py",
   "mimetype": "text/x-python",
   "name": "python",
   "nbconvert_exporter": "python",
   "pygments_lexer": "ipython3",
   "version": "3.9.12"
  },
  "toc-showtags": true
 },
 "nbformat": 4,
 "nbformat_minor": 5
}
