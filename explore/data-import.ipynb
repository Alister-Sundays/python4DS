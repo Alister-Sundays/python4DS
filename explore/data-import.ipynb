{
 "cells": [
  {
   "cell_type": "markdown",
   "id": "95f0a171",
   "metadata": {},
   "source": [
    "(data-import)=\n",
    "# Data Import\n",
    "\n",
    "## Introduction\n",
    "\n",
    "In this chapter, we're going to introduce working with your own data. Here, you'll learn how to read plain-text rectangular files into Python. We'll only scratch the surface of data import, but many of the principles will translate to other forms of data. We'll finish with a few pointers to opening other types of data.\n",
    "\n",
    "### Prerequisites\n",
    "\n",
    "You will need to have the **pandas** package installed. You'll need to ensure you have **pandas** installed. To do this, and to import **pandas** into your session, run"
   ]
  },
  {
   "cell_type": "code",
   "execution_count": 3,
   "id": "1cf01bda",
   "metadata": {},
   "outputs": [],
   "source": [
    "import pandas as pd"
   ]
  },
  {
   "cell_type": "markdown",
   "id": "e29b7103",
   "metadata": {},
   "source": [
    "If this command fails, you don't have **pandas** installed. Open up the terminal in Visual Studio Code (Terminal -> New Terminal) and type in `conda install pandas`.\n",
    "\n",
    "Just to help us understand the "
   ]
  },
  {
   "cell_type": "markdown",
   "id": "7505f1aa",
   "metadata": {},
   "source": [
    "## Getting Started\n",
    "\n",
    "There are a huge range of input and output formats available in **pandas**: Stata (.dta), Excel (.xls, .xlsx), csv, tsv, big data formats (HDF5, parquet), JSON, SAS, SPSS, SQL, and more; there's a [full list](https://pandas.pydata.org/pandas-docs/stable/user_guide/io.html) of formats available in the documentation.\n",
    "\n",
    "![From the pandas documentation](https://pandas.pydata.org/pandas-docs/stable/_images/02_io_readwrite.svg)\n",
    "\n",
    "While **pandas** has a huge number of ways to read data in and load it into your Python session, here we'll focus on the humble plain-text table file; for example csv (comma separated values) and tsv (tab separated values).\n",
    "\n",
    "### Reading data from a file\n",
    "\n",
    "All of the power needed to open plain-text table files is contained in a single function, `pd.read_csv`. It takes numerous arguments but the two most important are the (unnamed) first one, which gives the path to the data, and `sep=` (a keyword argument) that tells **pandas** whether to expect values to be separated by commas or tabs or another character; however, if you leave this field blank, **pandas** will guess for you. To see the full set of arguments, run `help(pd.read_csv)`.\n",
    "\n",
    "Here is what a simple CSV file with a row for column names (also commonly referred to as the header row) and six rows of data looks like (using the terminal):"
   ]
  },
  {
   "cell_type": "code",
   "execution_count": 7,
   "id": "eca85c47",
   "metadata": {},
   "outputs": [
    {
     "name": "stdout",
     "output_type": "stream",
     "text": [
      "Student ID,Full Name,favourite.food,mealPlan,AGE\n",
      "1,Sunil Huffmann,Strawberry yoghurt,Lunch only,4\n",
      "2,Barclay Lynn,French fries,Lunch only,5\n",
      "3,Jayendra Lyne,N/A,Breakfast and lunch,7\n",
      "4,Leon Rossini,Anchovies,Lunch only,\n",
      "5,Chidiegwu Dunkel,Pizza,Breakfast and lunch,five\n",
      "6,Güvenç Attila,Ice cream,Lunch only,6"
     ]
    }
   ],
   "source": [
    "! cat data/students.csv"
   ]
  },
  {
   "cell_type": "markdown",
   "id": "c7352c95",
   "metadata": {},
   "source": [
    "Note that this is a CSV file, so the values are separated by commas. Now let's load this into a **pandas** dataframe in Python:"
   ]
  },
  {
   "cell_type": "code",
   "execution_count": 8,
   "id": "232fdfef",
   "metadata": {},
   "outputs": [
    {
     "data": {
      "text/html": [
       "<div>\n",
       "<style scoped>\n",
       "    .dataframe tbody tr th:only-of-type {\n",
       "        vertical-align: middle;\n",
       "    }\n",
       "\n",
       "    .dataframe tbody tr th {\n",
       "        vertical-align: top;\n",
       "    }\n",
       "\n",
       "    .dataframe thead th {\n",
       "        text-align: right;\n",
       "    }\n",
       "</style>\n",
       "<table border=\"1\" class=\"dataframe\">\n",
       "  <thead>\n",
       "    <tr style=\"text-align: right;\">\n",
       "      <th></th>\n",
       "      <th>Student ID</th>\n",
       "      <th>Full Name</th>\n",
       "      <th>favourite.food</th>\n",
       "      <th>mealPlan</th>\n",
       "      <th>AGE</th>\n",
       "    </tr>\n",
       "  </thead>\n",
       "  <tbody>\n",
       "    <tr>\n",
       "      <th>0</th>\n",
       "      <td>1</td>\n",
       "      <td>Sunil Huffmann</td>\n",
       "      <td>Strawberry yoghurt</td>\n",
       "      <td>Lunch only</td>\n",
       "      <td>4</td>\n",
       "    </tr>\n",
       "    <tr>\n",
       "      <th>1</th>\n",
       "      <td>2</td>\n",
       "      <td>Barclay Lynn</td>\n",
       "      <td>French fries</td>\n",
       "      <td>Lunch only</td>\n",
       "      <td>5</td>\n",
       "    </tr>\n",
       "    <tr>\n",
       "      <th>2</th>\n",
       "      <td>3</td>\n",
       "      <td>Jayendra Lyne</td>\n",
       "      <td>NaN</td>\n",
       "      <td>Breakfast and lunch</td>\n",
       "      <td>7</td>\n",
       "    </tr>\n",
       "    <tr>\n",
       "      <th>3</th>\n",
       "      <td>4</td>\n",
       "      <td>Leon Rossini</td>\n",
       "      <td>Anchovies</td>\n",
       "      <td>Lunch only</td>\n",
       "      <td>NaN</td>\n",
       "    </tr>\n",
       "    <tr>\n",
       "      <th>4</th>\n",
       "      <td>5</td>\n",
       "      <td>Chidiegwu Dunkel</td>\n",
       "      <td>Pizza</td>\n",
       "      <td>Breakfast and lunch</td>\n",
       "      <td>five</td>\n",
       "    </tr>\n",
       "    <tr>\n",
       "      <th>5</th>\n",
       "      <td>6</td>\n",
       "      <td>Güvenç Attila</td>\n",
       "      <td>Ice cream</td>\n",
       "      <td>Lunch only</td>\n",
       "      <td>6</td>\n",
       "    </tr>\n",
       "  </tbody>\n",
       "</table>\n",
       "</div>"
      ],
      "text/plain": [
       "   Student ID         Full Name      favourite.food             mealPlan   AGE\n",
       "0           1    Sunil Huffmann  Strawberry yoghurt           Lunch only     4\n",
       "1           2      Barclay Lynn        French fries           Lunch only     5\n",
       "2           3     Jayendra Lyne                 NaN  Breakfast and lunch     7\n",
       "3           4      Leon Rossini           Anchovies           Lunch only   NaN\n",
       "4           5  Chidiegwu Dunkel               Pizza  Breakfast and lunch  five\n",
       "5           6     Güvenç Attila           Ice cream           Lunch only     6"
      ]
     },
     "execution_count": 8,
     "metadata": {},
     "output_type": "execute_result"
    }
   ],
   "source": [
    "students = pd.read_csv(\"data/students.csv\")\n",
    "students"
   ]
  },
  {
   "cell_type": "markdown",
   "id": "870cf0b5",
   "metadata": {},
   "source": [
    "If you want to download this data to try it for yourself, head to this link"
   ]
  },
  {
   "cell_type": "markdown",
   "id": "2f3979fc",
   "metadata": {},
   "source": [
    "The first argument to `read_csv` was the path to the data, and **pandas** guessed that this file uses commas as the separator."
   ]
  }
 ],
 "metadata": {
  "interpreter": {
   "hash": "9d7534ecd9fbc7d385378f8400cf4d6cb9c6175408a574f1c99c5269f08771cc"
  },
  "jupytext": {
   "cell_metadata_filter": "-all",
   "encoding": "# -*- coding: utf-8 -*-",
   "formats": "md:myst",
   "main_language": "python"
  },
  "kernelspec": {
   "display_name": "Python 3 (ipykernel)",
   "language": "python",
   "name": "python3"
  },
  "language_info": {
   "codemirror_mode": {
    "name": "ipython",
    "version": 3
   },
   "file_extension": ".py",
   "mimetype": "text/x-python",
   "name": "python",
   "nbconvert_exporter": "python",
   "pygments_lexer": "ipython3",
   "version": "3.9.12"
  },
  "toc-showtags": true
 },
 "nbformat": 4,
 "nbformat_minor": 5
}
