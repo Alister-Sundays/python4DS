{
 "cells": [
  {
   "cell_type": "markdown",
   "id": "95f0a171",
   "metadata": {},
   "source": [
    "(dates-and-times)=\n",
    "# Dates and Times\n",
    "\n",
    "## Introduction\n",
    "\n",
    "This chapter will show you how to work with dates and times in Python. At first glance, dates and times seem simple. You use them all the time in your regular life, and they don't seem to cause much confusion. However, the more you learn about dates and times, the more complicated they seem to get. To warm up, try these three seemingly simple questions:\n",
    "\n",
    "-   Does every year have 365 days?\n",
    "-   Does every day have 24 hours?\n",
    "-   Does every minute have 60 seconds?\n",
    "\n",
    "I'm sure you know that not every year has 365 days, but do you know the full rule for determining if a year is a leap year?\n",
    "\n",
    "You might have remembered that many parts of the world use daylight savings time (DST), so that some days have 23 hours, and others have 25. You might not have known that some minutes have 61 seconds because every now and then leap seconds are added because the Earth's rotation is gradually slowing down.\n",
    "\n",
    "Dates and times are hard because they have to reconcile two physical phenomena (the rotation of the Earth and its orbit around the sun) with a whole raft of geopolitical phenomena including months, time zones, and DST. \n",
    "\n",
    "This chapter won't teach you every last detail about dates and times, but it will give you a solid grounding of practical skills that will help you with common data analysis challenges. In particular, one code task related to time that we won’t cover here includes how to run scripts or functions at a given frequency, ie how to schedule jobs.\n"
   ]
  },
  {
   "cell_type": "code",
   "execution_count": 12,
   "id": "51a55374",
   "metadata": {
    "tags": [
     "remove-cell"
    ]
   },
   "outputs": [],
   "source": [
    "# remove cell\n",
    "import matplotlib_inline.backend_inline\n",
    "import matplotlib.pyplot as plt\n",
    "\n",
    "# Plot settings\n",
    "plt.style.use(\n",
    "    \"https://github.com/aeturrell/coding-for-economists/raw/main/plot_style.txt\"\n",
    ")\n",
    "matplotlib_inline.backend_inline.set_matplotlib_formats(\"svg\")"
   ]
  },
  {
   "cell_type": "markdown",
   "id": "17575f3a",
   "metadata": {},
   "source": [
    "### Prerequisites\n",
    "\n",
    "You will need to install the **seaborn** package for this chapter. This chapter uses the next generation version of **seaborn**, which can be installed by running the following on the command line (aka in the terminal): \n",
    "\n",
    "```bash\n",
    "pip install --pre seaborn\n",
    "```\n",
    "\n",
    "We will also be using the **pandas** package and numerical package **numpy**."
   ]
  },
  {
   "cell_type": "markdown",
   "id": "ff99055a",
   "metadata": {},
   "source": [
    "## Time in Python\n",
    "\n",
    "A point in time as represented in data science is composed of a clock time and a date. These two elements are brought together as a *datetime*.\n",
    "\n",
    "The datetime object is the fundamental time object in Python. It’s useful to know about these before moving on to datetime operations using **pandas** (which you’re far more likely to use in practice). Python's *datetime* objects capture the year, month, day, hour, second, and microsecond. Let’s import the class that deals with datetimes (whose objects are of type datetime.datetime) and take a look at it."
   ]
  },
  {
   "cell_type": "code",
   "execution_count": 13,
   "id": "84829a6b",
   "metadata": {},
   "outputs": [
    {
     "name": "stdout",
     "output_type": "stream",
     "text": [
      "2022-07-15 10:40:27.422029\n"
     ]
    }
   ],
   "source": [
    "from datetime import datetime\n",
    "\n",
    "now = datetime.now()\n",
    "print(now)"
   ]
  },
  {
   "cell_type": "markdown",
   "id": "70893642",
   "metadata": {},
   "source": [
    "Most people will be more used to working with day-month-year, while some people even have month-day-year, which clearly makes no sense at all! But note datetime follows [ISO 8601](https://en.wikipedia.org/wiki/ISO_8601), the international standard for datetimes that has year-month-day-hrs:mins:seconds, with hours in the 24 hour clock format. This is the format you should use when coding too."
   ]
  },
  {
   "cell_type": "markdown",
   "id": "5d224fed",
   "metadata": {},
   "source": [
    "We can see that the variable we created has methods such as `year`, `month`, `day`, and so on, down to `microsecond`. When calling these methods on the `now` object we created, they will return the relevant detail. \n",
    "\n",
    "```{admonition} Exercise\n",
    "Try calling the year, month, and day functions on an instance of `datetime.now()`.\n",
    "```\n",
    "\n",
    "Note that, once created, `now` does not refresh itself: it's frozen at the time that it was made."
   ]
  },
  {
   "cell_type": "markdown",
   "id": "bc5604b3",
   "metadata": {},
   "source": [
    "## Creating Datetimes\n",
    "\n",
    "### From Individual Components\n",
    "\n",
    "To create a datetime using given numerical information the command is:"
   ]
  },
  {
   "cell_type": "code",
   "execution_count": 14,
   "id": "fc224a47",
   "metadata": {},
   "outputs": [
    {
     "name": "stdout",
     "output_type": "stream",
     "text": [
      "2019-11-28 00:00:00\n"
     ]
    }
   ],
   "source": [
    "specific_datetime = datetime(2019, 11, 28)\n",
    "print(specific_datetime)"
   ]
  },
  {
   "cell_type": "markdown",
   "id": "5adef873",
   "metadata": {},
   "source": [
    "To make clearer and more readable code, you can also call this using keyword arguments: `datetime(year=2019, month=11, day=28)`."
   ]
  },
  {
   "cell_type": "markdown",
   "id": "70382b04",
   "metadata": {},
   "source": [
    "### From a String\n",
    "\n",
    "One of the most common transformations you're likely to need to do when it comes to times is the one from a string, like \"4 July 2002\", to a datetime. You can do this using `datetime.strptime`. Here's an example:"
   ]
  },
  {
   "cell_type": "code",
   "execution_count": 15,
   "id": "4558d476",
   "metadata": {},
   "outputs": [
    {
     "data": {
      "text/plain": [
       "datetime.datetime(2002, 2, 16, 0, 0)"
      ]
     },
     "execution_count": 15,
     "metadata": {},
     "output_type": "execute_result"
    }
   ],
   "source": [
    "date_string = \"16 February in 2002\"\n",
    "datetime.strptime(date_string, \"%d %B in %Y\")"
   ]
  },
  {
   "cell_type": "markdown",
   "id": "6810206d",
   "metadata": {},
   "source": [
    "What's going on? The pattern of the datestring is \"day month 'in' year\". Python's `strptime` function has codes for the different parts of a datetime (and the different ways they can be expressed). For example, if you had the short version of month instead of the long it would be:\n"
   ]
  },
  {
   "cell_type": "code",
   "execution_count": 16,
   "id": "fb90ac84",
   "metadata": {},
   "outputs": [
    {
     "data": {
      "text/plain": [
       "datetime.datetime(2002, 2, 16, 0, 0)"
      ]
     },
     "execution_count": 16,
     "metadata": {},
     "output_type": "execute_result"
    }
   ],
   "source": [
    "date_string = \"16 Feb in 2002\"\n",
    "datetime.strptime(date_string, \"%d %b in %Y\")"
   ]
  },
  {
   "cell_type": "markdown",
   "id": "6c540ef4",
   "metadata": {},
   "source": [
    "Of course, you don't always want to have to worry about the ins and outs of what you're passing in, and the built-in `dateutil` is here for flexible parsing of formats should you need that (explicit is better than implicit though!):"
   ]
  },
  {
   "cell_type": "code",
   "execution_count": 17,
   "id": "7a568f5b",
   "metadata": {},
   "outputs": [
    {
     "name": "stdout",
     "output_type": "stream",
     "text": [
      "2002-02-03 00:00:00\n",
      "2002-02-03 00:00:00\n"
     ]
    }
   ],
   "source": [
    "from dateutil.parser import parse\n",
    "\n",
    "date_string = \"03 Feb 02\"\n",
    "print(parse(date_string))\n",
    "date_string = \"3rd February 2002\"\n",
    "print(parse(date_string))"
   ]
  },
  {
   "cell_type": "markdown",
   "id": "48cb9b0c",
   "metadata": {},
   "source": [
    "What about turning a datetime into a string? We can do that too, courtesy of the same codes."
   ]
  },
  {
   "cell_type": "code",
   "execution_count": 18,
   "id": "d6b5e3c3",
   "metadata": {},
   "outputs": [
    {
     "data": {
      "text/plain": [
       "'Friday, 07, 2022'"
      ]
     },
     "execution_count": 18,
     "metadata": {},
     "output_type": "execute_result"
    }
   ],
   "source": [
    "now.strftime(\"%A, %m, %Y\")"
   ]
  },
  {
   "cell_type": "markdown",
   "id": "be9ab6f0",
   "metadata": {},
   "source": [
    "You can find a close-to-comprehensive list of `strftime` codes at [https://strftime.org/](https://strftime.org/), but they're reproduced in the table below for convenience. \n",
    "\n",
    "| Code | Meaning | Example |\n",
    "|-|-|-|\n",
    "| %a | Weekday as locale’s abbreviated name. | Mon |\n",
    "| %A | Weekday as locale’s full name. | Monday |\n",
    "| %w | Weekday as a decimal number, where 0 is Sunday and 6 is Saturday. | 1 |\n",
    "| %d | Day of the month as a zero-padded decimal number. | 30 |\n",
    "| %-d | Day of the month as a decimal number. (Platform specific) | 30 |\n",
    "| %b | Month as locale’s abbreviated name. | Sep |\n",
    "| %B | Month as locale’s full name. | September |\n",
    "| %m | Month as a zero-padded decimal number. | 09 |\n",
    "| %-m | Month as a decimal number. (Platform specific) | 9 |\n",
    "| %y | Year without century as a zero-padded decimal number. | 13 |\n",
    "| %Y | Year with century as a decimal number. | 2013 |\n",
    "| %H | Hour (24-hour clock) as a zero-padded decimal number. | 07 |\n",
    "| %-H | Hour (24-hour clock) as a decimal number. (Platform specific) | 7 |\n",
    "| %I | Hour (12-hour clock) as a zero-padded decimal number. | 07 |\n",
    "| %-I | Hour (12-hour clock) as a decimal number. (Platform specific) | 7 |\n",
    "| %p | Locale’s equivalent of either AM or PM. | AM |\n",
    "| %M | Minute as a zero-padded decimal number. | 06 |\n",
    "| %-M | Minute as a decimal number. (Platform specific) | 6 |\n",
    "| %S | Second as a zero-padded decimal number. | 05 |\n",
    "| %-S | Second as a decimal number. (Platform specific) | 5 |\n",
    "| %f | Microsecond as a decimal number, zero-padded on the left. | 000000 |\n",
    "| %z | UTC offset in the form +HHMM or -HHMM (empty string if the the object is naive). |  |\n",
    "| %Z | Time zone name (empty string if the object is naive). |  |\n",
    "| %j | Day of the year as a zero-padded decimal number. | 273 |\n",
    "| %-j | Day of the year as a decimal number. (Platform specific) | 273 |\n",
    "| %U | Week number of the year (Sunday as the first day of the week) as a zero padded decimal number. | 39 |\n",
    "| %W | Week number of the year (Monday as the first day of the week) as a decimal number. | 39 |\n",
    "| %c | Locale’s appropriate date and time representation. | Mon Sep 30 07:06:05 2013 |\n",
    "| %x | Locale’s appropriate date representation. | 09/30/13 |\n",
    "| %X | Locale’s appropriate time representation. | 07:06:05 |\n",
    "| %% | A literal '%' character. | % |"
   ]
  },
  {
   "cell_type": "markdown",
   "id": "fc02b84d",
   "metadata": {},
   "source": [
    "## Operations on Datetimes\n",
    "\n",
    "Many of the operations you'd expect to just work with datetimes, do for example:"
   ]
  },
  {
   "cell_type": "code",
   "execution_count": 19,
   "id": "39ba17e6",
   "metadata": {},
   "outputs": [
    {
     "data": {
      "text/plain": [
       "True"
      ]
     },
     "execution_count": 19,
     "metadata": {},
     "output_type": "execute_result"
    }
   ],
   "source": [
    "now > specific_datetime"
   ]
  },
  {
   "cell_type": "markdown",
   "id": "59077f81",
   "metadata": {},
   "source": [
    "As well as recording or comparing a *single* datetime, there are plenty of occasions when we'll be interested in *differences* in datetimes. Let's create one and then check its type."
   ]
  },
  {
   "cell_type": "code",
   "execution_count": 20,
   "id": "fda57a44",
   "metadata": {},
   "outputs": [
    {
     "name": "stdout",
     "output_type": "stream",
     "text": [
      "926 days, 10:40:27.422029\n"
     ]
    }
   ],
   "source": [
    "time_diff = now - datetime(year=2020, month=1, day=1)\n",
    "print(time_diff)"
   ]
  },
  {
   "cell_type": "markdown",
   "id": "9b7749fc",
   "metadata": {},
   "source": [
    "This is in the format of days, hours, minutes, seconds, and microseconds. Let's check the type with `type`:"
   ]
  },
  {
   "cell_type": "code",
   "execution_count": 21,
   "id": "e1e25736",
   "metadata": {},
   "outputs": [
    {
     "data": {
      "text/plain": [
       "datetime.timedelta"
      ]
     },
     "execution_count": 21,
     "metadata": {},
     "output_type": "execute_result"
    }
   ],
   "source": [
    "type(time_diff)"
   ]
  },
  {
   "cell_type": "markdown",
   "id": "97c8d655",
   "metadata": {},
   "source": [
    "This is of type `datetime.timedelta`."
   ]
  },
  {
   "cell_type": "markdown",
   "id": "c55fb124",
   "metadata": {},
   "source": [
    "## Timezones\n",
    "\n"
   ]
  },
  {
   "cell_type": "markdown",
   "id": "acaaf88c",
   "metadata": {},
   "source": [
    "Date and time objects may be categorized as aware or naive depending on whether or not they include timezone information; an aware object can locate itself relative to other aware objects, but a naive object does not contain enough information to unambiguously locate itself relative to other date/time objects. So far we've been working with naive datetime objects.\n",
    "\n",
    "The [**pytz**](https://pypi.org/project/pytz/) package can help you work with time zones. It has two main use cases: i) localise timezone-naive datetimes so that they become aware, ie have a timezone and ii) convert a datetimne in one timezone to another timezone.\n",
    "\n",
    "The default timezone for coding is UTC. ‘UTC’ is Coordinated Universal Time. It is a successor to, but distinct from, Greenwich Mean Time (GMT) and the various definitions of Universal Time. UTC is now the worldwide standard for regulating clocks and time measurement.\n",
    "\n",
    "All other timezones are defined relative to UTC, and include offsets like UTC+0800 - hours to add or subtract from UTC to derive the local time. No daylight saving time occurs in UTC, making it a useful timezone to perform date arithmetic without worrying about the confusion and ambiguities caused by daylight saving time transitions, your country changing its timezone, or mobile computers that roam through multiple timezones."
   ]
  },
  {
   "cell_type": "markdown",
   "id": "58bedcdc",
   "metadata": {},
   "source": [
    "## Vectorised Datetimes \n",
    "\n",
    "Now we come to vectorised operations on datetimes using the powerful **numpy** packages (and this is what is used by **pandas**). **numpy** has its own version of datetime, called `np.datetime64`, and it's very efficient at scale. Let's see it in action:"
   ]
  },
  {
   "cell_type": "code",
   "execution_count": 22,
   "id": "ed526fbc",
   "metadata": {},
   "outputs": [
    {
     "data": {
      "text/plain": [
       "array('2020-01-01', dtype='datetime64[D]')"
      ]
     },
     "execution_count": 22,
     "metadata": {},
     "output_type": "execute_result"
    }
   ],
   "source": [
    "import numpy as np\n",
    "\n",
    "date = np.array(\"2020-01-01\", dtype=np.datetime64)\n",
    "date"
   ]
  },
  {
   "cell_type": "markdown",
   "id": "558f758b",
   "metadata": {},
   "source": [
    "The 'D' tells us that the smallest unit here is days. We can easily create a vector of dates from this object:"
   ]
  },
  {
   "cell_type": "code",
   "execution_count": 23,
   "id": "537895c5",
   "metadata": {},
   "outputs": [
    {
     "data": {
      "text/plain": [
       "array(['2020-01-01', '2020-01-02', '2020-01-03', '2020-01-04',\n",
       "       '2020-01-05', '2020-01-06', '2020-01-07', '2020-01-08',\n",
       "       '2020-01-09', '2020-01-10', '2020-01-11', '2020-01-12',\n",
       "       '2020-01-13', '2020-01-14', '2020-01-15', '2020-01-16',\n",
       "       '2020-01-17', '2020-01-18', '2020-01-19', '2020-01-20',\n",
       "       '2020-01-21', '2020-01-22', '2020-01-23', '2020-01-24',\n",
       "       '2020-01-25', '2020-01-26', '2020-01-27', '2020-01-28',\n",
       "       '2020-01-29', '2020-01-30', '2020-01-31', '2020-02-01'],\n",
       "      dtype='datetime64[D]')"
      ]
     },
     "execution_count": 23,
     "metadata": {},
     "output_type": "execute_result"
    }
   ],
   "source": [
    "date + range(32)"
   ]
  },
  {
   "cell_type": "markdown",
   "id": "ca81358f",
   "metadata": {},
   "source": [
    "Note how the last day rolls over into the next month.\n",
    "\n",
    "If you are creating a datetime with more precision than day, **numpy** will figure it out from the input, for example this gives resolution down to seconds."
   ]
  },
  {
   "cell_type": "code",
   "execution_count": 24,
   "id": "cd7a15e3",
   "metadata": {},
   "outputs": [
    {
     "data": {
      "text/plain": [
       "numpy.datetime64('2020-01-01T09:00')"
      ]
     },
     "execution_count": 24,
     "metadata": {},
     "output_type": "execute_result"
    }
   ],
   "source": [
    "np.datetime64(\"2020-01-01 09:00\")"
   ]
  },
  {
   "cell_type": "markdown",
   "id": "c0a974aa",
   "metadata": {},
   "source": [
    "One word of warning with **numpy** and datetimes though: the more precise you go, and you can go down to femtoseconds ($10^{-15}$ seconds), the more precise you go the smaller the range of dates you can hit. A popular choice of precision is `datetime64[ns]`, which can encode times from 1678 AD to 2262 AD. Working with seconds gets you 2.9$\\times 10^9$ BC to 2.9$\\times 10^9$ AD."
   ]
  },
  {
   "cell_type": "markdown",
   "id": "417ec546",
   "metadata": {},
   "source": [
    "## Working with Datetimes in Data Frames"
   ]
  },
  {
   "cell_type": "markdown",
   "id": "82a4a3f3",
   "metadata": {},
   "source": [
    "[**pandas**](https://pandas.pydata.org/) is the workhorse of time series analysis in Python. The basic object is a *timestamp*. The `pd.to_datetime` function creates timestamps from strings that could reasonably represent datetimes. Let's see an example of using `pd.to_datetime` to create a timestamp and then take a look at it."
   ]
  },
  {
   "cell_type": "code",
   "execution_count": 25,
   "id": "48f0e9c6",
   "metadata": {},
   "outputs": [
    {
     "data": {
      "text/plain": [
       "Timestamp('2020-02-16 00:00:00')"
      ]
     },
     "execution_count": 25,
     "metadata": {},
     "output_type": "execute_result"
    }
   ],
   "source": [
    "import pandas as pd\n",
    "\n",
    "date = pd.to_datetime(\"16th of February, 2020\")\n",
    "date"
   ]
  },
  {
   "cell_type": "markdown",
   "id": "8b083619",
   "metadata": {},
   "source": [
    "This is of type `Timestamp` and you can see that it has many of the same properties as the built-in Python `datetime.datetime` class from the previous chapter. As with that, the default setting for `tz` (timezone) and `tzinfo` is `None`. There are some extra properties, though, such as `freq` for frequency, which will be very useful when it comes to manipulating time *series* as opposed to just one or two datetimes."
   ]
  },
  {
   "cell_type": "markdown",
   "id": "dfdf18bc",
   "metadata": {},
   "source": [
    "### Creating and Using Time Series\n",
    "\n",
    "There are two main scenarios in which you might be creating time series using **pandas**: i) creating one from scratch or ii) reading in data from a file. Let's look at a few ways to do i) first. \n",
    "\n",
    "You can create a time series with **pandas** by taking a date as created above and extending it using **pandas** timedelta function:"
   ]
  },
  {
   "cell_type": "code",
   "execution_count": 26,
   "id": "462b26da",
   "metadata": {},
   "outputs": [
    {
     "data": {
      "text/plain": [
       "DatetimeIndex(['2020-02-16', '2020-02-17', '2020-02-18', '2020-02-19',\n",
       "               '2020-02-20', '2020-02-21', '2020-02-22', '2020-02-23',\n",
       "               '2020-02-24', '2020-02-25', '2020-02-26', '2020-02-27'],\n",
       "              dtype='datetime64[ns]', freq=None)"
      ]
     },
     "execution_count": 26,
     "metadata": {},
     "output_type": "execute_result"
    }
   ],
   "source": [
    "date + pd.to_timedelta(np.arange(12), \"D\")"
   ]
  },
  {
   "cell_type": "markdown",
   "id": "3ba587ff",
   "metadata": {},
   "source": [
    "This has created a datetime index of type `datetime65[ns]` (remember, an index is a special type of **pandas** column), where \"ns\" stands for nano-second resolution.\n",
    "\n",
    "Another method is to create a range of dates (pass a frequency using the `freq=` keyword argument):"
   ]
  },
  {
   "cell_type": "code",
   "execution_count": 27,
   "id": "10e71325",
   "metadata": {},
   "outputs": [
    {
     "data": {
      "text/plain": [
       "DatetimeIndex(['2018-01-01', '2018-01-02', '2018-01-03', '2018-01-04',\n",
       "               '2018-01-05', '2018-01-06', '2018-01-07', '2018-01-08'],\n",
       "              dtype='datetime64[ns]', freq='D')"
      ]
     },
     "execution_count": 27,
     "metadata": {},
     "output_type": "execute_result"
    }
   ],
   "source": [
    "pd.date_range(start=\"2018/1/1\", end=\"2018/1/8\")"
   ]
  },
  {
   "cell_type": "markdown",
   "id": "3f6c8a4f",
   "metadata": {},
   "source": [
    "Another way to create ranges is to specify the number of periods and the frequency:"
   ]
  },
  {
   "cell_type": "code",
   "execution_count": 28,
   "id": "291ace2c",
   "metadata": {},
   "outputs": [
    {
     "data": {
      "text/plain": [
       "DatetimeIndex(['2018-01-01 00:00:00', '2018-01-01 01:00:00',\n",
       "               '2018-01-01 02:00:00'],\n",
       "              dtype='datetime64[ns]', freq='H')"
      ]
     },
     "execution_count": 28,
     "metadata": {},
     "output_type": "execute_result"
    }
   ],
   "source": [
    "pd.date_range(\"2018-01-01\", periods=3, freq=\"H\")"
   ]
  },
  {
   "cell_type": "markdown",
   "id": "ce8c06d8",
   "metadata": {},
   "source": [
    "Following the discussion of the previous chapter on timezones, you can also localise timezones directly in **pandas** dataframes:\n"
   ]
  },
  {
   "cell_type": "code",
   "execution_count": 29,
   "id": "6703682c",
   "metadata": {},
   "outputs": [
    {
     "data": {
      "text/plain": [
       "DatetimeIndex(['2017-12-31 16:00:00-08:00', '2017-12-31 17:00:00-08:00',\n",
       "               '2017-12-31 18:00:00-08:00'],\n",
       "              dtype='datetime64[ns, US/Pacific]', freq='H')"
      ]
     },
     "execution_count": 29,
     "metadata": {},
     "output_type": "execute_result"
    }
   ],
   "source": [
    "dti = pd.date_range(\"2018-01-01\", periods=3, freq=\"H\").tz_localize(\"UTC\")\n",
    "dti.tz_convert(\"US/Pacific\")"
   ]
  },
  {
   "cell_type": "markdown",
   "id": "4d3e7668",
   "metadata": {},
   "source": [
    "Now let's see how to turn data that has been read in with a non-datetime type into a vector of datetimes. This happens *all the time* in practice. We'll read in some data on job vacancies for information and communication jobs, ONS code UNEM-JP9P, and then try to wrangle the given \"date\" column into a **pandas** datetime column."
   ]
  },
  {
   "cell_type": "code",
   "execution_count": 31,
   "id": "dd00df7f",
   "metadata": {},
   "outputs": [
    {
     "data": {
      "text/html": [
       "<div>\n",
       "<style scoped>\n",
       "    .dataframe tbody tr th:only-of-type {\n",
       "        vertical-align: middle;\n",
       "    }\n",
       "\n",
       "    .dataframe tbody tr th {\n",
       "        vertical-align: top;\n",
       "    }\n",
       "\n",
       "    .dataframe thead th {\n",
       "        text-align: right;\n",
       "    }\n",
       "</style>\n",
       "<table border=\"1\" class=\"dataframe\">\n",
       "  <thead>\n",
       "    <tr style=\"text-align: right;\">\n",
       "      <th></th>\n",
       "      <th>date</th>\n",
       "      <th>Vacancies (ICT), thousands</th>\n",
       "    </tr>\n",
       "  </thead>\n",
       "  <tbody>\n",
       "    <tr>\n",
       "      <th>0</th>\n",
       "      <td>2001 MAY</td>\n",
       "      <td>50</td>\n",
       "    </tr>\n",
       "    <tr>\n",
       "      <th>1</th>\n",
       "      <td>2001 JUN</td>\n",
       "      <td>48</td>\n",
       "    </tr>\n",
       "    <tr>\n",
       "      <th>2</th>\n",
       "      <td>2001 JUL</td>\n",
       "      <td>47</td>\n",
       "    </tr>\n",
       "    <tr>\n",
       "      <th>3</th>\n",
       "      <td>2001 AUG</td>\n",
       "      <td>46</td>\n",
       "    </tr>\n",
       "    <tr>\n",
       "      <th>4</th>\n",
       "      <td>2001 SEP</td>\n",
       "      <td>44</td>\n",
       "    </tr>\n",
       "  </tbody>\n",
       "</table>\n",
       "</div>"
      ],
      "text/plain": [
       "       date  Vacancies (ICT), thousands\n",
       "0  2001 MAY                          50\n",
       "1  2001 JUN                          48\n",
       "2  2001 JUL                          47\n",
       "3  2001 AUG                          46\n",
       "4  2001 SEP                          44"
      ]
     },
     "execution_count": 31,
     "metadata": {},
     "output_type": "execute_result"
    }
   ],
   "source": [
    "import requests\n",
    "\n",
    "url = \"https://api.ons.gov.uk/timeseries/JP9P/dataset/UNEM/data\"\n",
    "\n",
    "# Get the data from the ONS API:\n",
    "df = pd.DataFrame(pd.json_normalize(requests.get(url).json()[\"months\"]))\n",
    "df[\"value\"] = pd.to_numeric(df[\"value\"])\n",
    "df = df[[\"date\", \"value\"]]\n",
    "df = df.rename(columns={\"value\": \"Vacancies (ICT), thousands\"})\n",
    "df.head()"
   ]
  },
  {
   "cell_type": "markdown",
   "id": "1be10bf8",
   "metadata": {},
   "source": [
    "We have the data in. Let's look at the column types that arrived."
   ]
  },
  {
   "cell_type": "code",
   "execution_count": 32,
   "id": "247d9725",
   "metadata": {},
   "outputs": [
    {
     "name": "stdout",
     "output_type": "stream",
     "text": [
      "<class 'pandas.core.frame.DataFrame'>\n",
      "RangeIndex: 252 entries, 0 to 251\n",
      "Data columns (total 2 columns):\n",
      " #   Column                      Non-Null Count  Dtype \n",
      "---  ------                      --------------  ----- \n",
      " 0   date                        252 non-null    object\n",
      " 1   Vacancies (ICT), thousands  252 non-null    int64 \n",
      "dtypes: int64(1), object(1)\n",
      "memory usage: 4.1+ KB\n"
     ]
    }
   ],
   "source": [
    "df.info()"
   ]
  },
  {
   "cell_type": "markdown",
   "id": "71bbbb02",
   "metadata": {},
   "source": [
    "This is the default 'object' type, but we want the date column to have `datetime64[ns]`, which is a datetime type. Again, we use `pd.to_datetime`:"
   ]
  },
  {
   "cell_type": "code",
   "execution_count": 33,
   "id": "b90f8038",
   "metadata": {},
   "outputs": [
    {
     "data": {
      "text/plain": [
       "0   2001-05-01\n",
       "1   2001-06-01\n",
       "2   2001-07-01\n",
       "3   2001-08-01\n",
       "4   2001-09-01\n",
       "Name: date, dtype: datetime64[ns]"
      ]
     },
     "execution_count": 33,
     "metadata": {},
     "output_type": "execute_result"
    }
   ],
   "source": [
    "df[\"date\"] = pd.to_datetime(df[\"date\"])\n",
    "df[\"date\"].head()"
   ]
  },
  {
   "cell_type": "markdown",
   "id": "ca0b1727",
   "metadata": {},
   "source": [
    "In this case, the conversion from the format of data that was put in of \"2001 MAY\" to datetime worked out-of-the-box. `pd.to_datetime` will always take an educated guess as to the format, but it won't always work out.\n",
    "\n",
    "What happens if we have a more tricky-to-read-in datetime column? This frequently occurs in practice so it's well worth exploring an example. Let's create some random data with dates in an unusual format with month first, then year, then day, eg \"1, '19, 29\" and so on."
   ]
  },
  {
   "cell_type": "code",
   "execution_count": 34,
   "id": "05d056ae",
   "metadata": {},
   "outputs": [
    {
     "data": {
      "text/plain": [
       "0    1, '19, 22\n",
       "1    1, '19, 23\n",
       "Name: date, dtype: object"
      ]
     },
     "execution_count": 34,
     "metadata": {},
     "output_type": "execute_result"
    }
   ],
   "source": [
    "small_df = pd.DataFrame({\"date\": [\"1, '19, 22\", \"1, '19, 23\"], \"values\": [\"1\", \"2\"]})\n",
    "small_df[\"date\"]"
   ]
  },
  {
   "cell_type": "markdown",
   "id": "b1e6f80c",
   "metadata": {},
   "source": [
    "Now, if we were to run this via `pd.to_datetime` with no further input, it would misinterpret, for example, the first date as `2022-01-19`. So we must pass a bit more info to `pd.to_datetime` to help it out. We can pass a `format=` keyword argument with the format that the datetime takes. Here, we'll use `%m` for month in number format, `%y` for year in 2-digit format, and `%d` for 2-digit day. We can also add in the other characters such as `'` and `,`. You can find a list of datetime format identifiers above or over at [https://strftime.org/](https://strftime.org/)."
   ]
  },
  {
   "cell_type": "code",
   "execution_count": 35,
   "id": "514c9052",
   "metadata": {},
   "outputs": [
    {
     "data": {
      "text/plain": [
       "0   2019-01-22\n",
       "1   2019-01-23\n",
       "Name: date, dtype: datetime64[ns]"
      ]
     },
     "execution_count": 35,
     "metadata": {},
     "output_type": "execute_result"
    }
   ],
   "source": [
    "pd.to_datetime(small_df[\"date\"], format=\"%m, '%y, %d\")"
   ]
  },
  {
   "cell_type": "markdown",
   "id": "56481fd3",
   "metadata": {},
   "source": [
    "### Datetime Offsets\n",
    "\n",
    "Our data, currently held in `df`, were read in as if they were from the *start* of the month but these data refer to the month that has passed and so should be for the *end* of the month. Fortunately, we can change this using a time offset."
   ]
  },
  {
   "cell_type": "code",
   "execution_count": 36,
   "id": "ac3addbc",
   "metadata": {},
   "outputs": [
    {
     "data": {
      "text/html": [
       "<div>\n",
       "<style scoped>\n",
       "    .dataframe tbody tr th:only-of-type {\n",
       "        vertical-align: middle;\n",
       "    }\n",
       "\n",
       "    .dataframe tbody tr th {\n",
       "        vertical-align: top;\n",
       "    }\n",
       "\n",
       "    .dataframe thead th {\n",
       "        text-align: right;\n",
       "    }\n",
       "</style>\n",
       "<table border=\"1\" class=\"dataframe\">\n",
       "  <thead>\n",
       "    <tr style=\"text-align: right;\">\n",
       "      <th></th>\n",
       "      <th>date</th>\n",
       "      <th>Vacancies (ICT), thousands</th>\n",
       "    </tr>\n",
       "  </thead>\n",
       "  <tbody>\n",
       "    <tr>\n",
       "      <th>0</th>\n",
       "      <td>2001-05-31</td>\n",
       "      <td>50</td>\n",
       "    </tr>\n",
       "    <tr>\n",
       "      <th>1</th>\n",
       "      <td>2001-06-30</td>\n",
       "      <td>48</td>\n",
       "    </tr>\n",
       "    <tr>\n",
       "      <th>2</th>\n",
       "      <td>2001-07-31</td>\n",
       "      <td>47</td>\n",
       "    </tr>\n",
       "    <tr>\n",
       "      <th>3</th>\n",
       "      <td>2001-08-31</td>\n",
       "      <td>46</td>\n",
       "    </tr>\n",
       "    <tr>\n",
       "      <th>4</th>\n",
       "      <td>2001-09-30</td>\n",
       "      <td>44</td>\n",
       "    </tr>\n",
       "  </tbody>\n",
       "</table>\n",
       "</div>"
      ],
      "text/plain": [
       "        date  Vacancies (ICT), thousands\n",
       "0 2001-05-31                          50\n",
       "1 2001-06-30                          48\n",
       "2 2001-07-31                          47\n",
       "3 2001-08-31                          46\n",
       "4 2001-09-30                          44"
      ]
     },
     "execution_count": 36,
     "metadata": {},
     "output_type": "execute_result"
    }
   ],
   "source": [
    "df[\"date\"] = df[\"date\"] + pd.offsets.MonthEnd()\n",
    "df.head()"
   ]
  },
  {
   "cell_type": "markdown",
   "id": "61ef45b4",
   "metadata": {},
   "source": [
    "While we used the `MonthEnd` offset here, there are many different offsets available. You can find a [full table of date offsets here](https://pandas.pydata.org/pandas-docs/stable/user_guide/timeseries.html#dateoffset-objects)."
   ]
  },
  {
   "cell_type": "markdown",
   "id": "5afd54be",
   "metadata": {},
   "source": [
    "### The `.dt` accessor\n",
    "\n",
    "When you have a datetime column, you can use the `.dt` accessor to grab lots of useful information from it such as the `minute`, `month`, and so on. Some that are functions, rather than just accessors of underlying properties, are followed by brackets, `()`, because they are functions. Here are a few useful examples:"
   ]
  },
  {
   "cell_type": "code",
   "execution_count": 37,
   "id": "a6c3d2d9",
   "metadata": {},
   "outputs": [
    {
     "name": "stdout",
     "output_type": "stream",
     "text": [
      "Using `dt.day_name()`\n",
      "0    Thursday\n",
      "1    Saturday\n",
      "2     Tuesday\n",
      "3      Friday\n",
      "4      Sunday\n",
      "Name: date, dtype: object\n",
      "Using `dt.isocalendar()`\n",
      "   year  week  day\n",
      "0  2001    22    4\n",
      "1  2001    26    6\n",
      "2  2001    31    2\n",
      "3  2001    35    5\n",
      "4  2001    39    7\n",
      "Using `dt.month`\n",
      "0    5\n",
      "1    6\n",
      "2    7\n",
      "3    8\n",
      "4    9\n",
      "Name: date, dtype: int64\n"
     ]
    }
   ],
   "source": [
    "print(\"Using `dt.day_name()`\")\n",
    "print(df[\"date\"].dt.day_name().head())\n",
    "print(\"Using `dt.isocalendar()`\")\n",
    "print(df[\"date\"].dt.isocalendar().head())\n",
    "print(\"Using `dt.month`\")\n",
    "print(df[\"date\"].dt.month.head())"
   ]
  },
  {
   "cell_type": "markdown",
   "id": "a40f982f",
   "metadata": {},
   "source": [
    "### Creating a datetime Index and Setting the Frequency\n",
    "\n",
    "For the subsequent parts, we'll set the datetime column to be the index of the dataframe. *This is the standard setup you will likely want to use when dealing with time series.*"
   ]
  },
  {
   "cell_type": "code",
   "execution_count": 38,
   "id": "e0a4f68d",
   "metadata": {},
   "outputs": [
    {
     "data": {
      "text/html": [
       "<div>\n",
       "<style scoped>\n",
       "    .dataframe tbody tr th:only-of-type {\n",
       "        vertical-align: middle;\n",
       "    }\n",
       "\n",
       "    .dataframe tbody tr th {\n",
       "        vertical-align: top;\n",
       "    }\n",
       "\n",
       "    .dataframe thead th {\n",
       "        text-align: right;\n",
       "    }\n",
       "</style>\n",
       "<table border=\"1\" class=\"dataframe\">\n",
       "  <thead>\n",
       "    <tr style=\"text-align: right;\">\n",
       "      <th></th>\n",
       "      <th>Vacancies (ICT), thousands</th>\n",
       "    </tr>\n",
       "    <tr>\n",
       "      <th>date</th>\n",
       "      <th></th>\n",
       "    </tr>\n",
       "  </thead>\n",
       "  <tbody>\n",
       "    <tr>\n",
       "      <th>2001-05-31</th>\n",
       "      <td>50</td>\n",
       "    </tr>\n",
       "    <tr>\n",
       "      <th>2001-06-30</th>\n",
       "      <td>48</td>\n",
       "    </tr>\n",
       "    <tr>\n",
       "      <th>2001-07-31</th>\n",
       "      <td>47</td>\n",
       "    </tr>\n",
       "    <tr>\n",
       "      <th>2001-08-31</th>\n",
       "      <td>46</td>\n",
       "    </tr>\n",
       "    <tr>\n",
       "      <th>2001-09-30</th>\n",
       "      <td>44</td>\n",
       "    </tr>\n",
       "  </tbody>\n",
       "</table>\n",
       "</div>"
      ],
      "text/plain": [
       "            Vacancies (ICT), thousands\n",
       "date                                  \n",
       "2001-05-31                          50\n",
       "2001-06-30                          48\n",
       "2001-07-31                          47\n",
       "2001-08-31                          46\n",
       "2001-09-30                          44"
      ]
     },
     "execution_count": 38,
     "metadata": {},
     "output_type": "execute_result"
    }
   ],
   "source": [
    "df = df.set_index(\"date\")\n",
    "df.head()"
   ]
  },
  {
   "cell_type": "markdown",
   "id": "8d5017ed",
   "metadata": {},
   "source": [
    "Now, if we look at the first few entries of the index of dataframe (a datetime index) using `head` as above, we'll see that the `freq=` parameter is set as `None`."
   ]
  },
  {
   "cell_type": "code",
   "execution_count": 39,
   "id": "acf1ae60",
   "metadata": {},
   "outputs": [
    {
     "data": {
      "text/plain": [
       "DatetimeIndex(['2001-05-31', '2001-06-30', '2001-07-31', '2001-08-31',\n",
       "               '2001-09-30'],\n",
       "              dtype='datetime64[ns]', name='date', freq=None)"
      ]
     },
     "execution_count": 39,
     "metadata": {},
     "output_type": "execute_result"
    }
   ],
   "source": [
    "df.index[:5]"
   ]
  },
  {
   "cell_type": "markdown",
   "id": "3bd0fe54",
   "metadata": {},
   "source": [
    "This can be set for the whole dataframe using the `asfreq` function:"
   ]
  },
  {
   "cell_type": "code",
   "execution_count": 40,
   "id": "9146c99d",
   "metadata": {},
   "outputs": [
    {
     "data": {
      "text/plain": [
       "DatetimeIndex(['2001-05-31', '2001-06-30', '2001-07-31', '2001-08-31',\n",
       "               '2001-09-30'],\n",
       "              dtype='datetime64[ns]', name='date', freq='M')"
      ]
     },
     "execution_count": 40,
     "metadata": {},
     "output_type": "execute_result"
    }
   ],
   "source": [
    "df = df.asfreq(\"M\")\n",
    "df.index[:5]"
   ]
  },
  {
   "cell_type": "markdown",
   "id": "8f024684",
   "metadata": {},
   "source": [
    "Although most of the time it doesn't matter about the fact that `freq=None`, some aggregation operations need to know the frequency of the time series in order to work and it's good practice to set it if your data *are* regular. You can use `asfreq` to go from a higher frequency to a lower frequency too: the last entry from the higher frequency that aligns with the lower frequency will be taken, for example in going from months to years, December's value would be used.\n",
    "\n",
    "Note that trying to set the frequency when your datetime index doesn't match up to a particular frequency will cause errors or problems.\n",
    "\n",
    "A few useful frequencies to know about are in the table below; all of these can be used with `pd.to_datetime` too.\n",
    "\n",
    "| Code  | Represents                                                          |\n",
    "|-------|---------------------------------------------------------------------|\n",
    "| D     | Calendar day                                                        |\n",
    "| W     | Weekly                                                              |\n",
    "| M     | Month end                                                           |\n",
    "| Q     | Quarter end                                                         |\n",
    "| A     | Year end                                                            |\n",
    "| H     | Hours                                                               |\n",
    "| T     | Minutes                                                             |\n",
    "| S     | Seconds                                                             |\n",
    "| B     | Business day                                                        |\n",
    "| BM    | Business month end                                                  |\n",
    "| BQ    | Business quarter end                                                |\n",
    "| BA    | Business year end                                                   |\n",
    "| BH    | Business hours                                                      |\n",
    "| MS    | Month start                                                         |\n",
    "| QS    | Quarter start                                                       |\n",
    "| W-SUN | Weeks beginning with Sunday (similar for other days)                |\n",
    "| 2M    | Every 2 months (works with other combinations of numbers and codes) |"
   ]
  },
  {
   "cell_type": "markdown",
   "id": "9081a485",
   "metadata": {},
   "source": [
    "## Making Quick Time Series Plots\n",
    "\n",
    "Having managed to put your time series into a dataframe, perhaps converting a column of type string into a colume of type datetime in the process, you often just want to see the thing! We can achieve this using the `plot` command, as long as we have a datetime index.\n"
   ]
  },
  {
   "cell_type": "code",
   "execution_count": 41,
   "id": "b4c5f841",
   "metadata": {},
   "outputs": [
    {
     "data": {
      "image/svg+xml": "<?xml version=\"1.0\" encoding=\"utf-8\" standalone=\"no\"?>\n<!DOCTYPE svg PUBLIC \"-//W3C//DTD SVG 1.1//EN\"\n  \"http://www.w3.org/Graphics/SVG/1.1/DTD/svg11.dtd\">\n<svg xmlns:xlink=\"http://www.w3.org/1999/xlink\" width=\"368.2pt\" height=\"267.537812pt\" viewBox=\"0 0 368.2 267.537812\" xmlns=\"http://www.w3.org/2000/svg\" version=\"1.1\">\n <metadata>\n  <rdf:RDF xmlns:dc=\"http://purl.org/dc/elements/1.1/\" xmlns:cc=\"http://creativecommons.org/ns#\" xmlns:rdf=\"http://www.w3.org/1999/02/22-rdf-syntax-ns#\">\n   <cc:Work>\n    <dc:type rdf:resource=\"http://purl.org/dc/dcmitype/StillImage\"/>\n    <dc:date>2022-07-15T10:52:18.164438</dc:date>\n    <dc:format>image/svg+xml</dc:format>\n    <dc:creator>\n     <cc:Agent>\n      <dc:title>Matplotlib v3.5.2, https://matplotlib.org/</dc:title>\n     </cc:Agent>\n    </dc:creator>\n   </cc:Work>\n  </rdf:RDF>\n </metadata>\n <defs>\n  <style type=\"text/css\">*{stroke-linejoin: round; stroke-linecap: butt}</style>\n </defs>\n <g id=\"figure_1\">\n  <g id=\"patch_1\">\n   <path d=\"M -0 267.537812 \nL 368.2 267.537812 \nL 368.2 0 \nL -0 0 \nL -0 267.537812 \nz\n\" style=\"fill: none\"/>\n  </g>\n  <g id=\"axes_1\">\n   <g id=\"patch_2\">\n    <path d=\"M 26.2 228.737812 \nL 361 228.737812 \nL 361 11.297812 \nL 26.2 11.297812 \nz\n\" style=\"fill: #ffffff\"/>\n   </g>\n   <g id=\"matplotlib.axis_1\">\n    <g id=\"xtick_1\">\n     <g id=\"line2d_1\">\n      <defs>\n       <path id=\"m797bf21a79\" d=\"M 0 0 \nL 0 3.5 \n\" style=\"stroke: #323034; stroke-width: 0.8\"/>\n      </defs>\n      <g>\n       <use xlink:href=\"#m797bf21a79\" x=\"68.883665\" y=\"228.737812\" style=\"fill: #323034; stroke: #323034; stroke-width: 0.8\"/>\n      </g>\n     </g>\n     <g id=\"text_1\">\n      <!-- 2004 -->\n      <g style=\"fill: #323034\" transform=\"translate(56.883665 243.933437)scale(0.12 -0.12)\">\n       <defs>\n        <path id=\"STIXGeneral-Regular-32\" d=\"M 3034 877 \nL 2688 0 \nL 186 0 \nL 186 77 \nL 1325 1286 \nQ 1773 1754 1965 2144 \nQ 2157 2534 2157 2950 \nQ 2157 3379 1920 3616 \nQ 1683 3853 1267 3853 \nQ 922 3853 720 3673 \nQ 518 3494 326 3021 \nL 192 3053 \nQ 301 3648 630 3987 \nQ 960 4326 1523 4326 \nQ 2054 4326 2380 4006 \nQ 2707 3686 2707 3200 \nQ 2707 2477 1888 1613 \nL 832 486 \nL 2330 486 \nQ 2541 486 2665 569 \nQ 2790 653 2944 915 \nL 3034 877 \nz\n\" transform=\"scale(0.015625)\"/>\n        <path id=\"STIXGeneral-Regular-30\" d=\"M 3046 2112 \nQ 3046 1683 2963 1302 \nQ 2880 922 2717 602 \nQ 2554 282 2266 96 \nQ 1978 -90 1600 -90 \nQ 1210 -90 915 108 \nQ 621 307 461 640 \nQ 301 973 227 1350 \nQ 154 1728 154 2150 \nQ 154 2746 301 3222 \nQ 448 3699 790 4012 \nQ 1133 4326 1626 4326 \nQ 2253 4326 2649 3712 \nQ 3046 3098 3046 2112 \nz\nM 2432 2080 \nQ 2432 3091 2217 3625 \nQ 2003 4160 1587 4160 \nQ 1190 4160 979 3622 \nQ 768 3085 768 2106 \nQ 768 1120 979 598 \nQ 1190 77 1600 77 \nQ 2003 77 2217 598 \nQ 2432 1120 2432 2080 \nz\n\" transform=\"scale(0.015625)\"/>\n        <path id=\"STIXGeneral-Regular-34\" d=\"M 3027 1069 \nL 2368 1069 \nL 2368 0 \nL 1869 0 \nL 1869 1069 \nL 77 1069 \nL 77 1478 \nL 2086 4326 \nL 2368 4326 \nL 2368 1478 \nL 3027 1478 \nL 3027 1069 \nz\nM 1869 1478 \nL 1869 3674 \nL 333 1478 \nL 1869 1478 \nz\n\" transform=\"scale(0.015625)\"/>\n       </defs>\n       <use xlink:href=\"#STIXGeneral-Regular-32\"/>\n       <use xlink:href=\"#STIXGeneral-Regular-30\" x=\"49.999985\"/>\n       <use xlink:href=\"#STIXGeneral-Regular-30\" x=\"99.999969\"/>\n       <use xlink:href=\"#STIXGeneral-Regular-34\" x=\"149.999954\"/>\n      </g>\n     </g>\n    </g>\n    <g id=\"xtick_2\">\n     <g id=\"line2d_2\">\n      <g>\n       <use xlink:href=\"#m797bf21a79\" x=\"148.915538\" y=\"228.737812\" style=\"fill: #323034; stroke: #323034; stroke-width: 0.8\"/>\n      </g>\n     </g>\n     <g id=\"text_2\">\n      <!-- 2009 -->\n      <g style=\"fill: #323034\" transform=\"translate(136.915538 243.933437)scale(0.12 -0.12)\">\n       <defs>\n        <path id=\"STIXGeneral-Regular-39\" d=\"M 378 -141 \nL 358 -13 \nQ 1094 115 1603 608 \nQ 2112 1101 2304 1882 \nQ 1933 1517 1344 1517 \nQ 826 1517 509 1875 \nQ 192 2234 192 2816 \nQ 192 3462 573 3894 \nQ 954 4326 1523 4326 \nQ 2131 4326 2528 3840 \nQ 2938 3328 2938 2522 \nQ 2938 1958 2742 1462 \nQ 2547 966 2170 621 \nQ 1773 262 1395 105 \nQ 1018 -51 378 -141 \nz\nM 2317 2272 \nL 2317 2522 \nQ 2317 4147 1472 4147 \nQ 1171 4147 1005 3930 \nQ 909 3802 845 3546 \nQ 781 3290 781 3034 \nQ 781 2464 995 2128 \nQ 1210 1792 1568 1792 \nQ 1824 1792 2070 1917 \nQ 2317 2042 2317 2272 \nz\n\" transform=\"scale(0.015625)\"/>\n       </defs>\n       <use xlink:href=\"#STIXGeneral-Regular-32\"/>\n       <use xlink:href=\"#STIXGeneral-Regular-30\" x=\"49.999985\"/>\n       <use xlink:href=\"#STIXGeneral-Regular-30\" x=\"99.999969\"/>\n       <use xlink:href=\"#STIXGeneral-Regular-39\" x=\"149.999954\"/>\n      </g>\n     </g>\n    </g>\n    <g id=\"xtick_3\">\n     <g id=\"line2d_3\">\n      <g>\n       <use xlink:href=\"#m797bf21a79\" x=\"228.94741\" y=\"228.737812\" style=\"fill: #323034; stroke: #323034; stroke-width: 0.8\"/>\n      </g>\n     </g>\n     <g id=\"text_3\">\n      <!-- 2014 -->\n      <g style=\"fill: #323034\" transform=\"translate(216.94741 243.933437)scale(0.12 -0.12)\">\n       <defs>\n        <path id=\"STIXGeneral-Regular-31\" d=\"M 2522 0 \nL 755 0 \nL 755 96 \nQ 1107 115 1235 227 \nQ 1363 339 1363 608 \nL 1363 3482 \nQ 1363 3795 1171 3795 \nQ 1082 3795 883 3718 \nL 710 3654 \nL 710 3744 \nL 1856 4326 \nL 1914 4307 \nL 1914 486 \nQ 1914 275 2042 185 \nQ 2170 96 2522 96 \nL 2522 0 \nz\n\" transform=\"scale(0.015625)\"/>\n       </defs>\n       <use xlink:href=\"#STIXGeneral-Regular-32\"/>\n       <use xlink:href=\"#STIXGeneral-Regular-30\" x=\"49.999985\"/>\n       <use xlink:href=\"#STIXGeneral-Regular-31\" x=\"99.999969\"/>\n       <use xlink:href=\"#STIXGeneral-Regular-34\" x=\"149.999954\"/>\n      </g>\n     </g>\n    </g>\n    <g id=\"xtick_4\">\n     <g id=\"line2d_4\">\n      <g>\n       <use xlink:href=\"#m797bf21a79\" x=\"308.979283\" y=\"228.737812\" style=\"fill: #323034; stroke: #323034; stroke-width: 0.8\"/>\n      </g>\n     </g>\n     <g id=\"text_4\">\n      <!-- 2019 -->\n      <g style=\"fill: #323034\" transform=\"translate(296.979283 243.933437)scale(0.12 -0.12)\">\n       <use xlink:href=\"#STIXGeneral-Regular-32\"/>\n       <use xlink:href=\"#STIXGeneral-Regular-30\" x=\"49.999985\"/>\n       <use xlink:href=\"#STIXGeneral-Regular-31\" x=\"99.999969\"/>\n       <use xlink:href=\"#STIXGeneral-Regular-39\" x=\"149.999954\"/>\n      </g>\n     </g>\n    </g>\n    <g id=\"xtick_5\">\n     <g id=\"line2d_5\">\n      <defs>\n       <path id=\"madbf3bcfef\" d=\"M 0 0 \nL 0 2 \n\" style=\"stroke: #323034; stroke-width: 0.6\"/>\n      </defs>\n      <g>\n       <use xlink:href=\"#madbf3bcfef\" x=\"36.870916\" y=\"228.737812\" style=\"fill: #323034; stroke: #323034; stroke-width: 0.6\"/>\n      </g>\n     </g>\n    </g>\n    <g id=\"xtick_6\">\n     <g id=\"line2d_6\">\n      <g>\n       <use xlink:href=\"#madbf3bcfef\" x=\"52.877291\" y=\"228.737812\" style=\"fill: #323034; stroke: #323034; stroke-width: 0.6\"/>\n      </g>\n     </g>\n    </g>\n    <g id=\"xtick_7\">\n     <g id=\"line2d_7\">\n      <g>\n       <use xlink:href=\"#madbf3bcfef\" x=\"84.89004\" y=\"228.737812\" style=\"fill: #323034; stroke: #323034; stroke-width: 0.6\"/>\n      </g>\n     </g>\n    </g>\n    <g id=\"xtick_8\">\n     <g id=\"line2d_8\">\n      <g>\n       <use xlink:href=\"#madbf3bcfef\" x=\"100.896414\" y=\"228.737812\" style=\"fill: #323034; stroke: #323034; stroke-width: 0.6\"/>\n      </g>\n     </g>\n    </g>\n    <g id=\"xtick_9\">\n     <g id=\"line2d_9\">\n      <g>\n       <use xlink:href=\"#madbf3bcfef\" x=\"116.902789\" y=\"228.737812\" style=\"fill: #323034; stroke: #323034; stroke-width: 0.6\"/>\n      </g>\n     </g>\n    </g>\n    <g id=\"xtick_10\">\n     <g id=\"line2d_10\">\n      <g>\n       <use xlink:href=\"#madbf3bcfef\" x=\"132.909163\" y=\"228.737812\" style=\"fill: #323034; stroke: #323034; stroke-width: 0.6\"/>\n      </g>\n     </g>\n    </g>\n    <g id=\"xtick_11\">\n     <g id=\"line2d_11\">\n      <g>\n       <use xlink:href=\"#madbf3bcfef\" x=\"164.921912\" y=\"228.737812\" style=\"fill: #323034; stroke: #323034; stroke-width: 0.6\"/>\n      </g>\n     </g>\n    </g>\n    <g id=\"xtick_12\">\n     <g id=\"line2d_12\">\n      <g>\n       <use xlink:href=\"#madbf3bcfef\" x=\"180.928287\" y=\"228.737812\" style=\"fill: #323034; stroke: #323034; stroke-width: 0.6\"/>\n      </g>\n     </g>\n    </g>\n    <g id=\"xtick_13\">\n     <g id=\"line2d_13\">\n      <g>\n       <use xlink:href=\"#madbf3bcfef\" x=\"196.934661\" y=\"228.737812\" style=\"fill: #323034; stroke: #323034; stroke-width: 0.6\"/>\n      </g>\n     </g>\n    </g>\n    <g id=\"xtick_14\">\n     <g id=\"line2d_14\">\n      <g>\n       <use xlink:href=\"#madbf3bcfef\" x=\"212.941036\" y=\"228.737812\" style=\"fill: #323034; stroke: #323034; stroke-width: 0.6\"/>\n      </g>\n     </g>\n    </g>\n    <g id=\"xtick_15\">\n     <g id=\"line2d_15\">\n      <g>\n       <use xlink:href=\"#madbf3bcfef\" x=\"244.953785\" y=\"228.737812\" style=\"fill: #323034; stroke: #323034; stroke-width: 0.6\"/>\n      </g>\n     </g>\n    </g>\n    <g id=\"xtick_16\">\n     <g id=\"line2d_16\">\n      <g>\n       <use xlink:href=\"#madbf3bcfef\" x=\"260.960159\" y=\"228.737812\" style=\"fill: #323034; stroke: #323034; stroke-width: 0.6\"/>\n      </g>\n     </g>\n    </g>\n    <g id=\"xtick_17\">\n     <g id=\"line2d_17\">\n      <g>\n       <use xlink:href=\"#madbf3bcfef\" x=\"276.966534\" y=\"228.737812\" style=\"fill: #323034; stroke: #323034; stroke-width: 0.6\"/>\n      </g>\n     </g>\n    </g>\n    <g id=\"xtick_18\">\n     <g id=\"line2d_18\">\n      <g>\n       <use xlink:href=\"#madbf3bcfef\" x=\"292.972908\" y=\"228.737812\" style=\"fill: #323034; stroke: #323034; stroke-width: 0.6\"/>\n      </g>\n     </g>\n    </g>\n    <g id=\"xtick_19\">\n     <g id=\"line2d_19\">\n      <g>\n       <use xlink:href=\"#madbf3bcfef\" x=\"324.985657\" y=\"228.737812\" style=\"fill: #323034; stroke: #323034; stroke-width: 0.6\"/>\n      </g>\n     </g>\n    </g>\n    <g id=\"xtick_20\">\n     <g id=\"line2d_20\">\n      <g>\n       <use xlink:href=\"#madbf3bcfef\" x=\"340.992032\" y=\"228.737812\" style=\"fill: #323034; stroke: #323034; stroke-width: 0.6\"/>\n      </g>\n     </g>\n    </g>\n    <g id=\"xtick_21\">\n     <g id=\"line2d_21\">\n      <g>\n       <use xlink:href=\"#madbf3bcfef\" x=\"356.998406\" y=\"228.737812\" style=\"fill: #323034; stroke: #323034; stroke-width: 0.6\"/>\n      </g>\n     </g>\n    </g>\n    <g id=\"text_5\">\n     <!-- date -->\n     <g transform=\"translate(183.603438 257.733437)scale(0.12 -0.12)\">\n      <defs>\n       <path id=\"STIXGeneral-Regular-64\" d=\"M 3142 269 \nL 2202 -64 \nL 2176 -45 \nL 2176 365 \nQ 1869 -64 1357 -64 \nQ 826 -64 499 317 \nQ 173 698 173 1312 \nQ 173 1990 563 2467 \nQ 954 2944 1504 2944 \nQ 1850 2944 2176 2669 \nL 2176 3667 \nQ 2176 3866 2118 3930 \nQ 2061 3994 1882 3994 \nQ 1792 3994 1741 3987 \nL 1741 4090 \nQ 2323 4243 2682 4371 \nL 2714 4358 \nL 2714 730 \nQ 2714 506 2768 435 \nQ 2822 365 2995 365 \nQ 3034 365 3142 371 \nL 3142 269 \nz\nM 2176 653 \nL 2176 2125 \nQ 2176 2381 1981 2573 \nQ 1786 2765 1523 2765 \nQ 1158 2765 940 2438 \nQ 723 2112 723 1568 \nQ 723 979 963 624 \nQ 1203 269 1606 269 \nQ 1907 269 2080 474 \nQ 2176 582 2176 653 \nz\n\" transform=\"scale(0.015625)\"/>\n       <path id=\"STIXGeneral-Regular-61\" d=\"M 2829 422 \nL 2829 243 \nQ 2586 -64 2253 -64 \nQ 1888 -64 1843 403 \nL 1837 403 \nQ 1427 -64 909 -64 \nQ 608 -64 422 112 \nQ 237 288 237 602 \nQ 237 1050 685 1350 \nQ 992 1555 1837 1869 \nL 1837 2214 \nQ 1837 2502 1699 2646 \nQ 1562 2790 1338 2790 \nQ 1146 2790 1018 2697 \nQ 890 2605 890 2477 \nQ 890 2419 909 2348 \nQ 928 2278 928 2208 \nQ 928 2112 841 2029 \nQ 755 1946 634 1946 \nQ 525 1946 441 2029 \nQ 358 2112 358 2240 \nQ 358 2547 685 2752 \nQ 986 2944 1421 2944 \nQ 1939 2944 2176 2656 \nQ 2291 2522 2323 2384 \nQ 2355 2246 2355 1946 \nL 2355 723 \nQ 2355 301 2554 301 \nQ 2682 301 2829 422 \nz\nM 1837 813 \nL 1837 1715 \nQ 1248 1510 1018 1293 \nQ 800 1094 800 800 \nQ 800 557 921 432 \nQ 1043 307 1242 307 \nQ 1453 307 1613 410 \nQ 1747 506 1792 589 \nQ 1837 672 1837 813 \nz\n\" transform=\"scale(0.015625)\"/>\n       <path id=\"STIXGeneral-Regular-74\" d=\"M 1702 493 \nL 1786 422 \nQ 1478 -64 1011 -64 \nQ 448 -64 448 749 \nL 448 2675 \nL 109 2675 \nQ 83 2694 83 2720 \nQ 83 2771 192 2842 \nQ 435 2982 813 3526 \nQ 826 3546 874 3606 \nQ 922 3667 941 3706 \nQ 986 3706 986 3622 \nL 986 2880 \nL 1632 2880 \nL 1632 2675 \nL 986 2675 \nL 986 845 \nQ 986 538 1062 403 \nQ 1139 269 1318 269 \nQ 1510 269 1702 493 \nz\n\" transform=\"scale(0.015625)\"/>\n       <path id=\"STIXGeneral-Regular-65\" d=\"M 2611 1050 \nL 2714 1005 \nQ 2330 -64 1376 -64 \nQ 813 -64 486 329 \nQ 160 723 160 1389 \nQ 160 2074 525 2509 \nQ 890 2944 1485 2944 \nQ 2061 2944 2374 2502 \nQ 2560 2246 2592 1773 \nL 621 1773 \nQ 646 1370 700 1158 \nQ 755 947 915 730 \nQ 1184 378 1626 378 \nQ 1939 378 2153 531 \nQ 2368 685 2611 1050 \nz\nM 634 1978 \nL 1939 1978 \nQ 1882 2381 1750 2547 \nQ 1619 2714 1312 2714 \nQ 1043 2714 864 2525 \nQ 685 2336 634 1978 \nz\n\" transform=\"scale(0.015625)\"/>\n      </defs>\n      <use xlink:href=\"#STIXGeneral-Regular-64\"/>\n      <use xlink:href=\"#STIXGeneral-Regular-61\" x=\"49.999985\"/>\n      <use xlink:href=\"#STIXGeneral-Regular-74\" x=\"94.399979\"/>\n      <use xlink:href=\"#STIXGeneral-Regular-65\" x=\"122.199966\"/>\n     </g>\n    </g>\n   </g>\n   <g id=\"matplotlib.axis_2\">\n    <g id=\"ytick_1\">\n     <g id=\"line2d_22\">\n      <defs>\n       <path id=\"mef38dc4da8\" d=\"M 0 0 \nL -3.5 0 \n\" style=\"stroke: #323034; stroke-width: 0.8\"/>\n      </defs>\n      <g>\n       <use xlink:href=\"#mef38dc4da8\" x=\"26.2\" y=\"228.737812\" style=\"fill: #323034; stroke: #323034; stroke-width: 0.8\"/>\n      </g>\n     </g>\n     <g id=\"text_6\">\n      <!-- $\\mathdefault{0}$ -->\n      <g style=\"fill: #323034\" transform=\"translate(13.2 232.835625)scale(0.12 -0.12)\">\n       <use xlink:href=\"#STIXGeneral-Regular-30\" transform=\"translate(0 0.40625)\"/>\n      </g>\n     </g>\n    </g>\n    <g id=\"ytick_2\">\n     <g id=\"line2d_23\">\n      <g>\n       <use xlink:href=\"#mef38dc4da8\" x=\"26.2\" y=\"204.577812\" style=\"fill: #323034; stroke: #323034; stroke-width: 0.8\"/>\n      </g>\n     </g>\n     <g id=\"text_7\">\n      <!-- $\\mathdefault{10}$ -->\n      <g style=\"fill: #323034\" transform=\"translate(7.2 208.675625)scale(0.12 -0.12)\">\n       <use xlink:href=\"#STIXGeneral-Regular-31\" transform=\"translate(0 0.40625)\"/>\n       <use xlink:href=\"#STIXGeneral-Regular-30\" transform=\"translate(49.999985 0.40625)\"/>\n      </g>\n     </g>\n    </g>\n    <g id=\"ytick_3\">\n     <g id=\"line2d_24\">\n      <g>\n       <use xlink:href=\"#mef38dc4da8\" x=\"26.2\" y=\"180.417812\" style=\"fill: #323034; stroke: #323034; stroke-width: 0.8\"/>\n      </g>\n     </g>\n     <g id=\"text_8\">\n      <!-- $\\mathdefault{20}$ -->\n      <g style=\"fill: #323034\" transform=\"translate(7.2 184.515625)scale(0.12 -0.12)\">\n       <use xlink:href=\"#STIXGeneral-Regular-32\" transform=\"translate(0 0.40625)\"/>\n       <use xlink:href=\"#STIXGeneral-Regular-30\" transform=\"translate(49.999985 0.40625)\"/>\n      </g>\n     </g>\n    </g>\n    <g id=\"ytick_4\">\n     <g id=\"line2d_25\">\n      <g>\n       <use xlink:href=\"#mef38dc4da8\" x=\"26.2\" y=\"156.257812\" style=\"fill: #323034; stroke: #323034; stroke-width: 0.8\"/>\n      </g>\n     </g>\n     <g id=\"text_9\">\n      <!-- $\\mathdefault{30}$ -->\n      <g style=\"fill: #323034\" transform=\"translate(7.2 160.355625)scale(0.12 -0.12)\">\n       <defs>\n        <path id=\"STIXGeneral-Regular-33\" d=\"M 390 3264 \nL 288 3290 \nQ 435 3770 748 4048 \nQ 1062 4326 1542 4326 \nQ 1990 4326 2265 4083 \nQ 2541 3840 2541 3450 \nQ 2541 2925 1946 2566 \nQ 2298 2413 2477 2227 \nQ 2758 1914 2758 1402 \nQ 2758 890 2464 506 \nQ 2246 211 1840 60 \nQ 1434 -90 979 -90 \nQ 262 -90 262 275 \nQ 262 378 339 442 \nQ 416 506 525 506 \nQ 685 506 915 339 \nQ 1197 141 1466 141 \nQ 1818 141 2058 425 \nQ 2298 710 2298 1120 \nQ 2298 1856 1632 2048 \nQ 1434 2112 979 2112 \nL 979 2202 \nQ 1338 2323 1517 2432 \nQ 2035 2726 2035 3290 \nQ 2035 3610 1852 3776 \nQ 1670 3942 1344 3942 \nQ 768 3942 390 3264 \nz\n\" transform=\"scale(0.015625)\"/>\n       </defs>\n       <use xlink:href=\"#STIXGeneral-Regular-33\" transform=\"translate(0 0.40625)\"/>\n       <use xlink:href=\"#STIXGeneral-Regular-30\" transform=\"translate(49.999985 0.40625)\"/>\n      </g>\n     </g>\n    </g>\n    <g id=\"ytick_5\">\n     <g id=\"line2d_26\">\n      <g>\n       <use xlink:href=\"#mef38dc4da8\" x=\"26.2\" y=\"132.097812\" style=\"fill: #323034; stroke: #323034; stroke-width: 0.8\"/>\n      </g>\n     </g>\n     <g id=\"text_10\">\n      <!-- $\\mathdefault{40}$ -->\n      <g style=\"fill: #323034\" transform=\"translate(7.2 136.195625)scale(0.12 -0.12)\">\n       <use xlink:href=\"#STIXGeneral-Regular-34\" transform=\"translate(0 0.40625)\"/>\n       <use xlink:href=\"#STIXGeneral-Regular-30\" transform=\"translate(49.999985 0.40625)\"/>\n      </g>\n     </g>\n    </g>\n    <g id=\"ytick_6\">\n     <g id=\"line2d_27\">\n      <g>\n       <use xlink:href=\"#mef38dc4da8\" x=\"26.2\" y=\"107.937812\" style=\"fill: #323034; stroke: #323034; stroke-width: 0.8\"/>\n      </g>\n     </g>\n     <g id=\"text_11\">\n      <!-- $\\mathdefault{50}$ -->\n      <g style=\"fill: #323034\" transform=\"translate(7.2 112.035625)scale(0.12 -0.12)\">\n       <defs>\n        <path id=\"STIXGeneral-Regular-35\" d=\"M 2803 4358 \nL 2573 3814 \nQ 2534 3731 2400 3731 \nL 1158 3731 \nL 902 3187 \nQ 1606 3053 1920 2896 \nQ 2234 2739 2502 2368 \nQ 2726 2061 2726 1555 \nQ 2726 1094 2576 780 \nQ 2426 467 2099 224 \nQ 1664 -90 1011 -90 \nQ 646 -90 422 19 \nQ 198 128 198 307 \nQ 198 550 486 550 \nQ 717 550 960 352 \nQ 1210 147 1414 147 \nQ 1747 147 2012 480 \nQ 2278 813 2278 1229 \nQ 2278 1843 1850 2189 \nQ 1293 2637 486 2637 \nQ 410 2637 410 2688 \nL 416 2720 \nL 1114 4237 \nL 2438 4237 \nQ 2547 4237 2608 4269 \nQ 2669 4301 2746 4403 \nL 2803 4358 \nz\n\" transform=\"scale(0.015625)\"/>\n       </defs>\n       <use xlink:href=\"#STIXGeneral-Regular-35\" transform=\"translate(0 0.203125)\"/>\n       <use xlink:href=\"#STIXGeneral-Regular-30\" transform=\"translate(49.999985 0.203125)\"/>\n      </g>\n     </g>\n    </g>\n    <g id=\"ytick_7\">\n     <g id=\"line2d_28\">\n      <g>\n       <use xlink:href=\"#mef38dc4da8\" x=\"26.2\" y=\"83.777812\" style=\"fill: #323034; stroke: #323034; stroke-width: 0.8\"/>\n      </g>\n     </g>\n     <g id=\"text_12\">\n      <!-- $\\mathdefault{60}$ -->\n      <g style=\"fill: #323034\" transform=\"translate(7.2 87.875625)scale(0.12 -0.12)\">\n       <defs>\n        <path id=\"STIXGeneral-Regular-36\" d=\"M 2854 4378 \nL 2867 4275 \nQ 2112 4154 1606 3664 \nQ 1101 3174 973 2451 \nQ 1344 2739 1786 2739 \nQ 2349 2739 2672 2380 \nQ 2995 2022 2995 1402 \nQ 2995 774 2669 378 \nQ 2291 -90 1651 -90 \nQ 870 -90 518 557 \nQ 218 1107 218 1786 \nQ 218 2835 915 3552 \nQ 1312 3962 1731 4131 \nQ 2150 4301 2854 4378 \nz\nM 2419 1203 \nQ 2419 2445 1555 2445 \nQ 1235 2445 1024 2275 \nQ 813 2106 813 1702 \nQ 813 954 1046 522 \nQ 1280 90 1722 90 \nQ 2061 90 2240 394 \nQ 2419 698 2419 1203 \nz\n\" transform=\"scale(0.015625)\"/>\n       </defs>\n       <use xlink:href=\"#STIXGeneral-Regular-36\" transform=\"translate(0 0.59375)\"/>\n       <use xlink:href=\"#STIXGeneral-Regular-30\" transform=\"translate(49.999985 0.59375)\"/>\n      </g>\n     </g>\n    </g>\n    <g id=\"ytick_8\">\n     <g id=\"line2d_29\">\n      <g>\n       <use xlink:href=\"#mef38dc4da8\" x=\"26.2\" y=\"59.617812\" style=\"fill: #323034; stroke: #323034; stroke-width: 0.8\"/>\n      </g>\n     </g>\n     <g id=\"text_13\">\n      <!-- $\\mathdefault{70}$ -->\n      <g style=\"fill: #323034\" transform=\"translate(7.2 63.715625)scale(0.12 -0.12)\">\n       <defs>\n        <path id=\"STIXGeneral-Regular-37\" d=\"M 2874 4134 \nL 1517 -51 \nL 1101 -51 \nL 2368 3763 \nL 992 3763 \nQ 717 3763 582 3667 \nQ 448 3571 243 3238 \nL 128 3296 \nL 512 4237 \nL 2874 4237 \nL 2874 4134 \nz\n\" transform=\"scale(0.015625)\"/>\n       </defs>\n       <use xlink:href=\"#STIXGeneral-Regular-37\" transform=\"translate(0 0.40625)\"/>\n       <use xlink:href=\"#STIXGeneral-Regular-30\" transform=\"translate(49.999985 0.40625)\"/>\n      </g>\n     </g>\n    </g>\n    <g id=\"ytick_9\">\n     <g id=\"line2d_30\">\n      <g>\n       <use xlink:href=\"#mef38dc4da8\" x=\"26.2\" y=\"35.457812\" style=\"fill: #323034; stroke: #323034; stroke-width: 0.8\"/>\n      </g>\n     </g>\n     <g id=\"text_14\">\n      <!-- $\\mathdefault{80}$ -->\n      <g style=\"fill: #323034\" transform=\"translate(7.2 39.555625)scale(0.12 -0.12)\">\n       <defs>\n        <path id=\"STIXGeneral-Regular-38\" d=\"M 2848 992 \nQ 2848 499 2505 204 \nQ 2163 -90 1587 -90 \nQ 1050 -90 704 204 \nQ 358 499 358 954 \nQ 358 1293 524 1533 \nQ 691 1773 1190 2125 \nQ 710 2522 553 2765 \nQ 397 3008 397 3328 \nQ 397 3782 745 4054 \nQ 1094 4326 1638 4326 \nQ 2106 4326 2410 4060 \nQ 2714 3795 2714 3411 \nQ 2714 3059 2531 2848 \nQ 2349 2637 1856 2374 \nQ 2432 1990 2640 1689 \nQ 2848 1389 2848 992 \nz\nM 2272 3411 \nQ 2272 3744 2086 3945 \nQ 1901 4147 1574 4147 \nQ 1248 4147 1059 3977 \nQ 870 3808 870 3513 \nQ 870 3219 1059 2979 \nQ 1248 2739 1670 2490 \nQ 1997 2682 2134 2896 \nQ 2272 3110 2272 3411 \nz\nM 1734 1741 \nL 1357 1997 \nQ 1075 1766 960 1545 \nQ 845 1325 845 1011 \nQ 845 576 1065 333 \nQ 1286 90 1658 90 \nQ 1971 90 2166 285 \nQ 2362 480 2362 794 \nQ 2362 1082 2214 1299 \nQ 2067 1517 1734 1741 \nz\n\" transform=\"scale(0.015625)\"/>\n       </defs>\n       <use xlink:href=\"#STIXGeneral-Regular-38\" transform=\"translate(0 0.40625)\"/>\n       <use xlink:href=\"#STIXGeneral-Regular-30\" transform=\"translate(49.999985 0.40625)\"/>\n      </g>\n     </g>\n    </g>\n    <g id=\"ytick_10\">\n     <g id=\"line2d_31\">\n      <g>\n       <use xlink:href=\"#mef38dc4da8\" x=\"26.2\" y=\"11.297812\" style=\"fill: #323034; stroke: #323034; stroke-width: 0.8\"/>\n      </g>\n     </g>\n     <g id=\"text_15\">\n      <!-- $\\mathdefault{90}$ -->\n      <g style=\"fill: #323034\" transform=\"translate(7.2 15.395625)scale(0.12 -0.12)\">\n       <use xlink:href=\"#STIXGeneral-Regular-39\" transform=\"translate(0 0.40625)\"/>\n       <use xlink:href=\"#STIXGeneral-Regular-30\" transform=\"translate(49.999985 0.40625)\"/>\n      </g>\n     </g>\n    </g>\n   </g>\n   <g id=\"line2d_32\">\n    <path d=\"M 26.2 107.937812 \nL 27.533865 112.769812 \nL 30.201594 117.601812 \nL 31.535458 122.433812 \nL 32.869323 124.849812 \nL 34.203187 132.097812 \nL 39.538645 122.433812 \nL 42.206375 122.433812 \nL 43.540239 120.017812 \nL 44.874104 120.017812 \nL 46.207968 124.849812 \nL 47.541833 132.097812 \nL 50.209562 132.097812 \nL 51.543426 127.265812 \nL 54.211155 127.265812 \nL 55.54502 132.097812 \nL 56.878884 132.097812 \nL 58.212749 136.929812 \nL 59.546614 139.345812 \nL 60.880478 139.345812 \nL 62.214343 134.513812 \nL 64.882072 129.681812 \nL 67.549801 129.681812 \nL 68.883665 127.265812 \nL 70.21753 127.265812 \nL 71.551394 124.849812 \nL 72.885259 124.849812 \nL 75.552988 120.017812 \nL 76.886853 120.017812 \nL 80.888446 112.769812 \nL 83.556175 117.601812 \nL 86.223904 127.265812 \nL 90.225498 127.265812 \nL 91.559363 132.097812 \nL 92.893227 134.513812 \nL 99.56255 134.513812 \nL 100.896414 132.097812 \nL 106.231873 132.097812 \nL 108.899602 127.265812 \nL 111.567331 132.097812 \nL 112.901195 132.097812 \nL 114.23506 134.513812 \nL 115.568924 132.097812 \nL 116.902789 134.513812 \nL 119.570518 124.849812 \nL 120.904382 122.433812 \nL 122.238247 124.849812 \nL 124.905976 124.849812 \nL 126.239841 122.433812 \nL 127.573705 124.849812 \nL 128.90757 122.433812 \nL 131.575299 127.265812 \nL 132.909163 132.097812 \nL 134.243028 134.513812 \nL 135.576892 141.761812 \nL 136.910757 146.593812 \nL 138.244622 149.009812 \nL 139.578486 139.345812 \nL 140.912351 134.513812 \nL 142.246215 139.345812 \nL 143.58008 141.761812 \nL 144.913944 153.841812 \nL 146.247809 156.257812 \nL 147.581673 161.089812 \nL 148.915538 161.089812 \nL 150.249402 165.921812 \nL 151.583267 168.337812 \nL 152.917131 173.169812 \nL 154.250996 173.169812 \nL 155.584861 178.001812 \nL 160.920319 168.337812 \nL 162.254183 168.337812 \nL 163.588048 165.921812 \nL 164.921912 168.337812 \nL 168.923506 168.337812 \nL 171.591235 163.505812 \nL 172.9251 163.505812 \nL 175.592829 158.673812 \nL 178.260558 158.673812 \nL 179.594422 156.257812 \nL 180.928287 151.425812 \nL 182.262151 149.009812 \nL 183.596016 149.009812 \nL 186.263745 153.841812 \nL 188.931474 149.009812 \nL 190.265339 149.009812 \nL 191.599203 151.425812 \nL 192.933068 151.425812 \nL 195.600797 146.593812 \nL 198.268526 151.425812 \nL 200.936255 151.425812 \nL 207.605578 163.505812 \nL 208.939442 163.505812 \nL 210.273307 161.089812 \nL 211.607171 161.089812 \nL 212.941036 158.673812 \nL 216.942629 158.673812 \nL 219.610359 153.841812 \nL 222.278088 153.841812 \nL 223.611952 158.673812 \nL 224.945817 151.425812 \nL 226.279681 149.009812 \nL 227.613546 149.009812 \nL 228.94741 153.841812 \nL 230.281275 153.841812 \nL 231.615139 151.425812 \nL 235.616733 158.673812 \nL 236.950598 153.841812 \nL 238.284462 146.593812 \nL 239.618327 136.929812 \nL 240.952191 139.345812 \nL 242.286056 144.177812 \nL 244.953785 144.177812 \nL 246.287649 141.761812 \nL 247.621514 144.177812 \nL 248.955378 139.345812 \nL 250.289243 141.761812 \nL 251.623108 139.345812 \nL 252.956972 139.345812 \nL 254.290837 136.929812 \nL 255.624701 132.097812 \nL 256.958566 132.097812 \nL 258.29243 129.681812 \nL 259.626295 134.513812 \nL 260.960159 129.681812 \nL 262.294024 127.265812 \nL 264.961753 127.265812 \nL 267.629482 117.601812 \nL 268.963347 120.017812 \nL 270.297211 132.097812 \nL 271.631076 136.929812 \nL 272.96494 139.345812 \nL 275.632669 134.513812 \nL 276.966534 134.513812 \nL 280.968127 127.265812 \nL 282.301992 129.681812 \nL 283.635857 127.265812 \nL 284.969721 122.433812 \nL 287.63745 127.265812 \nL 288.971315 132.097812 \nL 290.305179 124.849812 \nL 291.639044 122.433812 \nL 292.972908 122.433812 \nL 295.640637 117.601812 \nL 296.974502 117.601812 \nL 298.308367 112.769812 \nL 299.642231 112.769812 \nL 300.976096 115.185812 \nL 302.30996 112.769812 \nL 303.643825 115.185812 \nL 304.977689 105.521812 \nL 306.311554 105.521812 \nL 307.645418 103.105812 \nL 308.979283 105.521812 \nL 311.647012 115.185812 \nL 312.980876 117.601812 \nL 314.314741 124.849812 \nL 315.648606 127.265812 \nL 316.98247 127.265812 \nL 318.316335 124.849812 \nL 319.650199 124.849812 \nL 320.984064 129.681812 \nL 322.317928 129.681812 \nL 323.651793 124.849812 \nL 326.319522 124.849812 \nL 327.653386 151.425812 \nL 328.987251 175.585812 \nL 330.321116 197.329812 \nL 331.65498 190.081812 \nL 332.988845 187.665812 \nL 334.322709 175.585812 \nL 335.656574 170.753812 \nL 336.990438 158.673812 \nL 338.324303 149.009812 \nL 340.992032 134.513812 \nL 342.325896 132.097812 \nL 343.659761 124.849812 \nL 344.993625 120.017812 \nL 346.32749 112.769812 \nL 347.661355 95.857812 \nL 348.995219 88.609812 \nL 350.329084 71.697812 \nL 351.662948 71.697812 \nL 352.996813 62.033812 \nL 354.330677 62.033812 \nL 355.664542 45.121812 \nL 356.998406 42.705812 \nL 358.332271 45.121812 \nL 359.666135 37.873812 \nL 361 37.873812 \nL 361 37.873812 \n\" clip-path=\"url(#pfe9d853d03)\" style=\"fill: none; stroke: #bc80bd; stroke-width: 2; stroke-linecap: square\"/>\n   </g>\n   <g id=\"patch_3\">\n    <path d=\"M 26.2 228.737812 \nL 26.2 11.297812 \n\" style=\"fill: none; stroke: #000000; stroke-width: 0.6; stroke-linejoin: miter; stroke-linecap: square\"/>\n   </g>\n   <g id=\"patch_4\">\n    <path d=\"M 26.2 228.737812 \nL 361 228.737812 \n\" style=\"fill: none; stroke: #000000; stroke-width: 0.6; stroke-linejoin: miter; stroke-linecap: square\"/>\n   </g>\n   <g id=\"legend_1\">\n    <g id=\"patch_5\">\n     <path d=\"M 214.635938 29.468125 \nL 354 29.468125 \nQ 356 29.468125 356 27.468125 \nL 356 18.297812 \nQ 356 16.297812 354 16.297812 \nL 214.635938 16.297812 \nQ 212.635938 16.297812 212.635938 18.297812 \nL 212.635938 27.468125 \nQ 212.635938 29.468125 214.635938 29.468125 \nz\n\" style=\"fill: #ffffff; opacity: 0.8; stroke: #e6e6e6; stroke-width: 0.8; stroke-linejoin: miter\"/>\n    </g>\n    <g id=\"line2d_33\">\n     <path d=\"M 214.635938 21.797812 \nL 224.635938 21.797812 \nL 234.635938 21.797812 \n\" style=\"fill: none; stroke: #bc80bd; stroke-width: 2; stroke-linecap: square\"/>\n    </g>\n    <g id=\"text_16\">\n     <!-- Vacancies (ICT), thousands -->\n     <g style=\"fill: #323034\" transform=\"translate(242.635938 25.297812)scale(0.1 -0.1)\">\n      <defs>\n       <path id=\"STIXGeneral-Regular-56\" d=\"M 4461 4237 \nL 4461 4115 \nQ 4262 4109 4134 3990 \nQ 4006 3872 3872 3533 \nL 2451 -70 \nL 2355 -70 \nL 794 3411 \nQ 589 3866 467 3987 \nQ 346 4109 102 4115 \nL 102 4237 \nL 1798 4237 \nL 1798 4115 \nL 1619 4102 \nQ 1331 4083 1331 3904 \nQ 1331 3776 1581 3219 \nL 2554 1030 \nL 3494 3392 \nQ 3616 3699 3616 3853 \nQ 3616 3898 3606 3933 \nQ 3597 3968 3584 3993 \nQ 3571 4019 3536 4038 \nQ 3501 4058 3481 4067 \nQ 3462 4077 3411 4086 \nQ 3360 4096 3337 4099 \nQ 3315 4102 3248 4108 \nQ 3181 4115 3155 4115 \nL 3155 4237 \nL 4461 4237 \nz\n\" transform=\"scale(0.015625)\"/>\n       <path id=\"STIXGeneral-Regular-63\" d=\"M 2547 998 \nL 2637 941 \nQ 2362 403 2112 205 \nQ 1786 -64 1376 -64 \nQ 845 -64 502 336 \nQ 160 736 160 1357 \nQ 160 2170 698 2618 \nQ 1094 2944 1562 2944 \nQ 1965 2944 2256 2749 \nQ 2547 2554 2547 2285 \nQ 2547 2176 2457 2096 \nQ 2368 2016 2246 2016 \nQ 2022 2016 1939 2310 \nL 1901 2451 \nQ 1850 2630 1773 2694 \nQ 1696 2758 1523 2758 \nQ 1133 2758 893 2451 \nQ 653 2144 653 1645 \nQ 653 1094 928 745 \nQ 1203 397 1645 397 \nQ 1920 397 2118 528 \nQ 2317 659 2547 998 \nz\n\" transform=\"scale(0.015625)\"/>\n       <path id=\"STIXGeneral-Regular-6e\" d=\"M 3104 0 \nL 1773 0 \nL 1779 96 \nQ 2016 115 2096 233 \nQ 2176 352 2176 672 \nL 2176 1946 \nQ 2176 2592 1709 2592 \nQ 1549 2592 1408 2515 \nQ 1267 2438 1050 2227 \nL 1050 461 \nQ 1050 269 1136 192 \nQ 1222 115 1466 96 \nL 1466 0 \nL 115 0 \nL 115 96 \nQ 358 115 435 214 \nQ 512 314 512 602 \nL 512 2157 \nQ 512 2394 467 2483 \nQ 422 2573 288 2573 \nQ 160 2573 102 2547 \nL 102 2656 \nQ 550 2784 979 2944 \nL 1030 2925 \nL 1030 2426 \nL 1037 2426 \nQ 1491 2944 1958 2944 \nQ 2323 2944 2518 2688 \nQ 2714 2432 2714 1958 \nL 2714 544 \nQ 2714 288 2790 205 \nQ 2867 122 3104 96 \nL 3104 0 \nz\n\" transform=\"scale(0.015625)\"/>\n       <path id=\"STIXGeneral-Regular-69\" d=\"M 1152 4045 \nQ 1152 3904 1056 3811 \nQ 960 3718 819 3718 \nQ 685 3718 592 3811 \nQ 499 3904 499 4045 \nQ 499 4179 595 4275 \nQ 691 4371 826 4371 \nQ 966 4371 1059 4275 \nQ 1152 4179 1152 4045 \nz\nM 1619 0 \nL 102 0 \nL 102 96 \nQ 435 115 521 211 \nQ 608 307 608 666 \nL 608 2118 \nQ 608 2342 563 2432 \nQ 518 2522 397 2522 \nQ 243 2522 128 2490 \nL 128 2592 \nL 1120 2944 \nL 1146 2918 \nL 1146 672 \nQ 1146 314 1226 218 \nQ 1306 122 1619 96 \nL 1619 0 \nz\n\" transform=\"scale(0.015625)\"/>\n       <path id=\"STIXGeneral-Regular-73\" d=\"M 998 1926 \nL 1664 1523 \nQ 1984 1331 2105 1164 \nQ 2227 998 2227 736 \nQ 2227 416 1961 176 \nQ 1696 -64 1331 -64 \nQ 1030 -64 864 -6 \nQ 691 51 570 51 \nQ 461 51 416 -26 \nL 333 -26 \nL 333 979 \nL 435 979 \nQ 538 512 730 294 \nQ 922 77 1248 77 \nQ 1485 77 1632 211 \nQ 1779 346 1779 550 \nQ 1779 845 1440 1030 \nL 1094 1222 \nQ 326 1651 326 2150 \nQ 326 2522 566 2730 \nQ 806 2938 1210 2938 \nQ 1491 2938 1638 2867 \nQ 1754 2816 1818 2816 \nQ 1862 2816 1920 2880 \nL 1990 2880 \nL 2022 2010 \nL 1926 2010 \nQ 1818 2445 1654 2621 \nQ 1491 2797 1203 2797 \nQ 986 2797 854 2688 \nQ 723 2579 723 2362 \nQ 723 2253 796 2128 \nQ 870 2003 998 1926 \nz\n\" transform=\"scale(0.015625)\"/>\n       <path id=\"STIXGeneral-Regular-20\" transform=\"scale(0.015625)\"/>\n       <path id=\"STIXGeneral-Regular-28\" d=\"M 1946 -1030 \nL 1869 -1133 \nQ 1126 -710 716 32 \nQ 307 774 307 1613 \nQ 307 3386 1888 4326 \nL 1946 4224 \nQ 1293 3667 1075 3126 \nQ 858 2586 858 1632 \nQ 858 685 1082 96 \nQ 1306 -493 1946 -1030 \nz\n\" transform=\"scale(0.015625)\"/>\n       <path id=\"STIXGeneral-Regular-49\" d=\"M 2016 0 \nL 115 0 \nL 115 122 \nQ 518 134 627 240 \nQ 736 346 736 717 \nL 736 3526 \nQ 736 3898 633 3994 \nQ 531 4090 115 4115 \nL 115 4237 \nL 2016 4237 \nL 2016 4115 \nQ 1613 4096 1501 3993 \nQ 1389 3891 1389 3526 \nL 1389 717 \nQ 1389 358 1504 246 \nQ 1619 134 2016 122 \nL 2016 0 \nz\n\" transform=\"scale(0.015625)\"/>\n       <path id=\"STIXGeneral-Regular-43\" d=\"M 3930 838 \nL 4051 723 \nQ 3482 -90 2304 -90 \nQ 1376 -90 794 480 \nQ 179 1082 179 2080 \nQ 179 3014 755 3661 \nQ 1357 4326 2310 4326 \nQ 2720 4326 3072 4230 \nQ 3475 4115 3514 4115 \nQ 3725 4115 3782 4326 \nL 3910 4326 \nL 3968 2874 \nL 3821 2874 \nQ 3718 3334 3488 3584 \nQ 3034 4070 2458 4070 \nQ 1747 4070 1334 3548 \nQ 922 3027 922 2182 \nQ 922 1152 1382 653 \nQ 1811 192 2522 192 \nQ 2944 192 3251 339 \nQ 3558 486 3930 838 \nz\n\" transform=\"scale(0.015625)\"/>\n       <path id=\"STIXGeneral-Regular-54\" d=\"M 3795 3149 \nL 3642 3149 \nQ 3539 3674 3353 3821 \nQ 3168 3968 2656 3968 \nL 2278 3968 \nL 2278 710 \nQ 2278 346 2387 243 \nQ 2496 141 2893 122 \nL 2893 0 \nL 1024 0 \nL 1024 122 \nQ 1427 147 1526 256 \nQ 1626 365 1626 787 \nL 1626 3968 \nL 1242 3968 \nQ 723 3968 540 3817 \nQ 358 3667 262 3149 \nL 109 3149 \nL 154 4237 \nL 3750 4237 \nL 3795 3149 \nz\n\" transform=\"scale(0.015625)\"/>\n       <path id=\"STIXGeneral-Regular-29\" d=\"M 186 4224 \nL 262 4326 \nQ 992 3891 1408 3148 \nQ 1824 2406 1824 1581 \nQ 1824 -166 243 -1133 \nL 186 -1030 \nQ 845 -486 1059 54 \nQ 1274 595 1274 1562 \nQ 1274 2534 1059 3120 \nQ 845 3706 186 4224 \nz\n\" transform=\"scale(0.015625)\"/>\n       <path id=\"STIXGeneral-Regular-2c\" d=\"M 531 -902 \nL 467 -781 \nQ 998 -422 998 -96 \nQ 998 -13 909 -13 \nQ 883 -13 822 -25 \nQ 762 -38 723 -38 \nQ 352 -38 352 288 \nQ 352 454 457 553 \nQ 563 653 736 653 \nQ 954 653 1101 496 \nQ 1248 339 1248 96 \nQ 1248 -198 1053 -473 \nQ 858 -749 531 -902 \nz\n\" transform=\"scale(0.015625)\"/>\n       <path id=\"STIXGeneral-Regular-68\" d=\"M 3117 0 \nL 1760 0 \nL 1760 96 \nQ 2042 128 2118 224 \nQ 2195 320 2195 653 \nL 2195 1920 \nQ 2195 2598 1722 2598 \nQ 1530 2598 1370 2508 \nQ 1210 2419 1005 2195 \nL 1005 653 \nQ 1005 320 1081 224 \nQ 1158 128 1440 96 \nL 1440 0 \nL 58 0 \nL 58 96 \nQ 333 134 400 224 \nQ 467 314 467 653 \nL 467 3667 \nQ 467 3872 406 3933 \nQ 346 3994 141 3994 \nQ 83 3994 64 3987 \nL 64 4090 \nL 237 4141 \nQ 730 4288 973 4371 \nL 1005 4352 \nL 1005 2406 \nQ 1229 2694 1446 2819 \nQ 1664 2944 1946 2944 \nQ 2733 2944 2733 1926 \nL 2733 653 \nQ 2733 320 2793 233 \nQ 2854 147 3117 96 \nL 3117 0 \nz\n\" transform=\"scale(0.015625)\"/>\n       <path id=\"STIXGeneral-Regular-6f\" d=\"M 3008 1478 \nQ 3008 806 2608 371 \nQ 2208 -64 1568 -64 \nQ 979 -64 582 368 \nQ 186 800 186 1459 \nQ 186 2125 582 2534 \nQ 979 2944 1626 2944 \nQ 2221 2944 2614 2537 \nQ 3008 2131 3008 1478 \nz\nM 2432 1306 \nQ 2432 2035 2112 2445 \nQ 1856 2765 1504 2765 \nQ 1171 2765 966 2493 \nQ 762 2221 762 1747 \nQ 762 928 1101 435 \nQ 1318 115 1677 115 \nQ 2029 115 2230 432 \nQ 2432 749 2432 1306 \nz\n\" transform=\"scale(0.015625)\"/>\n       <path id=\"STIXGeneral-Regular-75\" d=\"M 3072 320 \nL 3072 230 \nQ 2573 96 2195 -58 \nL 2163 -38 \nL 2163 486 \nL 2150 486 \nQ 1747 -64 1235 -64 \nQ 870 -64 662 160 \nQ 454 384 454 755 \nL 454 2362 \nQ 454 2598 371 2688 \nQ 288 2778 58 2790 \nL 58 2880 \nL 992 2880 \nL 992 813 \nQ 992 595 1123 451 \nQ 1254 307 1446 307 \nQ 1760 307 1984 506 \nQ 2067 582 2099 649 \nQ 2131 717 2131 877 \nL 2131 2355 \nQ 2131 2605 2041 2678 \nQ 1952 2752 1658 2771 \nL 1658 2880 \nL 2669 2880 \nL 2669 685 \nQ 2669 461 2742 390 \nQ 2816 320 3034 320 \nL 3072 320 \nz\n\" transform=\"scale(0.015625)\"/>\n      </defs>\n      <use xlink:href=\"#STIXGeneral-Regular-56\"/>\n      <use xlink:href=\"#STIXGeneral-Regular-61\" x=\"72.199982\"/>\n      <use xlink:href=\"#STIXGeneral-Regular-63\" x=\"116.599976\"/>\n      <use xlink:href=\"#STIXGeneral-Regular-61\" x=\"160.999969\"/>\n      <use xlink:href=\"#STIXGeneral-Regular-6e\" x=\"205.399963\"/>\n      <use xlink:href=\"#STIXGeneral-Regular-63\" x=\"255.399948\"/>\n      <use xlink:href=\"#STIXGeneral-Regular-69\" x=\"299.799942\"/>\n      <use xlink:href=\"#STIXGeneral-Regular-65\" x=\"327.59993\"/>\n      <use xlink:href=\"#STIXGeneral-Regular-73\" x=\"371.999924\"/>\n      <use xlink:href=\"#STIXGeneral-Regular-20\" x=\"410.899918\"/>\n      <use xlink:href=\"#STIXGeneral-Regular-28\" x=\"435.899902\"/>\n      <use xlink:href=\"#STIXGeneral-Regular-49\" x=\"469.19989\"/>\n      <use xlink:href=\"#STIXGeneral-Regular-43\" x=\"502.499878\"/>\n      <use xlink:href=\"#STIXGeneral-Regular-54\" x=\"569.199875\"/>\n      <use xlink:href=\"#STIXGeneral-Regular-29\" x=\"630.299866\"/>\n      <use xlink:href=\"#STIXGeneral-Regular-2c\" x=\"663.599854\"/>\n      <use xlink:href=\"#STIXGeneral-Regular-20\" x=\"688.599838\"/>\n      <use xlink:href=\"#STIXGeneral-Regular-74\" x=\"713.599823\"/>\n      <use xlink:href=\"#STIXGeneral-Regular-68\" x=\"741.399811\"/>\n      <use xlink:href=\"#STIXGeneral-Regular-6f\" x=\"791.399796\"/>\n      <use xlink:href=\"#STIXGeneral-Regular-75\" x=\"841.39978\"/>\n      <use xlink:href=\"#STIXGeneral-Regular-73\" x=\"891.399765\"/>\n      <use xlink:href=\"#STIXGeneral-Regular-61\" x=\"930.299759\"/>\n      <use xlink:href=\"#STIXGeneral-Regular-6e\" x=\"974.699753\"/>\n      <use xlink:href=\"#STIXGeneral-Regular-64\" x=\"1024.699738\"/>\n      <use xlink:href=\"#STIXGeneral-Regular-73\" x=\"1074.699722\"/>\n     </g>\n    </g>\n   </g>\n  </g>\n </g>\n <defs>\n  <clipPath id=\"pfe9d853d03\">\n   <rect x=\"26.2\" y=\"11.297812\" width=\"334.8\" height=\"217.44\"/>\n  </clipPath>\n </defs>\n</svg>\n",
      "text/plain": [
       "<Figure size 900x600 with 1 Axes>"
      ]
     },
     "metadata": {
      "needs_background": "light"
     },
     "output_type": "display_data"
    }
   ],
   "source": [
    "df.plot();"
   ]
  },
  {
   "cell_type": "markdown",
   "id": "e8ae2aa0",
   "metadata": {},
   "source": [
    "## Resampling, Rolling, and Shifting\n",
    "\n",
    "Now our data have a *datetime index*, some common time series operations are made very easy for us.\n",
    "\n",
    "### Resampling\n",
    "\n",
    "Quite frequently, there is a situation in which one would like to change the frequency of a given time series. A time index-based dataframe makes this easy via the `resample` function. `resample` must be told *how* you'd like to resample the data, for example via the mean or median. Here's an example resampling the monthly data to annual and taking the mean:"
   ]
  },
  {
   "cell_type": "code",
   "execution_count": 42,
   "id": "e56ba5c4",
   "metadata": {},
   "outputs": [
    {
     "data": {
      "text/html": [
       "<div>\n",
       "<style scoped>\n",
       "    .dataframe tbody tr th:only-of-type {\n",
       "        vertical-align: middle;\n",
       "    }\n",
       "\n",
       "    .dataframe tbody tr th {\n",
       "        vertical-align: top;\n",
       "    }\n",
       "\n",
       "    .dataframe thead th {\n",
       "        text-align: right;\n",
       "    }\n",
       "</style>\n",
       "<table border=\"1\" class=\"dataframe\">\n",
       "  <thead>\n",
       "    <tr style=\"text-align: right;\">\n",
       "      <th></th>\n",
       "      <th>Vacancies (ICT), thousands</th>\n",
       "    </tr>\n",
       "    <tr>\n",
       "      <th>date</th>\n",
       "      <th></th>\n",
       "    </tr>\n",
       "  </thead>\n",
       "  <tbody>\n",
       "    <tr>\n",
       "      <th>2001-12-31</th>\n",
       "      <td>44.875000</td>\n",
       "    </tr>\n",
       "    <tr>\n",
       "      <th>2002-12-31</th>\n",
       "      <td>42.666667</td>\n",
       "    </tr>\n",
       "    <tr>\n",
       "      <th>2003-12-31</th>\n",
       "      <td>39.833333</td>\n",
       "    </tr>\n",
       "    <tr>\n",
       "      <th>2004-12-31</th>\n",
       "      <td>44.833333</td>\n",
       "    </tr>\n",
       "    <tr>\n",
       "      <th>2005-12-31</th>\n",
       "      <td>40.500000</td>\n",
       "    </tr>\n",
       "    <tr>\n",
       "      <th>2006-12-31</th>\n",
       "      <td>40.250000</td>\n",
       "    </tr>\n",
       "    <tr>\n",
       "      <th>2007-12-31</th>\n",
       "      <td>42.666667</td>\n",
       "    </tr>\n",
       "    <tr>\n",
       "      <th>2008-12-31</th>\n",
       "      <td>35.000000</td>\n",
       "    </tr>\n",
       "    <tr>\n",
       "      <th>2009-12-31</th>\n",
       "      <td>24.250000</td>\n",
       "    </tr>\n",
       "    <tr>\n",
       "      <th>2010-12-31</th>\n",
       "      <td>27.083333</td>\n",
       "    </tr>\n",
       "    <tr>\n",
       "      <th>2011-12-31</th>\n",
       "      <td>32.500000</td>\n",
       "    </tr>\n",
       "    <tr>\n",
       "      <th>2012-12-31</th>\n",
       "      <td>29.750000</td>\n",
       "    </tr>\n",
       "    <tr>\n",
       "      <th>2013-12-31</th>\n",
       "      <td>30.500000</td>\n",
       "    </tr>\n",
       "    <tr>\n",
       "      <th>2014-12-31</th>\n",
       "      <td>32.833333</td>\n",
       "    </tr>\n",
       "    <tr>\n",
       "      <th>2015-12-31</th>\n",
       "      <td>37.583333</td>\n",
       "    </tr>\n",
       "    <tr>\n",
       "      <th>2016-12-31</th>\n",
       "      <td>41.166667</td>\n",
       "    </tr>\n",
       "    <tr>\n",
       "      <th>2017-12-31</th>\n",
       "      <td>41.750000</td>\n",
       "    </tr>\n",
       "    <tr>\n",
       "      <th>2018-12-31</th>\n",
       "      <td>47.750000</td>\n",
       "    </tr>\n",
       "    <tr>\n",
       "      <th>2019-12-31</th>\n",
       "      <td>44.250000</td>\n",
       "    </tr>\n",
       "    <tr>\n",
       "      <th>2020-12-31</th>\n",
       "      <td>27.500000</td>\n",
       "    </tr>\n",
       "    <tr>\n",
       "      <th>2021-12-31</th>\n",
       "      <td>56.000000</td>\n",
       "    </tr>\n",
       "    <tr>\n",
       "      <th>2022-12-31</th>\n",
       "      <td>77.750000</td>\n",
       "    </tr>\n",
       "  </tbody>\n",
       "</table>\n",
       "</div>"
      ],
      "text/plain": [
       "            Vacancies (ICT), thousands\n",
       "date                                  \n",
       "2001-12-31                   44.875000\n",
       "2002-12-31                   42.666667\n",
       "2003-12-31                   39.833333\n",
       "2004-12-31                   44.833333\n",
       "2005-12-31                   40.500000\n",
       "2006-12-31                   40.250000\n",
       "2007-12-31                   42.666667\n",
       "2008-12-31                   35.000000\n",
       "2009-12-31                   24.250000\n",
       "2010-12-31                   27.083333\n",
       "2011-12-31                   32.500000\n",
       "2012-12-31                   29.750000\n",
       "2013-12-31                   30.500000\n",
       "2014-12-31                   32.833333\n",
       "2015-12-31                   37.583333\n",
       "2016-12-31                   41.166667\n",
       "2017-12-31                   41.750000\n",
       "2018-12-31                   47.750000\n",
       "2019-12-31                   44.250000\n",
       "2020-12-31                   27.500000\n",
       "2021-12-31                   56.000000\n",
       "2022-12-31                   77.750000"
      ]
     },
     "execution_count": 42,
     "metadata": {},
     "output_type": "execute_result"
    }
   ],
   "source": [
    "df.resample(\"A\").mean()"
   ]
  },
  {
   "cell_type": "markdown",
   "id": "d320a934",
   "metadata": {},
   "source": [
    "As resample is just a special type of aggregation, it can work with all of the usual functions that aggregations do, including in-built functions or user-defined functions."
   ]
  },
  {
   "cell_type": "code",
   "execution_count": 43,
   "id": "fbbbcdff",
   "metadata": {},
   "outputs": [
    {
     "data": {
      "text/html": [
       "<div>\n",
       "<style scoped>\n",
       "    .dataframe tbody tr th:only-of-type {\n",
       "        vertical-align: middle;\n",
       "    }\n",
       "\n",
       "    .dataframe tbody tr th {\n",
       "        vertical-align: top;\n",
       "    }\n",
       "\n",
       "    .dataframe thead tr th {\n",
       "        text-align: left;\n",
       "    }\n",
       "\n",
       "    .dataframe thead tr:last-of-type th {\n",
       "        text-align: right;\n",
       "    }\n",
       "</style>\n",
       "<table border=\"1\" class=\"dataframe\">\n",
       "  <thead>\n",
       "    <tr>\n",
       "      <th></th>\n",
       "      <th colspan=\"2\" halign=\"left\">Vacancies (ICT), thousands</th>\n",
       "    </tr>\n",
       "    <tr>\n",
       "      <th></th>\n",
       "      <th>mean</th>\n",
       "      <th>std</th>\n",
       "    </tr>\n",
       "    <tr>\n",
       "      <th>date</th>\n",
       "      <th></th>\n",
       "      <th></th>\n",
       "    </tr>\n",
       "  </thead>\n",
       "  <tbody>\n",
       "    <tr>\n",
       "      <th>2001-12-31</th>\n",
       "      <td>44.875000</td>\n",
       "      <td>3.482097</td>\n",
       "    </tr>\n",
       "    <tr>\n",
       "      <th>2006-12-31</th>\n",
       "      <td>41.616667</td>\n",
       "      <td>2.511611</td>\n",
       "    </tr>\n",
       "    <tr>\n",
       "      <th>2011-12-31</th>\n",
       "      <td>32.300000</td>\n",
       "      <td>6.832872</td>\n",
       "    </tr>\n",
       "    <tr>\n",
       "      <th>2016-12-31</th>\n",
       "      <td>34.366667</td>\n",
       "      <td>4.957332</td>\n",
       "    </tr>\n",
       "    <tr>\n",
       "      <th>2021-12-31</th>\n",
       "      <td>43.450000</td>\n",
       "      <td>11.899900</td>\n",
       "    </tr>\n",
       "  </tbody>\n",
       "</table>\n",
       "</div>"
      ],
      "text/plain": [
       "           Vacancies (ICT), thousands           \n",
       "                                 mean        std\n",
       "date                                            \n",
       "2001-12-31                  44.875000   3.482097\n",
       "2006-12-31                  41.616667   2.511611\n",
       "2011-12-31                  32.300000   6.832872\n",
       "2016-12-31                  34.366667   4.957332\n",
       "2021-12-31                  43.450000  11.899900"
      ]
     },
     "execution_count": 43,
     "metadata": {},
     "output_type": "execute_result"
    }
   ],
   "source": [
    "df.resample(\"5A\").agg([\"mean\", \"std\"]).head()"
   ]
  },
  {
   "cell_type": "markdown",
   "id": "c3b45c36",
   "metadata": {},
   "source": [
    "Resampling can go up in frequency (up-sampling) as well as down, but we no longer need to choose an aggregation function, we must now choose how we'd like to fill in the gaps for the frequencies we didn't have in the original data. In the example below, they are just left as NaNs."
   ]
  },
  {
   "cell_type": "code",
   "execution_count": 44,
   "id": "9a48a45f",
   "metadata": {},
   "outputs": [
    {
     "data": {
      "text/html": [
       "<div>\n",
       "<style scoped>\n",
       "    .dataframe tbody tr th:only-of-type {\n",
       "        vertical-align: middle;\n",
       "    }\n",
       "\n",
       "    .dataframe tbody tr th {\n",
       "        vertical-align: top;\n",
       "    }\n",
       "\n",
       "    .dataframe thead th {\n",
       "        text-align: right;\n",
       "    }\n",
       "</style>\n",
       "<table border=\"1\" class=\"dataframe\">\n",
       "  <thead>\n",
       "    <tr style=\"text-align: right;\">\n",
       "      <th></th>\n",
       "      <th>Vacancies (ICT), thousands</th>\n",
       "    </tr>\n",
       "    <tr>\n",
       "      <th>date</th>\n",
       "      <th></th>\n",
       "    </tr>\n",
       "  </thead>\n",
       "  <tbody>\n",
       "    <tr>\n",
       "      <th>2001-05-31</th>\n",
       "      <td>50.0</td>\n",
       "    </tr>\n",
       "    <tr>\n",
       "      <th>2001-06-01</th>\n",
       "      <td>NaN</td>\n",
       "    </tr>\n",
       "    <tr>\n",
       "      <th>2001-06-02</th>\n",
       "      <td>NaN</td>\n",
       "    </tr>\n",
       "    <tr>\n",
       "      <th>2001-06-03</th>\n",
       "      <td>NaN</td>\n",
       "    </tr>\n",
       "    <tr>\n",
       "      <th>2001-06-04</th>\n",
       "      <td>NaN</td>\n",
       "    </tr>\n",
       "    <tr>\n",
       "      <th>...</th>\n",
       "      <td>...</td>\n",
       "    </tr>\n",
       "    <tr>\n",
       "      <th>2022-04-26</th>\n",
       "      <td>NaN</td>\n",
       "    </tr>\n",
       "    <tr>\n",
       "      <th>2022-04-27</th>\n",
       "      <td>NaN</td>\n",
       "    </tr>\n",
       "    <tr>\n",
       "      <th>2022-04-28</th>\n",
       "      <td>NaN</td>\n",
       "    </tr>\n",
       "    <tr>\n",
       "      <th>2022-04-29</th>\n",
       "      <td>NaN</td>\n",
       "    </tr>\n",
       "    <tr>\n",
       "      <th>2022-04-30</th>\n",
       "      <td>79.0</td>\n",
       "    </tr>\n",
       "  </tbody>\n",
       "</table>\n",
       "<p>7640 rows × 1 columns</p>\n",
       "</div>"
      ],
      "text/plain": [
       "            Vacancies (ICT), thousands\n",
       "date                                  \n",
       "2001-05-31                        50.0\n",
       "2001-06-01                         NaN\n",
       "2001-06-02                         NaN\n",
       "2001-06-03                         NaN\n",
       "2001-06-04                         NaN\n",
       "...                                ...\n",
       "2022-04-26                         NaN\n",
       "2022-04-27                         NaN\n",
       "2022-04-28                         NaN\n",
       "2022-04-29                         NaN\n",
       "2022-04-30                        79.0\n",
       "\n",
       "[7640 rows x 1 columns]"
      ]
     },
     "execution_count": 44,
     "metadata": {},
     "output_type": "execute_result"
    }
   ],
   "source": [
    "df.resample(\"D\").asfreq()"
   ]
  },
  {
   "cell_type": "markdown",
   "id": "c08e1dad",
   "metadata": {},
   "source": [
    "Options to fill in missing time series data include using `bfill` or `ffill` to fill in the blanks based on the next or last available value, respectively, or `interpolate` (note how only the first 3 NaNs are replaced using the `limit` keyword argument):"
   ]
  },
  {
   "cell_type": "code",
   "execution_count": 45,
   "id": "d3ac1789",
   "metadata": {},
   "outputs": [
    {
     "data": {
      "text/html": [
       "<div>\n",
       "<style scoped>\n",
       "    .dataframe tbody tr th:only-of-type {\n",
       "        vertical-align: middle;\n",
       "    }\n",
       "\n",
       "    .dataframe tbody tr th {\n",
       "        vertical-align: top;\n",
       "    }\n",
       "\n",
       "    .dataframe thead th {\n",
       "        text-align: right;\n",
       "    }\n",
       "</style>\n",
       "<table border=\"1\" class=\"dataframe\">\n",
       "  <thead>\n",
       "    <tr style=\"text-align: right;\">\n",
       "      <th></th>\n",
       "      <th>Vacancies (ICT), thousands</th>\n",
       "    </tr>\n",
       "    <tr>\n",
       "      <th>date</th>\n",
       "      <th></th>\n",
       "    </tr>\n",
       "  </thead>\n",
       "  <tbody>\n",
       "    <tr>\n",
       "      <th>2001-05-31</th>\n",
       "      <td>50.000000</td>\n",
       "    </tr>\n",
       "    <tr>\n",
       "      <th>2001-06-01</th>\n",
       "      <td>49.933333</td>\n",
       "    </tr>\n",
       "    <tr>\n",
       "      <th>2001-06-02</th>\n",
       "      <td>49.866667</td>\n",
       "    </tr>\n",
       "    <tr>\n",
       "      <th>2001-06-03</th>\n",
       "      <td>49.800000</td>\n",
       "    </tr>\n",
       "    <tr>\n",
       "      <th>2001-06-04</th>\n",
       "      <td>NaN</td>\n",
       "    </tr>\n",
       "    <tr>\n",
       "      <th>2001-06-05</th>\n",
       "      <td>NaN</td>\n",
       "    </tr>\n",
       "  </tbody>\n",
       "</table>\n",
       "</div>"
      ],
      "text/plain": [
       "            Vacancies (ICT), thousands\n",
       "date                                  \n",
       "2001-05-31                   50.000000\n",
       "2001-06-01                   49.933333\n",
       "2001-06-02                   49.866667\n",
       "2001-06-03                   49.800000\n",
       "2001-06-04                         NaN\n",
       "2001-06-05                         NaN"
      ]
     },
     "execution_count": 45,
     "metadata": {},
     "output_type": "execute_result"
    }
   ],
   "source": [
    "df.resample(\"D\").interpolate(method=\"linear\", limit_direction=\"forward\", limit=3)[:6]"
   ]
  },
  {
   "cell_type": "markdown",
   "id": "3da716ee",
   "metadata": {},
   "source": [
    "We can see the differences between the filling methods more clearly in this stock market data, following a chart by Jake Vanderplas."
   ]
  },
  {
   "cell_type": "code",
   "execution_count": 46,
   "id": "51647c56",
   "metadata": {},
   "outputs": [],
   "source": [
    "# Get stock market data\n",
    "import pandas_datareader as web\n",
    "\n",
    "xf = web.DataReader(\"AAPL\", \"stooq\", start=\"2017-01-01\", end=\"2019-06-01\")\n",
    "xf = xf.sort_index()"
   ]
  },
  {
   "cell_type": "code",
   "execution_count": 47,
   "id": "fa0c9973",
   "metadata": {},
   "outputs": [
    {
     "data": {
      "image/svg+xml": "<?xml version=\"1.0\" encoding=\"utf-8\" standalone=\"no\"?>\n<!DOCTYPE svg PUBLIC \"-//W3C//DTD SVG 1.1//EN\"\n  \"http://www.w3.org/Graphics/SVG/1.1/DTD/svg11.dtd\">\n<svg xmlns:xlink=\"http://www.w3.org/1999/xlink\" width=\"397.04875pt\" height=\"292.416063pt\" viewBox=\"0 0 397.04875 292.416063\" xmlns=\"http://www.w3.org/2000/svg\" version=\"1.1\">\n <metadata>\n  <rdf:RDF xmlns:dc=\"http://purl.org/dc/elements/1.1/\" xmlns:cc=\"http://creativecommons.org/ns#\" xmlns:rdf=\"http://www.w3.org/1999/02/22-rdf-syntax-ns#\">\n   <cc:Work>\n    <dc:type rdf:resource=\"http://purl.org/dc/dcmitype/StillImage\"/>\n    <dc:date>2022-07-15T10:52:36.452104</dc:date>\n    <dc:format>image/svg+xml</dc:format>\n    <dc:creator>\n     <cc:Agent>\n      <dc:title>Matplotlib v3.5.2, https://matplotlib.org/</dc:title>\n     </cc:Agent>\n    </dc:creator>\n   </cc:Work>\n  </rdf:RDF>\n </metadata>\n <defs>\n  <style type=\"text/css\">*{stroke-linejoin: round; stroke-linecap: butt}</style>\n </defs>\n <g id=\"figure_1\">\n  <g id=\"patch_1\">\n   <path d=\"M 0 292.416063 \nL 397.04875 292.416063 \nL 397.04875 0 \nL 0 0 \nL 0 292.416063 \nz\n\" style=\"fill: none\"/>\n  </g>\n  <g id=\"axes_1\">\n   <g id=\"patch_2\">\n    <path d=\"M 49.04875 228.737813 \nL 383.84875 228.737813 \nL 383.84875 11.297813 \nL 49.04875 11.297813 \nz\n\" style=\"fill: #ffffff\"/>\n   </g>\n   <g id=\"matplotlib.axis_1\">\n    <g id=\"xtick_1\">\n     <g id=\"line2d_1\">\n      <defs>\n       <path id=\"mf7d84feae9\" d=\"M 0 0 \nL 0 3.5 \n\" style=\"stroke: #323034; stroke-width: 0.8\"/>\n      </defs>\n      <g>\n       <use xlink:href=\"#mf7d84feae9\" x=\"49.04875\" y=\"228.737813\" style=\"fill: #323034; stroke: #323034; stroke-width: 0.8\"/>\n      </g>\n     </g>\n     <g id=\"text_1\">\n      <!-- 03 -->\n      <g style=\"fill: #323034\" transform=\"translate(43.04875 243.933438)scale(0.12 -0.12)\">\n       <defs>\n        <path id=\"STIXGeneral-Regular-30\" d=\"M 3046 2112 \nQ 3046 1683 2963 1302 \nQ 2880 922 2717 602 \nQ 2554 282 2266 96 \nQ 1978 -90 1600 -90 \nQ 1210 -90 915 108 \nQ 621 307 461 640 \nQ 301 973 227 1350 \nQ 154 1728 154 2150 \nQ 154 2746 301 3222 \nQ 448 3699 790 4012 \nQ 1133 4326 1626 4326 \nQ 2253 4326 2649 3712 \nQ 3046 3098 3046 2112 \nz\nM 2432 2080 \nQ 2432 3091 2217 3625 \nQ 2003 4160 1587 4160 \nQ 1190 4160 979 3622 \nQ 768 3085 768 2106 \nQ 768 1120 979 598 \nQ 1190 77 1600 77 \nQ 2003 77 2217 598 \nQ 2432 1120 2432 2080 \nz\n\" transform=\"scale(0.015625)\"/>\n        <path id=\"STIXGeneral-Regular-33\" d=\"M 390 3264 \nL 288 3290 \nQ 435 3770 748 4048 \nQ 1062 4326 1542 4326 \nQ 1990 4326 2265 4083 \nQ 2541 3840 2541 3450 \nQ 2541 2925 1946 2566 \nQ 2298 2413 2477 2227 \nQ 2758 1914 2758 1402 \nQ 2758 890 2464 506 \nQ 2246 211 1840 60 \nQ 1434 -90 979 -90 \nQ 262 -90 262 275 \nQ 262 378 339 442 \nQ 416 506 525 506 \nQ 685 506 915 339 \nQ 1197 141 1466 141 \nQ 1818 141 2058 425 \nQ 2298 710 2298 1120 \nQ 2298 1856 1632 2048 \nQ 1434 2112 979 2112 \nL 979 2202 \nQ 1338 2323 1517 2432 \nQ 2035 2726 2035 3290 \nQ 2035 3610 1852 3776 \nQ 1670 3942 1344 3942 \nQ 768 3942 390 3264 \nz\n\" transform=\"scale(0.015625)\"/>\n       </defs>\n       <use xlink:href=\"#STIXGeneral-Regular-30\"/>\n       <use xlink:href=\"#STIXGeneral-Regular-33\" x=\"49.999985\"/>\n      </g>\n      <!-- Jan -->\n      <g style=\"fill: #323034\" transform=\"translate(41.146562 256.372563)scale(0.12 -0.12)\">\n       <defs>\n        <path id=\"STIXGeneral-Regular-4a\" d=\"M 2266 4237 \nL 2266 4115 \nQ 1875 4083 1776 3984 \nQ 1677 3885 1677 3514 \nL 1677 1184 \nQ 1677 -90 608 -90 \nQ 314 -90 138 32 \nQ -38 154 -38 371 \nQ -38 499 54 601 \nQ 147 704 275 704 \nQ 486 704 589 435 \nQ 602 403 621 348 \nQ 640 294 649 265 \nQ 659 237 678 208 \nQ 698 179 723 166 \nQ 749 154 787 154 \nQ 928 154 976 253 \nQ 1024 352 1024 602 \nL 1024 3520 \nQ 1024 3898 928 3990 \nQ 832 4083 429 4115 \nL 429 4237 \nL 2266 4237 \nz\n\" transform=\"scale(0.015625)\"/>\n        <path id=\"STIXGeneral-Regular-61\" d=\"M 2829 422 \nL 2829 243 \nQ 2586 -64 2253 -64 \nQ 1888 -64 1843 403 \nL 1837 403 \nQ 1427 -64 909 -64 \nQ 608 -64 422 112 \nQ 237 288 237 602 \nQ 237 1050 685 1350 \nQ 992 1555 1837 1869 \nL 1837 2214 \nQ 1837 2502 1699 2646 \nQ 1562 2790 1338 2790 \nQ 1146 2790 1018 2697 \nQ 890 2605 890 2477 \nQ 890 2419 909 2348 \nQ 928 2278 928 2208 \nQ 928 2112 841 2029 \nQ 755 1946 634 1946 \nQ 525 1946 441 2029 \nQ 358 2112 358 2240 \nQ 358 2547 685 2752 \nQ 986 2944 1421 2944 \nQ 1939 2944 2176 2656 \nQ 2291 2522 2323 2384 \nQ 2355 2246 2355 1946 \nL 2355 723 \nQ 2355 301 2554 301 \nQ 2682 301 2829 422 \nz\nM 1837 813 \nL 1837 1715 \nQ 1248 1510 1018 1293 \nQ 800 1094 800 800 \nQ 800 557 921 432 \nQ 1043 307 1242 307 \nQ 1453 307 1613 410 \nQ 1747 506 1792 589 \nQ 1837 672 1837 813 \nz\n\" transform=\"scale(0.015625)\"/>\n        <path id=\"STIXGeneral-Regular-6e\" d=\"M 3104 0 \nL 1773 0 \nL 1779 96 \nQ 2016 115 2096 233 \nQ 2176 352 2176 672 \nL 2176 1946 \nQ 2176 2592 1709 2592 \nQ 1549 2592 1408 2515 \nQ 1267 2438 1050 2227 \nL 1050 461 \nQ 1050 269 1136 192 \nQ 1222 115 1466 96 \nL 1466 0 \nL 115 0 \nL 115 96 \nQ 358 115 435 214 \nQ 512 314 512 602 \nL 512 2157 \nQ 512 2394 467 2483 \nQ 422 2573 288 2573 \nQ 160 2573 102 2547 \nL 102 2656 \nQ 550 2784 979 2944 \nL 1030 2925 \nL 1030 2426 \nL 1037 2426 \nQ 1491 2944 1958 2944 \nQ 2323 2944 2518 2688 \nQ 2714 2432 2714 1958 \nL 2714 544 \nQ 2714 288 2790 205 \nQ 2867 122 3104 96 \nL 3104 0 \nz\n\" transform=\"scale(0.015625)\"/>\n       </defs>\n       <use xlink:href=\"#STIXGeneral-Regular-4a\"/>\n       <use xlink:href=\"#STIXGeneral-Regular-61\" x=\"37.299988\"/>\n       <use xlink:href=\"#STIXGeneral-Regular-6e\" x=\"81.699982\"/>\n      </g>\n      <!-- 2017 -->\n      <g style=\"fill: #323034\" transform=\"translate(37.04875 268.811688)scale(0.12 -0.12)\">\n       <defs>\n        <path id=\"STIXGeneral-Regular-32\" d=\"M 3034 877 \nL 2688 0 \nL 186 0 \nL 186 77 \nL 1325 1286 \nQ 1773 1754 1965 2144 \nQ 2157 2534 2157 2950 \nQ 2157 3379 1920 3616 \nQ 1683 3853 1267 3853 \nQ 922 3853 720 3673 \nQ 518 3494 326 3021 \nL 192 3053 \nQ 301 3648 630 3987 \nQ 960 4326 1523 4326 \nQ 2054 4326 2380 4006 \nQ 2707 3686 2707 3200 \nQ 2707 2477 1888 1613 \nL 832 486 \nL 2330 486 \nQ 2541 486 2665 569 \nQ 2790 653 2944 915 \nL 3034 877 \nz\n\" transform=\"scale(0.015625)\"/>\n        <path id=\"STIXGeneral-Regular-31\" d=\"M 2522 0 \nL 755 0 \nL 755 96 \nQ 1107 115 1235 227 \nQ 1363 339 1363 608 \nL 1363 3482 \nQ 1363 3795 1171 3795 \nQ 1082 3795 883 3718 \nL 710 3654 \nL 710 3744 \nL 1856 4326 \nL 1914 4307 \nL 1914 486 \nQ 1914 275 2042 185 \nQ 2170 96 2522 96 \nL 2522 0 \nz\n\" transform=\"scale(0.015625)\"/>\n        <path id=\"STIXGeneral-Regular-37\" d=\"M 2874 4134 \nL 1517 -51 \nL 1101 -51 \nL 2368 3763 \nL 992 3763 \nQ 717 3763 582 3667 \nQ 448 3571 243 3238 \nL 128 3296 \nL 512 4237 \nL 2874 4237 \nL 2874 4134 \nz\n\" transform=\"scale(0.015625)\"/>\n       </defs>\n       <use xlink:href=\"#STIXGeneral-Regular-32\"/>\n       <use xlink:href=\"#STIXGeneral-Regular-30\" x=\"49.999985\"/>\n       <use xlink:href=\"#STIXGeneral-Regular-31\" x=\"99.999969\"/>\n       <use xlink:href=\"#STIXGeneral-Regular-37\" x=\"149.999954\"/>\n      </g>\n     </g>\n    </g>\n    <g id=\"xtick_2\">\n     <g id=\"line2d_2\">\n      <g>\n       <use xlink:href=\"#mf7d84feae9\" x=\"383.84875\" y=\"228.737813\" style=\"fill: #323034; stroke: #323034; stroke-width: 0.8\"/>\n      </g>\n     </g>\n     <g id=\"text_2\">\n      <!-- 17 -->\n      <g style=\"fill: #323034\" transform=\"translate(377.84875 243.933438)scale(0.12 -0.12)\">\n       <use xlink:href=\"#STIXGeneral-Regular-31\"/>\n       <use xlink:href=\"#STIXGeneral-Regular-37\" x=\"49.999985\"/>\n      </g>\n     </g>\n    </g>\n    <g id=\"xtick_3\">\n     <g id=\"line2d_3\">\n      <defs>\n       <path id=\"mb4325eaafd\" d=\"M 0 0 \nL 0 2 \n\" style=\"stroke: #323034; stroke-width: 0.6\"/>\n      </defs>\n      <g>\n       <use xlink:href=\"#mb4325eaafd\" x=\"72.963036\" y=\"228.737813\" style=\"fill: #323034; stroke: #323034; stroke-width: 0.6\"/>\n      </g>\n     </g>\n     <g id=\"text_3\">\n      <!-- 04 -->\n      <g style=\"fill: #323034\" transform=\"translate(66.963036 242.333438)scale(0.12 -0.12)\">\n       <defs>\n        <path id=\"STIXGeneral-Regular-34\" d=\"M 3027 1069 \nL 2368 1069 \nL 2368 0 \nL 1869 0 \nL 1869 1069 \nL 77 1069 \nL 77 1478 \nL 2086 4326 \nL 2368 4326 \nL 2368 1478 \nL 3027 1478 \nL 3027 1069 \nz\nM 1869 1478 \nL 1869 3674 \nL 333 1478 \nL 1869 1478 \nz\n\" transform=\"scale(0.015625)\"/>\n       </defs>\n       <use xlink:href=\"#STIXGeneral-Regular-30\"/>\n       <use xlink:href=\"#STIXGeneral-Regular-34\" x=\"49.999985\"/>\n      </g>\n     </g>\n    </g>\n    <g id=\"xtick_4\">\n     <g id=\"line2d_4\">\n      <g>\n       <use xlink:href=\"#mb4325eaafd\" x=\"96.877321\" y=\"228.737813\" style=\"fill: #323034; stroke: #323034; stroke-width: 0.6\"/>\n      </g>\n     </g>\n     <g id=\"text_4\">\n      <!-- 05 -->\n      <g style=\"fill: #323034\" transform=\"translate(90.877321 242.333438)scale(0.12 -0.12)\">\n       <defs>\n        <path id=\"STIXGeneral-Regular-35\" d=\"M 2803 4358 \nL 2573 3814 \nQ 2534 3731 2400 3731 \nL 1158 3731 \nL 902 3187 \nQ 1606 3053 1920 2896 \nQ 2234 2739 2502 2368 \nQ 2726 2061 2726 1555 \nQ 2726 1094 2576 780 \nQ 2426 467 2099 224 \nQ 1664 -90 1011 -90 \nQ 646 -90 422 19 \nQ 198 128 198 307 \nQ 198 550 486 550 \nQ 717 550 960 352 \nQ 1210 147 1414 147 \nQ 1747 147 2012 480 \nQ 2278 813 2278 1229 \nQ 2278 1843 1850 2189 \nQ 1293 2637 486 2637 \nQ 410 2637 410 2688 \nL 416 2720 \nL 1114 4237 \nL 2438 4237 \nQ 2547 4237 2608 4269 \nQ 2669 4301 2746 4403 \nL 2803 4358 \nz\n\" transform=\"scale(0.015625)\"/>\n       </defs>\n       <use xlink:href=\"#STIXGeneral-Regular-30\"/>\n       <use xlink:href=\"#STIXGeneral-Regular-35\" x=\"49.999985\"/>\n      </g>\n     </g>\n    </g>\n    <g id=\"xtick_5\">\n     <g id=\"line2d_5\">\n      <g>\n       <use xlink:href=\"#mb4325eaafd\" x=\"120.791607\" y=\"228.737813\" style=\"fill: #323034; stroke: #323034; stroke-width: 0.6\"/>\n      </g>\n     </g>\n     <g id=\"text_5\">\n      <!-- 06 -->\n      <g style=\"fill: #323034\" transform=\"translate(114.791607 242.333438)scale(0.12 -0.12)\">\n       <defs>\n        <path id=\"STIXGeneral-Regular-36\" d=\"M 2854 4378 \nL 2867 4275 \nQ 2112 4154 1606 3664 \nQ 1101 3174 973 2451 \nQ 1344 2739 1786 2739 \nQ 2349 2739 2672 2380 \nQ 2995 2022 2995 1402 \nQ 2995 774 2669 378 \nQ 2291 -90 1651 -90 \nQ 870 -90 518 557 \nQ 218 1107 218 1786 \nQ 218 2835 915 3552 \nQ 1312 3962 1731 4131 \nQ 2150 4301 2854 4378 \nz\nM 2419 1203 \nQ 2419 2445 1555 2445 \nQ 1235 2445 1024 2275 \nQ 813 2106 813 1702 \nQ 813 954 1046 522 \nQ 1280 90 1722 90 \nQ 2061 90 2240 394 \nQ 2419 698 2419 1203 \nz\n\" transform=\"scale(0.015625)\"/>\n       </defs>\n       <use xlink:href=\"#STIXGeneral-Regular-30\"/>\n       <use xlink:href=\"#STIXGeneral-Regular-36\" x=\"49.999985\"/>\n      </g>\n     </g>\n    </g>\n    <g id=\"xtick_6\">\n     <g id=\"line2d_6\">\n      <g>\n       <use xlink:href=\"#mb4325eaafd\" x=\"144.705893\" y=\"228.737813\" style=\"fill: #323034; stroke: #323034; stroke-width: 0.6\"/>\n      </g>\n     </g>\n     <g id=\"text_6\">\n      <!-- 07 -->\n      <g style=\"fill: #323034\" transform=\"translate(138.705893 242.333438)scale(0.12 -0.12)\">\n       <use xlink:href=\"#STIXGeneral-Regular-30\"/>\n       <use xlink:href=\"#STIXGeneral-Regular-37\" x=\"49.999985\"/>\n      </g>\n     </g>\n    </g>\n    <g id=\"xtick_7\">\n     <g id=\"line2d_7\">\n      <g>\n       <use xlink:href=\"#mb4325eaafd\" x=\"168.620179\" y=\"228.737813\" style=\"fill: #323034; stroke: #323034; stroke-width: 0.6\"/>\n      </g>\n     </g>\n     <g id=\"text_7\">\n      <!-- 08 -->\n      <g style=\"fill: #323034\" transform=\"translate(162.620179 242.333438)scale(0.12 -0.12)\">\n       <defs>\n        <path id=\"STIXGeneral-Regular-38\" d=\"M 2848 992 \nQ 2848 499 2505 204 \nQ 2163 -90 1587 -90 \nQ 1050 -90 704 204 \nQ 358 499 358 954 \nQ 358 1293 524 1533 \nQ 691 1773 1190 2125 \nQ 710 2522 553 2765 \nQ 397 3008 397 3328 \nQ 397 3782 745 4054 \nQ 1094 4326 1638 4326 \nQ 2106 4326 2410 4060 \nQ 2714 3795 2714 3411 \nQ 2714 3059 2531 2848 \nQ 2349 2637 1856 2374 \nQ 2432 1990 2640 1689 \nQ 2848 1389 2848 992 \nz\nM 2272 3411 \nQ 2272 3744 2086 3945 \nQ 1901 4147 1574 4147 \nQ 1248 4147 1059 3977 \nQ 870 3808 870 3513 \nQ 870 3219 1059 2979 \nQ 1248 2739 1670 2490 \nQ 1997 2682 2134 2896 \nQ 2272 3110 2272 3411 \nz\nM 1734 1741 \nL 1357 1997 \nQ 1075 1766 960 1545 \nQ 845 1325 845 1011 \nQ 845 576 1065 333 \nQ 1286 90 1658 90 \nQ 1971 90 2166 285 \nQ 2362 480 2362 794 \nQ 2362 1082 2214 1299 \nQ 2067 1517 1734 1741 \nz\n\" transform=\"scale(0.015625)\"/>\n       </defs>\n       <use xlink:href=\"#STIXGeneral-Regular-30\"/>\n       <use xlink:href=\"#STIXGeneral-Regular-38\" x=\"49.999985\"/>\n      </g>\n     </g>\n    </g>\n    <g id=\"xtick_8\">\n     <g id=\"line2d_8\">\n      <g>\n       <use xlink:href=\"#mb4325eaafd\" x=\"192.534464\" y=\"228.737813\" style=\"fill: #323034; stroke: #323034; stroke-width: 0.6\"/>\n      </g>\n     </g>\n     <g id=\"text_8\">\n      <!-- 09 -->\n      <g style=\"fill: #323034\" transform=\"translate(186.534464 242.333438)scale(0.12 -0.12)\">\n       <defs>\n        <path id=\"STIXGeneral-Regular-39\" d=\"M 378 -141 \nL 358 -13 \nQ 1094 115 1603 608 \nQ 2112 1101 2304 1882 \nQ 1933 1517 1344 1517 \nQ 826 1517 509 1875 \nQ 192 2234 192 2816 \nQ 192 3462 573 3894 \nQ 954 4326 1523 4326 \nQ 2131 4326 2528 3840 \nQ 2938 3328 2938 2522 \nQ 2938 1958 2742 1462 \nQ 2547 966 2170 621 \nQ 1773 262 1395 105 \nQ 1018 -51 378 -141 \nz\nM 2317 2272 \nL 2317 2522 \nQ 2317 4147 1472 4147 \nQ 1171 4147 1005 3930 \nQ 909 3802 845 3546 \nQ 781 3290 781 3034 \nQ 781 2464 995 2128 \nQ 1210 1792 1568 1792 \nQ 1824 1792 2070 1917 \nQ 2317 2042 2317 2272 \nz\n\" transform=\"scale(0.015625)\"/>\n       </defs>\n       <use xlink:href=\"#STIXGeneral-Regular-30\"/>\n       <use xlink:href=\"#STIXGeneral-Regular-39\" x=\"49.999985\"/>\n      </g>\n     </g>\n    </g>\n    <g id=\"xtick_9\">\n     <g id=\"line2d_9\">\n      <g>\n       <use xlink:href=\"#mb4325eaafd\" x=\"216.44875\" y=\"228.737813\" style=\"fill: #323034; stroke: #323034; stroke-width: 0.6\"/>\n      </g>\n     </g>\n     <g id=\"text_9\">\n      <!-- 10 -->\n      <g style=\"fill: #323034\" transform=\"translate(210.44875 242.333438)scale(0.12 -0.12)\">\n       <use xlink:href=\"#STIXGeneral-Regular-31\"/>\n       <use xlink:href=\"#STIXGeneral-Regular-30\" x=\"49.999985\"/>\n      </g>\n     </g>\n    </g>\n    <g id=\"xtick_10\">\n     <g id=\"line2d_10\">\n      <g>\n       <use xlink:href=\"#mb4325eaafd\" x=\"240.363036\" y=\"228.737813\" style=\"fill: #323034; stroke: #323034; stroke-width: 0.6\"/>\n      </g>\n     </g>\n     <g id=\"text_10\">\n      <!-- 11 -->\n      <g style=\"fill: #323034\" transform=\"translate(234.363036 242.333438)scale(0.12 -0.12)\">\n       <use xlink:href=\"#STIXGeneral-Regular-31\"/>\n       <use xlink:href=\"#STIXGeneral-Regular-31\" x=\"49.999985\"/>\n      </g>\n     </g>\n    </g>\n    <g id=\"xtick_11\">\n     <g id=\"line2d_11\">\n      <g>\n       <use xlink:href=\"#mb4325eaafd\" x=\"264.277321\" y=\"228.737813\" style=\"fill: #323034; stroke: #323034; stroke-width: 0.6\"/>\n      </g>\n     </g>\n     <g id=\"text_11\">\n      <!-- 12 -->\n      <g style=\"fill: #323034\" transform=\"translate(258.277321 242.333438)scale(0.12 -0.12)\">\n       <use xlink:href=\"#STIXGeneral-Regular-31\"/>\n       <use xlink:href=\"#STIXGeneral-Regular-32\" x=\"49.999985\"/>\n      </g>\n     </g>\n    </g>\n    <g id=\"xtick_12\">\n     <g id=\"line2d_12\">\n      <g>\n       <use xlink:href=\"#mb4325eaafd\" x=\"288.191607\" y=\"228.737813\" style=\"fill: #323034; stroke: #323034; stroke-width: 0.6\"/>\n      </g>\n     </g>\n     <g id=\"text_12\">\n      <!-- 13 -->\n      <g style=\"fill: #323034\" transform=\"translate(282.191607 242.333438)scale(0.12 -0.12)\">\n       <use xlink:href=\"#STIXGeneral-Regular-31\"/>\n       <use xlink:href=\"#STIXGeneral-Regular-33\" x=\"49.999985\"/>\n      </g>\n     </g>\n    </g>\n    <g id=\"xtick_13\">\n     <g id=\"line2d_13\">\n      <g>\n       <use xlink:href=\"#mb4325eaafd\" x=\"312.105893\" y=\"228.737813\" style=\"fill: #323034; stroke: #323034; stroke-width: 0.6\"/>\n      </g>\n     </g>\n     <g id=\"text_13\">\n      <!-- 14 -->\n      <g style=\"fill: #323034\" transform=\"translate(306.105893 242.333438)scale(0.12 -0.12)\">\n       <use xlink:href=\"#STIXGeneral-Regular-31\"/>\n       <use xlink:href=\"#STIXGeneral-Regular-34\" x=\"49.999985\"/>\n      </g>\n     </g>\n    </g>\n    <g id=\"xtick_14\">\n     <g id=\"line2d_14\">\n      <g>\n       <use xlink:href=\"#mb4325eaafd\" x=\"336.020179\" y=\"228.737813\" style=\"fill: #323034; stroke: #323034; stroke-width: 0.6\"/>\n      </g>\n     </g>\n     <g id=\"text_14\">\n      <!-- 15 -->\n      <g style=\"fill: #323034\" transform=\"translate(330.020179 242.333438)scale(0.12 -0.12)\">\n       <use xlink:href=\"#STIXGeneral-Regular-31\"/>\n       <use xlink:href=\"#STIXGeneral-Regular-35\" x=\"49.999985\"/>\n      </g>\n     </g>\n    </g>\n    <g id=\"xtick_15\">\n     <g id=\"line2d_15\">\n      <g>\n       <use xlink:href=\"#mb4325eaafd\" x=\"359.934464\" y=\"228.737813\" style=\"fill: #323034; stroke: #323034; stroke-width: 0.6\"/>\n      </g>\n     </g>\n     <g id=\"text_15\">\n      <!-- 16 -->\n      <g style=\"fill: #323034\" transform=\"translate(353.934464 242.333438)scale(0.12 -0.12)\">\n       <use xlink:href=\"#STIXGeneral-Regular-31\"/>\n       <use xlink:href=\"#STIXGeneral-Regular-36\" x=\"49.999985\"/>\n      </g>\n     </g>\n    </g>\n    <g id=\"text_16\">\n     <!-- Date -->\n     <g transform=\"translate(205.12 282.611688)scale(0.12 -0.12)\">\n      <defs>\n       <path id=\"STIXGeneral-Regular-44\" d=\"M 102 4237 \nL 1830 4237 \nQ 3078 4237 3750 3654 \nQ 4384 3110 4384 2138 \nQ 4384 966 3514 410 \nQ 2880 0 1901 0 \nL 102 0 \nL 102 122 \nQ 474 147 570 252 \nQ 666 358 666 736 \nL 666 3520 \nQ 666 3891 570 3990 \nQ 474 4090 102 4115 \nL 102 4237 \nz\nM 1318 3731 \nL 1318 538 \nQ 1318 365 1379 301 \nQ 1440 237 1626 237 \nQ 2125 237 2432 307 \nQ 2739 378 3021 570 \nQ 3686 1018 3686 2099 \nQ 3686 3027 3078 3558 \nQ 2803 3802 2476 3901 \nQ 2150 4000 1658 4000 \nQ 1472 4000 1395 3942 \nQ 1318 3885 1318 3731 \nz\n\" transform=\"scale(0.015625)\"/>\n       <path id=\"STIXGeneral-Regular-74\" d=\"M 1702 493 \nL 1786 422 \nQ 1478 -64 1011 -64 \nQ 448 -64 448 749 \nL 448 2675 \nL 109 2675 \nQ 83 2694 83 2720 \nQ 83 2771 192 2842 \nQ 435 2982 813 3526 \nQ 826 3546 874 3606 \nQ 922 3667 941 3706 \nQ 986 3706 986 3622 \nL 986 2880 \nL 1632 2880 \nL 1632 2675 \nL 986 2675 \nL 986 845 \nQ 986 538 1062 403 \nQ 1139 269 1318 269 \nQ 1510 269 1702 493 \nz\n\" transform=\"scale(0.015625)\"/>\n       <path id=\"STIXGeneral-Regular-65\" d=\"M 2611 1050 \nL 2714 1005 \nQ 2330 -64 1376 -64 \nQ 813 -64 486 329 \nQ 160 723 160 1389 \nQ 160 2074 525 2509 \nQ 890 2944 1485 2944 \nQ 2061 2944 2374 2502 \nQ 2560 2246 2592 1773 \nL 621 1773 \nQ 646 1370 700 1158 \nQ 755 947 915 730 \nQ 1184 378 1626 378 \nQ 1939 378 2153 531 \nQ 2368 685 2611 1050 \nz\nM 634 1978 \nL 1939 1978 \nQ 1882 2381 1750 2547 \nQ 1619 2714 1312 2714 \nQ 1043 2714 864 2525 \nQ 685 2336 634 1978 \nz\n\" transform=\"scale(0.015625)\"/>\n      </defs>\n      <use xlink:href=\"#STIXGeneral-Regular-44\"/>\n      <use xlink:href=\"#STIXGeneral-Regular-61\" x=\"72.199982\"/>\n      <use xlink:href=\"#STIXGeneral-Regular-74\" x=\"116.599976\"/>\n      <use xlink:href=\"#STIXGeneral-Regular-65\" x=\"144.399963\"/>\n     </g>\n    </g>\n   </g>\n   <g id=\"matplotlib.axis_2\">\n    <g id=\"ytick_1\">\n     <g id=\"line2d_16\">\n      <defs>\n       <path id=\"mb8a5926f07\" d=\"M 0 0 \nL -3.5 0 \n\" style=\"stroke: #323034; stroke-width: 0.8\"/>\n      </defs>\n      <g>\n       <use xlink:href=\"#mb8a5926f07\" x=\"49.04875\" y=\"228.737813\" style=\"fill: #323034; stroke: #323034; stroke-width: 0.8\"/>\n      </g>\n     </g>\n     <g id=\"text_17\">\n      <!-- $\\mathdefault{27.0}$ -->\n      <g style=\"fill: #323034\" transform=\"translate(21.04875 232.835625)scale(0.12 -0.12)\">\n       <defs>\n        <path id=\"STIXGeneral-Regular-2e\" d=\"M 1158 275 \nQ 1158 134 1052 32 \nQ 947 -70 800 -70 \nQ 653 -70 550 32 \nQ 448 134 448 281 \nQ 448 429 553 534 \nQ 659 640 806 640 \nQ 947 640 1052 531 \nQ 1158 422 1158 275 \nz\n\" transform=\"scale(0.015625)\"/>\n       </defs>\n       <use xlink:href=\"#STIXGeneral-Regular-32\" transform=\"translate(0 0.40625)\"/>\n       <use xlink:href=\"#STIXGeneral-Regular-37\" transform=\"translate(49.999985 0.40625)\"/>\n       <use xlink:href=\"#STIXGeneral-Regular-2e\" transform=\"translate(99.999969 0.40625)\"/>\n       <use xlink:href=\"#STIXGeneral-Regular-30\" transform=\"translate(124.999954 0.40625)\"/>\n      </g>\n     </g>\n    </g>\n    <g id=\"ytick_2\">\n     <g id=\"line2d_17\">\n      <g>\n       <use xlink:href=\"#mb8a5926f07\" x=\"49.04875\" y=\"197.674955\" style=\"fill: #323034; stroke: #323034; stroke-width: 0.8\"/>\n      </g>\n     </g>\n     <g id=\"text_18\">\n      <!-- $\\mathdefault{27.2}$ -->\n      <g style=\"fill: #323034\" transform=\"translate(21.04875 201.772768)scale(0.12 -0.12)\">\n       <use xlink:href=\"#STIXGeneral-Regular-32\" transform=\"translate(0 0.40625)\"/>\n       <use xlink:href=\"#STIXGeneral-Regular-37\" transform=\"translate(49.999985 0.40625)\"/>\n       <use xlink:href=\"#STIXGeneral-Regular-2e\" transform=\"translate(99.999969 0.40625)\"/>\n       <use xlink:href=\"#STIXGeneral-Regular-32\" transform=\"translate(124.999954 0.40625)\"/>\n      </g>\n     </g>\n    </g>\n    <g id=\"ytick_3\">\n     <g id=\"line2d_18\">\n      <g>\n       <use xlink:href=\"#mb8a5926f07\" x=\"49.04875\" y=\"166.612098\" style=\"fill: #323034; stroke: #323034; stroke-width: 0.8\"/>\n      </g>\n     </g>\n     <g id=\"text_19\">\n      <!-- $\\mathdefault{27.4}$ -->\n      <g style=\"fill: #323034\" transform=\"translate(21.04875 170.709911)scale(0.12 -0.12)\">\n       <use xlink:href=\"#STIXGeneral-Regular-32\" transform=\"translate(0 0.40625)\"/>\n       <use xlink:href=\"#STIXGeneral-Regular-37\" transform=\"translate(49.999985 0.40625)\"/>\n       <use xlink:href=\"#STIXGeneral-Regular-2e\" transform=\"translate(99.999969 0.40625)\"/>\n       <use xlink:href=\"#STIXGeneral-Regular-34\" transform=\"translate(124.999954 0.40625)\"/>\n      </g>\n     </g>\n    </g>\n    <g id=\"ytick_4\">\n     <g id=\"line2d_19\">\n      <g>\n       <use xlink:href=\"#mb8a5926f07\" x=\"49.04875\" y=\"135.549241\" style=\"fill: #323034; stroke: #323034; stroke-width: 0.8\"/>\n      </g>\n     </g>\n     <g id=\"text_20\">\n      <!-- $\\mathdefault{27.6}$ -->\n      <g style=\"fill: #323034\" transform=\"translate(21.04875 139.647054)scale(0.12 -0.12)\">\n       <use xlink:href=\"#STIXGeneral-Regular-32\" transform=\"translate(0 0.59375)\"/>\n       <use xlink:href=\"#STIXGeneral-Regular-37\" transform=\"translate(49.999985 0.59375)\"/>\n       <use xlink:href=\"#STIXGeneral-Regular-2e\" transform=\"translate(99.999969 0.59375)\"/>\n       <use xlink:href=\"#STIXGeneral-Regular-36\" transform=\"translate(124.999954 0.59375)\"/>\n      </g>\n     </g>\n    </g>\n    <g id=\"ytick_5\">\n     <g id=\"line2d_20\">\n      <g>\n       <use xlink:href=\"#mb8a5926f07\" x=\"49.04875\" y=\"104.486384\" style=\"fill: #323034; stroke: #323034; stroke-width: 0.8\"/>\n      </g>\n     </g>\n     <g id=\"text_21\">\n      <!-- $\\mathdefault{27.8}$ -->\n      <g style=\"fill: #323034\" transform=\"translate(21.04875 108.584196)scale(0.12 -0.12)\">\n       <use xlink:href=\"#STIXGeneral-Regular-32\" transform=\"translate(0 0.40625)\"/>\n       <use xlink:href=\"#STIXGeneral-Regular-37\" transform=\"translate(49.999985 0.40625)\"/>\n       <use xlink:href=\"#STIXGeneral-Regular-2e\" transform=\"translate(99.999969 0.40625)\"/>\n       <use xlink:href=\"#STIXGeneral-Regular-38\" transform=\"translate(124.999954 0.40625)\"/>\n      </g>\n     </g>\n    </g>\n    <g id=\"ytick_6\">\n     <g id=\"line2d_21\">\n      <g>\n       <use xlink:href=\"#mb8a5926f07\" x=\"49.04875\" y=\"73.423527\" style=\"fill: #323034; stroke: #323034; stroke-width: 0.8\"/>\n      </g>\n     </g>\n     <g id=\"text_22\">\n      <!-- $\\mathdefault{28.0}$ -->\n      <g style=\"fill: #323034\" transform=\"translate(21.04875 77.521339)scale(0.12 -0.12)\">\n       <use xlink:href=\"#STIXGeneral-Regular-32\" transform=\"translate(0 0.40625)\"/>\n       <use xlink:href=\"#STIXGeneral-Regular-38\" transform=\"translate(49.999985 0.40625)\"/>\n       <use xlink:href=\"#STIXGeneral-Regular-2e\" transform=\"translate(99.999969 0.40625)\"/>\n       <use xlink:href=\"#STIXGeneral-Regular-30\" transform=\"translate(124.999954 0.40625)\"/>\n      </g>\n     </g>\n    </g>\n    <g id=\"ytick_7\">\n     <g id=\"line2d_22\">\n      <g>\n       <use xlink:href=\"#mb8a5926f07\" x=\"49.04875\" y=\"42.36067\" style=\"fill: #323034; stroke: #323034; stroke-width: 0.8\"/>\n      </g>\n     </g>\n     <g id=\"text_23\">\n      <!-- $\\mathdefault{28.2}$ -->\n      <g style=\"fill: #323034\" transform=\"translate(21.04875 46.458482)scale(0.12 -0.12)\">\n       <use xlink:href=\"#STIXGeneral-Regular-32\" transform=\"translate(0 0.40625)\"/>\n       <use xlink:href=\"#STIXGeneral-Regular-38\" transform=\"translate(49.999985 0.40625)\"/>\n       <use xlink:href=\"#STIXGeneral-Regular-2e\" transform=\"translate(99.999969 0.40625)\"/>\n       <use xlink:href=\"#STIXGeneral-Regular-32\" transform=\"translate(124.999954 0.40625)\"/>\n      </g>\n     </g>\n    </g>\n    <g id=\"ytick_8\">\n     <g id=\"line2d_23\">\n      <g>\n       <use xlink:href=\"#mb8a5926f07\" x=\"49.04875\" y=\"11.297812\" style=\"fill: #323034; stroke: #323034; stroke-width: 0.8\"/>\n      </g>\n     </g>\n     <g id=\"text_24\">\n      <!-- $\\mathdefault{28.4}$ -->\n      <g style=\"fill: #323034\" transform=\"translate(21.04875 15.395625)scale(0.12 -0.12)\">\n       <use xlink:href=\"#STIXGeneral-Regular-32\" transform=\"translate(0 0.40625)\"/>\n       <use xlink:href=\"#STIXGeneral-Regular-38\" transform=\"translate(49.999985 0.40625)\"/>\n       <use xlink:href=\"#STIXGeneral-Regular-2e\" transform=\"translate(99.999969 0.40625)\"/>\n       <use xlink:href=\"#STIXGeneral-Regular-34\" transform=\"translate(124.999954 0.40625)\"/>\n      </g>\n     </g>\n    </g>\n    <g id=\"text_25\">\n     <!-- Close ($) -->\n     <g transform=\"translate(15.444375 142.182188)rotate(-90)scale(0.12 -0.12)\">\n      <defs>\n       <path id=\"STIXGeneral-Regular-43\" d=\"M 3930 838 \nL 4051 723 \nQ 3482 -90 2304 -90 \nQ 1376 -90 794 480 \nQ 179 1082 179 2080 \nQ 179 3014 755 3661 \nQ 1357 4326 2310 4326 \nQ 2720 4326 3072 4230 \nQ 3475 4115 3514 4115 \nQ 3725 4115 3782 4326 \nL 3910 4326 \nL 3968 2874 \nL 3821 2874 \nQ 3718 3334 3488 3584 \nQ 3034 4070 2458 4070 \nQ 1747 4070 1334 3548 \nQ 922 3027 922 2182 \nQ 922 1152 1382 653 \nQ 1811 192 2522 192 \nQ 2944 192 3251 339 \nQ 3558 486 3930 838 \nz\n\" transform=\"scale(0.015625)\"/>\n       <path id=\"STIXGeneral-Regular-6c\" d=\"M 1645 0 \nL 134 0 \nL 134 96 \nQ 435 122 531 221 \nQ 627 320 627 589 \nL 627 3590 \nQ 627 3821 569 3910 \nQ 512 4000 358 4000 \nQ 224 4000 122 3987 \nL 122 4090 \nQ 730 4237 1133 4371 \nL 1165 4346 \nL 1165 557 \nQ 1165 288 1254 201 \nQ 1344 115 1645 96 \nL 1645 0 \nz\n\" transform=\"scale(0.015625)\"/>\n       <path id=\"STIXGeneral-Regular-6f\" d=\"M 3008 1478 \nQ 3008 806 2608 371 \nQ 2208 -64 1568 -64 \nQ 979 -64 582 368 \nQ 186 800 186 1459 \nQ 186 2125 582 2534 \nQ 979 2944 1626 2944 \nQ 2221 2944 2614 2537 \nQ 3008 2131 3008 1478 \nz\nM 2432 1306 \nQ 2432 2035 2112 2445 \nQ 1856 2765 1504 2765 \nQ 1171 2765 966 2493 \nQ 762 2221 762 1747 \nQ 762 928 1101 435 \nQ 1318 115 1677 115 \nQ 2029 115 2230 432 \nQ 2432 749 2432 1306 \nz\n\" transform=\"scale(0.015625)\"/>\n       <path id=\"STIXGeneral-Regular-73\" d=\"M 998 1926 \nL 1664 1523 \nQ 1984 1331 2105 1164 \nQ 2227 998 2227 736 \nQ 2227 416 1961 176 \nQ 1696 -64 1331 -64 \nQ 1030 -64 864 -6 \nQ 691 51 570 51 \nQ 461 51 416 -26 \nL 333 -26 \nL 333 979 \nL 435 979 \nQ 538 512 730 294 \nQ 922 77 1248 77 \nQ 1485 77 1632 211 \nQ 1779 346 1779 550 \nQ 1779 845 1440 1030 \nL 1094 1222 \nQ 326 1651 326 2150 \nQ 326 2522 566 2730 \nQ 806 2938 1210 2938 \nQ 1491 2938 1638 2867 \nQ 1754 2816 1818 2816 \nQ 1862 2816 1920 2880 \nL 1990 2880 \nL 2022 2010 \nL 1926 2010 \nQ 1818 2445 1654 2621 \nQ 1491 2797 1203 2797 \nQ 986 2797 854 2688 \nQ 723 2579 723 2362 \nQ 723 2253 796 2128 \nQ 870 2003 998 1926 \nz\n\" transform=\"scale(0.015625)\"/>\n       <path id=\"STIXGeneral-Regular-20\" transform=\"scale(0.015625)\"/>\n       <path id=\"STIXGeneral-Regular-28\" d=\"M 1946 -1030 \nL 1869 -1133 \nQ 1126 -710 716 32 \nQ 307 774 307 1613 \nQ 307 3386 1888 4326 \nL 1946 4224 \nQ 1293 3667 1075 3126 \nQ 858 2586 858 1632 \nQ 858 685 1082 96 \nQ 1306 -493 1946 -1030 \nz\n\" transform=\"scale(0.015625)\"/>\n       <path id=\"STIXGeneral-Regular-24\" d=\"M 1690 4077 \nL 1690 2502 \nQ 2234 2208 2445 2045 \nQ 2656 1882 2797 1664 \nQ 2931 1466 2931 1088 \nQ 2931 570 2614 326 \nQ 2298 83 1690 0 \nL 1690 -557 \nL 1472 -557 \nL 1472 0 \nQ 1062 0 806 73 \nQ 550 147 282 326 \nL 282 1158 \nL 378 1158 \nQ 480 685 761 432 \nQ 1043 179 1472 179 \nL 1472 1984 \nQ 800 2362 566 2624 \nQ 333 2886 333 3283 \nQ 333 3731 659 3974 \nQ 986 4218 1472 4250 \nL 1472 4653 \nL 1690 4653 \nL 1690 4250 \nQ 2426 4205 2720 3910 \nL 2720 3200 \nL 2624 3200 \nQ 2528 3597 2301 3814 \nQ 2074 4032 1690 4077 \nz\nM 1472 2605 \nL 1472 4077 \nQ 806 3942 806 3405 \nQ 806 3194 937 3037 \nQ 1069 2880 1472 2605 \nz\nM 1690 1875 \nL 1690 179 \nQ 2086 262 2252 432 \nQ 2419 602 2419 941 \nQ 2419 1235 2272 1427 \nQ 2125 1619 1690 1875 \nz\n\" transform=\"scale(0.015625)\"/>\n       <path id=\"STIXGeneral-Regular-29\" d=\"M 186 4224 \nL 262 4326 \nQ 992 3891 1408 3148 \nQ 1824 2406 1824 1581 \nQ 1824 -166 243 -1133 \nL 186 -1030 \nQ 845 -486 1059 54 \nQ 1274 595 1274 1562 \nQ 1274 2534 1059 3120 \nQ 845 3706 186 4224 \nz\n\" transform=\"scale(0.015625)\"/>\n      </defs>\n      <use xlink:href=\"#STIXGeneral-Regular-43\"/>\n      <use xlink:href=\"#STIXGeneral-Regular-6c\" x=\"66.699997\"/>\n      <use xlink:href=\"#STIXGeneral-Regular-6f\" x=\"94.499985\"/>\n      <use xlink:href=\"#STIXGeneral-Regular-73\" x=\"144.499969\"/>\n      <use xlink:href=\"#STIXGeneral-Regular-65\" x=\"183.399963\"/>\n      <use xlink:href=\"#STIXGeneral-Regular-20\" x=\"227.799957\"/>\n      <use xlink:href=\"#STIXGeneral-Regular-28\" x=\"252.799942\"/>\n      <use xlink:href=\"#STIXGeneral-Regular-24\" x=\"286.09993\"/>\n      <use xlink:href=\"#STIXGeneral-Regular-29\" x=\"336.099915\"/>\n     </g>\n    </g>\n   </g>\n   <g id=\"line2d_24\">\n    <path d=\"M 49.04875 188.511413 \nL 72.963036 193.170841 \nL 96.877321 171.271527 \nL 120.791607 124.677241 \nL 144.705893 85.382727 \nL 168.620179 85.382727 \nL 192.534464 85.382727 \nL 216.44875 80.723298 \nL 240.363036 57.426155 \nL 264.277321 75.131984 \nL 288.191607 83.363641 \nL 312.105893 48.417927 \nL 336.020179 48.417927 \nL 359.934464 48.417927 \nL 383.84875 48.417927 \n\" clip-path=\"url(#padac6d326b)\" style=\"fill: none; stroke-dasharray: 6.4,1.6,1,1.6; stroke-dashoffset: 0; stroke: #fb8072\"/>\n    <defs>\n     <path id=\"m16e98d997a\" d=\"M 0 3 \nC 0.795609 3 1.55874 2.683901 2.12132 2.12132 \nC 2.683901 1.55874 3 0.795609 3 0 \nC 3 -0.795609 2.683901 -1.55874 2.12132 -2.12132 \nC 1.55874 -2.683901 0.795609 -3 0 -3 \nC -0.795609 -3 -1.55874 -2.683901 -2.12132 -2.12132 \nC -2.683901 -1.55874 -3 -0.795609 -3 0 \nC -3 0.795609 -2.683901 1.55874 -2.12132 2.12132 \nC -1.55874 2.683901 -0.795609 3 0 3 \nz\n\" style=\"stroke: #000000\"/>\n    </defs>\n    <g clip-path=\"url(#padac6d326b)\">\n     <use xlink:href=\"#m16e98d997a\" x=\"49.04875\" y=\"188.511413\" style=\"fill: #fb8072; stroke: #000000\"/>\n     <use xlink:href=\"#m16e98d997a\" x=\"72.963036\" y=\"193.170841\" style=\"fill: #fb8072; stroke: #000000\"/>\n     <use xlink:href=\"#m16e98d997a\" x=\"96.877321\" y=\"171.271527\" style=\"fill: #fb8072; stroke: #000000\"/>\n     <use xlink:href=\"#m16e98d997a\" x=\"120.791607\" y=\"124.677241\" style=\"fill: #fb8072; stroke: #000000\"/>\n     <use xlink:href=\"#m16e98d997a\" x=\"144.705893\" y=\"85.382727\" style=\"fill: #fb8072; stroke: #000000\"/>\n     <use xlink:href=\"#m16e98d997a\" x=\"168.620179\" y=\"85.382727\" style=\"fill: #fb8072; stroke: #000000\"/>\n     <use xlink:href=\"#m16e98d997a\" x=\"192.534464\" y=\"85.382727\" style=\"fill: #fb8072; stroke: #000000\"/>\n     <use xlink:href=\"#m16e98d997a\" x=\"216.44875\" y=\"80.723298\" style=\"fill: #fb8072; stroke: #000000\"/>\n     <use xlink:href=\"#m16e98d997a\" x=\"240.363036\" y=\"57.426155\" style=\"fill: #fb8072; stroke: #000000\"/>\n     <use xlink:href=\"#m16e98d997a\" x=\"264.277321\" y=\"75.131984\" style=\"fill: #fb8072; stroke: #000000\"/>\n     <use xlink:href=\"#m16e98d997a\" x=\"288.191607\" y=\"83.363641\" style=\"fill: #fb8072; stroke: #000000\"/>\n     <use xlink:href=\"#m16e98d997a\" x=\"312.105893\" y=\"48.417927\" style=\"fill: #fb8072; stroke: #000000\"/>\n     <use xlink:href=\"#m16e98d997a\" x=\"336.020179\" y=\"48.417927\" style=\"fill: #fb8072; stroke: #000000\"/>\n     <use xlink:href=\"#m16e98d997a\" x=\"359.934464\" y=\"48.417927\" style=\"fill: #fb8072; stroke: #000000\"/>\n     <use xlink:href=\"#m16e98d997a\" x=\"383.84875\" y=\"48.417927\" style=\"fill: #fb8072; stroke: #000000\"/>\n    </g>\n   </g>\n   <g id=\"line2d_25\">\n    <path d=\"M 49.04875 188.511413 \nL 72.963036 193.170841 \nL 96.877321 171.271527 \nL 120.791607 124.677241 \nL 144.705893 124.677241 \nL 168.620179 124.677241 \nL 192.534464 85.382727 \nL 216.44875 80.723298 \nL 240.363036 57.426155 \nL 264.277321 75.131984 \nL 288.191607 83.363641 \nL 312.105893 83.363641 \nL 336.020179 83.363641 \nL 359.934464 83.363641 \nL 383.84875 48.417927 \n\" clip-path=\"url(#padac6d326b)\" style=\"fill: none; stroke-dasharray: 3.7,1.6; stroke-dashoffset: 0; stroke: #b3de69\"/>\n    <defs>\n     <path id=\"m307bb55c05\" d=\"M 0 3 \nC 0.795609 3 1.55874 2.683901 2.12132 2.12132 \nC 2.683901 1.55874 3 0.795609 3 0 \nC 3 -0.795609 2.683901 -1.55874 2.12132 -2.12132 \nC 1.55874 -2.683901 0.795609 -3 0 -3 \nC -0.795609 -3 -1.55874 -2.683901 -2.12132 -2.12132 \nC -2.683901 -1.55874 -3 -0.795609 -3 0 \nC -3 0.795609 -2.683901 1.55874 -2.12132 2.12132 \nC -1.55874 2.683901 -0.795609 3 0 3 \nz\n\" style=\"stroke: #000000\"/>\n    </defs>\n    <g clip-path=\"url(#padac6d326b)\">\n     <use xlink:href=\"#m307bb55c05\" x=\"49.04875\" y=\"188.511413\" style=\"fill: #b3de69; stroke: #000000\"/>\n     <use xlink:href=\"#m307bb55c05\" x=\"72.963036\" y=\"193.170841\" style=\"fill: #b3de69; stroke: #000000\"/>\n     <use xlink:href=\"#m307bb55c05\" x=\"96.877321\" y=\"171.271527\" style=\"fill: #b3de69; stroke: #000000\"/>\n     <use xlink:href=\"#m307bb55c05\" x=\"120.791607\" y=\"124.677241\" style=\"fill: #b3de69; stroke: #000000\"/>\n     <use xlink:href=\"#m307bb55c05\" x=\"144.705893\" y=\"124.677241\" style=\"fill: #b3de69; stroke: #000000\"/>\n     <use xlink:href=\"#m307bb55c05\" x=\"168.620179\" y=\"124.677241\" style=\"fill: #b3de69; stroke: #000000\"/>\n     <use xlink:href=\"#m307bb55c05\" x=\"192.534464\" y=\"85.382727\" style=\"fill: #b3de69; stroke: #000000\"/>\n     <use xlink:href=\"#m307bb55c05\" x=\"216.44875\" y=\"80.723298\" style=\"fill: #b3de69; stroke: #000000\"/>\n     <use xlink:href=\"#m307bb55c05\" x=\"240.363036\" y=\"57.426155\" style=\"fill: #b3de69; stroke: #000000\"/>\n     <use xlink:href=\"#m307bb55c05\" x=\"264.277321\" y=\"75.131984\" style=\"fill: #b3de69; stroke: #000000\"/>\n     <use xlink:href=\"#m307bb55c05\" x=\"288.191607\" y=\"83.363641\" style=\"fill: #b3de69; stroke: #000000\"/>\n     <use xlink:href=\"#m307bb55c05\" x=\"312.105893\" y=\"83.363641\" style=\"fill: #b3de69; stroke: #000000\"/>\n     <use xlink:href=\"#m307bb55c05\" x=\"336.020179\" y=\"83.363641\" style=\"fill: #b3de69; stroke: #000000\"/>\n     <use xlink:href=\"#m307bb55c05\" x=\"359.934464\" y=\"83.363641\" style=\"fill: #b3de69; stroke: #000000\"/>\n     <use xlink:href=\"#m307bb55c05\" x=\"383.84875\" y=\"48.417927\" style=\"fill: #b3de69; stroke: #000000\"/>\n    </g>\n   </g>\n   <g id=\"patch_3\">\n    <path d=\"M 49.04875 228.737813 \nL 49.04875 11.297813 \n\" style=\"fill: none; stroke: #000000; stroke-width: 0.6; stroke-linejoin: miter; stroke-linecap: square\"/>\n   </g>\n   <g id=\"patch_4\">\n    <path d=\"M 49.04875 228.737813 \nL 383.84875 228.737813 \n\" style=\"fill: none; stroke: #000000; stroke-width: 0.6; stroke-linejoin: miter; stroke-linecap: square\"/>\n   </g>\n   <g id=\"line2d_26\">\n    <defs>\n     <path id=\"m4f3176d502\" d=\"M 0 3 \nC 0.795609 3 1.55874 2.683901 2.12132 2.12132 \nC 2.683901 1.55874 3 0.795609 3 0 \nC 3 -0.795609 2.683901 -1.55874 2.12132 -2.12132 \nC 1.55874 -2.683901 0.795609 -3 0 -3 \nC -0.795609 -3 -1.55874 -2.683901 -2.12132 -2.12132 \nC -2.683901 -1.55874 -3 -0.795609 -3 0 \nC -3 0.795609 -2.683901 1.55874 -2.12132 2.12132 \nC -1.55874 2.683901 -0.795609 3 0 3 \nz\n\" style=\"stroke: #000000\"/>\n    </defs>\n    <g clip-path=\"url(#padac6d326b)\">\n     <use xlink:href=\"#m4f3176d502\" x=\"49.04875\" y=\"188.511413\" style=\"fill: #bc80bd; stroke: #000000\"/>\n     <use xlink:href=\"#m4f3176d502\" x=\"72.963036\" y=\"193.170841\" style=\"fill: #bc80bd; stroke: #000000\"/>\n     <use xlink:href=\"#m4f3176d502\" x=\"96.877321\" y=\"171.271527\" style=\"fill: #bc80bd; stroke: #000000\"/>\n     <use xlink:href=\"#m4f3176d502\" x=\"120.791607\" y=\"124.677241\" style=\"fill: #bc80bd; stroke: #000000\"/>\n     <use xlink:href=\"#m4f3176d502\" x=\"192.534464\" y=\"85.382727\" style=\"fill: #bc80bd; stroke: #000000\"/>\n     <use xlink:href=\"#m4f3176d502\" x=\"216.44875\" y=\"80.723298\" style=\"fill: #bc80bd; stroke: #000000\"/>\n     <use xlink:href=\"#m4f3176d502\" x=\"240.363036\" y=\"57.426155\" style=\"fill: #bc80bd; stroke: #000000\"/>\n     <use xlink:href=\"#m4f3176d502\" x=\"264.277321\" y=\"75.131984\" style=\"fill: #bc80bd; stroke: #000000\"/>\n     <use xlink:href=\"#m4f3176d502\" x=\"288.191607\" y=\"83.363641\" style=\"fill: #bc80bd; stroke: #000000\"/>\n     <use xlink:href=\"#m4f3176d502\" x=\"383.84875\" y=\"48.417927\" style=\"fill: #bc80bd; stroke: #000000\"/>\n    </g>\n   </g>\n   <g id=\"legend_1\">\n    <g id=\"patch_5\">\n     <path d=\"M 56.04875 55.818125 \nL 130.697187 55.818125 \nQ 132.697187 55.818125 132.697187 53.818125 \nL 132.697187 18.297813 \nQ 132.697187 16.297813 130.697187 16.297813 \nL 56.04875 16.297813 \nQ 54.04875 16.297813 54.04875 18.297813 \nL 54.04875 53.818125 \nQ 54.04875 55.818125 56.04875 55.818125 \nz\n\" style=\"fill: #ffffff; opacity: 0.8; stroke: #e6e6e6; stroke-width: 0.8; stroke-linejoin: miter\"/>\n    </g>\n    <g id=\"line2d_27\">\n     <g>\n      <use xlink:href=\"#m4f3176d502\" x=\"66.04875\" y=\"21.797813\" style=\"fill: #bc80bd; stroke: #000000\"/>\n     </g>\n    </g>\n    <g id=\"text_26\">\n     <!-- original -->\n     <g style=\"fill: #323034\" transform=\"translate(84.04875 25.297813)scale(0.1 -0.1)\">\n      <defs>\n       <path id=\"STIXGeneral-Regular-72\" d=\"M 1024 2931 \nL 1024 2342 \nQ 1267 2688 1430 2816 \nQ 1594 2944 1792 2944 \nQ 1958 2944 2051 2854 \nQ 2144 2765 2144 2605 \nQ 2144 2470 2077 2393 \nQ 2010 2317 1894 2317 \nQ 1773 2317 1638 2445 \nQ 1536 2541 1472 2541 \nQ 1338 2541 1181 2355 \nQ 1024 2170 1024 2016 \nL 1024 576 \nQ 1024 301 1133 205 \nQ 1242 109 1568 96 \nL 1568 0 \nL 32 0 \nL 32 96 \nQ 339 154 412 224 \nQ 486 294 486 538 \nL 486 2138 \nQ 486 2349 438 2435 \nQ 390 2522 269 2522 \nQ 166 2522 45 2496 \nL 45 2598 \nQ 448 2726 992 2944 \nL 1024 2931 \nz\n\" transform=\"scale(0.015625)\"/>\n       <path id=\"STIXGeneral-Regular-69\" d=\"M 1152 4045 \nQ 1152 3904 1056 3811 \nQ 960 3718 819 3718 \nQ 685 3718 592 3811 \nQ 499 3904 499 4045 \nQ 499 4179 595 4275 \nQ 691 4371 826 4371 \nQ 966 4371 1059 4275 \nQ 1152 4179 1152 4045 \nz\nM 1619 0 \nL 102 0 \nL 102 96 \nQ 435 115 521 211 \nQ 608 307 608 666 \nL 608 2118 \nQ 608 2342 563 2432 \nQ 518 2522 397 2522 \nQ 243 2522 128 2490 \nL 128 2592 \nL 1120 2944 \nL 1146 2918 \nL 1146 672 \nQ 1146 314 1226 218 \nQ 1306 122 1619 96 \nL 1619 0 \nz\n\" transform=\"scale(0.015625)\"/>\n       <path id=\"STIXGeneral-Regular-67\" d=\"M 3008 2483 \nL 2477 2483 \nQ 2598 2208 2598 1946 \nQ 2598 1453 2265 1203 \nQ 1933 954 1600 954 \nQ 1530 954 1357 973 \nL 1235 986 \nQ 1107 947 979 812 \nQ 851 678 851 582 \nQ 851 435 1350 410 \nL 2176 371 \nQ 2528 358 2739 172 \nQ 2950 -13 2950 -314 \nQ 2950 -685 2566 -986 \nQ 2035 -1395 1286 -1395 \nQ 826 -1395 502 -1212 \nQ 179 -1030 179 -774 \nQ 179 -595 320 -419 \nQ 461 -243 806 6 \nQ 602 102 534 172 \nQ 467 243 467 346 \nQ 467 531 762 787 \nQ 909 915 1037 1043 \nQ 717 1203 579 1401 \nQ 442 1600 442 1901 \nQ 442 2336 752 2640 \nQ 1062 2944 1510 2944 \nQ 1766 2944 2022 2848 \nL 2163 2797 \nQ 2349 2733 2515 2733 \nL 3008 2733 \nL 3008 2483 \nz\nM 973 2163 \nL 973 2144 \nQ 973 1683 1155 1398 \nQ 1338 1114 1632 1114 \nQ 1850 1114 1978 1270 \nQ 2106 1427 2106 1690 \nQ 2106 2112 1914 2464 \nQ 1754 2765 1446 2765 \nQ 1222 2765 1097 2605 \nQ 973 2445 973 2163 \nz\nM 2771 -410 \nQ 2771 -230 2595 -163 \nQ 2419 -96 1978 -96 \nQ 1344 -96 941 -13 \nQ 749 -243 688 -348 \nQ 627 -454 627 -563 \nQ 627 -774 880 -902 \nQ 1133 -1030 1555 -1030 \nQ 2099 -1030 2435 -860 \nQ 2771 -691 2771 -410 \nz\n\" transform=\"scale(0.015625)\"/>\n      </defs>\n      <use xlink:href=\"#STIXGeneral-Regular-6f\"/>\n      <use xlink:href=\"#STIXGeneral-Regular-72\" x=\"49.999985\"/>\n      <use xlink:href=\"#STIXGeneral-Regular-69\" x=\"83.299973\"/>\n      <use xlink:href=\"#STIXGeneral-Regular-67\" x=\"111.09996\"/>\n      <use xlink:href=\"#STIXGeneral-Regular-69\" x=\"161.099945\"/>\n      <use xlink:href=\"#STIXGeneral-Regular-6e\" x=\"188.899933\"/>\n      <use xlink:href=\"#STIXGeneral-Regular-61\" x=\"238.899918\"/>\n      <use xlink:href=\"#STIXGeneral-Regular-6c\" x=\"283.299911\"/>\n     </g>\n    </g>\n    <g id=\"line2d_28\">\n     <path d=\"M 56.04875 34.9775 \nL 66.04875 34.9775 \nL 76.04875 34.9775 \n\" style=\"fill: none; stroke-dasharray: 6.4,1.6,1,1.6; stroke-dashoffset: 0; stroke: #fb8072\"/>\n     <g>\n      <use xlink:href=\"#m16e98d997a\" x=\"66.04875\" y=\"34.9775\" style=\"fill: #fb8072; stroke: #000000\"/>\n     </g>\n    </g>\n    <g id=\"text_27\">\n     <!-- back-fill -->\n     <g style=\"fill: #323034\" transform=\"translate(84.04875 38.4775)scale(0.1 -0.1)\">\n      <defs>\n       <path id=\"STIXGeneral-Regular-62\" d=\"M 979 4358 \nL 979 2406 \nQ 1082 2650 1315 2797 \nQ 1549 2944 1843 2944 \nQ 2349 2944 2672 2541 \nQ 2995 2138 2995 1536 \nQ 2995 832 2566 384 \nQ 2138 -64 1498 -64 \nQ 1107 -64 774 67 \nQ 442 198 442 358 \nL 442 3622 \nQ 442 3859 384 3926 \nQ 326 3994 128 3994 \nQ 83 3994 19 3981 \nL 19 4090 \nL 211 4147 \nQ 864 4346 947 4371 \nL 979 4358 \nz\nM 979 2035 \nL 979 474 \nQ 979 326 1161 233 \nQ 1344 141 1600 141 \nQ 1978 141 2195 416 \nQ 2432 710 2432 1261 \nQ 2432 1888 2182 2240 \nQ 1971 2541 1613 2541 \nQ 1357 2541 1168 2390 \nQ 979 2240 979 2035 \nz\n\" transform=\"scale(0.015625)\"/>\n       <path id=\"STIXGeneral-Regular-63\" d=\"M 2547 998 \nL 2637 941 \nQ 2362 403 2112 205 \nQ 1786 -64 1376 -64 \nQ 845 -64 502 336 \nQ 160 736 160 1357 \nQ 160 2170 698 2618 \nQ 1094 2944 1562 2944 \nQ 1965 2944 2256 2749 \nQ 2547 2554 2547 2285 \nQ 2547 2176 2457 2096 \nQ 2368 2016 2246 2016 \nQ 2022 2016 1939 2310 \nL 1901 2451 \nQ 1850 2630 1773 2694 \nQ 1696 2758 1523 2758 \nQ 1133 2758 893 2451 \nQ 653 2144 653 1645 \nQ 653 1094 928 745 \nQ 1203 397 1645 397 \nQ 1920 397 2118 528 \nQ 2317 659 2547 998 \nz\n\" transform=\"scale(0.015625)\"/>\n       <path id=\"STIXGeneral-Regular-6b\" d=\"M 3232 0 \nL 1837 0 \nL 1837 96 \nL 1958 96 \nQ 2093 96 2093 192 \nQ 2093 250 2022 339 \nL 1062 1606 \nL 1062 429 \nQ 1062 262 1142 185 \nQ 1222 109 1414 102 \nL 1542 96 \nL 1542 0 \nL 45 0 \nL 45 96 \nQ 390 154 457 214 \nQ 525 275 525 525 \nL 525 3610 \nQ 525 3840 467 3920 \nQ 410 4000 250 4000 \nQ 211 4000 45 3987 \nL 45 4090 \nL 237 4141 \nQ 621 4243 1037 4371 \nL 1062 4358 \nL 1062 1670 \nL 1939 2451 \nQ 2086 2586 2086 2675 \nQ 2086 2739 2019 2761 \nQ 1952 2784 1766 2790 \nL 1766 2880 \nL 3072 2880 \nL 3072 2784 \nQ 2752 2784 2505 2646 \nQ 2259 2509 1690 1978 \nL 1504 1805 \nL 2483 563 \nQ 2829 122 3232 96 \nL 3232 0 \nz\n\" transform=\"scale(0.015625)\"/>\n       <path id=\"STIXGeneral-Regular-2d\" d=\"M 1824 1242 \nL 250 1242 \nL 250 1645 \nL 1824 1645 \nL 1824 1242 \nz\n\" transform=\"scale(0.015625)\"/>\n       <path id=\"STIXGeneral-Regular-66\" d=\"M 134 2880 \nL 659 2880 \nQ 666 3264 710 3478 \nQ 755 3693 883 3910 \nQ 1152 4371 1786 4371 \nQ 2074 4371 2262 4259 \nQ 2451 4147 2451 3974 \nQ 2451 3866 2374 3789 \nQ 2298 3712 2182 3712 \nQ 2029 3712 1894 3942 \nQ 1741 4192 1555 4192 \nQ 1197 4192 1197 3622 \nL 1197 2880 \nL 1978 2880 \nL 1978 2675 \nL 1197 2675 \nL 1197 666 \nQ 1197 307 1299 208 \nQ 1402 109 1792 96 \nL 1792 0 \nL 128 0 \nL 128 96 \nQ 474 115 566 214 \nQ 659 314 659 666 \nL 659 2675 \nL 134 2675 \nL 134 2880 \nz\n\" transform=\"scale(0.015625)\"/>\n      </defs>\n      <use xlink:href=\"#STIXGeneral-Regular-62\"/>\n      <use xlink:href=\"#STIXGeneral-Regular-61\" x=\"49.999985\"/>\n      <use xlink:href=\"#STIXGeneral-Regular-63\" x=\"94.399979\"/>\n      <use xlink:href=\"#STIXGeneral-Regular-6b\" x=\"138.799973\"/>\n      <use xlink:href=\"#STIXGeneral-Regular-2d\" x=\"188.799957\"/>\n      <use xlink:href=\"#STIXGeneral-Regular-66\" x=\"222.099945\"/>\n      <use xlink:href=\"#STIXGeneral-Regular-69\" x=\"255.399933\"/>\n      <use xlink:href=\"#STIXGeneral-Regular-6c\" x=\"283.199921\"/>\n      <use xlink:href=\"#STIXGeneral-Regular-6c\" x=\"310.999908\"/>\n     </g>\n    </g>\n    <g id=\"line2d_29\">\n     <path d=\"M 56.04875 48.147813 \nL 66.04875 48.147813 \nL 76.04875 48.147813 \n\" style=\"fill: none; stroke-dasharray: 3.7,1.6; stroke-dashoffset: 0; stroke: #b3de69\"/>\n     <g>\n      <use xlink:href=\"#m307bb55c05\" x=\"66.04875\" y=\"48.147813\" style=\"fill: #b3de69; stroke: #000000\"/>\n     </g>\n    </g>\n    <g id=\"text_28\">\n     <!-- forward-fill -->\n     <g style=\"fill: #323034\" transform=\"translate(84.04875 51.647813)scale(0.1 -0.1)\">\n      <defs>\n       <path id=\"STIXGeneral-Regular-77\" d=\"M 4442 2880 \nL 4442 2784 \nQ 4346 2752 4301 2691 \nQ 4256 2630 4179 2438 \nL 3296 224 \nQ 3168 -90 3117 -90 \nQ 3085 -90 3062 -48 \nQ 3040 -6 2963 186 \nL 2381 1696 \nL 1664 160 \nQ 1549 -90 1504 -90 \nQ 1446 -90 1338 192 \nL 474 2381 \nQ 378 2630 314 2700 \nQ 250 2771 134 2784 \nL 134 2880 \nL 1286 2880 \nL 1286 2784 \nQ 1120 2765 1056 2720 \nQ 992 2675 992 2573 \nQ 992 2477 1030 2381 \nL 1664 710 \nL 2246 1984 \nL 2118 2342 \nQ 2029 2598 1942 2681 \nQ 1856 2765 1677 2784 \nL 1677 2880 \nL 2976 2880 \nL 2976 2784 \nQ 2752 2752 2678 2707 \nQ 2605 2662 2605 2560 \nQ 2605 2458 2714 2176 \nL 3251 742 \nL 3827 2163 \nQ 3936 2432 3936 2592 \nQ 3936 2669 3875 2710 \nQ 3814 2752 3654 2784 \nL 3654 2880 \nL 4442 2880 \nz\n\" transform=\"scale(0.015625)\"/>\n       <path id=\"STIXGeneral-Regular-64\" d=\"M 3142 269 \nL 2202 -64 \nL 2176 -45 \nL 2176 365 \nQ 1869 -64 1357 -64 \nQ 826 -64 499 317 \nQ 173 698 173 1312 \nQ 173 1990 563 2467 \nQ 954 2944 1504 2944 \nQ 1850 2944 2176 2669 \nL 2176 3667 \nQ 2176 3866 2118 3930 \nQ 2061 3994 1882 3994 \nQ 1792 3994 1741 3987 \nL 1741 4090 \nQ 2323 4243 2682 4371 \nL 2714 4358 \nL 2714 730 \nQ 2714 506 2768 435 \nQ 2822 365 2995 365 \nQ 3034 365 3142 371 \nL 3142 269 \nz\nM 2176 653 \nL 2176 2125 \nQ 2176 2381 1981 2573 \nQ 1786 2765 1523 2765 \nQ 1158 2765 940 2438 \nQ 723 2112 723 1568 \nQ 723 979 963 624 \nQ 1203 269 1606 269 \nQ 1907 269 2080 474 \nQ 2176 582 2176 653 \nz\n\" transform=\"scale(0.015625)\"/>\n      </defs>\n      <use xlink:href=\"#STIXGeneral-Regular-66\"/>\n      <use xlink:href=\"#STIXGeneral-Regular-6f\" x=\"33.299988\"/>\n      <use xlink:href=\"#STIXGeneral-Regular-72\" x=\"83.299973\"/>\n      <use xlink:href=\"#STIXGeneral-Regular-77\" x=\"116.59996\"/>\n      <use xlink:href=\"#STIXGeneral-Regular-61\" x=\"188.799942\"/>\n      <use xlink:href=\"#STIXGeneral-Regular-72\" x=\"233.199936\"/>\n      <use xlink:href=\"#STIXGeneral-Regular-64\" x=\"266.499924\"/>\n      <use xlink:href=\"#STIXGeneral-Regular-2d\" x=\"316.499908\"/>\n      <use xlink:href=\"#STIXGeneral-Regular-66\" x=\"349.799896\"/>\n      <use xlink:href=\"#STIXGeneral-Regular-69\" x=\"383.099884\"/>\n      <use xlink:href=\"#STIXGeneral-Regular-6c\" x=\"410.899872\"/>\n      <use xlink:href=\"#STIXGeneral-Regular-6c\" x=\"438.69986\"/>\n     </g>\n    </g>\n   </g>\n  </g>\n </g>\n <defs>\n  <clipPath id=\"padac6d326b\">\n   <rect x=\"49.04875\" y=\"11.297813\" width=\"334.8\" height=\"217.44\"/>\n  </clipPath>\n </defs>\n</svg>\n",
      "text/plain": [
       "<Figure size 900x600 with 1 Axes>"
      ]
     },
     "metadata": {
      "needs_background": "light"
     },
     "output_type": "display_data"
    }
   ],
   "source": [
    "fig, ax = plt.subplots()\n",
    "data = xf.iloc[:10, 3]\n",
    "cycle = ax._get_lines.prop_cycler\n",
    "\n",
    "data.asfreq(\"D\").plot(ax=ax, marker=\"o\", linestyle=\"None\", zorder=3)\n",
    "data.asfreq(\"D\", method=\"bfill\").plot(\n",
    "    ax=ax, style=\"-.o\", lw=1, color=next(cycle)[\"color\"]\n",
    ")\n",
    "data.asfreq(\"D\", method=\"ffill\").plot(\n",
    "    ax=ax, style=\"--o\", lw=1, color=next(cycle)[\"color\"]\n",
    ")\n",
    "ax.set_ylabel(\"Close ($)\")\n",
    "ax.legend([\"original\", \"back-fill\", \"forward-fill\"]);"
   ]
  },
  {
   "cell_type": "markdown",
   "id": "235f6b1c",
   "metadata": {},
   "source": [
    "### Rolling Window Functions\n",
    "\n",
    "The `rolling` and `ewm` methods are both rolling window functions. The first includes functions of the sequence\n",
    "\n",
    "$$\n",
    "y_t = f(\\{x_{t-i} \\}_{i=0}^{i=R-1})\n",
    "$$\n",
    "\n",
    "where $R$ is the number of periods to use for the rolling window. For example, if the function is the mean, then $f$ takes the form $\\frac{1}{R}\\displaystyle\\sum_{i=0}^{i=R-1} x_{t-i}$.\n",
    "\n",
    "The example below is a 2-period rolling mean:"
   ]
  },
  {
   "cell_type": "code",
   "execution_count": 48,
   "id": "1ddc4fb2",
   "metadata": {},
   "outputs": [
    {
     "data": {
      "text/html": [
       "<div>\n",
       "<style scoped>\n",
       "    .dataframe tbody tr th:only-of-type {\n",
       "        vertical-align: middle;\n",
       "    }\n",
       "\n",
       "    .dataframe tbody tr th {\n",
       "        vertical-align: top;\n",
       "    }\n",
       "\n",
       "    .dataframe thead th {\n",
       "        text-align: right;\n",
       "    }\n",
       "</style>\n",
       "<table border=\"1\" class=\"dataframe\">\n",
       "  <thead>\n",
       "    <tr style=\"text-align: right;\">\n",
       "      <th></th>\n",
       "      <th>Vacancies (ICT), thousands</th>\n",
       "    </tr>\n",
       "    <tr>\n",
       "      <th>date</th>\n",
       "      <th></th>\n",
       "    </tr>\n",
       "  </thead>\n",
       "  <tbody>\n",
       "    <tr>\n",
       "      <th>2001-05-31</th>\n",
       "      <td>NaN</td>\n",
       "    </tr>\n",
       "    <tr>\n",
       "      <th>2001-06-30</th>\n",
       "      <td>49.0</td>\n",
       "    </tr>\n",
       "    <tr>\n",
       "      <th>2001-07-31</th>\n",
       "      <td>47.5</td>\n",
       "    </tr>\n",
       "    <tr>\n",
       "      <th>2001-08-31</th>\n",
       "      <td>46.5</td>\n",
       "    </tr>\n",
       "    <tr>\n",
       "      <th>2001-09-30</th>\n",
       "      <td>45.0</td>\n",
       "    </tr>\n",
       "    <tr>\n",
       "      <th>...</th>\n",
       "      <td>...</td>\n",
       "    </tr>\n",
       "    <tr>\n",
       "      <th>2021-12-31</th>\n",
       "      <td>72.5</td>\n",
       "    </tr>\n",
       "    <tr>\n",
       "      <th>2022-01-31</th>\n",
       "      <td>76.5</td>\n",
       "    </tr>\n",
       "    <tr>\n",
       "      <th>2022-02-28</th>\n",
       "      <td>76.5</td>\n",
       "    </tr>\n",
       "    <tr>\n",
       "      <th>2022-03-31</th>\n",
       "      <td>77.5</td>\n",
       "    </tr>\n",
       "    <tr>\n",
       "      <th>2022-04-30</th>\n",
       "      <td>79.0</td>\n",
       "    </tr>\n",
       "  </tbody>\n",
       "</table>\n",
       "<p>252 rows × 1 columns</p>\n",
       "</div>"
      ],
      "text/plain": [
       "            Vacancies (ICT), thousands\n",
       "date                                  \n",
       "2001-05-31                         NaN\n",
       "2001-06-30                        49.0\n",
       "2001-07-31                        47.5\n",
       "2001-08-31                        46.5\n",
       "2001-09-30                        45.0\n",
       "...                                ...\n",
       "2021-12-31                        72.5\n",
       "2022-01-31                        76.5\n",
       "2022-02-28                        76.5\n",
       "2022-03-31                        77.5\n",
       "2022-04-30                        79.0\n",
       "\n",
       "[252 rows x 1 columns]"
      ]
     },
     "execution_count": 48,
     "metadata": {},
     "output_type": "execute_result"
    }
   ],
   "source": [
    "df.rolling(2).mean()"
   ]
  },
  {
   "cell_type": "markdown",
   "id": "488f3c7c",
   "metadata": {},
   "source": [
    "The `ewm` includes the class of functions where data point $x_{t-i}$ has a weight $w_i = (1-\\alpha)^i$. As $0 < \\alpha < 1$, points further back in time are given less weight. For example, an exponentially moving average is given by\n",
    "\n",
    "$$\n",
    "y_t = \\frac{x_t + (1 - \\alpha)x_{t-1} + (1 - \\alpha)^2 x_{t-2} + ...\n",
    "+ (1 - \\alpha)^t x_{0}}{1 + (1 - \\alpha) + (1 - \\alpha)^2 + ...\n",
    "+ (1 - \\alpha)^t}\n",
    "$$\n",
    "\n",
    "The example below shows the code for the exponentially weighted moving average:"
   ]
  },
  {
   "cell_type": "code",
   "execution_count": 49,
   "id": "0ea9c8ce",
   "metadata": {},
   "outputs": [
    {
     "data": {
      "text/html": [
       "<div>\n",
       "<style scoped>\n",
       "    .dataframe tbody tr th:only-of-type {\n",
       "        vertical-align: middle;\n",
       "    }\n",
       "\n",
       "    .dataframe tbody tr th {\n",
       "        vertical-align: top;\n",
       "    }\n",
       "\n",
       "    .dataframe thead th {\n",
       "        text-align: right;\n",
       "    }\n",
       "</style>\n",
       "<table border=\"1\" class=\"dataframe\">\n",
       "  <thead>\n",
       "    <tr style=\"text-align: right;\">\n",
       "      <th></th>\n",
       "      <th>Vacancies (ICT), thousands</th>\n",
       "    </tr>\n",
       "    <tr>\n",
       "      <th>date</th>\n",
       "      <th></th>\n",
       "    </tr>\n",
       "  </thead>\n",
       "  <tbody>\n",
       "    <tr>\n",
       "      <th>2001-05-31</th>\n",
       "      <td>50.000000</td>\n",
       "    </tr>\n",
       "    <tr>\n",
       "      <th>2001-06-30</th>\n",
       "      <td>48.888889</td>\n",
       "    </tr>\n",
       "    <tr>\n",
       "      <th>2001-07-31</th>\n",
       "      <td>48.114754</td>\n",
       "    </tr>\n",
       "    <tr>\n",
       "      <th>2001-08-31</th>\n",
       "      <td>47.398374</td>\n",
       "    </tr>\n",
       "    <tr>\n",
       "      <th>2001-09-30</th>\n",
       "      <td>46.387435</td>\n",
       "    </tr>\n",
       "    <tr>\n",
       "      <th>...</th>\n",
       "      <td>...</td>\n",
       "    </tr>\n",
       "    <tr>\n",
       "      <th>2021-12-31</th>\n",
       "      <td>61.948986</td>\n",
       "    </tr>\n",
       "    <tr>\n",
       "      <th>2022-01-31</th>\n",
       "      <td>64.959189</td>\n",
       "    </tr>\n",
       "    <tr>\n",
       "      <th>2022-02-28</th>\n",
       "      <td>67.167351</td>\n",
       "    </tr>\n",
       "    <tr>\n",
       "      <th>2022-03-31</th>\n",
       "      <td>69.533881</td>\n",
       "    </tr>\n",
       "    <tr>\n",
       "      <th>2022-04-30</th>\n",
       "      <td>71.427105</td>\n",
       "    </tr>\n",
       "  </tbody>\n",
       "</table>\n",
       "<p>252 rows × 1 columns</p>\n",
       "</div>"
      ],
      "text/plain": [
       "            Vacancies (ICT), thousands\n",
       "date                                  \n",
       "2001-05-31                   50.000000\n",
       "2001-06-30                   48.888889\n",
       "2001-07-31                   48.114754\n",
       "2001-08-31                   47.398374\n",
       "2001-09-30                   46.387435\n",
       "...                                ...\n",
       "2021-12-31                   61.948986\n",
       "2022-01-31                   64.959189\n",
       "2022-02-28                   67.167351\n",
       "2022-03-31                   69.533881\n",
       "2022-04-30                   71.427105\n",
       "\n",
       "[252 rows x 1 columns]"
      ]
     },
     "execution_count": 49,
     "metadata": {},
     "output_type": "execute_result"
    }
   ],
   "source": [
    "df.ewm(alpha=0.2).mean()"
   ]
  },
  {
   "cell_type": "markdown",
   "id": "8d9eb44c",
   "metadata": {},
   "source": [
    "Let's see these methods together on the stock market data."
   ]
  },
  {
   "cell_type": "code",
   "execution_count": 50,
   "id": "0af7b5e6",
   "metadata": {},
   "outputs": [
    {
     "data": {
      "image/svg+xml": "<?xml version=\"1.0\" encoding=\"utf-8\" standalone=\"no\"?>\n<!DOCTYPE svg PUBLIC \"-//W3C//DTD SVG 1.1//EN\"\n  \"http://www.w3.org/Graphics/SVG/1.1/DTD/svg11.dtd\">\n<svg xmlns:xlink=\"http://www.w3.org/1999/xlink\" width=\"382.04875pt\" height=\"264.488699pt\" viewBox=\"0 0 382.04875 264.488699\" xmlns=\"http://www.w3.org/2000/svg\" version=\"1.1\">\n <metadata>\n  <rdf:RDF xmlns:dc=\"http://purl.org/dc/elements/1.1/\" xmlns:cc=\"http://creativecommons.org/ns#\" xmlns:rdf=\"http://www.w3.org/1999/02/22-rdf-syntax-ns#\">\n   <cc:Work>\n    <dc:type rdf:resource=\"http://purl.org/dc/dcmitype/StillImage\"/>\n    <dc:date>2022-07-15T10:52:46.890418</dc:date>\n    <dc:format>image/svg+xml</dc:format>\n    <dc:creator>\n     <cc:Agent>\n      <dc:title>Matplotlib v3.5.2, https://matplotlib.org/</dc:title>\n     </cc:Agent>\n    </dc:creator>\n   </cc:Work>\n  </rdf:RDF>\n </metadata>\n <defs>\n  <style type=\"text/css\">*{stroke-linejoin: round; stroke-linecap: butt}</style>\n </defs>\n <g id=\"figure_1\">\n  <g id=\"patch_1\">\n   <path d=\"M 0 264.488699 \nL 382.04875 264.488699 \nL 382.04875 0 \nL 0 0 \nL 0 264.488699 \nz\n\" style=\"fill: none\"/>\n  </g>\n  <g id=\"axes_1\">\n   <g id=\"patch_2\">\n    <path d=\"M 40.04875 207.137812 \nL 374.84875 207.137812 \nL 374.84875 11.297812 \nL 40.04875 11.297812 \nz\n\" style=\"fill: #ffffff\"/>\n   </g>\n   <g id=\"matplotlib.axis_1\">\n    <g id=\"xtick_1\">\n     <g id=\"line2d_1\">\n      <defs>\n       <path id=\"m2b307728ec\" d=\"M 0 0 \nL 0 3.5 \n\" style=\"stroke: #323034; stroke-width: 0.8\"/>\n      </defs>\n      <g>\n       <use xlink:href=\"#m2b307728ec\" x=\"54.573621\" y=\"207.137812\" style=\"fill: #323034; stroke: #323034; stroke-width: 0.8\"/>\n      </g>\n     </g>\n     <g id=\"text_1\">\n      <!-- 2017-01 -->\n      <g style=\"fill: #323034\" transform=\"translate(18.634206 241.233244)rotate(-30)scale(0.12 -0.12)\">\n       <defs>\n        <path id=\"STIXGeneral-Regular-32\" d=\"M 3034 877 \nL 2688 0 \nL 186 0 \nL 186 77 \nL 1325 1286 \nQ 1773 1754 1965 2144 \nQ 2157 2534 2157 2950 \nQ 2157 3379 1920 3616 \nQ 1683 3853 1267 3853 \nQ 922 3853 720 3673 \nQ 518 3494 326 3021 \nL 192 3053 \nQ 301 3648 630 3987 \nQ 960 4326 1523 4326 \nQ 2054 4326 2380 4006 \nQ 2707 3686 2707 3200 \nQ 2707 2477 1888 1613 \nL 832 486 \nL 2330 486 \nQ 2541 486 2665 569 \nQ 2790 653 2944 915 \nL 3034 877 \nz\n\" transform=\"scale(0.015625)\"/>\n        <path id=\"STIXGeneral-Regular-30\" d=\"M 3046 2112 \nQ 3046 1683 2963 1302 \nQ 2880 922 2717 602 \nQ 2554 282 2266 96 \nQ 1978 -90 1600 -90 \nQ 1210 -90 915 108 \nQ 621 307 461 640 \nQ 301 973 227 1350 \nQ 154 1728 154 2150 \nQ 154 2746 301 3222 \nQ 448 3699 790 4012 \nQ 1133 4326 1626 4326 \nQ 2253 4326 2649 3712 \nQ 3046 3098 3046 2112 \nz\nM 2432 2080 \nQ 2432 3091 2217 3625 \nQ 2003 4160 1587 4160 \nQ 1190 4160 979 3622 \nQ 768 3085 768 2106 \nQ 768 1120 979 598 \nQ 1190 77 1600 77 \nQ 2003 77 2217 598 \nQ 2432 1120 2432 2080 \nz\n\" transform=\"scale(0.015625)\"/>\n        <path id=\"STIXGeneral-Regular-31\" d=\"M 2522 0 \nL 755 0 \nL 755 96 \nQ 1107 115 1235 227 \nQ 1363 339 1363 608 \nL 1363 3482 \nQ 1363 3795 1171 3795 \nQ 1082 3795 883 3718 \nL 710 3654 \nL 710 3744 \nL 1856 4326 \nL 1914 4307 \nL 1914 486 \nQ 1914 275 2042 185 \nQ 2170 96 2522 96 \nL 2522 0 \nz\n\" transform=\"scale(0.015625)\"/>\n        <path id=\"STIXGeneral-Regular-37\" d=\"M 2874 4134 \nL 1517 -51 \nL 1101 -51 \nL 2368 3763 \nL 992 3763 \nQ 717 3763 582 3667 \nQ 448 3571 243 3238 \nL 128 3296 \nL 512 4237 \nL 2874 4237 \nL 2874 4134 \nz\n\" transform=\"scale(0.015625)\"/>\n        <path id=\"STIXGeneral-Regular-2d\" d=\"M 1824 1242 \nL 250 1242 \nL 250 1645 \nL 1824 1645 \nL 1824 1242 \nz\n\" transform=\"scale(0.015625)\"/>\n       </defs>\n       <use xlink:href=\"#STIXGeneral-Regular-32\"/>\n       <use xlink:href=\"#STIXGeneral-Regular-30\" x=\"49.999985\"/>\n       <use xlink:href=\"#STIXGeneral-Regular-31\" x=\"99.999969\"/>\n       <use xlink:href=\"#STIXGeneral-Regular-37\" x=\"149.999954\"/>\n       <use xlink:href=\"#STIXGeneral-Regular-2d\" x=\"199.999939\"/>\n       <use xlink:href=\"#STIXGeneral-Regular-30\" x=\"233.299927\"/>\n       <use xlink:href=\"#STIXGeneral-Regular-31\" x=\"283.299911\"/>\n      </g>\n     </g>\n    </g>\n    <g id=\"xtick_2\">\n     <g id=\"line2d_2\">\n      <g>\n       <use xlink:href=\"#m2b307728ec\" x=\"85.772627\" y=\"207.137812\" style=\"fill: #323034; stroke: #323034; stroke-width: 0.8\"/>\n      </g>\n     </g>\n     <g id=\"text_2\">\n      <!-- 2017-04 -->\n      <g style=\"fill: #323034\" transform=\"translate(49.833212 241.233244)rotate(-30)scale(0.12 -0.12)\">\n       <defs>\n        <path id=\"STIXGeneral-Regular-34\" d=\"M 3027 1069 \nL 2368 1069 \nL 2368 0 \nL 1869 0 \nL 1869 1069 \nL 77 1069 \nL 77 1478 \nL 2086 4326 \nL 2368 4326 \nL 2368 1478 \nL 3027 1478 \nL 3027 1069 \nz\nM 1869 1478 \nL 1869 3674 \nL 333 1478 \nL 1869 1478 \nz\n\" transform=\"scale(0.015625)\"/>\n       </defs>\n       <use xlink:href=\"#STIXGeneral-Regular-32\"/>\n       <use xlink:href=\"#STIXGeneral-Regular-30\" x=\"49.999985\"/>\n       <use xlink:href=\"#STIXGeneral-Regular-31\" x=\"99.999969\"/>\n       <use xlink:href=\"#STIXGeneral-Regular-37\" x=\"149.999954\"/>\n       <use xlink:href=\"#STIXGeneral-Regular-2d\" x=\"199.999939\"/>\n       <use xlink:href=\"#STIXGeneral-Regular-30\" x=\"233.299927\"/>\n       <use xlink:href=\"#STIXGeneral-Regular-34\" x=\"283.299911\"/>\n      </g>\n     </g>\n    </g>\n    <g id=\"xtick_3\">\n     <g id=\"line2d_3\">\n      <g>\n       <use xlink:href=\"#m2b307728ec\" x=\"117.318288\" y=\"207.137812\" style=\"fill: #323034; stroke: #323034; stroke-width: 0.8\"/>\n      </g>\n     </g>\n     <g id=\"text_3\">\n      <!-- 2017-07 -->\n      <g style=\"fill: #323034\" transform=\"translate(81.378873 241.233244)rotate(-30)scale(0.12 -0.12)\">\n       <use xlink:href=\"#STIXGeneral-Regular-32\"/>\n       <use xlink:href=\"#STIXGeneral-Regular-30\" x=\"49.999985\"/>\n       <use xlink:href=\"#STIXGeneral-Regular-31\" x=\"99.999969\"/>\n       <use xlink:href=\"#STIXGeneral-Regular-37\" x=\"149.999954\"/>\n       <use xlink:href=\"#STIXGeneral-Regular-2d\" x=\"199.999939\"/>\n       <use xlink:href=\"#STIXGeneral-Regular-30\" x=\"233.299927\"/>\n       <use xlink:href=\"#STIXGeneral-Regular-37\" x=\"283.299911\"/>\n      </g>\n     </g>\n    </g>\n    <g id=\"xtick_4\">\n     <g id=\"line2d_4\">\n      <g>\n       <use xlink:href=\"#m2b307728ec\" x=\"149.210605\" y=\"207.137812\" style=\"fill: #323034; stroke: #323034; stroke-width: 0.8\"/>\n      </g>\n     </g>\n     <g id=\"text_4\">\n      <!-- 2017-10 -->\n      <g style=\"fill: #323034\" transform=\"translate(113.271191 241.233244)rotate(-30)scale(0.12 -0.12)\">\n       <use xlink:href=\"#STIXGeneral-Regular-32\"/>\n       <use xlink:href=\"#STIXGeneral-Regular-30\" x=\"49.999985\"/>\n       <use xlink:href=\"#STIXGeneral-Regular-31\" x=\"99.999969\"/>\n       <use xlink:href=\"#STIXGeneral-Regular-37\" x=\"149.999954\"/>\n       <use xlink:href=\"#STIXGeneral-Regular-2d\" x=\"199.999939\"/>\n       <use xlink:href=\"#STIXGeneral-Regular-31\" x=\"233.299927\"/>\n       <use xlink:href=\"#STIXGeneral-Regular-30\" x=\"283.299911\"/>\n      </g>\n     </g>\n    </g>\n    <g id=\"xtick_5\">\n     <g id=\"line2d_5\">\n      <g>\n       <use xlink:href=\"#m2b307728ec\" x=\"181.102923\" y=\"207.137812\" style=\"fill: #323034; stroke: #323034; stroke-width: 0.8\"/>\n      </g>\n     </g>\n     <g id=\"text_5\">\n      <!-- 2018-01 -->\n      <g style=\"fill: #323034\" transform=\"translate(145.163508 241.233244)rotate(-30)scale(0.12 -0.12)\">\n       <defs>\n        <path id=\"STIXGeneral-Regular-38\" d=\"M 2848 992 \nQ 2848 499 2505 204 \nQ 2163 -90 1587 -90 \nQ 1050 -90 704 204 \nQ 358 499 358 954 \nQ 358 1293 524 1533 \nQ 691 1773 1190 2125 \nQ 710 2522 553 2765 \nQ 397 3008 397 3328 \nQ 397 3782 745 4054 \nQ 1094 4326 1638 4326 \nQ 2106 4326 2410 4060 \nQ 2714 3795 2714 3411 \nQ 2714 3059 2531 2848 \nQ 2349 2637 1856 2374 \nQ 2432 1990 2640 1689 \nQ 2848 1389 2848 992 \nz\nM 2272 3411 \nQ 2272 3744 2086 3945 \nQ 1901 4147 1574 4147 \nQ 1248 4147 1059 3977 \nQ 870 3808 870 3513 \nQ 870 3219 1059 2979 \nQ 1248 2739 1670 2490 \nQ 1997 2682 2134 2896 \nQ 2272 3110 2272 3411 \nz\nM 1734 1741 \nL 1357 1997 \nQ 1075 1766 960 1545 \nQ 845 1325 845 1011 \nQ 845 576 1065 333 \nQ 1286 90 1658 90 \nQ 1971 90 2166 285 \nQ 2362 480 2362 794 \nQ 2362 1082 2214 1299 \nQ 2067 1517 1734 1741 \nz\n\" transform=\"scale(0.015625)\"/>\n       </defs>\n       <use xlink:href=\"#STIXGeneral-Regular-32\"/>\n       <use xlink:href=\"#STIXGeneral-Regular-30\" x=\"49.999985\"/>\n       <use xlink:href=\"#STIXGeneral-Regular-31\" x=\"99.999969\"/>\n       <use xlink:href=\"#STIXGeneral-Regular-38\" x=\"149.999954\"/>\n       <use xlink:href=\"#STIXGeneral-Regular-2d\" x=\"199.999939\"/>\n       <use xlink:href=\"#STIXGeneral-Regular-30\" x=\"233.299927\"/>\n       <use xlink:href=\"#STIXGeneral-Regular-31\" x=\"283.299911\"/>\n      </g>\n     </g>\n    </g>\n    <g id=\"xtick_6\">\n     <g id=\"line2d_6\">\n      <g>\n       <use xlink:href=\"#m2b307728ec\" x=\"212.301929\" y=\"207.137812\" style=\"fill: #323034; stroke: #323034; stroke-width: 0.8\"/>\n      </g>\n     </g>\n     <g id=\"text_6\">\n      <!-- 2018-04 -->\n      <g style=\"fill: #323034\" transform=\"translate(176.362514 241.233244)rotate(-30)scale(0.12 -0.12)\">\n       <use xlink:href=\"#STIXGeneral-Regular-32\"/>\n       <use xlink:href=\"#STIXGeneral-Regular-30\" x=\"49.999985\"/>\n       <use xlink:href=\"#STIXGeneral-Regular-31\" x=\"99.999969\"/>\n       <use xlink:href=\"#STIXGeneral-Regular-38\" x=\"149.999954\"/>\n       <use xlink:href=\"#STIXGeneral-Regular-2d\" x=\"199.999939\"/>\n       <use xlink:href=\"#STIXGeneral-Regular-30\" x=\"233.299927\"/>\n       <use xlink:href=\"#STIXGeneral-Regular-34\" x=\"283.299911\"/>\n      </g>\n     </g>\n    </g>\n    <g id=\"xtick_7\">\n     <g id=\"line2d_7\">\n      <g>\n       <use xlink:href=\"#m2b307728ec\" x=\"243.84759\" y=\"207.137812\" style=\"fill: #323034; stroke: #323034; stroke-width: 0.8\"/>\n      </g>\n     </g>\n     <g id=\"text_7\">\n      <!-- 2018-07 -->\n      <g style=\"fill: #323034\" transform=\"translate(207.908176 241.233244)rotate(-30)scale(0.12 -0.12)\">\n       <use xlink:href=\"#STIXGeneral-Regular-32\"/>\n       <use xlink:href=\"#STIXGeneral-Regular-30\" x=\"49.999985\"/>\n       <use xlink:href=\"#STIXGeneral-Regular-31\" x=\"99.999969\"/>\n       <use xlink:href=\"#STIXGeneral-Regular-38\" x=\"149.999954\"/>\n       <use xlink:href=\"#STIXGeneral-Regular-2d\" x=\"199.999939\"/>\n       <use xlink:href=\"#STIXGeneral-Regular-30\" x=\"233.299927\"/>\n       <use xlink:href=\"#STIXGeneral-Regular-37\" x=\"283.299911\"/>\n      </g>\n     </g>\n    </g>\n    <g id=\"xtick_8\">\n     <g id=\"line2d_8\">\n      <g>\n       <use xlink:href=\"#m2b307728ec\" x=\"275.739908\" y=\"207.137812\" style=\"fill: #323034; stroke: #323034; stroke-width: 0.8\"/>\n      </g>\n     </g>\n     <g id=\"text_8\">\n      <!-- 2018-10 -->\n      <g style=\"fill: #323034\" transform=\"translate(239.800493 241.233244)rotate(-30)scale(0.12 -0.12)\">\n       <use xlink:href=\"#STIXGeneral-Regular-32\"/>\n       <use xlink:href=\"#STIXGeneral-Regular-30\" x=\"49.999985\"/>\n       <use xlink:href=\"#STIXGeneral-Regular-31\" x=\"99.999969\"/>\n       <use xlink:href=\"#STIXGeneral-Regular-38\" x=\"149.999954\"/>\n       <use xlink:href=\"#STIXGeneral-Regular-2d\" x=\"199.999939\"/>\n       <use xlink:href=\"#STIXGeneral-Regular-31\" x=\"233.299927\"/>\n       <use xlink:href=\"#STIXGeneral-Regular-30\" x=\"283.299911\"/>\n      </g>\n     </g>\n    </g>\n    <g id=\"xtick_9\">\n     <g id=\"line2d_9\">\n      <g>\n       <use xlink:href=\"#m2b307728ec\" x=\"307.632225\" y=\"207.137812\" style=\"fill: #323034; stroke: #323034; stroke-width: 0.8\"/>\n      </g>\n     </g>\n     <g id=\"text_9\">\n      <!-- 2019-01 -->\n      <g style=\"fill: #323034\" transform=\"translate(271.69281 241.233244)rotate(-30)scale(0.12 -0.12)\">\n       <defs>\n        <path id=\"STIXGeneral-Regular-39\" d=\"M 378 -141 \nL 358 -13 \nQ 1094 115 1603 608 \nQ 2112 1101 2304 1882 \nQ 1933 1517 1344 1517 \nQ 826 1517 509 1875 \nQ 192 2234 192 2816 \nQ 192 3462 573 3894 \nQ 954 4326 1523 4326 \nQ 2131 4326 2528 3840 \nQ 2938 3328 2938 2522 \nQ 2938 1958 2742 1462 \nQ 2547 966 2170 621 \nQ 1773 262 1395 105 \nQ 1018 -51 378 -141 \nz\nM 2317 2272 \nL 2317 2522 \nQ 2317 4147 1472 4147 \nQ 1171 4147 1005 3930 \nQ 909 3802 845 3546 \nQ 781 3290 781 3034 \nQ 781 2464 995 2128 \nQ 1210 1792 1568 1792 \nQ 1824 1792 2070 1917 \nQ 2317 2042 2317 2272 \nz\n\" transform=\"scale(0.015625)\"/>\n       </defs>\n       <use xlink:href=\"#STIXGeneral-Regular-32\"/>\n       <use xlink:href=\"#STIXGeneral-Regular-30\" x=\"49.999985\"/>\n       <use xlink:href=\"#STIXGeneral-Regular-31\" x=\"99.999969\"/>\n       <use xlink:href=\"#STIXGeneral-Regular-39\" x=\"149.999954\"/>\n       <use xlink:href=\"#STIXGeneral-Regular-2d\" x=\"199.999939\"/>\n       <use xlink:href=\"#STIXGeneral-Regular-30\" x=\"233.299927\"/>\n       <use xlink:href=\"#STIXGeneral-Regular-31\" x=\"283.299911\"/>\n      </g>\n     </g>\n    </g>\n    <g id=\"xtick_10\">\n     <g id=\"line2d_10\">\n      <g>\n       <use xlink:href=\"#m2b307728ec\" x=\"338.831231\" y=\"207.137812\" style=\"fill: #323034; stroke: #323034; stroke-width: 0.8\"/>\n      </g>\n     </g>\n     <g id=\"text_10\">\n      <!-- 2019-04 -->\n      <g style=\"fill: #323034\" transform=\"translate(302.891816 241.233244)rotate(-30)scale(0.12 -0.12)\">\n       <use xlink:href=\"#STIXGeneral-Regular-32\"/>\n       <use xlink:href=\"#STIXGeneral-Regular-30\" x=\"49.999985\"/>\n       <use xlink:href=\"#STIXGeneral-Regular-31\" x=\"99.999969\"/>\n       <use xlink:href=\"#STIXGeneral-Regular-39\" x=\"149.999954\"/>\n       <use xlink:href=\"#STIXGeneral-Regular-2d\" x=\"199.999939\"/>\n       <use xlink:href=\"#STIXGeneral-Regular-30\" x=\"233.299927\"/>\n       <use xlink:href=\"#STIXGeneral-Regular-34\" x=\"283.299911\"/>\n      </g>\n     </g>\n    </g>\n    <g id=\"xtick_11\">\n     <g id=\"line2d_11\">\n      <g>\n       <use xlink:href=\"#m2b307728ec\" x=\"370.376892\" y=\"207.137812\" style=\"fill: #323034; stroke: #323034; stroke-width: 0.8\"/>\n      </g>\n     </g>\n     <g id=\"text_11\">\n      <!-- 2019-07 -->\n      <g style=\"fill: #323034\" transform=\"translate(334.437478 241.233244)rotate(-30)scale(0.12 -0.12)\">\n       <use xlink:href=\"#STIXGeneral-Regular-32\"/>\n       <use xlink:href=\"#STIXGeneral-Regular-30\" x=\"49.999985\"/>\n       <use xlink:href=\"#STIXGeneral-Regular-31\" x=\"99.999969\"/>\n       <use xlink:href=\"#STIXGeneral-Regular-39\" x=\"149.999954\"/>\n       <use xlink:href=\"#STIXGeneral-Regular-2d\" x=\"199.999939\"/>\n       <use xlink:href=\"#STIXGeneral-Regular-30\" x=\"233.299927\"/>\n       <use xlink:href=\"#STIXGeneral-Regular-37\" x=\"283.299911\"/>\n      </g>\n     </g>\n    </g>\n    <g id=\"text_12\">\n     <!-- Date -->\n     <g transform=\"translate(196.12 254.684324)scale(0.12 -0.12)\">\n      <defs>\n       <path id=\"STIXGeneral-Regular-44\" d=\"M 102 4237 \nL 1830 4237 \nQ 3078 4237 3750 3654 \nQ 4384 3110 4384 2138 \nQ 4384 966 3514 410 \nQ 2880 0 1901 0 \nL 102 0 \nL 102 122 \nQ 474 147 570 252 \nQ 666 358 666 736 \nL 666 3520 \nQ 666 3891 570 3990 \nQ 474 4090 102 4115 \nL 102 4237 \nz\nM 1318 3731 \nL 1318 538 \nQ 1318 365 1379 301 \nQ 1440 237 1626 237 \nQ 2125 237 2432 307 \nQ 2739 378 3021 570 \nQ 3686 1018 3686 2099 \nQ 3686 3027 3078 3558 \nQ 2803 3802 2476 3901 \nQ 2150 4000 1658 4000 \nQ 1472 4000 1395 3942 \nQ 1318 3885 1318 3731 \nz\n\" transform=\"scale(0.015625)\"/>\n       <path id=\"STIXGeneral-Regular-61\" d=\"M 2829 422 \nL 2829 243 \nQ 2586 -64 2253 -64 \nQ 1888 -64 1843 403 \nL 1837 403 \nQ 1427 -64 909 -64 \nQ 608 -64 422 112 \nQ 237 288 237 602 \nQ 237 1050 685 1350 \nQ 992 1555 1837 1869 \nL 1837 2214 \nQ 1837 2502 1699 2646 \nQ 1562 2790 1338 2790 \nQ 1146 2790 1018 2697 \nQ 890 2605 890 2477 \nQ 890 2419 909 2348 \nQ 928 2278 928 2208 \nQ 928 2112 841 2029 \nQ 755 1946 634 1946 \nQ 525 1946 441 2029 \nQ 358 2112 358 2240 \nQ 358 2547 685 2752 \nQ 986 2944 1421 2944 \nQ 1939 2944 2176 2656 \nQ 2291 2522 2323 2384 \nQ 2355 2246 2355 1946 \nL 2355 723 \nQ 2355 301 2554 301 \nQ 2682 301 2829 422 \nz\nM 1837 813 \nL 1837 1715 \nQ 1248 1510 1018 1293 \nQ 800 1094 800 800 \nQ 800 557 921 432 \nQ 1043 307 1242 307 \nQ 1453 307 1613 410 \nQ 1747 506 1792 589 \nQ 1837 672 1837 813 \nz\n\" transform=\"scale(0.015625)\"/>\n       <path id=\"STIXGeneral-Regular-74\" d=\"M 1702 493 \nL 1786 422 \nQ 1478 -64 1011 -64 \nQ 448 -64 448 749 \nL 448 2675 \nL 109 2675 \nQ 83 2694 83 2720 \nQ 83 2771 192 2842 \nQ 435 2982 813 3526 \nQ 826 3546 874 3606 \nQ 922 3667 941 3706 \nQ 986 3706 986 3622 \nL 986 2880 \nL 1632 2880 \nL 1632 2675 \nL 986 2675 \nL 986 845 \nQ 986 538 1062 403 \nQ 1139 269 1318 269 \nQ 1510 269 1702 493 \nz\n\" transform=\"scale(0.015625)\"/>\n       <path id=\"STIXGeneral-Regular-65\" d=\"M 2611 1050 \nL 2714 1005 \nQ 2330 -64 1376 -64 \nQ 813 -64 486 329 \nQ 160 723 160 1389 \nQ 160 2074 525 2509 \nQ 890 2944 1485 2944 \nQ 2061 2944 2374 2502 \nQ 2560 2246 2592 1773 \nL 621 1773 \nQ 646 1370 700 1158 \nQ 755 947 915 730 \nQ 1184 378 1626 378 \nQ 1939 378 2153 531 \nQ 2368 685 2611 1050 \nz\nM 634 1978 \nL 1939 1978 \nQ 1882 2381 1750 2547 \nQ 1619 2714 1312 2714 \nQ 1043 2714 864 2525 \nQ 685 2336 634 1978 \nz\n\" transform=\"scale(0.015625)\"/>\n      </defs>\n      <use xlink:href=\"#STIXGeneral-Regular-44\"/>\n      <use xlink:href=\"#STIXGeneral-Regular-61\" x=\"72.199982\"/>\n      <use xlink:href=\"#STIXGeneral-Regular-74\" x=\"116.599976\"/>\n      <use xlink:href=\"#STIXGeneral-Regular-65\" x=\"144.399963\"/>\n     </g>\n    </g>\n   </g>\n   <g id=\"matplotlib.axis_2\">\n    <g id=\"ytick_1\">\n     <g id=\"line2d_12\">\n      <defs>\n       <path id=\"m2d1b537205\" d=\"M 0 0 \nL -3.5 0 \n\" style=\"stroke: #323034; stroke-width: 0.8\"/>\n      </defs>\n      <g>\n       <use xlink:href=\"#m2d1b537205\" x=\"40.04875\" y=\"207.137812\" style=\"fill: #323034; stroke: #323034; stroke-width: 0.8\"/>\n      </g>\n     </g>\n     <g id=\"text_13\">\n      <!-- $\\mathdefault{25}$ -->\n      <g style=\"fill: #323034\" transform=\"translate(21.04875 211.235625)scale(0.12 -0.12)\">\n       <defs>\n        <path id=\"STIXGeneral-Regular-35\" d=\"M 2803 4358 \nL 2573 3814 \nQ 2534 3731 2400 3731 \nL 1158 3731 \nL 902 3187 \nQ 1606 3053 1920 2896 \nQ 2234 2739 2502 2368 \nQ 2726 2061 2726 1555 \nQ 2726 1094 2576 780 \nQ 2426 467 2099 224 \nQ 1664 -90 1011 -90 \nQ 646 -90 422 19 \nQ 198 128 198 307 \nQ 198 550 486 550 \nQ 717 550 960 352 \nQ 1210 147 1414 147 \nQ 1747 147 2012 480 \nQ 2278 813 2278 1229 \nQ 2278 1843 1850 2189 \nQ 1293 2637 486 2637 \nQ 410 2637 410 2688 \nL 416 2720 \nL 1114 4237 \nL 2438 4237 \nQ 2547 4237 2608 4269 \nQ 2669 4301 2746 4403 \nL 2803 4358 \nz\n\" transform=\"scale(0.015625)\"/>\n       </defs>\n       <use xlink:href=\"#STIXGeneral-Regular-32\" transform=\"translate(0 0.203125)\"/>\n       <use xlink:href=\"#STIXGeneral-Regular-35\" transform=\"translate(49.999985 0.203125)\"/>\n      </g>\n     </g>\n    </g>\n    <g id=\"ytick_2\">\n     <g id=\"line2d_13\">\n      <g>\n       <use xlink:href=\"#m2d1b537205\" x=\"40.04875\" y=\"179.16067\" style=\"fill: #323034; stroke: #323034; stroke-width: 0.8\"/>\n      </g>\n     </g>\n     <g id=\"text_14\">\n      <!-- $\\mathdefault{30}$ -->\n      <g style=\"fill: #323034\" transform=\"translate(21.04875 183.258482)scale(0.12 -0.12)\">\n       <defs>\n        <path id=\"STIXGeneral-Regular-33\" d=\"M 390 3264 \nL 288 3290 \nQ 435 3770 748 4048 \nQ 1062 4326 1542 4326 \nQ 1990 4326 2265 4083 \nQ 2541 3840 2541 3450 \nQ 2541 2925 1946 2566 \nQ 2298 2413 2477 2227 \nQ 2758 1914 2758 1402 \nQ 2758 890 2464 506 \nQ 2246 211 1840 60 \nQ 1434 -90 979 -90 \nQ 262 -90 262 275 \nQ 262 378 339 442 \nQ 416 506 525 506 \nQ 685 506 915 339 \nQ 1197 141 1466 141 \nQ 1818 141 2058 425 \nQ 2298 710 2298 1120 \nQ 2298 1856 1632 2048 \nQ 1434 2112 979 2112 \nL 979 2202 \nQ 1338 2323 1517 2432 \nQ 2035 2726 2035 3290 \nQ 2035 3610 1852 3776 \nQ 1670 3942 1344 3942 \nQ 768 3942 390 3264 \nz\n\" transform=\"scale(0.015625)\"/>\n       </defs>\n       <use xlink:href=\"#STIXGeneral-Regular-33\" transform=\"translate(0 0.40625)\"/>\n       <use xlink:href=\"#STIXGeneral-Regular-30\" transform=\"translate(49.999985 0.40625)\"/>\n      </g>\n     </g>\n    </g>\n    <g id=\"ytick_3\">\n     <g id=\"line2d_14\">\n      <g>\n       <use xlink:href=\"#m2d1b537205\" x=\"40.04875\" y=\"151.183527\" style=\"fill: #323034; stroke: #323034; stroke-width: 0.8\"/>\n      </g>\n     </g>\n     <g id=\"text_15\">\n      <!-- $\\mathdefault{35}$ -->\n      <g style=\"fill: #323034\" transform=\"translate(21.04875 155.281339)scale(0.12 -0.12)\">\n       <use xlink:href=\"#STIXGeneral-Regular-33\" transform=\"translate(0 0.203125)\"/>\n       <use xlink:href=\"#STIXGeneral-Regular-35\" transform=\"translate(49.999985 0.203125)\"/>\n      </g>\n     </g>\n    </g>\n    <g id=\"ytick_4\">\n     <g id=\"line2d_15\">\n      <g>\n       <use xlink:href=\"#m2d1b537205\" x=\"40.04875\" y=\"123.206384\" style=\"fill: #323034; stroke: #323034; stroke-width: 0.8\"/>\n      </g>\n     </g>\n     <g id=\"text_16\">\n      <!-- $\\mathdefault{40}$ -->\n      <g style=\"fill: #323034\" transform=\"translate(21.04875 127.304196)scale(0.12 -0.12)\">\n       <use xlink:href=\"#STIXGeneral-Regular-34\" transform=\"translate(0 0.40625)\"/>\n       <use xlink:href=\"#STIXGeneral-Regular-30\" transform=\"translate(49.999985 0.40625)\"/>\n      </g>\n     </g>\n    </g>\n    <g id=\"ytick_5\">\n     <g id=\"line2d_16\">\n      <g>\n       <use xlink:href=\"#m2d1b537205\" x=\"40.04875\" y=\"95.229241\" style=\"fill: #323034; stroke: #323034; stroke-width: 0.8\"/>\n      </g>\n     </g>\n     <g id=\"text_17\">\n      <!-- $\\mathdefault{45}$ -->\n      <g style=\"fill: #323034\" transform=\"translate(21.04875 99.327054)scale(0.12 -0.12)\">\n       <use xlink:href=\"#STIXGeneral-Regular-34\" transform=\"translate(0 0.203125)\"/>\n       <use xlink:href=\"#STIXGeneral-Regular-35\" transform=\"translate(49.999985 0.203125)\"/>\n      </g>\n     </g>\n    </g>\n    <g id=\"ytick_6\">\n     <g id=\"line2d_17\">\n      <g>\n       <use xlink:href=\"#m2d1b537205\" x=\"40.04875\" y=\"67.252098\" style=\"fill: #323034; stroke: #323034; stroke-width: 0.8\"/>\n      </g>\n     </g>\n     <g id=\"text_18\">\n      <!-- $\\mathdefault{50}$ -->\n      <g style=\"fill: #323034\" transform=\"translate(21.04875 71.349911)scale(0.12 -0.12)\">\n       <use xlink:href=\"#STIXGeneral-Regular-35\" transform=\"translate(0 0.203125)\"/>\n       <use xlink:href=\"#STIXGeneral-Regular-30\" transform=\"translate(49.999985 0.203125)\"/>\n      </g>\n     </g>\n    </g>\n    <g id=\"ytick_7\">\n     <g id=\"line2d_18\">\n      <g>\n       <use xlink:href=\"#m2d1b537205\" x=\"40.04875\" y=\"39.274955\" style=\"fill: #323034; stroke: #323034; stroke-width: 0.8\"/>\n      </g>\n     </g>\n     <g id=\"text_19\">\n      <!-- $\\mathdefault{55}$ -->\n      <g style=\"fill: #323034\" transform=\"translate(21.04875 43.372768)scale(0.12 -0.12)\">\n       <use xlink:href=\"#STIXGeneral-Regular-35\" transform=\"translate(0 0.203125)\"/>\n       <use xlink:href=\"#STIXGeneral-Regular-35\" transform=\"translate(49.999985 0.203125)\"/>\n      </g>\n     </g>\n    </g>\n    <g id=\"ytick_8\">\n     <g id=\"line2d_19\">\n      <g>\n       <use xlink:href=\"#m2d1b537205\" x=\"40.04875\" y=\"11.297813\" style=\"fill: #323034; stroke: #323034; stroke-width: 0.8\"/>\n      </g>\n     </g>\n     <g id=\"text_20\">\n      <!-- $\\mathdefault{60}$ -->\n      <g style=\"fill: #323034\" transform=\"translate(21.04875 15.395625)scale(0.12 -0.12)\">\n       <defs>\n        <path id=\"STIXGeneral-Regular-36\" d=\"M 2854 4378 \nL 2867 4275 \nQ 2112 4154 1606 3664 \nQ 1101 3174 973 2451 \nQ 1344 2739 1786 2739 \nQ 2349 2739 2672 2380 \nQ 2995 2022 2995 1402 \nQ 2995 774 2669 378 \nQ 2291 -90 1651 -90 \nQ 870 -90 518 557 \nQ 218 1107 218 1786 \nQ 218 2835 915 3552 \nQ 1312 3962 1731 4131 \nQ 2150 4301 2854 4378 \nz\nM 2419 1203 \nQ 2419 2445 1555 2445 \nQ 1235 2445 1024 2275 \nQ 813 2106 813 1702 \nQ 813 954 1046 522 \nQ 1280 90 1722 90 \nQ 2061 90 2240 394 \nQ 2419 698 2419 1203 \nz\n\" transform=\"scale(0.015625)\"/>\n       </defs>\n       <use xlink:href=\"#STIXGeneral-Regular-36\" transform=\"translate(0 0.59375)\"/>\n       <use xlink:href=\"#STIXGeneral-Regular-30\" transform=\"translate(49.999985 0.59375)\"/>\n      </g>\n     </g>\n    </g>\n    <g id=\"text_21\">\n     <!-- Close ($) -->\n     <g transform=\"translate(15.444375 131.382187)rotate(-90)scale(0.12 -0.12)\">\n      <defs>\n       <path id=\"STIXGeneral-Regular-43\" d=\"M 3930 838 \nL 4051 723 \nQ 3482 -90 2304 -90 \nQ 1376 -90 794 480 \nQ 179 1082 179 2080 \nQ 179 3014 755 3661 \nQ 1357 4326 2310 4326 \nQ 2720 4326 3072 4230 \nQ 3475 4115 3514 4115 \nQ 3725 4115 3782 4326 \nL 3910 4326 \nL 3968 2874 \nL 3821 2874 \nQ 3718 3334 3488 3584 \nQ 3034 4070 2458 4070 \nQ 1747 4070 1334 3548 \nQ 922 3027 922 2182 \nQ 922 1152 1382 653 \nQ 1811 192 2522 192 \nQ 2944 192 3251 339 \nQ 3558 486 3930 838 \nz\n\" transform=\"scale(0.015625)\"/>\n       <path id=\"STIXGeneral-Regular-6c\" d=\"M 1645 0 \nL 134 0 \nL 134 96 \nQ 435 122 531 221 \nQ 627 320 627 589 \nL 627 3590 \nQ 627 3821 569 3910 \nQ 512 4000 358 4000 \nQ 224 4000 122 3987 \nL 122 4090 \nQ 730 4237 1133 4371 \nL 1165 4346 \nL 1165 557 \nQ 1165 288 1254 201 \nQ 1344 115 1645 96 \nL 1645 0 \nz\n\" transform=\"scale(0.015625)\"/>\n       <path id=\"STIXGeneral-Regular-6f\" d=\"M 3008 1478 \nQ 3008 806 2608 371 \nQ 2208 -64 1568 -64 \nQ 979 -64 582 368 \nQ 186 800 186 1459 \nQ 186 2125 582 2534 \nQ 979 2944 1626 2944 \nQ 2221 2944 2614 2537 \nQ 3008 2131 3008 1478 \nz\nM 2432 1306 \nQ 2432 2035 2112 2445 \nQ 1856 2765 1504 2765 \nQ 1171 2765 966 2493 \nQ 762 2221 762 1747 \nQ 762 928 1101 435 \nQ 1318 115 1677 115 \nQ 2029 115 2230 432 \nQ 2432 749 2432 1306 \nz\n\" transform=\"scale(0.015625)\"/>\n       <path id=\"STIXGeneral-Regular-73\" d=\"M 998 1926 \nL 1664 1523 \nQ 1984 1331 2105 1164 \nQ 2227 998 2227 736 \nQ 2227 416 1961 176 \nQ 1696 -64 1331 -64 \nQ 1030 -64 864 -6 \nQ 691 51 570 51 \nQ 461 51 416 -26 \nL 333 -26 \nL 333 979 \nL 435 979 \nQ 538 512 730 294 \nQ 922 77 1248 77 \nQ 1485 77 1632 211 \nQ 1779 346 1779 550 \nQ 1779 845 1440 1030 \nL 1094 1222 \nQ 326 1651 326 2150 \nQ 326 2522 566 2730 \nQ 806 2938 1210 2938 \nQ 1491 2938 1638 2867 \nQ 1754 2816 1818 2816 \nQ 1862 2816 1920 2880 \nL 1990 2880 \nL 2022 2010 \nL 1926 2010 \nQ 1818 2445 1654 2621 \nQ 1491 2797 1203 2797 \nQ 986 2797 854 2688 \nQ 723 2579 723 2362 \nQ 723 2253 796 2128 \nQ 870 2003 998 1926 \nz\n\" transform=\"scale(0.015625)\"/>\n       <path id=\"STIXGeneral-Regular-20\" transform=\"scale(0.015625)\"/>\n       <path id=\"STIXGeneral-Regular-28\" d=\"M 1946 -1030 \nL 1869 -1133 \nQ 1126 -710 716 32 \nQ 307 774 307 1613 \nQ 307 3386 1888 4326 \nL 1946 4224 \nQ 1293 3667 1075 3126 \nQ 858 2586 858 1632 \nQ 858 685 1082 96 \nQ 1306 -493 1946 -1030 \nz\n\" transform=\"scale(0.015625)\"/>\n       <path id=\"STIXGeneral-Regular-24\" d=\"M 1690 4077 \nL 1690 2502 \nQ 2234 2208 2445 2045 \nQ 2656 1882 2797 1664 \nQ 2931 1466 2931 1088 \nQ 2931 570 2614 326 \nQ 2298 83 1690 0 \nL 1690 -557 \nL 1472 -557 \nL 1472 0 \nQ 1062 0 806 73 \nQ 550 147 282 326 \nL 282 1158 \nL 378 1158 \nQ 480 685 761 432 \nQ 1043 179 1472 179 \nL 1472 1984 \nQ 800 2362 566 2624 \nQ 333 2886 333 3283 \nQ 333 3731 659 3974 \nQ 986 4218 1472 4250 \nL 1472 4653 \nL 1690 4653 \nL 1690 4250 \nQ 2426 4205 2720 3910 \nL 2720 3200 \nL 2624 3200 \nQ 2528 3597 2301 3814 \nQ 2074 4032 1690 4077 \nz\nM 1472 2605 \nL 1472 4077 \nQ 806 3942 806 3405 \nQ 806 3194 937 3037 \nQ 1069 2880 1472 2605 \nz\nM 1690 1875 \nL 1690 179 \nQ 2086 262 2252 432 \nQ 2419 602 2419 941 \nQ 2419 1235 2272 1427 \nQ 2125 1619 1690 1875 \nz\n\" transform=\"scale(0.015625)\"/>\n       <path id=\"STIXGeneral-Regular-29\" d=\"M 186 4224 \nL 262 4326 \nQ 992 3891 1408 3148 \nQ 1824 2406 1824 1581 \nQ 1824 -166 243 -1133 \nL 186 -1030 \nQ 845 -486 1059 54 \nQ 1274 595 1274 1562 \nQ 1274 2534 1059 3120 \nQ 845 3706 186 4224 \nz\n\" transform=\"scale(0.015625)\"/>\n      </defs>\n      <use xlink:href=\"#STIXGeneral-Regular-43\"/>\n      <use xlink:href=\"#STIXGeneral-Regular-6c\" x=\"66.699997\"/>\n      <use xlink:href=\"#STIXGeneral-Regular-6f\" x=\"94.499985\"/>\n      <use xlink:href=\"#STIXGeneral-Regular-73\" x=\"144.499969\"/>\n      <use xlink:href=\"#STIXGeneral-Regular-65\" x=\"183.399963\"/>\n      <use xlink:href=\"#STIXGeneral-Regular-20\" x=\"227.799957\"/>\n      <use xlink:href=\"#STIXGeneral-Regular-28\" x=\"252.799942\"/>\n      <use xlink:href=\"#STIXGeneral-Regular-24\" x=\"286.09993\"/>\n      <use xlink:href=\"#STIXGeneral-Regular-29\" x=\"336.099915\"/>\n     </g>\n    </g>\n   </g>\n   <g id=\"line2d_20\">\n    <path d=\"M 55.266932 194.497739 \nL 55.613587 194.665602 \nL 55.960243 193.876647 \nL 56.306899 192.198018 \nL 57.346866 190.782375 \nL 57.693521 190.614512 \nL 58.040177 189.775198 \nL 58.386832 190.413076 \nL 58.733488 190.709634 \nL 60.120111 189.450663 \nL 60.466766 189.461854 \nL 60.813422 189.730434 \nL 61.160077 189.450663 \nL 62.200044 189.327563 \nL 62.5467 189.495426 \nL 62.893356 186.977483 \nL 63.586667 186.887956 \nL 64.626634 187.329995 \nL 64.973289 187.665721 \nL 65.319945 177.968843 \nL 65.6666 178.226233 \nL 66.013256 177.554782 \nL 67.053223 175.90413 \nL 67.399879 174.326219 \nL 67.746534 173.67715 \nL 68.09319 172.362224 \nL 68.439845 172.77069 \nL 69.479812 171.215161 \nL 69.826468 168.965799 \nL 70.173124 168.305538 \nL 70.519779 168.512569 \nL 70.866435 168.020171 \nL 72.253057 166.727627 \nL 72.599713 166.190466 \nL 72.946369 167.001803 \nL 73.293024 166.777986 \nL 74.679647 166.358329 \nL 75.026302 162.64856 \nL 75.372958 163.778836 \nL 75.719614 162.659751 \nL 76.75958 163.264057 \nL 77.106236 163.017858 \nL 77.452892 163.722882 \nL 77.799547 164.148135 \nL 78.146203 163.532638 \nL 79.18617 163.443111 \nL 79.532825 163.739668 \nL 79.879481 161.770078 \nL 80.226137 161.479115 \nL 80.572792 162.407956 \nL 81.612759 160.460747 \nL 81.959415 162.592606 \nL 82.30607 160.516702 \nL 82.652726 161.182558 \nL 82.999382 161.53507 \nL 84.039348 161.238512 \nL 84.386004 157.377666 \nL 84.73266 156.9692 \nL 85.425971 157.573506 \nL 86.465938 157.517552 \nL 86.812593 156.096313 \nL 87.159249 157.081108 \nL 87.85256 158.004354 \nL 88.892527 158.228171 \nL 89.239183 160.253716 \nL 89.585838 160.013113 \nL 89.932494 161.003504 \nL 91.319117 159.973945 \nL 92.012428 161.495902 \nL 92.359083 159.162608 \nL 92.705739 159.375234 \nL 93.745706 157.601483 \nL 94.092362 156.409657 \nL 94.439017 157.545529 \nL 94.785673 157.394452 \nL 95.132328 157.584697 \nL 96.518951 152.470475 \nL 97.212262 153.779806 \nL 97.558918 150.56803 \nL 98.94554 143.92066 \nL 99.292196 144.916647 \nL 99.638851 143.170873 \nL 99.985507 140.306014 \nL 101.37213 141.134137 \nL 101.718785 148.055682 \nL 102.065441 145.011769 \nL 102.412096 144.334722 \nL 103.452063 143.114919 \nL 103.798719 143.32195 \nL 104.145375 143.948638 \nL 104.49203 143.238018 \nL 104.838686 143.584935 \nL 106.225308 143.501003 \nL 106.571964 144.748784 \nL 106.91862 144.172455 \nL 107.265275 141.150923 \nL 108.305242 143.182064 \nL 108.651898 142.499422 \nL 108.998553 141.262832 \nL 109.345209 141.783207 \nL 109.691865 149.751097 \nL 110.731831 154.462448 \nL 111.078487 152.867751 \nL 111.425143 154.81496 \nL 111.771798 155.92845 \nL 112.118454 158.625447 \nL 113.158421 153.220263 \nL 113.505076 154.999609 \nL 113.851732 153.852546 \nL 114.198388 154.16589 \nL 114.545043 153.304194 \nL 115.58501 153.919691 \nL 115.931666 156.689428 \nL 116.278321 153.908501 \nL 116.624977 156.762169 \nL 116.971633 156.297749 \nL 118.011599 157.002772 \nL 118.704911 156.208222 \nL 119.051566 158.026736 \nL 119.398222 156.079527 \nL 120.438189 154.926868 \nL 120.784844 154.305776 \nL 121.1315 154.026004 \nL 121.478156 151.345794 \nL 121.824811 149.66157 \nL 122.864778 148.956546 \nL 123.211434 148.273904 \nL 123.558089 147.026123 \nL 123.904745 147.938178 \nL 124.251401 148.038896 \nL 125.984679 143.780775 \nL 126.331334 147.647216 \nL 126.67799 149.029287 \nL 127.717957 150.086823 \nL 128.064612 148.318667 \nL 128.411268 138.940729 \nL 128.757924 141.011038 \nL 130.144546 136.696962 \nL 130.837857 133.731385 \nL 131.184513 140.529831 \nL 131.531169 137.648185 \nL 132.571136 134.525936 \nL 132.917791 132.203833 \nL 133.264447 133.048743 \nL 133.611102 137.144597 \nL 133.957758 137.625803 \nL 134.997725 138.028674 \nL 135.344381 134.621058 \nL 135.691036 134.341287 \nL 136.037692 135.286914 \nL 137.424314 132.382887 \nL 137.77097 130.407701 \nL 138.117626 129.831371 \nL 138.464281 129.008843 \nL 138.810937 128.952889 \nL 140.197559 131.560359 \nL 140.544215 131.784176 \nL 140.890871 132.629086 \nL 141.237526 136.098251 \nL 142.277493 132.338123 \nL 142.624149 133.171842 \nL 143.31746 136.573863 \nL 143.664116 134.481172 \nL 144.704082 136.042297 \nL 145.050738 135.986343 \nL 145.744049 143.114919 \nL 146.090705 145.08451 \nL 147.130672 146.85826 \nL 147.477327 143.400286 \nL 147.823983 141.990238 \nL 148.170639 143.238018 \nL 148.517294 142.141314 \nL 149.557261 142.555376 \nL 149.903917 141.671298 \nL 150.250572 143.008606 \nL 150.597228 140.434708 \nL 150.943884 140.563403 \nL 151.98385 139.819211 \nL 152.330506 139.73528 \nL 152.677162 138.912752 \nL 153.023817 139.617776 \nL 154.41044 134.481172 \nL 154.757095 133.675431 \nL 155.103751 134.649035 \nL 155.450407 139.628967 \nL 155.797062 139.326814 \nL 156.837029 139.410745 \nL 157.183685 138.185346 \nL 157.53034 139.102996 \nL 157.876996 137.748903 \nL 158.223652 130.211861 \nL 159.263619 125.383006 \nL 159.610274 122.271947 \nL 159.95693 125.175975 \nL 160.303585 123.519728 \nL 160.650241 117.706078 \nL 162.036863 114.634187 \nL 162.383519 112.714955 \nL 162.730175 113.190567 \nL 163.07683 113.985118 \nL 164.116797 114.891577 \nL 164.810108 121.443824 \nL 165.156764 118.713255 \nL 165.50342 120.005799 \nL 166.543387 120.246402 \nL 166.890042 116.005067 \nL 167.236698 113.599033 \nL 167.930009 113.582247 \nL 168.969976 114.757287 \nL 169.316632 116.094594 \nL 169.663287 120.889876 \nL 170.009943 117.750841 \nL 170.356598 118.785995 \nL 171.396565 120.459028 \nL 171.743221 120.666059 \nL 172.089877 121.482992 \nL 172.436532 121.113694 \nL 172.783188 121.040953 \nL 173.823155 116.642946 \nL 174.16981 117.957872 \nL 174.516466 117.174512 \nL 174.863122 117.247253 \nL 175.209777 114.891577 \nL 176.249744 111.629442 \nL 176.5964 114.175362 \nL 176.943055 114.399179 \nL 177.289711 113.526293 \nL 177.636366 113.526293 \nL 179.022989 119.451851 \nL 179.369645 119.412683 \nL 179.7163 118.746827 \nL 180.062956 121.236793 \nL 181.449578 117.191298 \nL 181.796234 117.230466 \nL 182.14289 116.144953 \nL 182.489545 113.543079 \nL 183.529512 114.343225 \nL 184.222823 114.488706 \nL 184.569479 113.151399 \nL 184.916135 110.778937 \nL 186.302757 111.937191 \nL 186.649413 108.059559 \nL 186.996068 107.841337 \nL 187.342724 108.904469 \nL 188.382691 110.868464 \nL 188.729346 110.818105 \nL 189.422658 118.702064 \nL 189.769313 118.198475 \nL 191.155936 124.247134 \nL 191.849247 123.178407 \nL 192.195903 132.88088 \nL 193.235869 138.252491 \nL 193.582525 129.501241 \nL 194.275836 140.003861 \nL 196.009114 126.849008 \nL 196.35577 122.797918 \nL 196.702426 115.260875 \nL 197.049081 116.021854 \nL 198.435704 116.805214 \nL 198.782359 117.86275 \nL 199.129015 115.926731 \nL 199.475671 111.892427 \nL 200.515638 107.259412 \nL 200.862293 108.025986 \nL 201.208949 108.372903 \nL 201.555604 112.569474 \nL 201.90226 110.963586 \nL 202.942227 110.169035 \nL 203.288883 110.376066 \nL 203.635538 112.530306 \nL 203.982194 110.001172 \nL 204.328849 105.91651 \nL 205.368816 103.588811 \nL 206.062128 107.964437 \nL 206.408783 107.684665 \nL 206.755439 108.512789 \nL 207.795406 112.172199 \nL 208.142061 112.239344 \nL 208.488717 117.594169 \nL 208.835372 120.805945 \nL 209.182028 126.032075 \nL 210.221995 115.563029 \nL 210.568651 121.516564 \nL 210.915306 123.989744 \nL 211.261962 122.232779 \nL 212.648584 123.726759 \nL 212.99524 121.443824 \nL 213.341896 117.124153 \nL 213.688551 115.523861 \nL 214.035207 121.46061 \nL 215.075174 119.216843 \nL 215.421829 114.908363 \nL 215.768485 116.005067 \nL 216.115141 113.75011 \nL 216.461796 112.927582 \nL 217.501763 111.478366 \nL 217.848419 108.221826 \nL 218.195074 108.764583 \nL 218.54173 115.523861 \nL 218.888386 125.019303 \nL 219.928352 125.640395 \nL 220.275008 128.773835 \nL 220.968319 127.016871 \nL 221.314975 129.557195 \nL 222.354942 125.618014 \nL 222.701597 120.470219 \nL 223.048253 110.504761 \nL 223.394909 110.068318 \nL 223.741564 100.735143 \nL 224.781531 98.972583 \nL 225.128187 97.76397 \nL 225.474842 96.034983 \nL 225.821498 92.448313 \nL 226.168154 93.399536 \nL 227.20812 93.998247 \nL 227.554776 96.309159 \nL 227.901432 93.953483 \nL 228.248087 95.553776 \nL 228.594743 96.471426 \nL 229.63471 94.686485 \nL 229.981365 95.313173 \nL 230.328021 93.707285 \nL 230.674677 93.998247 \nL 231.021332 93.410727 \nL 232.407955 94.345163 \nL 232.75461 94.865538 \nL 233.101266 95.721639 \nL 233.447922 91.178151 \nL 234.487889 89.035102 \nL 234.834544 87.059915 \nL 235.1812 86.147861 \nL 235.527855 86.852885 \nL 235.874511 89.202965 \nL 236.914478 89.852034 \nL 237.261134 88.469963 \nL 237.607789 90.545867 \nL 237.954445 90.411577 \nL 238.3011 93.058215 \nL 239.341067 93.18691 \nL 239.687723 97.305145 \nL 240.034378 96.225227 \nL 240.381034 97.596107 \nL 240.72769 98.329109 \nL 241.767657 102.038878 \nL 242.114312 99.00056 \nL 242.460968 99.375454 \nL 242.807623 97.545749 \nL 243.154279 98.077314 \nL 244.194246 95.285195 \nL 244.540902 99.694393 \nL 245.234213 97.674443 \nL 245.580868 94.244446 \nL 246.620835 90.71373 \nL 246.967491 91.03267 \nL 247.314147 94.373141 \nL 247.660802 90.087042 \nL 248.007458 89.706553 \nL 249.047425 90.254905 \nL 249.39408 89.53869 \nL 249.740736 90.965525 \nL 250.087392 88.967957 \nL 250.434047 89.555476 \nL 251.474014 89.314873 \nL 251.82067 87.479573 \nL 252.167325 85.03437 \nL 252.513981 85.828921 \nL 252.860637 90.159783 \nL 253.900603 91.631381 \nL 254.247259 91.122197 \nL 254.593915 76.020135 \nL 254.94057 68.113794 \nL 255.287226 67.308052 \nL 256.327193 65.847646 \nL 256.673848 68.505474 \nL 257.020504 68.31523 \nL 257.36716 66.110631 \nL 257.713815 66.938754 \nL 258.753782 65.170599 \nL 259.100438 63.9452 \nL 259.447093 63.29613 \nL 259.793749 59.144322 \nL 260.140405 53.403413 \nL 261.180371 56.257081 \nL 261.527027 56.816624 \nL 261.873683 56.805433 \nL 262.220338 56.217913 \nL 262.566994 55.300263 \nL 263.606961 52.91661 \nL 263.953616 50.532958 \nL 264.300272 46.118165 \nL 264.993583 39.828903 \nL 266.380206 38.81613 \nL 266.726861 40.852866 \nL 267.073517 45.950302 \nL 267.420173 48.356336 \nL 268.46014 52.373854 \nL 268.806795 44.909552 \nL 269.153451 48.664085 \nL 269.500106 41.479554 \nL 269.846762 44.926338 \nL 270.886729 52.994946 \nL 271.233384 52.496953 \nL 271.58004 52.317899 \nL 271.926696 50.10211 \nL 272.273351 53.291504 \nL 273.313318 49.055765 \nL 273.659974 47.175701 \nL 274.006629 49.559353 \nL 274.353285 43.437954 \nL 274.699941 42.369227 \nL 275.739908 40.338087 \nL 276.086563 37.601922 \nL 276.433219 33.825008 \nL 277.12653 44.294055 \nL 278.166497 45.021461 \nL 278.513153 40.852866 \nL 278.859808 55.031682 \nL 279.206464 57.627961 \nL 279.553119 47.287609 \nL 280.593086 53.683184 \nL 280.939742 47.231655 \nL 281.286398 48.496222 \nL 281.633053 55.484912 \nL 281.979709 51.047737 \nL 283.019676 49.251605 \nL 283.366331 46.45389 \nL 283.712987 56.749479 \nL 284.059643 50.404263 \nL 284.406298 55.104423 \nL 285.446265 60.576752 \nL 285.792921 59.161109 \nL 286.139576 51.652043 \nL 286.486232 47.130937 \nL 286.832888 67.000304 \nL 287.872854 74.951408 \nL 288.21951 72.03619 \nL 288.566166 63.693406 \nL 288.912821 64.678201 \nL 289.259477 70.105767 \nL 290.299444 84.060766 \nL 290.646099 86.685022 \nL 290.992755 94.054201 \nL 291.339411 87.826489 \nL 291.686066 84.939248 \nL 292.726033 95.313173 \nL 293.072689 107.343344 \nL 293.419344 107.600734 \nL 294.112656 113.710942 \nL 295.152622 110.571906 \nL 295.499278 111.058708 \nL 295.845934 101.982923 \nL 296.539245 105.183509 \nL 297.579212 96.728816 \nL 297.925867 107.712642 \nL 298.619179 110.43202 \nL 298.965834 118.84195 \nL 300.005801 117.342375 \nL 300.352457 118.64611 \nL 300.699112 118.013826 \nL 301.045768 115.507074 \nL 301.392424 122.921017 \nL 302.432391 125.008112 \nL 302.779046 122.10968 \nL 303.819013 142.907888 \nL 304.85898 148.167591 \nL 305.552291 134.179019 \nL 305.898947 135.566686 \nL 306.245602 135.454777 \nL 307.285569 133.395659 \nL 307.97888 133.160651 \nL 308.325536 154.462448 \nL 308.672192 146.248359 \nL 309.712159 146.707184 \nL 310.40547 139.410745 \nL 310.752125 138.744889 \nL 311.098781 140.77603 \nL 312.138748 143.864706 \nL 312.485404 139.707303 \nL 312.832059 137.178169 \nL 313.52537 134.660226 \nL 314.911993 139.421936 \nL 315.258649 138.599408 \nL 315.605304 140.227678 \nL 315.95196 133.367682 \nL 316.991927 135.359655 \nL 317.338582 137.536276 \nL 317.685238 123.245552 \nL 318.031894 121.611687 \nL 318.378549 121.516564 \nL 319.418516 115.093012 \nL 319.765172 111.14264 \nL 320.111827 111.058708 \nL 320.458483 115.523861 \nL 320.805138 115.244089 \nL 321.845105 116.592587 \nL 322.191761 114.60621 \nL 322.538417 115.563029 \nL 322.885072 114.723714 \nL 323.231728 115.227303 \nL 324.61835 114.555851 \nL 324.965006 113.03949 \nL 325.311662 114.376798 \nL 325.658317 111.774923 \nL 326.698284 110.068318 \nL 327.04494 109.928432 \nL 327.391595 109.189835 \nL 327.738251 111.517534 \nL 328.084907 109.055545 \nL 329.124873 107.841337 \nL 329.471529 108.277781 \nL 329.818185 109.676638 \nL 330.16484 112.401611 \nL 330.511496 111.853259 \nL 331.898118 100.95896 \nL 332.244774 99.884638 \nL 332.938085 93.886338 \nL 333.978052 91.30125 \nL 334.324708 93.332391 \nL 334.671363 91.10541 \nL 335.018019 81.70509 \nL 335.364675 87.18861 \nL 336.404641 90.299668 \nL 336.751297 92.968688 \nL 337.097953 90.674562 \nL 337.444608 90.327646 \nL 337.791264 88.688185 \nL 338.831231 86.92003 \nL 339.177886 83.131925 \nL 339.524542 81.341387 \nL 339.871198 80.888158 \nL 340.217853 79.08643 \nL 341.25782 74.85069 \nL 341.604476 75.684409 \nL 341.951131 74.173643 \nL 342.297787 76.439792 \nL 342.644443 76.5517 \nL 343.68441 76.048112 \nL 344.031065 76.020135 \nL 344.377721 70.754837 \nL 344.724376 69.770041 \nL 346.110999 68.852391 \nL 346.457655 64.846064 \nL 346.80431 65.282507 \nL 347.150966 67.822832 \nL 347.497621 69.154544 \nL 348.537588 68.740482 \nL 348.884244 74.100903 \nL 349.2309 60.688661 \nL 349.577555 62.563129 \nL 349.924211 59.032414 \nL 350.964178 63.49197 \nL 351.310833 71.112944 \nL 351.657489 71.073776 \nL 352.3508 77.810672 \nL 353.390767 93.45549 \nL 354.084078 86.354891 \nL 354.777389 88.979147 \nL 355.817356 97.053351 \nL 356.164012 92.269259 \nL 356.857323 101.731129 \nL 357.203979 102.682352 \nL 358.590601 103.683934 \nL 358.937257 104.847783 \nL 359.283913 103.588811 \nL 359.630568 107.992414 \nL 359.630568 107.992414 \n\" clip-path=\"url(#p57e4276066)\" style=\"fill: none; stroke: #bc80bd; stroke-opacity: 0.5; stroke-width: 2; stroke-linecap: square\"/>\n   </g>\n   <g id=\"line2d_21\">\n    <path d=\"M 55.266932 194.497739 \nL 55.613587 194.581671 \nL 55.960243 194.346663 \nL 56.306899 193.809502 \nL 57.346866 193.204076 \nL 58.040177 192.344299 \nL 58.733488 191.948089 \nL 60.120111 191.698346 \nL 61.160077 191.202032 \nL 62.5467 190.963294 \nL 63.586667 190.289977 \nL 64.973289 190.010765 \nL 66.013256 188.433268 \nL 67.053223 187.91122 \nL 68.439845 185.821628 \nL 69.479812 185.317956 \nL 70.866435 183.273479 \nL 72.253057 182.786836 \nL 73.293024 181.478992 \nL 74.332991 181.083141 \nL 75.719614 179.442972 \nL 76.75958 179.066718 \nL 78.146203 177.75086 \nL 79.18617 177.452782 \nL 80.572792 176.290968 \nL 81.612759 175.992285 \nL 82.999382 174.972246 \nL 84.039348 174.735457 \nL 85.425971 173.609463 \nL 86.465938 173.354036 \nL 87.85256 172.388948 \nL 89.239183 172.007847 \nL 89.932494 171.683916 \nL 91.665772 171.374516 \nL 92.705739 170.925966 \nL 93.745706 170.752921 \nL 95.132328 170.085299 \nL 96.172295 169.885564 \nL 97.558918 169.07543 \nL 98.598885 168.801409 \nL 99.985507 167.670734 \nL 101.025474 167.37913 \nL 102.065441 166.664016 \nL 102.412096 166.431419 \nL 103.452063 166.191043 \nL 104.838686 165.293314 \nL 106.225308 165.079664 \nL 107.265275 164.459027 \nL 108.305242 164.258301 \nL 109.691865 163.515241 \nL 111.078487 163.339346 \nL 112.118454 163.159787 \nL 113.851732 162.927525 \nL 114.545043 162.774317 \nL 116.624977 162.533854 \nL 118.011599 162.440463 \nL 121.1315 162.12933 \nL 121.824811 161.955812 \nL 123.211434 161.759627 \nL 124.251401 161.455486 \nL 125.638023 161.224742 \nL 126.67799 160.924624 \nL 128.064612 160.76405 \nL 129.104579 160.345008 \nL 130.144546 160.187355 \nL 131.531169 159.578523 \nL 132.571136 159.416893 \nL 133.957758 158.802776 \nL 135.344381 158.523547 \nL 136.384347 158.087979 \nL 137.424314 157.93219 \nL 138.810937 157.260427 \nL 140.544215 156.96115 \nL 141.237526 156.699908 \nL 142.624149 156.426252 \nL 143.664116 156.069971 \nL 145.050738 155.84713 \nL 146.090705 155.629569 \nL 147.823983 155.443333 \nL 148.517294 155.307655 \nL 150.250572 155.105102 \nL 150.943884 154.953744 \nL 152.677162 154.71704 \nL 153.370473 154.558051 \nL 154.757095 154.353253 \nL 155.797062 154.109633 \nL 157.53034 153.888129 \nL 159.95693 153.278418 \nL 160.650241 152.9717 \nL 161.690208 152.795925 \nL 163.07683 152.077307 \nL 164.463453 151.755278 \nL 165.50342 151.328807 \nL 166.890042 151.033669 \nL 167.236698 150.868029 \nL 170.009943 150.126621 \nL 170.356598 149.991532 \nL 171.743221 149.740002 \nL 172.783188 149.378895 \nL 174.16981 149.110456 \nL 175.209777 148.705422 \nL 176.5964 148.411955 \nL 177.636366 147.991777 \nL 179.369645 147.762383 \nL 180.062956 147.541103 \nL 181.796234 147.301339 \nL 182.489545 147.046772 \nL 183.876168 146.792618 \nL 184.916135 146.400468 \nL 186.302757 146.268425 \nL 187.342724 145.836607 \nL 188.729346 145.5735 \nL 189.769313 145.256637 \nL 191.502591 145.017755 \nL 192.195903 144.893755 \nL 194.622492 144.732379 \nL 196.35577 144.535622 \nL 197.049081 144.332141 \nL 198.782359 144.143343 \nL 199.475671 143.933386 \nL 200.862293 143.683106 \nL 201.90226 143.344732 \nL 203.288883 143.120514 \nL 204.328849 142.781878 \nL 205.715472 142.528387 \nL 206.755439 142.187056 \nL 208.142061 141.990458 \nL 209.182028 141.790655 \nL 212.99524 141.401256 \nL 214.035207 141.180136 \nL 215.421829 141.028929 \nL 216.461796 140.779227 \nL 217.848419 140.588306 \nL 218.888386 140.366725 \nL 222.354942 140.133093 \nL 223.394909 139.896915 \nL 223.741564 139.780708 \nL 225.128187 139.536386 \nL 226.168154 139.136602 \nL 227.554776 138.880887 \nL 228.594743 138.504334 \nL 229.981365 138.255025 \nL 231.021332 137.87534 \nL 232.75461 137.630877 \nL 233.447922 137.382669 \nL 234.834544 137.107054 \nL 235.874511 136.693986 \nL 237.261134 136.432097 \nL 238.3011 136.062477 \nL 239.687723 135.840649 \nL 240.72769 135.529674 \nL 242.114312 135.341953 \nL 243.154279 135.046668 \nL 245.234213 134.749871 \nL 245.580868 134.643278 \nL 246.967491 134.414115 \nL 248.007458 134.078854 \nL 249.39408 133.850523 \nL 250.434047 133.511901 \nL 251.82067 133.281724 \nL 252.860637 132.930276 \nL 254.247259 132.720938 \nL 255.287226 132.254136 \nL 256.673848 131.930367 \nL 257.713815 131.450302 \nL 259.100438 131.121592 \nL 260.140405 130.591053 \nL 261.180371 130.410192 \nL 262.566994 129.695733 \nL 263.606961 129.511168 \nL 264.993583 128.705878 \nL 266.380206 128.492363 \nL 267.420173 127.901991 \nL 268.46014 127.724278 \nL 269.846762 126.952908 \nL 270.886729 126.780913 \nL 272.273351 126.092168 \nL 273.313318 125.915073 \nL 274.699941 125.183597 \nL 275.739908 124.990766 \nL 277.12653 124.213927 \nL 278.166497 124.035966 \nL 279.553119 123.378185 \nL 280.593086 123.223307 \nL 281.979709 122.583147 \nL 283.019676 122.421979 \nL 284.406298 121.809831 \nL 285.792921 121.541107 \nL 286.832888 121.112572 \nL 288.21951 120.9082 \nL 289.259477 120.557992 \nL 290.992755 120.352751 \nL 291.686066 120.209418 \nL 301.045768 119.835292 \nL 304.85898 120.008113 \nL 308.672192 120.270313 \nL 312.485404 120.563691 \nL 315.95196 120.786151 \nL 320.111827 120.805648 \nL 332.59143 120.339315 \nL 335.364675 120.010432 \nL 337.444608 119.804433 \nL 340.217853 119.419274 \nL 341.951131 119.185387 \nL 342.644443 119.036383 \nL 344.377721 118.803248 \nL 344.724376 118.718268 \nL 346.457655 118.539101 \nL 347.497621 118.2756 \nL 348.884244 118.115138 \nL 349.924211 117.822018 \nL 351.657489 117.571531 \nL 352.3508 117.430815 \nL 354.430734 117.241282 \nL 355.817356 117.160261 \nL 357.203979 117.03656 \nL 359.630568 116.957297 \nL 359.630568 116.957297 \n\" clip-path=\"url(#p57e4276066)\" style=\"fill: none; stroke-dasharray: 2,3.3; stroke-dashoffset: 0; stroke: #fb8072; stroke-width: 2\"/>\n   </g>\n   <g id=\"line2d_22\">\n    <path d=\"M 55.266932 194.497739 \nL 55.613587 194.582949 \nL 55.960243 194.340308 \nL 56.306899 193.780024 \nL 57.346866 193.143427 \nL 58.040177 192.233934 \nL 58.733488 191.822221 \nL 60.120111 191.551264 \nL 61.160077 191.016107 \nL 62.5467 190.757736 \nL 63.586667 189.964177 \nL 64.973289 189.645004 \nL 66.013256 187.610879 \nL 67.053223 186.933644 \nL 68.439845 184.200481 \nL 69.479812 183.536373 \nL 70.866435 180.805281 \nL 72.253057 180.150497 \nL 73.293024 178.408095 \nL 74.332991 177.884344 \nL 75.372958 176.213088 \nL 75.719614 175.649746 \nL 76.75958 175.140823 \nL 77.799547 173.808377 \nL 78.146203 173.403326 \nL 79.18617 173.014375 \nL 80.572792 171.472893 \nL 81.612759 171.060441 \nL 82.999382 169.721928 \nL 84.039348 169.414963 \nL 85.425971 167.775622 \nL 86.465938 167.414945 \nL 87.505905 166.357909 \nL 87.85256 166.069879 \nL 89.239183 165.611117 \nL 89.932494 165.270847 \nL 91.665772 164.947855 \nL 92.359083 164.64278 \nL 92.705739 164.467433 \nL 93.745706 164.239628 \nL 94.785673 163.558934 \nL 95.132328 163.363095 \nL 96.172295 163.047443 \nL 97.558918 161.736127 \nL 98.598885 161.203477 \nL 99.985507 158.979776 \nL 101.025474 158.400534 \nL 101.37213 157.85015 \nL 102.065441 157.140693 \nL 102.412096 156.734707 \nL 103.452063 156.303654 \nL 104.838686 154.766808 \nL 106.225308 154.413003 \nL 107.265275 153.40311 \nL 108.305242 153.083832 \nL 109.345209 152.065233 \nL 109.691865 151.993286 \nL 111.425143 152.179025 \nL 112.118454 152.490917 \nL 113.851732 152.629156 \nL 114.545043 152.69585 \nL 115.931666 152.855147 \nL 116.624977 153.006475 \nL 116.971633 153.107455 \nL 118.704911 153.318236 \nL 119.398222 153.542501 \nL 121.478156 153.550254 \nL 121.824811 153.43159 \nL 123.211434 153.142036 \nL 124.251401 152.657857 \nL 125.291368 152.44342 \nL 126.331334 151.822763 \nL 126.67799 151.737902 \nL 128.064612 151.585494 \nL 129.104579 150.559414 \nL 130.144546 150.139183 \nL 131.184513 148.936979 \nL 131.531169 148.595177 \nL 132.571136 148.169308 \nL 133.264447 147.243337 \nL 133.957758 146.65631 \nL 134.997725 146.395487 \nL 136.384347 145.043847 \nL 137.424314 144.661507 \nL 138.810937 142.915725 \nL 140.197559 142.573133 \nL 140.890871 141.957587 \nL 141.237526 141.780897 \nL 142.277493 141.496193 \nL 142.970804 141.051149 \nL 143.664116 140.722308 \nL 145.744049 140.496634 \nL 146.090705 140.634795 \nL 148.517294 141.03632 \nL 151.98385 141.079179 \nL 153.370473 140.855885 \nL 154.41044 140.664197 \nL 155.103751 140.279525 \nL 157.876996 140.043977 \nL 158.223652 139.74849 \nL 159.263619 139.316783 \nL 160.650241 137.339916 \nL 161.690208 136.679423 \nL 163.07683 134.03156 \nL 164.116797 133.456632 \nL 165.156764 132.238816 \nL 165.50342 131.871414 \nL 166.543387 131.522283 \nL 167.236698 130.53202 \nL 167.930009 130.023022 \nL 168.969976 129.564608 \nL 169.663287 128.911796 \nL 170.356598 128.282702 \nL 171.396565 128.047797 \nL 172.783188 127.247805 \nL 173.823155 126.929433 \nL 175.209777 125.764818 \nL 176.249744 125.340498 \nL 177.636366 124.027025 \nL 179.369645 123.755319 \nL 180.062956 123.53391 \nL 181.449578 123.343543 \nL 182.14289 122.949523 \nL 182.489545 122.66721 \nL 183.529512 122.417388 \nL 184.916135 121.355784 \nL 186.302757 121.073127 \nL 187.342724 119.955328 \nL 188.382691 119.682637 \nL 189.076002 119.271594 \nL 189.769313 119.222814 \nL 191.155936 119.481228 \nL 191.849247 119.712814 \nL 192.195903 120.10795 \nL 193.582525 120.917936 \nL 194.275836 121.877753 \nL 194.622492 122.345589 \nL 196.35577 122.679934 \nL 197.049081 122.264224 \nL 198.782359 121.973275 \nL 200.515638 121.067694 \nL 201.208949 120.307229 \nL 201.90226 119.801684 \nL 202.942227 119.512667 \nL 204.328849 118.380616 \nL 205.368816 117.936813 \nL 206.408783 116.999976 \nL 206.755439 116.745335 \nL 208.488717 116.510569 \nL 208.835372 116.639442 \nL 209.182028 116.921244 \nL 210.221995 116.880494 \nL 211.261962 117.378842 \nL 214.035207 117.720041 \nL 215.421829 117.679245 \nL 216.115141 117.512643 \nL 216.461796 117.375083 \nL 217.501763 117.198172 \nL 218.195074 116.683927 \nL 218.54173 116.649123 \nL 218.888386 116.900241 \nL 219.928352 117.162457 \nL 221.314975 118.439151 \nL 222.701597 118.708998 \nL 223.394909 118.211017 \nL 223.741564 117.686722 \nL 224.781531 117.125279 \nL 225.821498 115.224672 \nL 226.168154 114.569898 \nL 227.20812 113.952731 \nL 228.594743 111.845225 \nL 229.63471 111.33045 \nL 231.021332 109.352442 \nL 232.407955 108.902214 \nL 233.447922 107.590699 \nL 234.487889 107.03402 \nL 235.874511 104.775331 \nL 236.914478 104.327625 \nL 237.954445 103.061461 \nL 238.3011 102.76136 \nL 239.687723 102.319051 \nL 240.72769 101.889899 \nL 242.114312 101.807553 \nL 245.234213 101.159975 \nL 245.580868 100.952508 \nL 246.620835 100.645341 \nL 248.007458 99.56968 \nL 249.047425 99.290235 \nL 250.434047 98.195826 \nL 251.474014 97.929395 \nL 252.860637 96.69407 \nL 254.247259 96.379587 \nL 254.94057 94.939146 \nL 255.287226 94.110209 \nL 256.327193 93.262328 \nL 257.713815 90.300464 \nL 258.753782 89.546565 \nL 259.793749 87.147951 \nL 260.140405 86.135611 \nL 261.180371 85.239252 \nL 262.566994 81.915732 \nL 263.606961 81.045756 \nL 264.646928 78.036982 \nL 264.993583 76.890736 \nL 266.380206 75.748495 \nL 267.073517 73.839081 \nL 267.420173 73.074597 \nL 268.46014 72.453573 \nL 269.846762 69.300739 \nL 270.886729 68.811564 \nL 272.273351 66.88925 \nL 273.313318 66.354245 \nL 274.699941 63.968645 \nL 275.739908 63.259727 \nL 276.779874 60.960898 \nL 277.12653 60.460892 \nL 278.166497 59.997709 \nL 278.513153 59.423363 \nL 279.206464 59.241703 \nL 279.553119 58.883079 \nL 280.593086 58.727082 \nL 281.286398 58.085639 \nL 281.633053 58.007617 \nL 281.979709 57.79882 \nL 283.019676 57.542404 \nL 283.366331 57.209748 \nL 283.712987 57.19594 \nL 284.059643 56.992189 \nL 284.406298 56.935556 \nL 285.792921 57.108282 \nL 286.139576 56.944595 \nL 286.486232 56.650185 \nL 286.832888 56.960688 \nL 287.872854 57.50041 \nL 288.21951 57.936484 \nL 288.912821 58.306262 \nL 289.259477 58.660248 \nL 290.299444 59.422264 \nL 291.686066 62.738353 \nL 292.726033 63.715598 \nL 293.419344 66.301721 \nL 294.112656 67.723998 \nL 295.152622 69.009436 \nL 295.845934 71.222275 \nL 296.539245 73.191284 \nL 297.579212 73.89741 \nL 297.925867 74.911867 \nL 298.619179 75.977472 \nL 298.965834 77.263407 \nL 300.005801 78.465776 \nL 301.392424 83.093805 \nL 302.432391 84.351234 \nL 303.125702 86.793931 \nL 303.819013 89.869934 \nL 305.552291 92.895669 \nL 306.245602 95.414169 \nL 307.285569 96.553614 \nL 307.97888 97.651826 \nL 308.672192 100.762911 \nL 309.712159 102.14124 \nL 310.752125 105.474139 \nL 311.098781 106.533196 \nL 312.138748 107.653141 \nL 313.178715 110.265934 \nL 313.52537 110.997763 \nL 314.911993 111.850488 \nL 315.95196 114.076822 \nL 316.991927 114.715307 \nL 317.338582 115.399936 \nL 318.378549 115.985655 \nL 319.418516 115.958876 \nL 320.111827 115.671719 \nL 324.965006 115.500612 \nL 325.658317 115.356139 \nL 327.04494 115.039432 \nL 328.084907 114.592311 \nL 329.124873 114.389782 \nL 329.818185 114.070529 \nL 330.511496 113.955445 \nL 331.551463 113.647971 \nL 332.59143 112.393965 \nL 332.938085 111.838736 \nL 333.978052 111.222611 \nL 334.671363 110.09849 \nL 335.364675 108.584945 \nL 336.404641 108.036387 \nL 337.444608 106.57458 \nL 337.791264 106.037988 \nL 338.831231 105.464449 \nL 340.217853 102.665548 \nL 341.25782 101.831102 \nL 342.644443 98.837244 \nL 343.68441 98.15357 \nL 344.377721 96.687525 \nL 344.724376 95.880001 \nL 346.110999 95.069172 \nL 347.150966 92.531883 \nL 347.497621 91.830562 \nL 348.537588 91.13786 \nL 348.884244 90.626751 \nL 349.924211 88.017207 \nL 350.964178 87.28145 \nL 352.004144 85.95582 \nL 352.3508 85.711465 \nL 355.817356 86.513776 \nL 356.164012 86.686441 \nL 356.857323 87.452159 \nL 357.203979 87.909065 \nL 358.590601 88.382311 \nL 359.630568 89.877894 \nL 359.630568 89.877894 \n\" clip-path=\"url(#p57e4276066)\" style=\"fill: none; stroke-dasharray: 7.4,3.2; stroke-dashoffset: 0; stroke: #b3de69; stroke-width: 2\"/>\n   </g>\n   <g id=\"line2d_23\">\n    <path d=\"M 68.439845 185.821628 \nL 69.479812 184.990107 \nL 70.866435 181.500158 \nL 72.253057 180.647055 \nL 73.293024 178.113925 \nL 74.332991 177.291996 \nL 75.372958 174.58281 \nL 75.719614 173.630388 \nL 76.75958 172.693553 \nL 78.146203 169.347887 \nL 79.18617 168.482793 \nL 80.572792 166.330752 \nL 81.612759 165.835556 \nL 82.999382 164.257046 \nL 84.039348 163.981071 \nL 85.425971 162.465509 \nL 86.465938 162.155763 \nL 87.505905 161.103422 \nL 87.85256 160.805066 \nL 89.239183 160.521298 \nL 89.932494 160.346041 \nL 91.665772 160.133215 \nL 93.745706 159.517918 \nL 94.785673 159.006935 \nL 96.172295 158.586878 \nL 97.558918 157.351088 \nL 98.598885 156.917442 \nL 99.985507 154.883304 \nL 101.025474 154.338549 \nL 101.37213 153.769014 \nL 102.065441 152.965071 \nL 102.412096 152.468877 \nL 103.452063 151.856777 \nL 104.838686 149.438752 \nL 106.225308 148.796077 \nL 107.265275 147.150821 \nL 108.305242 146.678407 \nL 109.345209 145.000578 \nL 109.691865 144.859294 \nL 111.425143 144.960811 \nL 111.771798 145.152254 \nL 112.118454 145.630464 \nL 113.158421 145.962592 \nL 114.198388 147.199182 \nL 114.545043 147.644218 \nL 115.58501 148.100845 \nL 116.624977 149.170771 \nL 116.971633 149.641587 \nL 118.704911 150.56803 \nL 119.398222 151.542434 \nL 120.438189 151.9505 \nL 121.824811 153.239247 \nL 122.864778 153.469859 \nL 123.558089 153.907501 \nL 123.904745 153.842754 \nL 124.251401 153.613342 \nL 125.291368 153.354153 \nL 126.67799 152.019644 \nL 127.717957 151.844187 \nL 128.064612 151.646548 \nL 129.104579 150.16316 \nL 130.144546 149.449144 \nL 131.531169 146.69979 \nL 132.571136 145.925423 \nL 133.264447 144.180648 \nL 133.957758 142.949854 \nL 134.997725 142.37852 \nL 136.037692 140.745854 \nL 136.384347 140.254256 \nL 137.424314 139.731283 \nL 138.810937 137.297272 \nL 140.197559 136.860828 \nL 141.237526 135.208978 \nL 143.31746 134.091691 \nL 143.664116 134.012555 \nL 145.397394 134.091691 \nL 145.744049 134.286931 \nL 146.090705 134.664023 \nL 147.130672 135.187396 \nL 147.477327 135.557093 \nL 148.517294 136.077468 \nL 149.557261 136.360837 \nL 150.943884 137.402186 \nL 151.98385 137.738311 \nL 153.370473 139.068625 \nL 155.103751 139.150558 \nL 155.797062 139.630765 \nL 157.183685 139.852784 \nL 157.876996 140.078799 \nL 159.263619 139.367381 \nL 160.650241 136.1608 \nL 161.690208 135.209577 \nL 163.07683 131.099535 \nL 164.116797 130.095356 \nL 165.50342 127.167748 \nL 166.543387 126.501092 \nL 167.236698 124.774303 \nL 167.930009 124.027913 \nL 168.969976 123.352265 \nL 170.356598 120.513184 \nL 171.396565 119.880101 \nL 172.089877 118.640714 \nL 172.436532 118.31578 \nL 172.783188 118.160706 \nL 173.823155 117.95967 \nL 174.516466 117.475266 \nL 177.636366 117.365156 \nL 180.062956 117.374748 \nL 181.796234 117.309402 \nL 182.489545 117.398929 \nL 183.876168 117.324789 \nL 184.916135 116.645944 \nL 186.302757 116.341592 \nL 187.342724 114.968115 \nL 189.422658 114.330835 \nL 189.769313 114.364807 \nL 190.80928 114.651573 \nL 191.502591 115.439729 \nL 191.849247 115.753273 \nL 192.195903 116.444508 \nL 193.582525 117.686494 \nL 193.929181 118.215262 \nL 194.622492 119.554168 \nL 195.662459 119.978221 \nL 196.35577 120.559347 \nL 197.049081 120.680647 \nL 198.782359 120.88588 \nL 199.475671 121.024766 \nL 200.862293 120.856504 \nL 201.208949 120.875488 \nL 201.555604 121.006381 \nL 202.942227 120.986597 \nL 203.635538 120.6159 \nL 203.982194 120.32314 \nL 204.328849 119.715836 \nL 205.368816 118.978038 \nL 206.408783 116.902734 \nL 206.755439 115.840602 \nL 207.795406 115.221707 \nL 208.835372 113.041289 \nL 210.568651 112.484144 \nL 211.261962 113.017708 \nL 213.341896 113.435567 \nL 213.688551 113.565261 \nL 214.035207 114.072446 \nL 216.461796 115.026267 \nL 217.501763 115.065635 \nL 218.195074 114.867597 \nL 218.54173 115.210716 \nL 218.888386 115.976091 \nL 219.928352 116.680116 \nL 221.314975 119.423275 \nL 222.701597 120.0038 \nL 223.048253 119.635901 \nL 223.741564 118.536199 \nL 224.781531 117.731057 \nL 226.168154 113.740118 \nL 227.20812 112.914193 \nL 227.554776 112.227953 \nL 228.248087 110.400446 \nL 228.594743 109.741984 \nL 229.63471 108.980606 \nL 231.021332 106.482447 \nL 232.407955 105.967468 \nL 232.75461 105.229671 \nL 233.447922 102.952531 \nL 234.487889 101.533291 \nL 235.874511 95.79318 \nL 236.914478 94.699674 \nL 237.607789 93.215486 \nL 238.3011 92.63556 \nL 239.687723 92.517457 \nL 240.72769 92.956898 \nL 242.114312 93.341783 \nL 243.154279 93.637741 \nL 244.194246 93.636742 \nL 244.540902 93.850567 \nL 245.580868 94.011636 \nL 248.007458 93.681905 \nL 249.39408 93.917113 \nL 249.740736 94.063993 \nL 251.82067 93.965673 \nL 252.860637 93.40733 \nL 253.900603 93.204695 \nL 254.247259 93.022444 \nL 254.593915 92.251874 \nL 255.287226 89.932369 \nL 256.327193 88.748336 \nL 257.713815 84.447849 \nL 258.753782 83.214857 \nL 260.140405 78.433563 \nL 261.180371 77.072275 \nL 262.566994 72.270598 \nL 263.606961 70.911708 \nL 264.646928 66.345839 \nL 264.993583 64.644029 \nL 266.380206 62.993378 \nL 267.420173 58.262643 \nL 268.46014 56.878773 \nL 268.806795 55.767681 \nL 269.500106 54.150602 \nL 269.846762 53.403413 \nL 270.886729 52.849465 \nL 272.273351 50.766367 \nL 273.313318 50.234601 \nL 273.659974 49.658872 \nL 274.353285 48.960642 \nL 274.699941 48.464647 \nL 275.739908 47.876128 \nL 276.779874 45.820008 \nL 277.12653 45.51206 \nL 278.166497 45.315221 \nL 278.513153 45.127174 \nL 278.859808 45.544633 \nL 279.206464 46.180314 \nL 279.553119 46.482867 \nL 280.939742 46.986855 \nL 281.633053 47.10296 \nL 281.979709 47.322181 \nL 283.019676 47.343164 \nL 283.366331 47.520819 \nL 283.712987 47.943074 \nL 284.059643 47.850549 \nL 285.446265 48.238632 \nL 285.792921 48.562168 \nL 286.486232 48.434872 \nL 286.832888 49.142893 \nL 287.872854 50.049752 \nL 288.566166 51.832696 \nL 289.259477 53.862837 \nL 290.299444 55.656971 \nL 291.686066 62.228802 \nL 292.726033 63.667427 \nL 293.419344 67.597016 \nL 294.112656 69.740865 \nL 295.152622 72.003017 \nL 295.845934 75.898035 \nL 296.539245 79.782261 \nL 297.579212 81.577794 \nL 297.925867 83.397907 \nL 298.619179 85.541756 \nL 298.965834 87.818096 \nL 300.005801 89.84544 \nL 301.392424 98.779141 \nL 302.432391 100.56688 \nL 303.125702 104.692909 \nL 303.819013 109.791943 \nL 305.552291 113.777687 \nL 306.245602 116.961286 \nL 307.97888 120.043568 \nL 308.672192 123.106665 \nL 309.712159 124.285103 \nL 311.098781 129.082783 \nL 312.138748 130.464254 \nL 312.832059 133.051541 \nL 313.178715 133.962796 \nL 313.52537 134.527734 \nL 314.911993 135.31629 \nL 315.95196 137.460139 \nL 316.991927 137.904376 \nL 317.338582 138.35181 \nL 317.685238 138.392377 \nL 318.031894 138.123197 \nL 318.378549 137.65418 \nL 319.418516 136.660792 \nL 319.765172 135.338472 \nL 320.805138 133.075121 \nL 321.845105 132.475012 \nL 322.191761 131.812353 \nL 322.885072 129.297208 \nL 323.231728 128.172926 \nL 324.61835 127.160953 \nL 325.658317 124.31308 \nL 326.698284 123.106066 \nL 327.738251 120.170464 \nL 328.084907 119.256011 \nL 329.124873 118.128133 \nL 330.16484 115.205321 \nL 330.511496 114.365807 \nL 331.551463 113.157594 \nL 332.938085 109.957608 \nL 333.978052 109.248987 \nL 334.324708 108.615904 \nL 334.671363 107.743817 \nL 335.364675 105.495853 \nL 336.404641 104.627763 \nL 337.791264 101.148805 \nL 338.831231 100.215967 \nL 340.217853 95.869518 \nL 341.25782 94.64312 \nL 342.644443 89.863025 \nL 343.68441 88.662006 \nL 344.724376 84.682857 \nL 346.110999 83.536194 \nL 346.80431 81.147146 \nL 347.497621 79.425353 \nL 348.537588 78.54707 \nL 349.2309 77.18918 \nL 349.924211 75.193011 \nL 350.964178 74.140271 \nL 352.004144 72.230431 \nL 352.3508 71.905097 \nL 353.390767 72.273796 \nL 355.817356 74.326918 \nL 356.510668 75.724976 \nL 357.203979 77.575464 \nL 358.590601 78.563457 \nL 359.630568 82.386733 \nL 359.630568 82.386733 \n\" clip-path=\"url(#p57e4276066)\" style=\"fill: none; stroke-dasharray: 12.8,3.2,2,3.2; stroke-dashoffset: 0; stroke: #fdb462; stroke-width: 2\"/>\n   </g>\n   <g id=\"patch_3\">\n    <path d=\"M 40.04875 207.137812 \nL 40.04875 11.297813 \n\" style=\"fill: none; stroke: #000000; stroke-width: 0.6; stroke-linejoin: miter; stroke-linecap: square\"/>\n   </g>\n   <g id=\"patch_4\">\n    <path d=\"M 40.04875 207.137812 \nL 374.84875 207.137812 \n\" style=\"fill: none; stroke: #000000; stroke-width: 0.6; stroke-linejoin: miter; stroke-linecap: square\"/>\n   </g>\n   <g id=\"legend_1\">\n    <g id=\"patch_5\">\n     <path d=\"M 47.04875 68.988437 \nL 154.750313 68.988437 \nQ 156.750313 68.988437 156.750313 66.988437 \nL 156.750313 18.297812 \nQ 156.750313 16.297812 154.750313 16.297812 \nL 47.04875 16.297812 \nQ 45.04875 16.297812 45.04875 18.297812 \nL 45.04875 66.988437 \nQ 45.04875 68.988437 47.04875 68.988437 \nz\n\" style=\"fill: #ffffff; opacity: 0.8; stroke: #e6e6e6; stroke-width: 0.8; stroke-linejoin: miter\"/>\n    </g>\n    <g id=\"line2d_24\">\n     <path d=\"M 47.04875 21.797812 \nL 57.04875 21.797812 \nL 67.04875 21.797812 \n\" style=\"fill: none; stroke: #bc80bd; stroke-opacity: 0.5; stroke-width: 2; stroke-linecap: square\"/>\n    </g>\n    <g id=\"text_22\">\n     <!-- Raw -->\n     <g style=\"fill: #323034\" transform=\"translate(75.04875 25.297812)scale(0.1 -0.1)\">\n      <defs>\n       <path id=\"STIXGeneral-Regular-52\" d=\"M 4224 0 \nL 3187 0 \nL 1664 1971 \nL 1306 1958 \nL 1306 717 \nQ 1306 352 1405 249 \nQ 1504 147 1875 122 \nL 1875 0 \nL 109 0 \nL 109 122 \nQ 474 154 563 262 \nQ 653 371 653 794 \nL 653 3526 \nQ 653 3885 563 3987 \nQ 474 4090 109 4115 \nL 109 4237 \nL 1850 4237 \nQ 2726 4237 3187 3859 \nQ 3501 3603 3501 3091 \nQ 3501 2221 2342 2042 \nL 3622 422 \nQ 3757 256 3878 198 \nQ 4000 141 4224 122 \nL 4224 0 \nz\nM 1306 3731 \nL 1306 2195 \nQ 1766 2202 1990 2246 \nQ 2214 2291 2438 2413 \nQ 2803 2618 2803 3142 \nQ 2803 4000 1632 4000 \nQ 1459 4000 1382 3945 \nQ 1306 3891 1306 3731 \nz\n\" transform=\"scale(0.015625)\"/>\n       <path id=\"STIXGeneral-Regular-77\" d=\"M 4442 2880 \nL 4442 2784 \nQ 4346 2752 4301 2691 \nQ 4256 2630 4179 2438 \nL 3296 224 \nQ 3168 -90 3117 -90 \nQ 3085 -90 3062 -48 \nQ 3040 -6 2963 186 \nL 2381 1696 \nL 1664 160 \nQ 1549 -90 1504 -90 \nQ 1446 -90 1338 192 \nL 474 2381 \nQ 378 2630 314 2700 \nQ 250 2771 134 2784 \nL 134 2880 \nL 1286 2880 \nL 1286 2784 \nQ 1120 2765 1056 2720 \nQ 992 2675 992 2573 \nQ 992 2477 1030 2381 \nL 1664 710 \nL 2246 1984 \nL 2118 2342 \nQ 2029 2598 1942 2681 \nQ 1856 2765 1677 2784 \nL 1677 2880 \nL 2976 2880 \nL 2976 2784 \nQ 2752 2752 2678 2707 \nQ 2605 2662 2605 2560 \nQ 2605 2458 2714 2176 \nL 3251 742 \nL 3827 2163 \nQ 3936 2432 3936 2592 \nQ 3936 2669 3875 2710 \nQ 3814 2752 3654 2784 \nL 3654 2880 \nL 4442 2880 \nz\n\" transform=\"scale(0.015625)\"/>\n      </defs>\n      <use xlink:href=\"#STIXGeneral-Regular-52\"/>\n      <use xlink:href=\"#STIXGeneral-Regular-61\" x=\"66.699997\"/>\n      <use xlink:href=\"#STIXGeneral-Regular-77\" x=\"111.099991\"/>\n     </g>\n    </g>\n    <g id=\"line2d_25\">\n     <path d=\"M 47.04875 34.968125 \nL 57.04875 34.968125 \nL 67.04875 34.968125 \n\" style=\"fill: none; stroke-dasharray: 2,3.3; stroke-dashoffset: 0; stroke: #fb8072; stroke-width: 2\"/>\n    </g>\n    <g id=\"text_23\">\n     <!-- Expanding Average -->\n     <g style=\"fill: #323034\" transform=\"translate(75.04875 38.468125)scale(0.1 -0.1)\">\n      <defs>\n       <path id=\"STIXGeneral-Regular-45\" d=\"M 3821 1082 \nL 3526 0 \nL 77 0 \nL 77 122 \nQ 442 147 538 252 \nQ 634 358 634 730 \nL 634 3520 \nQ 634 3878 534 3987 \nQ 435 4096 77 4115 \nL 77 4237 \nL 3469 4237 \nL 3494 3322 \nL 3334 3322 \nQ 3264 3750 3085 3872 \nQ 2906 3994 2349 3994 \nL 1510 3994 \nQ 1370 3994 1328 3952 \nQ 1286 3910 1286 3763 \nL 1286 2355 \nL 2253 2355 \nQ 2656 2355 2787 2470 \nQ 2918 2586 2976 2970 \nL 3123 2970 \nL 3123 1472 \nL 2976 1472 \nQ 2918 1875 2790 1984 \nQ 2662 2093 2253 2093 \nL 1286 2093 \nL 1286 538 \nQ 1286 346 1420 291 \nQ 1555 237 1933 237 \nL 2163 237 \nQ 2848 237 3136 403 \nQ 3424 570 3642 1082 \nL 3821 1082 \nz\n\" transform=\"scale(0.015625)\"/>\n       <path id=\"STIXGeneral-Regular-78\" d=\"M 3066 0 \nL 1779 0 \nL 1779 96 \nQ 1939 109 1987 137 \nQ 2035 166 2035 250 \nQ 2035 307 1997 365 \nL 1414 1261 \nL 909 474 \nQ 781 275 781 211 \nQ 781 96 1037 96 \nL 1037 0 \nL 109 0 \nL 109 96 \nQ 269 109 355 169 \nQ 442 230 576 422 \nL 1306 1478 \nL 704 2400 \nQ 557 2624 454 2704 \nQ 352 2784 211 2784 \nL 154 2784 \nL 154 2880 \nL 1478 2880 \nL 1478 2784 \nQ 1203 2778 1203 2643 \nQ 1203 2509 1498 2074 \nQ 1581 1958 1587 1946 \nQ 1619 1990 1779 2227 \nQ 1811 2285 1856 2349 \nQ 1901 2413 1923 2451 \nQ 1946 2490 1971 2528 \nQ 1997 2566 2006 2595 \nQ 2016 2624 2016 2643 \nQ 2016 2765 1760 2784 \nL 1760 2880 \nL 2771 2880 \nL 2771 2784 \nQ 2445 2771 2253 2502 \nL 1722 1734 \nL 2541 480 \nQ 2790 96 3066 96 \nL 3066 0 \nz\n\" transform=\"scale(0.015625)\"/>\n       <path id=\"STIXGeneral-Regular-70\" d=\"M 1018 2931 \nL 1018 2438 \nQ 1421 2944 1939 2944 \nQ 2406 2944 2707 2560 \nQ 3008 2176 3008 1581 \nQ 3008 883 2621 409 \nQ 2234 -64 1664 -64 \nQ 1466 -64 1328 -6 \nQ 1190 51 1018 211 \nL 1018 -794 \nQ 1018 -1094 1120 -1180 \nQ 1222 -1267 1581 -1274 \nL 1581 -1389 \nL 32 -1389 \nL 32 -1280 \nQ 314 -1254 397 -1171 \nQ 480 -1088 480 -838 \nL 480 2157 \nQ 480 2381 429 2451 \nQ 378 2522 218 2522 \nQ 115 2522 58 2515 \nL 58 2618 \nQ 506 2752 979 2944 \nL 1018 2931 \nz\nM 1018 2138 \nL 1018 563 \nQ 1018 422 1238 281 \nQ 1459 141 1683 141 \nQ 2029 141 2243 467 \nQ 2458 794 2458 1325 \nQ 2458 1888 2243 2224 \nQ 2029 2560 1670 2560 \nQ 1446 2560 1232 2419 \nQ 1018 2278 1018 2138 \nz\n\" transform=\"scale(0.015625)\"/>\n       <path id=\"STIXGeneral-Regular-6e\" d=\"M 3104 0 \nL 1773 0 \nL 1779 96 \nQ 2016 115 2096 233 \nQ 2176 352 2176 672 \nL 2176 1946 \nQ 2176 2592 1709 2592 \nQ 1549 2592 1408 2515 \nQ 1267 2438 1050 2227 \nL 1050 461 \nQ 1050 269 1136 192 \nQ 1222 115 1466 96 \nL 1466 0 \nL 115 0 \nL 115 96 \nQ 358 115 435 214 \nQ 512 314 512 602 \nL 512 2157 \nQ 512 2394 467 2483 \nQ 422 2573 288 2573 \nQ 160 2573 102 2547 \nL 102 2656 \nQ 550 2784 979 2944 \nL 1030 2925 \nL 1030 2426 \nL 1037 2426 \nQ 1491 2944 1958 2944 \nQ 2323 2944 2518 2688 \nQ 2714 2432 2714 1958 \nL 2714 544 \nQ 2714 288 2790 205 \nQ 2867 122 3104 96 \nL 3104 0 \nz\n\" transform=\"scale(0.015625)\"/>\n       <path id=\"STIXGeneral-Regular-64\" d=\"M 3142 269 \nL 2202 -64 \nL 2176 -45 \nL 2176 365 \nQ 1869 -64 1357 -64 \nQ 826 -64 499 317 \nQ 173 698 173 1312 \nQ 173 1990 563 2467 \nQ 954 2944 1504 2944 \nQ 1850 2944 2176 2669 \nL 2176 3667 \nQ 2176 3866 2118 3930 \nQ 2061 3994 1882 3994 \nQ 1792 3994 1741 3987 \nL 1741 4090 \nQ 2323 4243 2682 4371 \nL 2714 4358 \nL 2714 730 \nQ 2714 506 2768 435 \nQ 2822 365 2995 365 \nQ 3034 365 3142 371 \nL 3142 269 \nz\nM 2176 653 \nL 2176 2125 \nQ 2176 2381 1981 2573 \nQ 1786 2765 1523 2765 \nQ 1158 2765 940 2438 \nQ 723 2112 723 1568 \nQ 723 979 963 624 \nQ 1203 269 1606 269 \nQ 1907 269 2080 474 \nQ 2176 582 2176 653 \nz\n\" transform=\"scale(0.015625)\"/>\n       <path id=\"STIXGeneral-Regular-69\" d=\"M 1152 4045 \nQ 1152 3904 1056 3811 \nQ 960 3718 819 3718 \nQ 685 3718 592 3811 \nQ 499 3904 499 4045 \nQ 499 4179 595 4275 \nQ 691 4371 826 4371 \nQ 966 4371 1059 4275 \nQ 1152 4179 1152 4045 \nz\nM 1619 0 \nL 102 0 \nL 102 96 \nQ 435 115 521 211 \nQ 608 307 608 666 \nL 608 2118 \nQ 608 2342 563 2432 \nQ 518 2522 397 2522 \nQ 243 2522 128 2490 \nL 128 2592 \nL 1120 2944 \nL 1146 2918 \nL 1146 672 \nQ 1146 314 1226 218 \nQ 1306 122 1619 96 \nL 1619 0 \nz\n\" transform=\"scale(0.015625)\"/>\n       <path id=\"STIXGeneral-Regular-67\" d=\"M 3008 2483 \nL 2477 2483 \nQ 2598 2208 2598 1946 \nQ 2598 1453 2265 1203 \nQ 1933 954 1600 954 \nQ 1530 954 1357 973 \nL 1235 986 \nQ 1107 947 979 812 \nQ 851 678 851 582 \nQ 851 435 1350 410 \nL 2176 371 \nQ 2528 358 2739 172 \nQ 2950 -13 2950 -314 \nQ 2950 -685 2566 -986 \nQ 2035 -1395 1286 -1395 \nQ 826 -1395 502 -1212 \nQ 179 -1030 179 -774 \nQ 179 -595 320 -419 \nQ 461 -243 806 6 \nQ 602 102 534 172 \nQ 467 243 467 346 \nQ 467 531 762 787 \nQ 909 915 1037 1043 \nQ 717 1203 579 1401 \nQ 442 1600 442 1901 \nQ 442 2336 752 2640 \nQ 1062 2944 1510 2944 \nQ 1766 2944 2022 2848 \nL 2163 2797 \nQ 2349 2733 2515 2733 \nL 3008 2733 \nL 3008 2483 \nz\nM 973 2163 \nL 973 2144 \nQ 973 1683 1155 1398 \nQ 1338 1114 1632 1114 \nQ 1850 1114 1978 1270 \nQ 2106 1427 2106 1690 \nQ 2106 2112 1914 2464 \nQ 1754 2765 1446 2765 \nQ 1222 2765 1097 2605 \nQ 973 2445 973 2163 \nz\nM 2771 -410 \nQ 2771 -230 2595 -163 \nQ 2419 -96 1978 -96 \nQ 1344 -96 941 -13 \nQ 749 -243 688 -348 \nQ 627 -454 627 -563 \nQ 627 -774 880 -902 \nQ 1133 -1030 1555 -1030 \nQ 2099 -1030 2435 -860 \nQ 2771 -691 2771 -410 \nz\n\" transform=\"scale(0.015625)\"/>\n       <path id=\"STIXGeneral-Regular-41\" d=\"M 4525 0 \nL 2893 0 \nL 2893 122 \nQ 3149 122 3245 179 \nQ 3334 224 3334 333 \nQ 3334 499 3213 781 \nL 2950 1382 \nL 1274 1382 \nL 979 653 \nQ 922 506 922 384 \nQ 922 237 1027 179 \nQ 1133 122 1370 122 \nL 1370 0 \nL 96 0 \nL 96 122 \nQ 365 147 486 316 \nQ 608 486 902 1190 \nL 2221 4314 \nL 2349 4314 \nL 3923 710 \nQ 4064 378 4176 262 \nQ 4288 147 4525 122 \nL 4525 0 \nz\nM 2861 1645 \nL 2118 3405 \nL 1382 1645 \nL 2861 1645 \nz\n\" transform=\"scale(0.015625)\"/>\n       <path id=\"STIXGeneral-Regular-76\" d=\"M 3053 2880 \nL 3053 2784 \nQ 2906 2771 2835 2688 \nQ 2765 2605 2637 2285 \nL 1818 230 \nQ 1690 -90 1638 -90 \nQ 1587 -90 1523 77 \nQ 1510 96 1497 141 \nQ 1485 186 1472 211 \nL 704 2048 \nQ 499 2534 403 2652 \nQ 307 2771 122 2784 \nL 122 2880 \nL 1376 2880 \nL 1376 2784 \nQ 1210 2771 1146 2732 \nQ 1082 2694 1082 2611 \nQ 1082 2509 1139 2368 \nL 1792 730 \nL 2426 2387 \nQ 2464 2483 2464 2579 \nQ 2464 2758 2163 2784 \nL 2163 2880 \nL 3053 2880 \nz\n\" transform=\"scale(0.015625)\"/>\n       <path id=\"STIXGeneral-Regular-72\" d=\"M 1024 2931 \nL 1024 2342 \nQ 1267 2688 1430 2816 \nQ 1594 2944 1792 2944 \nQ 1958 2944 2051 2854 \nQ 2144 2765 2144 2605 \nQ 2144 2470 2077 2393 \nQ 2010 2317 1894 2317 \nQ 1773 2317 1638 2445 \nQ 1536 2541 1472 2541 \nQ 1338 2541 1181 2355 \nQ 1024 2170 1024 2016 \nL 1024 576 \nQ 1024 301 1133 205 \nQ 1242 109 1568 96 \nL 1568 0 \nL 32 0 \nL 32 96 \nQ 339 154 412 224 \nQ 486 294 486 538 \nL 486 2138 \nQ 486 2349 438 2435 \nQ 390 2522 269 2522 \nQ 166 2522 45 2496 \nL 45 2598 \nQ 448 2726 992 2944 \nL 1024 2931 \nz\n\" transform=\"scale(0.015625)\"/>\n      </defs>\n      <use xlink:href=\"#STIXGeneral-Regular-45\"/>\n      <use xlink:href=\"#STIXGeneral-Regular-78\" x=\"61.099991\"/>\n      <use xlink:href=\"#STIXGeneral-Regular-70\" x=\"111.099976\"/>\n      <use xlink:href=\"#STIXGeneral-Regular-61\" x=\"161.09996\"/>\n      <use xlink:href=\"#STIXGeneral-Regular-6e\" x=\"205.499954\"/>\n      <use xlink:href=\"#STIXGeneral-Regular-64\" x=\"255.499939\"/>\n      <use xlink:href=\"#STIXGeneral-Regular-69\" x=\"305.499924\"/>\n      <use xlink:href=\"#STIXGeneral-Regular-6e\" x=\"333.299911\"/>\n      <use xlink:href=\"#STIXGeneral-Regular-67\" x=\"383.299896\"/>\n      <use xlink:href=\"#STIXGeneral-Regular-20\" x=\"433.299881\"/>\n      <use xlink:href=\"#STIXGeneral-Regular-41\" x=\"458.299866\"/>\n      <use xlink:href=\"#STIXGeneral-Regular-76\" x=\"530.499847\"/>\n      <use xlink:href=\"#STIXGeneral-Regular-65\" x=\"580.499832\"/>\n      <use xlink:href=\"#STIXGeneral-Regular-72\" x=\"624.899826\"/>\n      <use xlink:href=\"#STIXGeneral-Regular-61\" x=\"658.199814\"/>\n      <use xlink:href=\"#STIXGeneral-Regular-67\" x=\"702.599808\"/>\n      <use xlink:href=\"#STIXGeneral-Regular-65\" x=\"752.599792\"/>\n     </g>\n    </g>\n    <g id=\"line2d_26\">\n     <path d=\"M 47.04875 48.147812 \nL 57.04875 48.147812 \nL 67.04875 48.147812 \n\" style=\"fill: none; stroke-dasharray: 7.4,3.2; stroke-dashoffset: 0; stroke: #b3de69; stroke-width: 2\"/>\n    </g>\n    <g id=\"text_24\">\n     <!-- EWMA ($\\alpha=$0.03) -->\n     <g style=\"fill: #323034\" transform=\"translate(75.04875 51.647812)scale(0.1 -0.1)\">\n      <defs>\n       <path id=\"STIXGeneral-Regular-57\" d=\"M 5965 4237 \nL 5965 4115 \nQ 5709 4064 5616 3990 \nQ 5523 3917 5434 3667 \nQ 4704 1709 4128 -70 \nL 4032 -70 \nQ 3642 1011 3008 2637 \nL 2022 -70 \nL 1926 -70 \nQ 1709 576 1277 1753 \nQ 845 2931 698 3347 \nQ 538 3808 406 3958 \nQ 275 4109 32 4115 \nL 32 4237 \nL 1594 4237 \nL 1594 4115 \nQ 1357 4109 1270 4064 \nQ 1184 4019 1184 3917 \nQ 1184 3808 1254 3616 \nL 2176 1210 \nL 2842 3021 \nL 2662 3501 \nQ 2509 3917 2400 4013 \nQ 2291 4109 2010 4115 \nL 2010 4237 \nL 3706 4237 \nL 3706 4115 \nQ 3213 4102 3213 3891 \nQ 3213 3808 3322 3520 \nL 4237 1190 \nL 5043 3360 \nQ 5152 3667 5152 3853 \nQ 5152 4109 4704 4115 \nL 4704 4237 \nL 5965 4237 \nz\n\" transform=\"scale(0.015625)\"/>\n       <path id=\"STIXGeneral-Regular-4d\" d=\"M 5530 0 \nL 3738 0 \nL 3738 122 \nQ 4115 147 4214 265 \nQ 4314 384 4314 787 \nL 4314 3661 \nL 2682 0 \nL 2592 0 \nL 979 3514 \nL 979 966 \nQ 979 448 1088 294 \nQ 1197 141 1574 122 \nL 1574 0 \nL 77 0 \nL 77 122 \nQ 358 141 480 205 \nQ 602 269 650 432 \nQ 698 595 698 966 \nL 698 3514 \nQ 698 3878 589 3984 \nQ 480 4090 90 4115 \nL 90 4237 \nL 1357 4237 \nL 2835 1024 \nL 4250 4237 \nL 5523 4237 \nL 5523 4115 \nQ 5178 4109 5072 3993 \nQ 4966 3878 4966 3520 \nL 4966 717 \nQ 4966 378 5072 262 \nQ 5178 147 5530 122 \nL 5530 0 \nz\n\" transform=\"scale(0.015625)\"/>\n       <path id=\"STIXGeneral-Italic-3b1\" d=\"M 3514 2739 \nL 2605 1069 \nL 2605 954 \nQ 2605 704 2662 512 \nQ 2720 320 2822 320 \nQ 2970 320 3149 794 \nL 3251 749 \nQ 3014 -58 2605 -58 \nQ 2291 -58 2272 614 \nQ 1709 -70 1030 -70 \nQ 589 -70 381 198 \nQ 173 467 173 902 \nQ 173 1293 329 1673 \nQ 486 2054 755 2330 \nQ 973 2547 1270 2684 \nQ 1568 2822 1862 2822 \nQ 2246 2822 2457 2595 \nQ 2669 2368 2669 2061 \nL 2963 2739 \nL 3514 2739 \nz\nM 2298 1741 \nQ 2298 2688 1805 2688 \nQ 1472 2688 1085 2099 \nQ 698 1510 698 800 \nQ 698 493 806 278 \nQ 915 64 1139 64 \nQ 1606 64 2195 1286 \nQ 2202 1325 2230 1411 \nQ 2259 1498 2278 1581 \nQ 2298 1664 2298 1741 \nz\n\" transform=\"scale(0.015625)\"/>\n       <path id=\"STIXGeneral-Regular-3d\" d=\"M 4077 2048 \nL 307 2048 \nL 307 2470 \nL 4077 2470 \nL 4077 2048 \nz\nM 4077 768 \nL 307 768 \nL 307 1190 \nL 4077 1190 \nL 4077 768 \nz\n\" transform=\"scale(0.015625)\"/>\n       <path id=\"STIXGeneral-Regular-2e\" d=\"M 1158 275 \nQ 1158 134 1052 32 \nQ 947 -70 800 -70 \nQ 653 -70 550 32 \nQ 448 134 448 281 \nQ 448 429 553 534 \nQ 659 640 806 640 \nQ 947 640 1052 531 \nQ 1158 422 1158 275 \nz\n\" transform=\"scale(0.015625)\"/>\n      </defs>\n      <use xlink:href=\"#STIXGeneral-Regular-45\" transform=\"translate(0 0.40625)\"/>\n      <use xlink:href=\"#STIXGeneral-Regular-57\" transform=\"translate(61.099991 0.40625)\"/>\n      <use xlink:href=\"#STIXGeneral-Regular-4d\" transform=\"translate(155.499985 0.40625)\"/>\n      <use xlink:href=\"#STIXGeneral-Regular-41\" transform=\"translate(244.399979 0.40625)\"/>\n      <use xlink:href=\"#STIXGeneral-Regular-20\" transform=\"translate(316.59996 0.40625)\"/>\n      <use xlink:href=\"#STIXGeneral-Regular-28\" transform=\"translate(341.599945 0.40625)\"/>\n      <use xlink:href=\"#STIXGeneral-Italic-3b1\" transform=\"translate(374.899933 0.40625)\"/>\n      <use xlink:href=\"#STIXGeneral-Regular-3d\" transform=\"translate(444.539926 0.40625)\"/>\n      <use xlink:href=\"#STIXGeneral-Regular-30\" transform=\"translate(527.479907 0.40625)\"/>\n      <use xlink:href=\"#STIXGeneral-Regular-2e\" transform=\"translate(577.479892 0.40625)\"/>\n      <use xlink:href=\"#STIXGeneral-Regular-30\" transform=\"translate(602.479877 0.40625)\"/>\n      <use xlink:href=\"#STIXGeneral-Regular-33\" transform=\"translate(652.479861 0.40625)\"/>\n      <use xlink:href=\"#STIXGeneral-Regular-29\" transform=\"translate(702.479846 0.40625)\"/>\n     </g>\n    </g>\n    <g id=\"line2d_27\">\n     <path d=\"M 47.04875 61.318125 \nL 57.04875 61.318125 \nL 67.04875 61.318125 \n\" style=\"fill: none; stroke-dasharray: 12.8,3.2,2,3.2; stroke-dashoffset: 0; stroke: #fdb462; stroke-width: 2\"/>\n    </g>\n    <g id=\"text_25\">\n     <!-- 28D MA -->\n     <g style=\"fill: #323034\" transform=\"translate(75.04875 64.818125)scale(0.1 -0.1)\">\n      <use xlink:href=\"#STIXGeneral-Regular-32\"/>\n      <use xlink:href=\"#STIXGeneral-Regular-38\" x=\"49.999985\"/>\n      <use xlink:href=\"#STIXGeneral-Regular-44\" x=\"99.999969\"/>\n      <use xlink:href=\"#STIXGeneral-Regular-20\" x=\"172.199951\"/>\n      <use xlink:href=\"#STIXGeneral-Regular-4d\" x=\"197.199936\"/>\n      <use xlink:href=\"#STIXGeneral-Regular-41\" x=\"286.09993\"/>\n     </g>\n    </g>\n   </g>\n  </g>\n </g>\n <defs>\n  <clipPath id=\"p57e4276066\">\n   <rect x=\"40.04875\" y=\"11.297812\" width=\"334.8\" height=\"195.84\"/>\n  </clipPath>\n </defs>\n</svg>\n",
      "text/plain": [
       "<Figure size 900x600 with 1 Axes>"
      ]
     },
     "metadata": {
      "needs_background": "light"
     },
     "output_type": "display_data"
    }
   ],
   "source": [
    "fig, ax = plt.subplots()\n",
    "roll_num = 28\n",
    "alpha = 0.03\n",
    "xf[\"Close\"].plot(label=\"Raw\", alpha=0.5)\n",
    "xf[\"Close\"].expanding().mean().plot(label=\"Expanding Average\", style=\":\")\n",
    "xf[\"Close\"].ewm(alpha=alpha).mean().plot(\n",
    "    label=f\"EWMA ($\\\\alpha=${alpha:.2f})\", style=\"--\"\n",
    ")\n",
    "xf[\"Close\"].rolling(roll_num).mean().plot(label=f\"{roll_num}D MA\", style=\"-.\")\n",
    "ax.legend()\n",
    "ax.set_ylabel(\"Close ($)\");"
   ]
  },
  {
   "cell_type": "markdown",
   "id": "6f795baa",
   "metadata": {},
   "source": [
    "For more tools to analyse stocks, see the [**Pandas TA**](https://twopirllc.github.io/pandas-ta/) package.\n",
    "\n",
    "We can also use `rolling` as an intermediate step in creating more than one type of aggregation:"
   ]
  },
  {
   "cell_type": "code",
   "execution_count": 51,
   "id": "134199ae",
   "metadata": {},
   "outputs": [
    {
     "data": {
      "image/svg+xml": "<?xml version=\"1.0\" encoding=\"utf-8\" standalone=\"no\"?>\n<!DOCTYPE svg PUBLIC \"-//W3C//DTD SVG 1.1//EN\"\n  \"http://www.w3.org/Graphics/SVG/1.1/DTD/svg11.dtd\">\n<svg xmlns:xlink=\"http://www.w3.org/1999/xlink\" width=\"388.350914pt\" height=\"264.488699pt\" viewBox=\"0 0 388.350914 264.488699\" xmlns=\"http://www.w3.org/2000/svg\" version=\"1.1\">\n <metadata>\n  <rdf:RDF xmlns:dc=\"http://purl.org/dc/elements/1.1/\" xmlns:cc=\"http://creativecommons.org/ns#\" xmlns:rdf=\"http://www.w3.org/1999/02/22-rdf-syntax-ns#\">\n   <cc:Work>\n    <dc:type rdf:resource=\"http://purl.org/dc/dcmitype/StillImage\"/>\n    <dc:date>2022-07-15T10:52:50.225538</dc:date>\n    <dc:format>image/svg+xml</dc:format>\n    <dc:creator>\n     <cc:Agent>\n      <dc:title>Matplotlib v3.5.2, https://matplotlib.org/</dc:title>\n     </cc:Agent>\n    </dc:creator>\n   </cc:Work>\n  </rdf:RDF>\n </metadata>\n <defs>\n  <style type=\"text/css\">*{stroke-linejoin: round; stroke-linecap: butt}</style>\n </defs>\n <g id=\"figure_1\">\n  <g id=\"patch_1\">\n   <path d=\"M -0 264.488699 \nL 388.350914 264.488699 \nL 388.350914 0 \nL -0 0 \nL -0 264.488699 \nz\n\" style=\"fill: none\"/>\n  </g>\n  <g id=\"axes_1\">\n   <g id=\"patch_2\">\n    <path d=\"M 46.350914 207.137812 \nL 381.150914 207.137812 \nL 381.150914 11.297812 \nL 46.350914 11.297812 \nz\n\" style=\"fill: #ffffff\"/>\n   </g>\n   <g id=\"PolyCollection_1\">\n    <defs>\n     <path id=\"m0a1f2c6972\" d=\"M 61.569096 -99.243097 \nL 61.569096 -76.004571 \nL 61.946251 -76.749561 \nL 62.323405 -77.547243 \nL 63.454868 -78.332609 \nL 63.832023 -79.075926 \nL 64.209177 -79.773505 \nL 64.586332 -80.4992 \nL 64.963486 -81.215034 \nL 66.472104 -81.998835 \nL 66.849258 -82.822957 \nL 67.226413 -83.617003 \nL 67.603567 -84.458074 \nL 68.735031 -85.364832 \nL 69.112185 -86.305009 \nL 69.489339 -87.285021 \nL 69.866494 -88.344559 \nL 70.243648 -89.294892 \nL 71.375112 -90.301219 \nL 71.752266 -91.376394 \nL 72.129421 -92.56946 \nL 72.506575 -93.915405 \nL 72.883729 -94.555594 \nL 74.015193 -95.260808 \nL 74.392347 -95.957412 \nL 74.769502 -96.568419 \nL 75.146656 -97.120027 \nL 75.523811 -97.659106 \nL 76.655274 -98.137018 \nL 77.032428 -98.669943 \nL 77.409583 -99.131175 \nL 77.786737 -99.465094 \nL 78.163892 -99.776446 \nL 79.295355 -100.068079 \nL 79.672509 -100.322615 \nL 80.049664 -100.542211 \nL 80.426818 -100.767574 \nL 80.803973 -100.981601 \nL 81.935436 -100.999454 \nL 82.312591 -101.019052 \nL 82.689745 -101.154286 \nL 83.066899 -101.112445 \nL 83.444054 -101.068564 \nL 84.575517 -101.077593 \nL 84.952672 -101.17634 \nL 85.329826 -101.423419 \nL 85.706981 -101.685168 \nL 87.215598 -101.979827 \nL 87.592753 -102.253898 \nL 87.969907 -102.553618 \nL 88.347062 -102.898918 \nL 88.724216 -103.17186 \nL 89.855679 -103.45643 \nL 90.232834 -103.799743 \nL 90.609988 -104.085014 \nL 90.987143 -104.477205 \nL 91.364297 -104.77221 \nL 92.495761 -105.132837 \nL 92.872915 -105.525038 \nL 93.250069 -105.915755 \nL 93.627224 -106.164237 \nL 94.004378 -106.359042 \nL 95.135842 -106.452936 \nL 95.512996 -106.607102 \nL 95.890151 -106.703636 \nL 96.267305 -106.709581 \nL 96.644459 -106.646991 \nL 97.775923 -106.793774 \nL 98.153077 -106.905476 \nL 98.530232 -107.063922 \nL 98.907386 -107.308278 \nL 99.284541 -107.571626 \nL 100.416004 -107.872757 \nL 100.793158 -108.023593 \nL 101.170313 -108.324971 \nL 101.547467 -108.563177 \nL 101.924622 -108.696474 \nL 103.433239 -108.811605 \nL 103.810394 -108.873756 \nL 104.187548 -108.799967 \nL 104.564703 -108.864855 \nL 105.696166 -108.969446 \nL 106.073321 -109.107448 \nL 106.450475 -109.096215 \nL 106.827629 -109.128346 \nL 107.204784 -109.219425 \nL 108.336247 -109.350691 \nL 108.713402 -109.398328 \nL 109.090556 -109.381476 \nL 109.467711 -109.347527 \nL 109.844865 -109.316172 \nL 110.976328 -109.310233 \nL 111.353483 -109.331037 \nL 111.730637 -109.349117 \nL 112.107792 -109.34459 \nL 112.484946 -109.3293 \nL 113.616409 -109.269765 \nL 113.993564 -109.243132 \nL 114.370718 -109.188403 \nL 114.747873 -109.169765 \nL 115.125027 -109.136347 \nL 116.256491 -109.044985 \nL 117.010799 -108.924528 \nL 117.387954 -108.785827 \nL 117.765108 -108.785093 \nL 118.896572 -108.754123 \nL 119.273726 -108.669421 \nL 119.650881 -108.544136 \nL 120.028035 -108.456002 \nL 120.405189 -108.437741 \nL 121.536653 -108.426959 \nL 121.913807 -108.532333 \nL 122.290962 -108.763555 \nL 122.668116 -108.957135 \nL 123.045271 -109.251675 \nL 124.176734 -109.605807 \nL 124.553888 -110.088487 \nL 124.931043 -110.335326 \nL 125.308197 -110.675792 \nL 125.685352 -110.987555 \nL 126.816815 -111.342882 \nL 127.193969 -111.715336 \nL 127.571124 -112.136616 \nL 127.948278 -112.715118 \nL 128.325433 -113.174493 \nL 129.456896 -113.80467 \nL 129.834051 -114.438918 \nL 130.211205 -115.136822 \nL 130.588359 -115.804543 \nL 130.965514 -116.635852 \nL 132.096977 -117.369964 \nL 132.474132 -118.066559 \nL 132.851286 -118.698329 \nL 133.228441 -119.240186 \nL 133.605595 -119.554866 \nL 134.737058 -119.698835 \nL 135.114213 -119.950967 \nL 135.491367 -120.220261 \nL 135.868522 -120.385605 \nL 136.245676 -120.641389 \nL 137.377139 -120.893886 \nL 137.754294 -121.054881 \nL 138.131448 -121.129055 \nL 138.508603 -121.249427 \nL 138.885757 -121.563197 \nL 140.394375 -121.997856 \nL 140.771529 -122.532681 \nL 141.148684 -122.992075 \nL 141.525838 -122.971648 \nL 142.657302 -123.057529 \nL 143.034456 -123.171655 \nL 143.411611 -123.208425 \nL 143.788765 -123.213109 \nL 144.165919 -123.101165 \nL 145.297383 -123.141783 \nL 145.674537 -123.0937 \nL 146.051692 -123.031541 \nL 146.428846 -122.940401 \nL 146.806001 -122.886812 \nL 147.937464 -122.911526 \nL 148.314618 -122.856334 \nL 148.691773 -122.74393 \nL 149.068927 -122.692742 \nL 149.446082 -122.616843 \nL 150.577545 -122.39883 \nL 150.954699 -122.14705 \nL 151.331854 -121.910747 \nL 151.709008 -121.647138 \nL 152.086163 -121.450826 \nL 153.217626 -121.310211 \nL 153.594781 -121.218893 \nL 153.971935 -121.238239 \nL 154.349089 -121.297464 \nL 154.726244 -121.360806 \nL 155.857707 -121.52545 \nL 156.234862 -121.615506 \nL 156.612016 -121.70048 \nL 156.989171 -121.813779 \nL 157.366325 -122.00131 \nL 158.497788 -122.166236 \nL 158.874943 -122.402205 \nL 159.252097 -122.65398 \nL 159.629252 -123.039185 \nL 160.006406 -123.587392 \nL 161.137869 -124.243337 \nL 161.515024 -125.0147 \nL 161.892178 -125.630421 \nL 162.269333 -126.201531 \nL 162.646487 -126.854229 \nL 163.777951 -127.496668 \nL 164.155105 -128.183926 \nL 164.532259 -128.855257 \nL 164.909414 -129.628558 \nL 165.286568 -130.297384 \nL 166.418032 -130.995388 \nL 166.795186 -131.694954 \nL 167.172341 -132.422198 \nL 167.549495 -133.136748 \nL 167.926649 -133.928736 \nL 169.058113 -134.632958 \nL 169.435267 -135.143922 \nL 169.812422 -135.638997 \nL 170.566731 -136.158559 \nL 171.698194 -137.098654 \nL 172.075348 -138.080149 \nL 172.452503 -139.161056 \nL 172.829657 -140.249972 \nL 173.206812 -141.559684 \nL 174.338275 -142.93053 \nL 174.715429 -143.669224 \nL 175.092584 -144.06152 \nL 175.469738 -144.252559 \nL 175.846893 -144.663522 \nL 176.978356 -144.899007 \nL 177.35551 -144.883712 \nL 177.732665 -144.862842 \nL 178.109819 -144.868716 \nL 178.486974 -144.862417 \nL 179.618437 -144.850498 \nL 179.995592 -144.747492 \nL 180.372746 -144.673072 \nL 180.7499 -144.472578 \nL 181.127055 -144.318396 \nL 182.635673 -144.097373 \nL 183.012827 -143.951201 \nL 183.389982 -143.111902 \nL 183.767136 -141.764492 \nL 185.275754 -141.204501 \nL 185.652908 -140.357252 \nL 186.030063 -139.132171 \nL 186.407217 -138.210332 \nL 187.53868 -137.912038 \nL 187.915835 -137.651253 \nL 188.292989 -137.553888 \nL 188.670144 -137.639882 \nL 189.047298 -137.723875 \nL 190.555916 -137.819496 \nL 190.93307 -137.889583 \nL 191.310225 -137.987418 \nL 191.687379 -138.026913 \nL 192.818843 -138.075903 \nL 193.195997 -138.124845 \nL 193.573152 -138.183005 \nL 193.950306 -138.204446 \nL 194.32746 -138.206647 \nL 195.458924 -138.229275 \nL 195.836078 -138.2553 \nL 196.213233 -138.263475 \nL 196.590387 -138.28212 \nL 196.967542 -138.391641 \nL 198.099005 -138.490729 \nL 198.476159 -138.607655 \nL 198.853314 -138.806548 \nL 199.230468 -138.907955 \nL 199.607623 -139.013646 \nL 200.739086 -139.074453 \nL 201.11624 -139.0909 \nL 201.493395 -139.027809 \nL 201.870549 -138.882149 \nL 202.247704 -138.555884 \nL 203.756322 -138.519789 \nL 204.133476 -138.320008 \nL 204.51063 -138.053719 \nL 204.887785 -137.83659 \nL 206.019248 -137.581876 \nL 206.396403 -137.406231 \nL 206.773557 -137.338099 \nL 207.150712 -137.297068 \nL 207.527866 -137.163411 \nL 208.659329 -137.152396 \nL 209.036484 -137.205033 \nL 209.413638 -137.362951 \nL 209.790793 -137.595775 \nL 210.167947 -137.820676 \nL 211.29941 -138.047306 \nL 211.676565 -138.728518 \nL 212.053719 -139.798909 \nL 212.430874 -140.296427 \nL 212.808028 -140.80301 \nL 213.939492 -141.763965 \nL 214.316646 -142.393086 \nL 214.6938 -142.469476 \nL 215.070955 -142.460132 \nL 215.448109 -142.104998 \nL 216.579573 -141.751799 \nL 216.956727 -141.631476 \nL 217.333882 -141.717533 \nL 217.711036 -141.834494 \nL 219.219654 -141.831555 \nL 219.596808 -141.748576 \nL 219.973963 -141.631373 \nL 220.351117 -141.491665 \nL 220.728272 -141.282182 \nL 221.859735 -141.189964 \nL 222.236889 -141.122581 \nL 222.614044 -141.109539 \nL 222.991198 -141.079753 \nL 223.368353 -141.132631 \nL 224.499816 -141.167527 \nL 224.87697 -141.145198 \nL 225.254125 -141.122453 \nL 225.631279 -141.106636 \nL 226.008434 -141.129555 \nL 227.139897 -141.15494 \nL 227.517052 -141.212668 \nL 227.894206 -141.355846 \nL 228.27136 -141.516592 \nL 228.648515 -141.812818 \nL 229.779978 -142.229082 \nL 230.157133 -142.882832 \nL 230.534287 -143.15531 \nL 230.911442 -143.687176 \nL 231.288596 -144.381357 \nL 232.420059 -145.033152 \nL 232.797214 -145.781022 \nL 233.174368 -146.462167 \nL 233.551523 -146.985572 \nL 233.928677 -147.459682 \nL 235.06014 -148.206647 \nL 235.437295 -148.835408 \nL 235.814449 -149.307609 \nL 236.191604 -149.819578 \nL 236.568758 -150.239423 \nL 237.700222 -150.565889 \nL 238.077376 -150.901038 \nL 238.45453 -151.12159 \nL 238.831685 -151.393516 \nL 239.208839 -151.928186 \nL 240.717457 -153.037876 \nL 241.094612 -154.167002 \nL 241.471766 -155.634237 \nL 241.84892 -157.189531 \nL 242.980384 -158.849744 \nL 243.357538 -160.96471 \nL 243.734693 -162.936968 \nL 244.111847 -164.687816 \nL 244.489002 -165.597784 \nL 245.620465 -166.57172 \nL 245.997619 -166.864844 \nL 246.374774 -167.076334 \nL 246.751928 -167.239292 \nL 247.129083 -167.344511 \nL 248.260546 -167.364506 \nL 248.6377 -167.392561 \nL 249.014855 -167.403621 \nL 249.392009 -167.514591 \nL 249.769164 -167.576407 \nL 250.900627 -167.671549 \nL 251.277782 -167.809318 \nL 251.654936 -167.572787 \nL 252.03209 -167.034819 \nL 252.409245 -166.624545 \nL 253.540708 -166.310661 \nL 253.917863 -166.206263 \nL 254.672172 -166.194608 \nL 255.049326 -166.198545 \nL 256.180789 -166.320537 \nL 256.557944 -166.312768 \nL 256.935098 -166.274147 \nL 257.312253 -166.2261 \nL 257.689407 -166.106137 \nL 258.82087 -165.902933 \nL 259.198025 -165.918339 \nL 259.575179 -166.023532 \nL 259.952334 -166.141993 \nL 260.329488 -166.355306 \nL 261.460952 -166.596154 \nL 261.838106 -166.932952 \nL 262.21526 -167.289451 \nL 262.592415 -167.784736 \nL 262.969569 -168.258683 \nL 264.101033 -168.800022 \nL 264.478187 -169.445368 \nL 264.855342 -170.390531 \nL 265.232496 -171.335596 \nL 265.60965 -172.376926 \nL 266.741114 -173.398294 \nL 267.118268 -174.459262 \nL 267.495423 -175.463695 \nL 267.872577 -176.696938 \nL 268.249732 -177.919145 \nL 269.381195 -179.024188 \nL 269.758349 -179.99957 \nL 270.135504 -181.027039 \nL 270.512658 -182.277702 \nL 270.889813 -183.334439 \nL 272.021276 -184.43396 \nL 272.39843 -185.613563 \nL 272.775585 -186.796909 \nL 273.152739 -188.125825 \nL 273.529894 -189.401533 \nL 274.661357 -190.772988 \nL 275.038512 -192.190719 \nL 275.415666 -193.539805 \nL 275.79282 -194.858841 \nL 276.169975 -196.301215 \nL 277.678593 -198.148245 \nL 278.055747 -200.283763 \nL 278.432902 -202.423907 \nL 278.810056 -203.368655 \nL 279.941519 -204.070142 \nL 280.318674 -204.631723 \nL 280.695828 -205.253507 \nL 281.072983 -206.045668 \nL 281.450137 -206.68705 \nL 282.5816 -207.339912 \nL 282.958755 -208.120821 \nL 283.335909 -208.867008 \nL 283.713064 -209.267796 \nL 284.090218 -209.869669 \nL 285.221681 -210.068448 \nL 285.598836 -209.720956 \nL 285.97599 -209.576325 \nL 286.353145 -209.775223 \nL 286.730299 -210.082579 \nL 287.861763 -209.406928 \nL 288.238917 -208.075185 \nL 288.616071 -207.025488 \nL 288.993226 -206.513415 \nL 289.37038 -205.892038 \nL 290.501844 -204.955358 \nL 290.878998 -203.031062 \nL 291.256153 -201.067999 \nL 291.633307 -198.656998 \nL 292.010461 -196.95131 \nL 293.141925 -195.559944 \nL 293.519079 -193.58757 \nL 293.896234 -190.75851 \nL 294.273388 -188.161875 \nL 294.650543 -185.257549 \nL 295.782006 -182.786049 \nL 296.15916 -180.485851 \nL 296.536315 -178.83221 \nL 296.913469 -177.136638 \nL 297.290624 -175.417349 \nL 298.422087 -174.20526 \nL 298.799241 -172.4617 \nL 299.176396 -170.636697 \nL 299.55355 -168.42992 \nL 299.930705 -166.398974 \nL 301.062168 -164.39404 \nL 301.439323 -162.526464 \nL 301.816477 -160.897581 \nL 302.193631 -159.02514 \nL 302.570786 -157.095657 \nL 303.702249 -155.378841 \nL 304.079404 -153.385919 \nL 304.456558 -151.242537 \nL 304.833713 -148.656504 \nL 305.210867 -145.884908 \nL 306.34233 -144.055145 \nL 306.719485 -142.210549 \nL 307.096639 -140.51704 \nL 307.850948 -139.008752 \nL 308.982411 -137.537996 \nL 309.359566 -135.12037 \nL 309.73672 -133.308079 \nL 310.113875 -131.648003 \nL 310.491029 -130.143856 \nL 311.622493 -129.001812 \nL 311.999647 -127.92426 \nL 312.753956 -126.780097 \nL 313.13111 -125.630628 \nL 314.262574 -124.953153 \nL 314.639728 -124.694107 \nL 315.016883 -124.11078 \nL 315.394037 -123.521741 \nL 315.771191 -122.896951 \nL 316.902655 -122.649391 \nL 317.279809 -122.492407 \nL 317.656964 -122.57711 \nL 318.034118 -122.323928 \nL 318.411273 -122.024782 \nL 319.542736 -122.016071 \nL 320.297045 -122.226346 \nL 320.674199 -122.622331 \nL 321.051354 -122.833656 \nL 322.182817 -122.856435 \nL 322.937126 -122.877697 \nL 323.31428 -122.87531 \nL 323.691435 -122.881635 \nL 324.822898 -122.883411 \nL 325.200053 -122.999555 \nL 325.577207 -123.094902 \nL 325.954361 -123.178605 \nL 326.331516 -123.489167 \nL 327.462979 -123.556708 \nL 327.840134 -123.581102 \nL 328.217288 -123.576644 \nL 328.594443 -123.553857 \nL 328.971597 -123.520749 \nL 330.480215 -123.489712 \nL 330.857369 -123.4525 \nL 331.234524 -123.481155 \nL 331.611678 -123.528424 \nL 332.743141 -123.537378 \nL 333.120296 -123.686632 \nL 333.49745 -124.014432 \nL 333.874605 -124.687013 \nL 334.251759 -125.651745 \nL 335.383223 -125.990368 \nL 335.760377 -126.379768 \nL 336.137531 -126.792037 \nL 336.514686 -127.134377 \nL 336.89184 -127.464251 \nL 338.023304 -128.880194 \nL 338.400458 -129.92961 \nL 338.777613 -131.047334 \nL 339.154767 -131.835667 \nL 339.531921 -132.66111 \nL 341.040539 -133.567689 \nL 341.417694 -134.666569 \nL 341.794848 -135.989065 \nL 342.172003 -137.139856 \nL 343.303466 -138.199611 \nL 343.68062 -139.237027 \nL 344.057775 -140.22137 \nL 344.434929 -141.532772 \nL 344.812084 -142.878438 \nL 345.943547 -144.400812 \nL 346.320701 -145.504481 \nL 346.697856 -146.846692 \nL 347.07501 -148.415236 \nL 347.452165 -149.246206 \nL 348.583628 -150.056981 \nL 348.960783 -150.914558 \nL 349.337937 -151.521216 \nL 349.715091 -151.939528 \nL 350.092246 -152.392817 \nL 351.223709 -153.076663 \nL 351.600864 -153.743823 \nL 351.978018 -154.553444 \nL 352.355173 -155.367618 \nL 352.732327 -156.296301 \nL 353.86379 -157.23359 \nL 354.240945 -158.269244 \nL 354.618099 -159.211567 \nL 354.995254 -160.172855 \nL 355.372408 -161.22435 \nL 356.503871 -162.260608 \nL 356.881026 -163.286096 \nL 357.25818 -164.347481 \nL 357.635335 -165.39856 \nL 358.012489 -166.58611 \nL 359.143953 -167.297056 \nL 359.521107 -168.089677 \nL 359.898261 -169.020425 \nL 360.275416 -170.039838 \nL 360.65257 -171.24615 \nL 361.784034 -172.139487 \nL 362.161188 -172.722548 \nL 362.538343 -172.910423 \nL 362.915497 -172.804896 \nL 364.424115 -172.500101 \nL 364.801269 -171.991148 \nL 365.178424 -171.322234 \nL 365.555578 -170.821769 \nL 365.932733 -169.990675 \nL 365.932733 -195.818937 \nL 365.932733 -195.818937 \nL 365.555578 -195.663324 \nL 365.178424 -195.573115 \nL 364.801269 -195.446062 \nL 364.424115 -195.329014 \nL 362.915497 -195.246022 \nL 362.538343 -195.214354 \nL 362.161188 -195.263462 \nL 361.784034 -195.389041 \nL 360.65257 -195.690382 \nL 360.275416 -195.959795 \nL 359.898261 -196.093116 \nL 359.521107 -196.146948 \nL 359.143953 -196.202988 \nL 358.012489 -196.289931 \nL 357.635335 -196.129206 \nL 357.25818 -195.773818 \nL 356.881026 -195.281017 \nL 356.503871 -194.74829 \nL 355.372408 -193.85323 \nL 354.995254 -192.69095 \nL 354.618099 -191.633184 \nL 354.240945 -190.420819 \nL 353.86379 -189.811417 \nL 352.732327 -188.909376 \nL 352.355173 -187.98172 \nL 351.978018 -186.924559 \nL 351.600864 -185.681777 \nL 351.223709 -184.333016 \nL 350.092246 -183.150003 \nL 349.715091 -181.951745 \nL 349.337937 -180.754545 \nL 348.960783 -179.798288 \nL 348.583628 -178.837127 \nL 347.452165 -177.845502 \nL 347.07501 -176.804242 \nL 346.697856 -175.838281 \nL 346.320701 -174.793482 \nL 345.943547 -173.556472 \nL 344.812084 -172.633195 \nL 344.434929 -171.670411 \nL 344.057775 -170.658592 \nL 343.68062 -169.581802 \nL 343.303466 -168.658133 \nL 342.172003 -167.778288 \nL 341.794848 -166.953893 \nL 341.417694 -166.148784 \nL 341.040539 -165.33537 \nL 339.531921 -164.304139 \nL 339.154767 -163.040697 \nL 338.777613 -161.38159 \nL 338.400458 -160.275243 \nL 338.023304 -159.20802 \nL 336.89184 -158.097515 \nL 336.514686 -156.856416 \nL 336.137531 -155.748422 \nL 335.760377 -154.737886 \nL 335.383223 -153.742976 \nL 334.251759 -152.862691 \nL 333.874605 -152.37485 \nL 333.49745 -151.827179 \nL 333.120296 -151.156084 \nL 332.743141 -150.4705 \nL 331.611678 -149.90872 \nL 331.234524 -149.317886 \nL 330.857369 -148.890402 \nL 330.480215 -148.6005 \nL 328.971597 -148.246047 \nL 328.594443 -147.869828 \nL 328.217288 -147.624343 \nL 327.840134 -147.441278 \nL 327.462979 -147.569972 \nL 326.331516 -147.911241 \nL 325.954361 -148.961743 \nL 325.577207 -149.427054 \nL 325.200053 -149.989955 \nL 324.822898 -150.61103 \nL 323.691435 -150.834161 \nL 323.31428 -151.027374 \nL 322.937126 -151.097503 \nL 322.182817 -151.257084 \nL 321.051354 -151.431835 \nL 320.674199 -152.434353 \nL 320.297045 -154.293431 \nL 319.542736 -155.855115 \nL 318.411273 -157.014057 \nL 318.034118 -158.748962 \nL 317.656964 -160.547736 \nL 317.279809 -163.162915 \nL 316.902655 -166.02791 \nL 315.771191 -168.77659 \nL 315.394037 -170.847229 \nL 315.016883 -172.646543 \nL 314.639728 -174.821092 \nL 314.262574 -178.163935 \nL 313.13111 -181.00867 \nL 312.753956 -183.247345 \nL 311.999647 -185.311153 \nL 311.622493 -187.579219 \nL 310.491029 -189.997435 \nL 310.113875 -191.938953 \nL 309.73672 -194.289009 \nL 309.359566 -196.356588 \nL 308.982411 -198.07555 \nL 307.850948 -199.711823 \nL 307.096639 -201.599513 \nL 306.719485 -203.434929 \nL 306.34233 -204.865673 \nL 305.210867 -206.511567 \nL 304.833713 -207.361556 \nL 304.456558 -208.290571 \nL 304.079404 -209.899036 \nL 303.702249 -211.271204 \nL 302.570786 -212.667014 \nL 302.193631 -214.164842 \nL 301.816477 -215.856242 \nL 301.439323 -217.343565 \nL 301.062168 -218.583019 \nL 299.930705 -219.62916 \nL 299.55355 -220.55439 \nL 299.176396 -221.118917 \nL 298.799241 -221.824168 \nL 298.422087 -222.426882 \nL 297.290624 -222.952286 \nL 296.913469 -223.436253 \nL 296.536315 -223.802932 \nL 296.15916 -224.12873 \nL 295.782006 -224.151083 \nL 294.650543 -224.305405 \nL 294.273388 -224.290334 \nL 293.896234 -224.051166 \nL 293.519079 -223.719457 \nL 293.141925 -223.464656 \nL 292.010461 -223.536607 \nL 291.633307 -223.505966 \nL 291.256153 -223.223018 \nL 290.878998 -223.174711 \nL 290.501844 -223.01969 \nL 289.37038 -223.153527 \nL 288.993226 -223.274552 \nL 288.616071 -223.288896 \nL 288.238917 -223.003982 \nL 287.861763 -222.458285 \nL 286.730299 -222.21393 \nL 286.353145 -222.134306 \nL 285.97599 -222.126621 \nL 285.598836 -222.098151 \nL 285.221681 -222.037592 \nL 284.090218 -222.074775 \nL 283.713064 -222.160974 \nL 283.335909 -222.273933 \nL 282.958755 -222.271452 \nL 282.5816 -222.344874 \nL 281.450137 -222.395221 \nL 281.072983 -222.52339 \nL 280.695828 -222.515181 \nL 280.318674 -222.392325 \nL 279.941519 -222.408912 \nL 278.810056 -222.277351 \nL 278.432902 -222.486412 \nL 278.055747 -223.182936 \nL 277.678593 -223.287313 \nL 276.169975 -223.32881 \nL 275.79282 -223.10979 \nL 275.415666 -222.600464 \nL 275.038512 -221.803367 \nL 274.661357 -221.15258 \nL 273.529894 -220.555339 \nL 273.152739 -219.967098 \nL 272.775585 -219.394912 \nL 272.39843 -218.979083 \nL 272.021276 -218.435518 \nL 270.889813 -217.909008 \nL 270.512658 -217.493924 \nL 270.135504 -216.973745 \nL 269.758349 -216.452624 \nL 269.381195 -215.899335 \nL 268.249732 -215.354398 \nL 267.872577 -214.46668 \nL 267.495423 -213.371329 \nL 267.118268 -212.510918 \nL 266.741114 -211.445175 \nL 265.60965 -210.659668 \nL 265.232496 -209.660233 \nL 264.855342 -208.483288 \nL 264.478187 -206.98101 \nL 264.101033 -205.245837 \nL 262.969569 -203.476489 \nL 262.592415 -201.835139 \nL 262.21526 -200.282945 \nL 261.838106 -198.933286 \nL 261.460952 -197.66442 \nL 260.329488 -196.500815 \nL 259.952334 -195.341011 \nL 259.575179 -194.19289 \nL 259.198025 -192.976666 \nL 258.82087 -191.674237 \nL 257.689407 -190.133054 \nL 257.312253 -188.932949 \nL 256.935098 -187.934352 \nL 256.557944 -186.892134 \nL 256.180789 -185.844063 \nL 255.049326 -184.814739 \nL 254.672172 -183.668481 \nL 253.917863 -182.615628 \nL 253.540708 -181.51502 \nL 252.409245 -180.075112 \nL 252.03209 -178.608869 \nL 251.654936 -176.982925 \nL 251.277782 -175.999741 \nL 250.900627 -175.92354 \nL 249.769164 -175.861786 \nL 249.392009 -175.771855 \nL 249.014855 -175.463615 \nL 248.6377 -175.11612 \nL 248.260546 -174.907376 \nL 247.129083 -174.802034 \nL 246.751928 -174.648072 \nL 246.374774 -174.45919 \nL 245.997619 -174.350398 \nL 245.620465 -174.195663 \nL 244.489002 -174.377063 \nL 244.111847 -174.455103 \nL 243.734693 -174.990623 \nL 243.357538 -175.713086 \nL 242.980384 -176.287072 \nL 241.84892 -176.495159 \nL 241.471766 -176.708446 \nL 241.094612 -176.931705 \nL 240.717457 -177.022991 \nL 239.208839 -176.943316 \nL 238.831685 -176.780124 \nL 238.45453 -176.603297 \nL 238.077376 -176.469994 \nL 237.700222 -176.306031 \nL 236.568758 -176.196949 \nL 236.191604 -175.999954 \nL 235.814449 -175.775565 \nL 235.437295 -175.50044 \nL 235.06014 -175.252733 \nL 233.928677 -174.86875 \nL 233.551523 -174.444235 \nL 233.174368 -173.899137 \nL 232.797214 -173.344363 \nL 232.420059 -172.681961 \nL 231.288596 -172.038526 \nL 230.911442 -171.341237 \nL 230.534287 -170.486555 \nL 230.157133 -169.582426 \nL 229.779978 -168.67729 \nL 228.648515 -167.82272 \nL 228.27136 -167.062305 \nL 227.894206 -166.562343 \nL 227.517052 -166.013254 \nL 227.139897 -165.504278 \nL 226.008434 -164.958705 \nL 225.631279 -164.422976 \nL 225.254125 -163.918343 \nL 224.87697 -163.564572 \nL 224.499816 -163.093042 \nL 223.368353 -162.586749 \nL 222.991198 -161.960565 \nL 222.614044 -161.273876 \nL 222.236889 -160.706439 \nL 221.859735 -159.960443 \nL 220.728272 -159.101427 \nL 220.351117 -158.25496 \nL 219.973963 -157.635612 \nL 219.596808 -157.138592 \nL 219.219654 -156.538818 \nL 217.711036 -155.928216 \nL 217.333882 -155.7334 \nL 216.956727 -155.567439 \nL 216.579573 -155.62505 \nL 215.448109 -155.686137 \nL 215.070955 -155.601374 \nL 214.6938 -155.598744 \nL 214.316646 -155.624328 \nL 213.939492 -155.905637 \nL 212.808028 -156.292054 \nL 212.430874 -156.430681 \nL 212.053719 -156.369104 \nL 211.676565 -156.259979 \nL 211.29941 -155.954828 \nL 210.167947 -155.713457 \nL 209.790793 -155.51042 \nL 209.413638 -155.323363 \nL 209.036484 -155.204643 \nL 208.659329 -155.125675 \nL 207.527866 -155.135251 \nL 207.150712 -155.276666 \nL 206.773557 -155.423865 \nL 206.396403 -155.60596 \nL 206.019248 -155.93189 \nL 204.887785 -156.312592 \nL 204.51063 -156.662392 \nL 204.133476 -156.878206 \nL 203.756322 -157.10793 \nL 202.247704 -157.1683 \nL 201.870549 -157.30377 \nL 201.493395 -157.413037 \nL 201.11624 -157.479983 \nL 200.739086 -157.444282 \nL 199.607623 -157.346178 \nL 199.230468 -157.103162 \nL 198.853314 -156.824304 \nL 198.476159 -156.492303 \nL 198.099005 -156.096463 \nL 196.967542 -155.562597 \nL 196.590387 -155.130704 \nL 196.213233 -155.008344 \nL 195.836078 -154.976679 \nL 195.458924 -154.84178 \nL 194.32746 -154.704155 \nL 193.950306 -154.679722 \nL 193.573152 -154.608278 \nL 193.195997 -154.311464 \nL 192.818843 -153.994466 \nL 191.687379 -153.615518 \nL 191.310225 -153.464992 \nL 190.93307 -153.358258 \nL 190.555916 -153.298307 \nL 189.047298 -153.206817 \nL 188.670144 -153.105042 \nL 188.292989 -152.983109 \nL 187.915835 -153.046222 \nL 187.53868 -153.149363 \nL 186.407217 -153.178066 \nL 186.030063 -153.111208 \nL 185.652908 -152.89599 \nL 185.275754 -152.874179 \nL 183.767136 -152.950276 \nL 183.389982 -152.492764 \nL 183.012827 -152.158843 \nL 182.635673 -152.139575 \nL 181.127055 -152.115065 \nL 180.7499 -152.073014 \nL 180.372746 -152.052693 \nL 179.995592 -152.11055 \nL 179.618437 -152.196221 \nL 178.486974 -152.240032 \nL 178.109819 -152.15786 \nL 177.732665 -152.013105 \nL 177.35551 -151.734173 \nL 176.978356 -151.324289 \nL 175.846893 -150.941367 \nL 175.469738 -150.822779 \nL 175.092584 -150.554097 \nL 174.715429 -150.457129 \nL 174.338275 -150.566897 \nL 173.206812 -151.005097 \nL 172.829657 -151.324418 \nL 172.452503 -151.427643 \nL 172.075348 -151.577919 \nL 171.698194 -151.67556 \nL 170.566731 -151.718148 \nL 169.812422 -151.701221 \nL 169.435267 -151.599151 \nL 169.058113 -151.507376 \nL 167.926649 -151.456215 \nL 167.549495 -151.204543 \nL 167.172341 -150.903635 \nL 166.795186 -150.617435 \nL 166.418032 -150.291247 \nL 165.286568 -149.831893 \nL 164.909414 -149.478994 \nL 164.532259 -149.221841 \nL 164.155105 -148.9133 \nL 163.777951 -148.616658 \nL 162.646487 -148.239162 \nL 162.269333 -148.003977 \nL 161.892178 -147.740026 \nL 161.515024 -147.479055 \nL 161.137869 -147.202729 \nL 160.006406 -146.873656 \nL 159.629252 -146.448705 \nL 159.252097 -145.962814 \nL 158.874943 -145.61073 \nL 158.497788 -145.048791 \nL 157.366325 -144.424762 \nL 156.989171 -143.692628 \nL 156.612016 -142.95766 \nL 156.234862 -142.355963 \nL 155.857707 -141.962351 \nL 154.726244 -141.483297 \nL 154.349089 -140.990005 \nL 153.971935 -140.635616 \nL 153.594781 -140.129215 \nL 153.217626 -139.475446 \nL 152.086163 -138.733882 \nL 151.709008 -137.871937 \nL 151.331854 -136.900618 \nL 150.954699 -135.954367 \nL 150.577545 -134.936461 \nL 149.446082 -134.015215 \nL 149.068927 -133.506453 \nL 148.691773 -133.077461 \nL 148.314618 -132.334789 \nL 147.937464 -131.789885 \nL 146.806001 -131.53729 \nL 146.428846 -131.671707 \nL 146.051692 -131.856534 \nL 145.674537 -131.94075 \nL 145.297383 -131.963171 \nL 144.165919 -131.955667 \nL 143.788765 -132.079627 \nL 143.411611 -132.067076 \nL 143.034456 -131.982986 \nL 142.657302 -131.880233 \nL 141.525838 -131.859129 \nL 141.148684 -131.865784 \nL 140.771529 -131.948942 \nL 140.394375 -132.069705 \nL 138.885757 -132.135961 \nL 138.508603 -132.166378 \nL 138.131448 -132.152908 \nL 137.754294 -132.156803 \nL 137.377139 -132.160231 \nL 136.245676 -132.193387 \nL 135.868522 -132.217297 \nL 135.491367 -132.231116 \nL 135.114213 -132.249063 \nL 134.737058 -132.278945 \nL 133.605595 -132.310782 \nL 133.228441 -132.37501 \nL 132.851286 -132.480424 \nL 132.474132 -132.521093 \nL 132.096977 -132.460067 \nL 130.965514 -132.392689 \nL 130.588359 -132.282176 \nL 130.211205 -132.164522 \nL 129.834051 -131.974544 \nL 129.456896 -131.683756 \nL 128.325433 -131.336971 \nL 127.948278 -131.083936 \nL 127.571124 -130.700024 \nL 127.193969 -130.235884 \nL 126.816815 -129.738584 \nL 125.685352 -129.085391 \nL 125.308197 -128.403406 \nL 124.931043 -127.737143 \nL 124.553888 -127.07148 \nL 124.176734 -126.504457 \nL 123.045271 -126.001817 \nL 122.668116 -125.515235 \nL 122.290962 -124.967756 \nL 121.913807 -124.405323 \nL 121.536653 -124.041799 \nL 120.405189 -123.864722 \nL 120.028035 -123.681731 \nL 119.650881 -123.21557 \nL 119.273726 -122.651156 \nL 118.896572 -122.301454 \nL 117.765108 -122.009513 \nL 117.387954 -121.840021 \nL 117.010799 -121.310536 \nL 116.256491 -120.849877 \nL 115.125027 -120.496872 \nL 114.747873 -120.301635 \nL 114.370718 -120.190561 \nL 113.993564 -119.968864 \nL 113.616409 -120.101588 \nL 112.484946 -120.245056 \nL 112.107792 -120.26871 \nL 111.730637 -120.524706 \nL 111.353483 -120.66029 \nL 110.976328 -120.859476 \nL 109.844865 -120.951121 \nL 109.467711 -121.044657 \nL 109.090556 -121.171408 \nL 108.713402 -121.226178 \nL 108.336247 -121.182049 \nL 107.204784 -121.120385 \nL 106.827629 -121.075831 \nL 106.450475 -121.062975 \nL 106.073321 -121.0645 \nL 105.696166 -121.071345 \nL 104.564703 -121.077233 \nL 104.187548 -121.08348 \nL 103.810394 -121.074375 \nL 103.433239 -121.080794 \nL 101.924622 -121.101028 \nL 101.547467 -121.119729 \nL 101.170313 -121.168587 \nL 100.793158 -121.193998 \nL 100.416004 -121.213453 \nL 99.284541 -121.231232 \nL 98.907386 -121.226223 \nL 98.530232 -121.227066 \nL 98.153077 -121.210487 \nL 97.775923 -121.202 \nL 96.644459 -121.174653 \nL 96.267305 -121.173836 \nL 95.890151 -121.173066 \nL 95.512996 -121.161497 \nL 95.135842 -121.127433 \nL 94.004378 -121.111432 \nL 93.627224 -121.017514 \nL 93.250069 -120.642217 \nL 92.872915 -120.233906 \nL 92.495761 -119.864682 \nL 91.364297 -119.505289 \nL 90.987143 -119.025663 \nL 90.609988 -118.681048 \nL 90.232834 -118.33784 \nL 89.855679 -117.924875 \nL 88.724216 -117.493678 \nL 88.347062 -117.025338 \nL 87.969907 -116.578996 \nL 87.592753 -116.07387 \nL 87.215598 -115.531232 \nL 85.706981 -115.033354 \nL 85.329826 -114.546659 \nL 84.952672 -114.195251 \nL 84.575517 -113.408801 \nL 83.444054 -112.545168 \nL 83.066899 -111.562373 \nL 82.689745 -110.741425 \nL 82.312591 -110.018991 \nL 81.935436 -109.13795 \nL 80.803973 -108.294107 \nL 80.426818 -107.850783 \nL 80.049664 -107.579719 \nL 79.672509 -107.252306 \nL 79.295355 -106.884854 \nL 78.163892 -106.584267 \nL 77.786737 -106.466785 \nL 77.409583 -106.337851 \nL 77.032428 -106.252297 \nL 76.655274 -106.130781 \nL 75.523811 -106.018263 \nL 75.146656 -105.985265 \nL 74.769502 -105.930329 \nL 74.392347 -105.965007 \nL 74.015193 -105.991727 \nL 72.883729 -105.966849 \nL 72.506575 -105.928424 \nL 72.129421 -106.168264 \nL 71.752266 -106.27828 \nL 71.375112 -106.207063 \nL 70.243648 -106.057375 \nL 69.866494 -105.831549 \nL 69.489339 -105.594514 \nL 69.112185 -105.245276 \nL 68.735031 -104.908129 \nL 67.603567 -104.528609 \nL 67.226413 -104.079598 \nL 66.849258 -103.574385 \nL 66.472104 -103.065229 \nL 64.963486 -102.682048 \nL 64.586332 -102.268276 \nL 64.209177 -101.816693 \nL 63.832023 -101.303646 \nL 63.454868 -100.862746 \nL 62.323405 -100.311475 \nL 61.946251 -99.818853 \nL 61.569096 -99.243097 \nz\n\" style=\"stroke: #000000; stroke-opacity: 0.2; stroke-width: 0.8\"/>\n    </defs>\n    <g clip-path=\"url(#p50a03c3786)\">\n     <use xlink:href=\"#m0a1f2c6972\" x=\"0\" y=\"264.488699\" style=\"fill: #bc80bd; fill-opacity: 0.2; stroke: #000000; stroke-opacity: 0.2; stroke-width: 0.8\"/>\n    </g>\n   </g>\n   <g id=\"matplotlib.axis_1\">\n    <g id=\"xtick_1\">\n     <g id=\"line2d_1\">\n      <defs>\n       <path id=\"m52caa3d50c\" d=\"M 0 0 \nL 0 3.5 \n\" style=\"stroke: #323034; stroke-width: 0.8\"/>\n      </defs>\n      <g>\n       <use xlink:href=\"#m52caa3d50c\" x=\"47.237227\" y=\"207.137812\" style=\"fill: #323034; stroke: #323034; stroke-width: 0.8\"/>\n      </g>\n     </g>\n     <g id=\"text_1\">\n      <!-- 2017-01 -->\n      <g style=\"fill: #323034\" transform=\"translate(11.297812 241.233244)rotate(-30)scale(0.12 -0.12)\">\n       <defs>\n        <path id=\"STIXGeneral-Regular-32\" d=\"M 3034 877 \nL 2688 0 \nL 186 0 \nL 186 77 \nL 1325 1286 \nQ 1773 1754 1965 2144 \nQ 2157 2534 2157 2950 \nQ 2157 3379 1920 3616 \nQ 1683 3853 1267 3853 \nQ 922 3853 720 3673 \nQ 518 3494 326 3021 \nL 192 3053 \nQ 301 3648 630 3987 \nQ 960 4326 1523 4326 \nQ 2054 4326 2380 4006 \nQ 2707 3686 2707 3200 \nQ 2707 2477 1888 1613 \nL 832 486 \nL 2330 486 \nQ 2541 486 2665 569 \nQ 2790 653 2944 915 \nL 3034 877 \nz\n\" transform=\"scale(0.015625)\"/>\n        <path id=\"STIXGeneral-Regular-30\" d=\"M 3046 2112 \nQ 3046 1683 2963 1302 \nQ 2880 922 2717 602 \nQ 2554 282 2266 96 \nQ 1978 -90 1600 -90 \nQ 1210 -90 915 108 \nQ 621 307 461 640 \nQ 301 973 227 1350 \nQ 154 1728 154 2150 \nQ 154 2746 301 3222 \nQ 448 3699 790 4012 \nQ 1133 4326 1626 4326 \nQ 2253 4326 2649 3712 \nQ 3046 3098 3046 2112 \nz\nM 2432 2080 \nQ 2432 3091 2217 3625 \nQ 2003 4160 1587 4160 \nQ 1190 4160 979 3622 \nQ 768 3085 768 2106 \nQ 768 1120 979 598 \nQ 1190 77 1600 77 \nQ 2003 77 2217 598 \nQ 2432 1120 2432 2080 \nz\n\" transform=\"scale(0.015625)\"/>\n        <path id=\"STIXGeneral-Regular-31\" d=\"M 2522 0 \nL 755 0 \nL 755 96 \nQ 1107 115 1235 227 \nQ 1363 339 1363 608 \nL 1363 3482 \nQ 1363 3795 1171 3795 \nQ 1082 3795 883 3718 \nL 710 3654 \nL 710 3744 \nL 1856 4326 \nL 1914 4307 \nL 1914 486 \nQ 1914 275 2042 185 \nQ 2170 96 2522 96 \nL 2522 0 \nz\n\" transform=\"scale(0.015625)\"/>\n        <path id=\"STIXGeneral-Regular-37\" d=\"M 2874 4134 \nL 1517 -51 \nL 1101 -51 \nL 2368 3763 \nL 992 3763 \nQ 717 3763 582 3667 \nQ 448 3571 243 3238 \nL 128 3296 \nL 512 4237 \nL 2874 4237 \nL 2874 4134 \nz\n\" transform=\"scale(0.015625)\"/>\n        <path id=\"STIXGeneral-Regular-2d\" d=\"M 1824 1242 \nL 250 1242 \nL 250 1645 \nL 1824 1645 \nL 1824 1242 \nz\n\" transform=\"scale(0.015625)\"/>\n       </defs>\n       <use xlink:href=\"#STIXGeneral-Regular-32\"/>\n       <use xlink:href=\"#STIXGeneral-Regular-30\" x=\"49.999985\"/>\n       <use xlink:href=\"#STIXGeneral-Regular-31\" x=\"99.999969\"/>\n       <use xlink:href=\"#STIXGeneral-Regular-37\" x=\"149.999954\"/>\n       <use xlink:href=\"#STIXGeneral-Regular-2d\" x=\"199.999939\"/>\n       <use xlink:href=\"#STIXGeneral-Regular-30\" x=\"233.299927\"/>\n       <use xlink:href=\"#STIXGeneral-Regular-31\" x=\"283.299911\"/>\n      </g>\n     </g>\n    </g>\n    <g id=\"xtick_2\">\n     <g id=\"line2d_2\">\n      <g>\n       <use xlink:href=\"#m52caa3d50c\" x=\"81.181127\" y=\"207.137812\" style=\"fill: #323034; stroke: #323034; stroke-width: 0.8\"/>\n      </g>\n     </g>\n     <g id=\"text_2\">\n      <!-- 2017-04 -->\n      <g style=\"fill: #323034\" transform=\"translate(45.241712 241.233244)rotate(-30)scale(0.12 -0.12)\">\n       <defs>\n        <path id=\"STIXGeneral-Regular-34\" d=\"M 3027 1069 \nL 2368 1069 \nL 2368 0 \nL 1869 0 \nL 1869 1069 \nL 77 1069 \nL 77 1478 \nL 2086 4326 \nL 2368 4326 \nL 2368 1478 \nL 3027 1478 \nL 3027 1069 \nz\nM 1869 1478 \nL 1869 3674 \nL 333 1478 \nL 1869 1478 \nz\n\" transform=\"scale(0.015625)\"/>\n       </defs>\n       <use xlink:href=\"#STIXGeneral-Regular-32\"/>\n       <use xlink:href=\"#STIXGeneral-Regular-30\" x=\"49.999985\"/>\n       <use xlink:href=\"#STIXGeneral-Regular-31\" x=\"99.999969\"/>\n       <use xlink:href=\"#STIXGeneral-Regular-37\" x=\"149.999954\"/>\n       <use xlink:href=\"#STIXGeneral-Regular-2d\" x=\"199.999939\"/>\n       <use xlink:href=\"#STIXGeneral-Regular-30\" x=\"233.299927\"/>\n       <use xlink:href=\"#STIXGeneral-Regular-34\" x=\"283.299911\"/>\n      </g>\n     </g>\n    </g>\n    <g id=\"xtick_3\">\n     <g id=\"line2d_3\">\n      <g>\n       <use xlink:href=\"#m52caa3d50c\" x=\"115.502182\" y=\"207.137812\" style=\"fill: #323034; stroke: #323034; stroke-width: 0.8\"/>\n      </g>\n     </g>\n     <g id=\"text_3\">\n      <!-- 2017-07 -->\n      <g style=\"fill: #323034\" transform=\"translate(79.562767 241.233244)rotate(-30)scale(0.12 -0.12)\">\n       <use xlink:href=\"#STIXGeneral-Regular-32\"/>\n       <use xlink:href=\"#STIXGeneral-Regular-30\" x=\"49.999985\"/>\n       <use xlink:href=\"#STIXGeneral-Regular-31\" x=\"99.999969\"/>\n       <use xlink:href=\"#STIXGeneral-Regular-37\" x=\"149.999954\"/>\n       <use xlink:href=\"#STIXGeneral-Regular-2d\" x=\"199.999939\"/>\n       <use xlink:href=\"#STIXGeneral-Regular-30\" x=\"233.299927\"/>\n       <use xlink:href=\"#STIXGeneral-Regular-37\" x=\"283.299911\"/>\n      </g>\n     </g>\n    </g>\n    <g id=\"xtick_4\">\n     <g id=\"line2d_4\">\n      <g>\n       <use xlink:href=\"#m52caa3d50c\" x=\"150.200391\" y=\"207.137812\" style=\"fill: #323034; stroke: #323034; stroke-width: 0.8\"/>\n      </g>\n     </g>\n     <g id=\"text_4\">\n      <!-- 2017-10 -->\n      <g style=\"fill: #323034\" transform=\"translate(114.260976 241.233244)rotate(-30)scale(0.12 -0.12)\">\n       <use xlink:href=\"#STIXGeneral-Regular-32\"/>\n       <use xlink:href=\"#STIXGeneral-Regular-30\" x=\"49.999985\"/>\n       <use xlink:href=\"#STIXGeneral-Regular-31\" x=\"99.999969\"/>\n       <use xlink:href=\"#STIXGeneral-Regular-37\" x=\"149.999954\"/>\n       <use xlink:href=\"#STIXGeneral-Regular-2d\" x=\"199.999939\"/>\n       <use xlink:href=\"#STIXGeneral-Regular-31\" x=\"233.299927\"/>\n       <use xlink:href=\"#STIXGeneral-Regular-30\" x=\"283.299911\"/>\n      </g>\n     </g>\n    </g>\n    <g id=\"xtick_5\">\n     <g id=\"line2d_5\">\n      <g>\n       <use xlink:href=\"#m52caa3d50c\" x=\"184.898599\" y=\"207.137812\" style=\"fill: #323034; stroke: #323034; stroke-width: 0.8\"/>\n      </g>\n     </g>\n     <g id=\"text_5\">\n      <!-- 2018-01 -->\n      <g style=\"fill: #323034\" transform=\"translate(148.959185 241.233244)rotate(-30)scale(0.12 -0.12)\">\n       <defs>\n        <path id=\"STIXGeneral-Regular-38\" d=\"M 2848 992 \nQ 2848 499 2505 204 \nQ 2163 -90 1587 -90 \nQ 1050 -90 704 204 \nQ 358 499 358 954 \nQ 358 1293 524 1533 \nQ 691 1773 1190 2125 \nQ 710 2522 553 2765 \nQ 397 3008 397 3328 \nQ 397 3782 745 4054 \nQ 1094 4326 1638 4326 \nQ 2106 4326 2410 4060 \nQ 2714 3795 2714 3411 \nQ 2714 3059 2531 2848 \nQ 2349 2637 1856 2374 \nQ 2432 1990 2640 1689 \nQ 2848 1389 2848 992 \nz\nM 2272 3411 \nQ 2272 3744 2086 3945 \nQ 1901 4147 1574 4147 \nQ 1248 4147 1059 3977 \nQ 870 3808 870 3513 \nQ 870 3219 1059 2979 \nQ 1248 2739 1670 2490 \nQ 1997 2682 2134 2896 \nQ 2272 3110 2272 3411 \nz\nM 1734 1741 \nL 1357 1997 \nQ 1075 1766 960 1545 \nQ 845 1325 845 1011 \nQ 845 576 1065 333 \nQ 1286 90 1658 90 \nQ 1971 90 2166 285 \nQ 2362 480 2362 794 \nQ 2362 1082 2214 1299 \nQ 2067 1517 1734 1741 \nz\n\" transform=\"scale(0.015625)\"/>\n       </defs>\n       <use xlink:href=\"#STIXGeneral-Regular-32\"/>\n       <use xlink:href=\"#STIXGeneral-Regular-30\" x=\"49.999985\"/>\n       <use xlink:href=\"#STIXGeneral-Regular-31\" x=\"99.999969\"/>\n       <use xlink:href=\"#STIXGeneral-Regular-38\" x=\"149.999954\"/>\n       <use xlink:href=\"#STIXGeneral-Regular-2d\" x=\"199.999939\"/>\n       <use xlink:href=\"#STIXGeneral-Regular-30\" x=\"233.299927\"/>\n       <use xlink:href=\"#STIXGeneral-Regular-31\" x=\"283.299911\"/>\n      </g>\n     </g>\n    </g>\n    <g id=\"xtick_6\">\n     <g id=\"line2d_6\">\n      <g>\n       <use xlink:href=\"#m52caa3d50c\" x=\"218.842499\" y=\"207.137812\" style=\"fill: #323034; stroke: #323034; stroke-width: 0.8\"/>\n      </g>\n     </g>\n     <g id=\"text_6\">\n      <!-- 2018-04 -->\n      <g style=\"fill: #323034\" transform=\"translate(182.903085 241.233244)rotate(-30)scale(0.12 -0.12)\">\n       <use xlink:href=\"#STIXGeneral-Regular-32\"/>\n       <use xlink:href=\"#STIXGeneral-Regular-30\" x=\"49.999985\"/>\n       <use xlink:href=\"#STIXGeneral-Regular-31\" x=\"99.999969\"/>\n       <use xlink:href=\"#STIXGeneral-Regular-38\" x=\"149.999954\"/>\n       <use xlink:href=\"#STIXGeneral-Regular-2d\" x=\"199.999939\"/>\n       <use xlink:href=\"#STIXGeneral-Regular-30\" x=\"233.299927\"/>\n       <use xlink:href=\"#STIXGeneral-Regular-34\" x=\"283.299911\"/>\n      </g>\n     </g>\n    </g>\n    <g id=\"xtick_7\">\n     <g id=\"line2d_7\">\n      <g>\n       <use xlink:href=\"#m52caa3d50c\" x=\"253.163554\" y=\"207.137812\" style=\"fill: #323034; stroke: #323034; stroke-width: 0.8\"/>\n      </g>\n     </g>\n     <g id=\"text_7\">\n      <!-- 2018-07 -->\n      <g style=\"fill: #323034\" transform=\"translate(217.224139 241.233244)rotate(-30)scale(0.12 -0.12)\">\n       <use xlink:href=\"#STIXGeneral-Regular-32\"/>\n       <use xlink:href=\"#STIXGeneral-Regular-30\" x=\"49.999985\"/>\n       <use xlink:href=\"#STIXGeneral-Regular-31\" x=\"99.999969\"/>\n       <use xlink:href=\"#STIXGeneral-Regular-38\" x=\"149.999954\"/>\n       <use xlink:href=\"#STIXGeneral-Regular-2d\" x=\"199.999939\"/>\n       <use xlink:href=\"#STIXGeneral-Regular-30\" x=\"233.299927\"/>\n       <use xlink:href=\"#STIXGeneral-Regular-37\" x=\"283.299911\"/>\n      </g>\n     </g>\n    </g>\n    <g id=\"xtick_8\">\n     <g id=\"line2d_8\">\n      <g>\n       <use xlink:href=\"#m52caa3d50c\" x=\"287.861763\" y=\"207.137812\" style=\"fill: #323034; stroke: #323034; stroke-width: 0.8\"/>\n      </g>\n     </g>\n     <g id=\"text_8\">\n      <!-- 2018-10 -->\n      <g style=\"fill: #323034\" transform=\"translate(251.922348 241.233244)rotate(-30)scale(0.12 -0.12)\">\n       <use xlink:href=\"#STIXGeneral-Regular-32\"/>\n       <use xlink:href=\"#STIXGeneral-Regular-30\" x=\"49.999985\"/>\n       <use xlink:href=\"#STIXGeneral-Regular-31\" x=\"99.999969\"/>\n       <use xlink:href=\"#STIXGeneral-Regular-38\" x=\"149.999954\"/>\n       <use xlink:href=\"#STIXGeneral-Regular-2d\" x=\"199.999939\"/>\n       <use xlink:href=\"#STIXGeneral-Regular-31\" x=\"233.299927\"/>\n       <use xlink:href=\"#STIXGeneral-Regular-30\" x=\"283.299911\"/>\n      </g>\n     </g>\n    </g>\n    <g id=\"xtick_9\">\n     <g id=\"line2d_9\">\n      <g>\n       <use xlink:href=\"#m52caa3d50c\" x=\"322.559971\" y=\"207.137812\" style=\"fill: #323034; stroke: #323034; stroke-width: 0.8\"/>\n      </g>\n     </g>\n     <g id=\"text_9\">\n      <!-- 2019-01 -->\n      <g style=\"fill: #323034\" transform=\"translate(286.620557 241.233244)rotate(-30)scale(0.12 -0.12)\">\n       <defs>\n        <path id=\"STIXGeneral-Regular-39\" d=\"M 378 -141 \nL 358 -13 \nQ 1094 115 1603 608 \nQ 2112 1101 2304 1882 \nQ 1933 1517 1344 1517 \nQ 826 1517 509 1875 \nQ 192 2234 192 2816 \nQ 192 3462 573 3894 \nQ 954 4326 1523 4326 \nQ 2131 4326 2528 3840 \nQ 2938 3328 2938 2522 \nQ 2938 1958 2742 1462 \nQ 2547 966 2170 621 \nQ 1773 262 1395 105 \nQ 1018 -51 378 -141 \nz\nM 2317 2272 \nL 2317 2522 \nQ 2317 4147 1472 4147 \nQ 1171 4147 1005 3930 \nQ 909 3802 845 3546 \nQ 781 3290 781 3034 \nQ 781 2464 995 2128 \nQ 1210 1792 1568 1792 \nQ 1824 1792 2070 1917 \nQ 2317 2042 2317 2272 \nz\n\" transform=\"scale(0.015625)\"/>\n       </defs>\n       <use xlink:href=\"#STIXGeneral-Regular-32\"/>\n       <use xlink:href=\"#STIXGeneral-Regular-30\" x=\"49.999985\"/>\n       <use xlink:href=\"#STIXGeneral-Regular-31\" x=\"99.999969\"/>\n       <use xlink:href=\"#STIXGeneral-Regular-39\" x=\"149.999954\"/>\n       <use xlink:href=\"#STIXGeneral-Regular-2d\" x=\"199.999939\"/>\n       <use xlink:href=\"#STIXGeneral-Regular-30\" x=\"233.299927\"/>\n       <use xlink:href=\"#STIXGeneral-Regular-31\" x=\"283.299911\"/>\n      </g>\n     </g>\n    </g>\n    <g id=\"xtick_10\">\n     <g id=\"line2d_10\">\n      <g>\n       <use xlink:href=\"#m52caa3d50c\" x=\"356.503871\" y=\"207.137812\" style=\"fill: #323034; stroke: #323034; stroke-width: 0.8\"/>\n      </g>\n     </g>\n     <g id=\"text_10\">\n      <!-- 2019-04 -->\n      <g style=\"fill: #323034\" transform=\"translate(320.564457 241.233244)rotate(-30)scale(0.12 -0.12)\">\n       <use xlink:href=\"#STIXGeneral-Regular-32\"/>\n       <use xlink:href=\"#STIXGeneral-Regular-30\" x=\"49.999985\"/>\n       <use xlink:href=\"#STIXGeneral-Regular-31\" x=\"99.999969\"/>\n       <use xlink:href=\"#STIXGeneral-Regular-39\" x=\"149.999954\"/>\n       <use xlink:href=\"#STIXGeneral-Regular-2d\" x=\"199.999939\"/>\n       <use xlink:href=\"#STIXGeneral-Regular-30\" x=\"233.299927\"/>\n       <use xlink:href=\"#STIXGeneral-Regular-34\" x=\"283.299911\"/>\n      </g>\n     </g>\n    </g>\n    <g id=\"text_11\">\n     <!-- Date -->\n     <g transform=\"translate(202.422164 254.684324)scale(0.12 -0.12)\">\n      <defs>\n       <path id=\"STIXGeneral-Regular-44\" d=\"M 102 4237 \nL 1830 4237 \nQ 3078 4237 3750 3654 \nQ 4384 3110 4384 2138 \nQ 4384 966 3514 410 \nQ 2880 0 1901 0 \nL 102 0 \nL 102 122 \nQ 474 147 570 252 \nQ 666 358 666 736 \nL 666 3520 \nQ 666 3891 570 3990 \nQ 474 4090 102 4115 \nL 102 4237 \nz\nM 1318 3731 \nL 1318 538 \nQ 1318 365 1379 301 \nQ 1440 237 1626 237 \nQ 2125 237 2432 307 \nQ 2739 378 3021 570 \nQ 3686 1018 3686 2099 \nQ 3686 3027 3078 3558 \nQ 2803 3802 2476 3901 \nQ 2150 4000 1658 4000 \nQ 1472 4000 1395 3942 \nQ 1318 3885 1318 3731 \nz\n\" transform=\"scale(0.015625)\"/>\n       <path id=\"STIXGeneral-Regular-61\" d=\"M 2829 422 \nL 2829 243 \nQ 2586 -64 2253 -64 \nQ 1888 -64 1843 403 \nL 1837 403 \nQ 1427 -64 909 -64 \nQ 608 -64 422 112 \nQ 237 288 237 602 \nQ 237 1050 685 1350 \nQ 992 1555 1837 1869 \nL 1837 2214 \nQ 1837 2502 1699 2646 \nQ 1562 2790 1338 2790 \nQ 1146 2790 1018 2697 \nQ 890 2605 890 2477 \nQ 890 2419 909 2348 \nQ 928 2278 928 2208 \nQ 928 2112 841 2029 \nQ 755 1946 634 1946 \nQ 525 1946 441 2029 \nQ 358 2112 358 2240 \nQ 358 2547 685 2752 \nQ 986 2944 1421 2944 \nQ 1939 2944 2176 2656 \nQ 2291 2522 2323 2384 \nQ 2355 2246 2355 1946 \nL 2355 723 \nQ 2355 301 2554 301 \nQ 2682 301 2829 422 \nz\nM 1837 813 \nL 1837 1715 \nQ 1248 1510 1018 1293 \nQ 800 1094 800 800 \nQ 800 557 921 432 \nQ 1043 307 1242 307 \nQ 1453 307 1613 410 \nQ 1747 506 1792 589 \nQ 1837 672 1837 813 \nz\n\" transform=\"scale(0.015625)\"/>\n       <path id=\"STIXGeneral-Regular-74\" d=\"M 1702 493 \nL 1786 422 \nQ 1478 -64 1011 -64 \nQ 448 -64 448 749 \nL 448 2675 \nL 109 2675 \nQ 83 2694 83 2720 \nQ 83 2771 192 2842 \nQ 435 2982 813 3526 \nQ 826 3546 874 3606 \nQ 922 3667 941 3706 \nQ 986 3706 986 3622 \nL 986 2880 \nL 1632 2880 \nL 1632 2675 \nL 986 2675 \nL 986 845 \nQ 986 538 1062 403 \nQ 1139 269 1318 269 \nQ 1510 269 1702 493 \nz\n\" transform=\"scale(0.015625)\"/>\n       <path id=\"STIXGeneral-Regular-65\" d=\"M 2611 1050 \nL 2714 1005 \nQ 2330 -64 1376 -64 \nQ 813 -64 486 329 \nQ 160 723 160 1389 \nQ 160 2074 525 2509 \nQ 890 2944 1485 2944 \nQ 2061 2944 2374 2502 \nQ 2560 2246 2592 1773 \nL 621 1773 \nQ 646 1370 700 1158 \nQ 755 947 915 730 \nQ 1184 378 1626 378 \nQ 1939 378 2153 531 \nQ 2368 685 2611 1050 \nz\nM 634 1978 \nL 1939 1978 \nQ 1882 2381 1750 2547 \nQ 1619 2714 1312 2714 \nQ 1043 2714 864 2525 \nQ 685 2336 634 1978 \nz\n\" transform=\"scale(0.015625)\"/>\n      </defs>\n      <use xlink:href=\"#STIXGeneral-Regular-44\"/>\n      <use xlink:href=\"#STIXGeneral-Regular-61\" x=\"72.199982\"/>\n      <use xlink:href=\"#STIXGeneral-Regular-74\" x=\"116.599976\"/>\n      <use xlink:href=\"#STIXGeneral-Regular-65\" x=\"144.399963\"/>\n     </g>\n    </g>\n   </g>\n   <g id=\"matplotlib.axis_2\">\n    <g id=\"ytick_1\">\n     <g id=\"line2d_11\">\n      <defs>\n       <path id=\"m86c5976be1\" d=\"M 0 0 \nL -3.5 0 \n\" style=\"stroke: #323034; stroke-width: 0.8\"/>\n      </defs>\n      <g>\n       <use xlink:href=\"#m86c5976be1\" x=\"46.350914\" y=\"207.137812\" style=\"fill: #323034; stroke: #323034; stroke-width: 0.8\"/>\n      </g>\n     </g>\n     <g id=\"text_12\">\n      <!-- $\\mathdefault{25}$ -->\n      <g style=\"fill: #323034\" transform=\"translate(27.350914 211.235625)scale(0.12 -0.12)\">\n       <defs>\n        <path id=\"STIXGeneral-Regular-35\" d=\"M 2803 4358 \nL 2573 3814 \nQ 2534 3731 2400 3731 \nL 1158 3731 \nL 902 3187 \nQ 1606 3053 1920 2896 \nQ 2234 2739 2502 2368 \nQ 2726 2061 2726 1555 \nQ 2726 1094 2576 780 \nQ 2426 467 2099 224 \nQ 1664 -90 1011 -90 \nQ 646 -90 422 19 \nQ 198 128 198 307 \nQ 198 550 486 550 \nQ 717 550 960 352 \nQ 1210 147 1414 147 \nQ 1747 147 2012 480 \nQ 2278 813 2278 1229 \nQ 2278 1843 1850 2189 \nQ 1293 2637 486 2637 \nQ 410 2637 410 2688 \nL 416 2720 \nL 1114 4237 \nL 2438 4237 \nQ 2547 4237 2608 4269 \nQ 2669 4301 2746 4403 \nL 2803 4358 \nz\n\" transform=\"scale(0.015625)\"/>\n       </defs>\n       <use xlink:href=\"#STIXGeneral-Regular-32\" transform=\"translate(0 0.203125)\"/>\n       <use xlink:href=\"#STIXGeneral-Regular-35\" transform=\"translate(49.999985 0.203125)\"/>\n      </g>\n     </g>\n    </g>\n    <g id=\"ytick_2\">\n     <g id=\"line2d_12\">\n      <g>\n       <use xlink:href=\"#m86c5976be1\" x=\"46.350914\" y=\"179.16067\" style=\"fill: #323034; stroke: #323034; stroke-width: 0.8\"/>\n      </g>\n     </g>\n     <g id=\"text_13\">\n      <!-- $\\mathdefault{30}$ -->\n      <g style=\"fill: #323034\" transform=\"translate(27.350914 183.258482)scale(0.12 -0.12)\">\n       <defs>\n        <path id=\"STIXGeneral-Regular-33\" d=\"M 390 3264 \nL 288 3290 \nQ 435 3770 748 4048 \nQ 1062 4326 1542 4326 \nQ 1990 4326 2265 4083 \nQ 2541 3840 2541 3450 \nQ 2541 2925 1946 2566 \nQ 2298 2413 2477 2227 \nQ 2758 1914 2758 1402 \nQ 2758 890 2464 506 \nQ 2246 211 1840 60 \nQ 1434 -90 979 -90 \nQ 262 -90 262 275 \nQ 262 378 339 442 \nQ 416 506 525 506 \nQ 685 506 915 339 \nQ 1197 141 1466 141 \nQ 1818 141 2058 425 \nQ 2298 710 2298 1120 \nQ 2298 1856 1632 2048 \nQ 1434 2112 979 2112 \nL 979 2202 \nQ 1338 2323 1517 2432 \nQ 2035 2726 2035 3290 \nQ 2035 3610 1852 3776 \nQ 1670 3942 1344 3942 \nQ 768 3942 390 3264 \nz\n\" transform=\"scale(0.015625)\"/>\n       </defs>\n       <use xlink:href=\"#STIXGeneral-Regular-33\" transform=\"translate(0 0.40625)\"/>\n       <use xlink:href=\"#STIXGeneral-Regular-30\" transform=\"translate(49.999985 0.40625)\"/>\n      </g>\n     </g>\n    </g>\n    <g id=\"ytick_3\">\n     <g id=\"line2d_13\">\n      <g>\n       <use xlink:href=\"#m86c5976be1\" x=\"46.350914\" y=\"151.183527\" style=\"fill: #323034; stroke: #323034; stroke-width: 0.8\"/>\n      </g>\n     </g>\n     <g id=\"text_14\">\n      <!-- $\\mathdefault{35}$ -->\n      <g style=\"fill: #323034\" transform=\"translate(27.350914 155.281339)scale(0.12 -0.12)\">\n       <use xlink:href=\"#STIXGeneral-Regular-33\" transform=\"translate(0 0.203125)\"/>\n       <use xlink:href=\"#STIXGeneral-Regular-35\" transform=\"translate(49.999985 0.203125)\"/>\n      </g>\n     </g>\n    </g>\n    <g id=\"ytick_4\">\n     <g id=\"line2d_14\">\n      <g>\n       <use xlink:href=\"#m86c5976be1\" x=\"46.350914\" y=\"123.206384\" style=\"fill: #323034; stroke: #323034; stroke-width: 0.8\"/>\n      </g>\n     </g>\n     <g id=\"text_15\">\n      <!-- $\\mathdefault{40}$ -->\n      <g style=\"fill: #323034\" transform=\"translate(27.350914 127.304196)scale(0.12 -0.12)\">\n       <use xlink:href=\"#STIXGeneral-Regular-34\" transform=\"translate(0 0.40625)\"/>\n       <use xlink:href=\"#STIXGeneral-Regular-30\" transform=\"translate(49.999985 0.40625)\"/>\n      </g>\n     </g>\n    </g>\n    <g id=\"ytick_5\">\n     <g id=\"line2d_15\">\n      <g>\n       <use xlink:href=\"#m86c5976be1\" x=\"46.350914\" y=\"95.229241\" style=\"fill: #323034; stroke: #323034; stroke-width: 0.8\"/>\n      </g>\n     </g>\n     <g id=\"text_16\">\n      <!-- $\\mathdefault{45}$ -->\n      <g style=\"fill: #323034\" transform=\"translate(27.350914 99.327054)scale(0.12 -0.12)\">\n       <use xlink:href=\"#STIXGeneral-Regular-34\" transform=\"translate(0 0.203125)\"/>\n       <use xlink:href=\"#STIXGeneral-Regular-35\" transform=\"translate(49.999985 0.203125)\"/>\n      </g>\n     </g>\n    </g>\n    <g id=\"ytick_6\">\n     <g id=\"line2d_16\">\n      <g>\n       <use xlink:href=\"#m86c5976be1\" x=\"46.350914\" y=\"67.252098\" style=\"fill: #323034; stroke: #323034; stroke-width: 0.8\"/>\n      </g>\n     </g>\n     <g id=\"text_17\">\n      <!-- $\\mathdefault{50}$ -->\n      <g style=\"fill: #323034\" transform=\"translate(27.350914 71.349911)scale(0.12 -0.12)\">\n       <use xlink:href=\"#STIXGeneral-Regular-35\" transform=\"translate(0 0.203125)\"/>\n       <use xlink:href=\"#STIXGeneral-Regular-30\" transform=\"translate(49.999985 0.203125)\"/>\n      </g>\n     </g>\n    </g>\n    <g id=\"ytick_7\">\n     <g id=\"line2d_17\">\n      <g>\n       <use xlink:href=\"#m86c5976be1\" x=\"46.350914\" y=\"39.274955\" style=\"fill: #323034; stroke: #323034; stroke-width: 0.8\"/>\n      </g>\n     </g>\n     <g id=\"text_18\">\n      <!-- $\\mathdefault{55}$ -->\n      <g style=\"fill: #323034\" transform=\"translate(27.350914 43.372768)scale(0.12 -0.12)\">\n       <use xlink:href=\"#STIXGeneral-Regular-35\" transform=\"translate(0 0.203125)\"/>\n       <use xlink:href=\"#STIXGeneral-Regular-35\" transform=\"translate(49.999985 0.203125)\"/>\n      </g>\n     </g>\n    </g>\n    <g id=\"ytick_8\">\n     <g id=\"line2d_18\">\n      <g>\n       <use xlink:href=\"#m86c5976be1\" x=\"46.350914\" y=\"11.297813\" style=\"fill: #323034; stroke: #323034; stroke-width: 0.8\"/>\n      </g>\n     </g>\n     <g id=\"text_19\">\n      <!-- $\\mathdefault{60}$ -->\n      <g style=\"fill: #323034\" transform=\"translate(27.350914 15.395625)scale(0.12 -0.12)\">\n       <defs>\n        <path id=\"STIXGeneral-Regular-36\" d=\"M 2854 4378 \nL 2867 4275 \nQ 2112 4154 1606 3664 \nQ 1101 3174 973 2451 \nQ 1344 2739 1786 2739 \nQ 2349 2739 2672 2380 \nQ 2995 2022 2995 1402 \nQ 2995 774 2669 378 \nQ 2291 -90 1651 -90 \nQ 870 -90 518 557 \nQ 218 1107 218 1786 \nQ 218 2835 915 3552 \nQ 1312 3962 1731 4131 \nQ 2150 4301 2854 4378 \nz\nM 2419 1203 \nQ 2419 2445 1555 2445 \nQ 1235 2445 1024 2275 \nQ 813 2106 813 1702 \nQ 813 954 1046 522 \nQ 1280 90 1722 90 \nQ 2061 90 2240 394 \nQ 2419 698 2419 1203 \nz\n\" transform=\"scale(0.015625)\"/>\n       </defs>\n       <use xlink:href=\"#STIXGeneral-Regular-36\" transform=\"translate(0 0.59375)\"/>\n       <use xlink:href=\"#STIXGeneral-Regular-30\" transform=\"translate(49.999985 0.59375)\"/>\n      </g>\n     </g>\n    </g>\n    <g id=\"text_20\">\n     <!-- Close ($) -->\n     <g transform=\"translate(21.746539 131.382187)rotate(-90)scale(0.12 -0.12)\">\n      <defs>\n       <path id=\"STIXGeneral-Regular-43\" d=\"M 3930 838 \nL 4051 723 \nQ 3482 -90 2304 -90 \nQ 1376 -90 794 480 \nQ 179 1082 179 2080 \nQ 179 3014 755 3661 \nQ 1357 4326 2310 4326 \nQ 2720 4326 3072 4230 \nQ 3475 4115 3514 4115 \nQ 3725 4115 3782 4326 \nL 3910 4326 \nL 3968 2874 \nL 3821 2874 \nQ 3718 3334 3488 3584 \nQ 3034 4070 2458 4070 \nQ 1747 4070 1334 3548 \nQ 922 3027 922 2182 \nQ 922 1152 1382 653 \nQ 1811 192 2522 192 \nQ 2944 192 3251 339 \nQ 3558 486 3930 838 \nz\n\" transform=\"scale(0.015625)\"/>\n       <path id=\"STIXGeneral-Regular-6c\" d=\"M 1645 0 \nL 134 0 \nL 134 96 \nQ 435 122 531 221 \nQ 627 320 627 589 \nL 627 3590 \nQ 627 3821 569 3910 \nQ 512 4000 358 4000 \nQ 224 4000 122 3987 \nL 122 4090 \nQ 730 4237 1133 4371 \nL 1165 4346 \nL 1165 557 \nQ 1165 288 1254 201 \nQ 1344 115 1645 96 \nL 1645 0 \nz\n\" transform=\"scale(0.015625)\"/>\n       <path id=\"STIXGeneral-Regular-6f\" d=\"M 3008 1478 \nQ 3008 806 2608 371 \nQ 2208 -64 1568 -64 \nQ 979 -64 582 368 \nQ 186 800 186 1459 \nQ 186 2125 582 2534 \nQ 979 2944 1626 2944 \nQ 2221 2944 2614 2537 \nQ 3008 2131 3008 1478 \nz\nM 2432 1306 \nQ 2432 2035 2112 2445 \nQ 1856 2765 1504 2765 \nQ 1171 2765 966 2493 \nQ 762 2221 762 1747 \nQ 762 928 1101 435 \nQ 1318 115 1677 115 \nQ 2029 115 2230 432 \nQ 2432 749 2432 1306 \nz\n\" transform=\"scale(0.015625)\"/>\n       <path id=\"STIXGeneral-Regular-73\" d=\"M 998 1926 \nL 1664 1523 \nQ 1984 1331 2105 1164 \nQ 2227 998 2227 736 \nQ 2227 416 1961 176 \nQ 1696 -64 1331 -64 \nQ 1030 -64 864 -6 \nQ 691 51 570 51 \nQ 461 51 416 -26 \nL 333 -26 \nL 333 979 \nL 435 979 \nQ 538 512 730 294 \nQ 922 77 1248 77 \nQ 1485 77 1632 211 \nQ 1779 346 1779 550 \nQ 1779 845 1440 1030 \nL 1094 1222 \nQ 326 1651 326 2150 \nQ 326 2522 566 2730 \nQ 806 2938 1210 2938 \nQ 1491 2938 1638 2867 \nQ 1754 2816 1818 2816 \nQ 1862 2816 1920 2880 \nL 1990 2880 \nL 2022 2010 \nL 1926 2010 \nQ 1818 2445 1654 2621 \nQ 1491 2797 1203 2797 \nQ 986 2797 854 2688 \nQ 723 2579 723 2362 \nQ 723 2253 796 2128 \nQ 870 2003 998 1926 \nz\n\" transform=\"scale(0.015625)\"/>\n       <path id=\"STIXGeneral-Regular-20\" transform=\"scale(0.015625)\"/>\n       <path id=\"STIXGeneral-Regular-28\" d=\"M 1946 -1030 \nL 1869 -1133 \nQ 1126 -710 716 32 \nQ 307 774 307 1613 \nQ 307 3386 1888 4326 \nL 1946 4224 \nQ 1293 3667 1075 3126 \nQ 858 2586 858 1632 \nQ 858 685 1082 96 \nQ 1306 -493 1946 -1030 \nz\n\" transform=\"scale(0.015625)\"/>\n       <path id=\"STIXGeneral-Regular-24\" d=\"M 1690 4077 \nL 1690 2502 \nQ 2234 2208 2445 2045 \nQ 2656 1882 2797 1664 \nQ 2931 1466 2931 1088 \nQ 2931 570 2614 326 \nQ 2298 83 1690 0 \nL 1690 -557 \nL 1472 -557 \nL 1472 0 \nQ 1062 0 806 73 \nQ 550 147 282 326 \nL 282 1158 \nL 378 1158 \nQ 480 685 761 432 \nQ 1043 179 1472 179 \nL 1472 1984 \nQ 800 2362 566 2624 \nQ 333 2886 333 3283 \nQ 333 3731 659 3974 \nQ 986 4218 1472 4250 \nL 1472 4653 \nL 1690 4653 \nL 1690 4250 \nQ 2426 4205 2720 3910 \nL 2720 3200 \nL 2624 3200 \nQ 2528 3597 2301 3814 \nQ 2074 4032 1690 4077 \nz\nM 1472 2605 \nL 1472 4077 \nQ 806 3942 806 3405 \nQ 806 3194 937 3037 \nQ 1069 2880 1472 2605 \nz\nM 1690 1875 \nL 1690 179 \nQ 2086 262 2252 432 \nQ 2419 602 2419 941 \nQ 2419 1235 2272 1427 \nQ 2125 1619 1690 1875 \nz\n\" transform=\"scale(0.015625)\"/>\n       <path id=\"STIXGeneral-Regular-29\" d=\"M 186 4224 \nL 262 4326 \nQ 992 3891 1408 3148 \nQ 1824 2406 1824 1581 \nQ 1824 -166 243 -1133 \nL 186 -1030 \nQ 845 -486 1059 54 \nQ 1274 595 1274 1562 \nQ 1274 2534 1059 3120 \nQ 845 3706 186 4224 \nz\n\" transform=\"scale(0.015625)\"/>\n      </defs>\n      <use xlink:href=\"#STIXGeneral-Regular-43\"/>\n      <use xlink:href=\"#STIXGeneral-Regular-6c\" x=\"66.699997\"/>\n      <use xlink:href=\"#STIXGeneral-Regular-6f\" x=\"94.499985\"/>\n      <use xlink:href=\"#STIXGeneral-Regular-73\" x=\"144.499969\"/>\n      <use xlink:href=\"#STIXGeneral-Regular-65\" x=\"183.399963\"/>\n      <use xlink:href=\"#STIXGeneral-Regular-20\" x=\"227.799957\"/>\n      <use xlink:href=\"#STIXGeneral-Regular-28\" x=\"252.799942\"/>\n      <use xlink:href=\"#STIXGeneral-Regular-24\" x=\"286.09993\"/>\n      <use xlink:href=\"#STIXGeneral-Regular-29\" x=\"336.099915\"/>\n     </g>\n    </g>\n   </g>\n   <g id=\"line2d_19\">\n    <path d=\"M 61.569096 176.864865 \nL 62.323405 175.55934 \nL 63.454868 174.891022 \nL 64.963486 172.540159 \nL 66.472104 171.956667 \nL 67.603567 169.995358 \nL 68.735031 169.352219 \nL 70.243648 166.812566 \nL 71.375112 166.234558 \nL 72.506575 164.566785 \nL 72.883729 164.227478 \nL 74.015193 163.862432 \nL 75.523811 162.650015 \nL 76.655274 162.3548 \nL 77.409583 161.754187 \nL 78.163892 161.308343 \nL 79.295355 161.012233 \nL 80.803973 159.850846 \nL 81.935436 159.419998 \nL 83.444054 157.681834 \nL 84.575517 157.245502 \nL 85.329826 156.50366 \nL 85.706981 156.129438 \nL 87.215598 155.73317 \nL 88.724216 154.15593 \nL 89.855679 153.798047 \nL 91.364297 152.34995 \nL 92.495761 151.98994 \nL 93.627224 150.897824 \nL 94.004378 150.753462 \nL 95.512996 150.6044 \nL 96.267305 150.546991 \nL 96.644459 150.577878 \nL 98.530232 150.343205 \nL 99.284541 150.08727 \nL 101.170313 149.741921 \nL 101.924622 149.589949 \nL 107.204784 149.318794 \nL 109.090556 149.212257 \nL 109.844865 149.355053 \nL 111.353483 149.493036 \nL 113.993564 149.882702 \nL 115.125027 149.67209 \nL 117.010799 149.371167 \nL 117.765108 149.091396 \nL 119.273726 148.828411 \nL 120.028035 148.419833 \nL 120.405189 148.337468 \nL 121.536653 148.25432 \nL 121.913807 148.019871 \nL 123.045271 146.861953 \nL 124.176734 146.433567 \nL 125.685352 144.452226 \nL 126.816815 143.947966 \nL 128.325433 142.232967 \nL 129.456896 141.744486 \nL 130.965514 139.974429 \nL 132.096977 139.573684 \nL 132.851286 138.899323 \nL 133.605595 138.555875 \nL 135.114213 138.388684 \nL 136.245676 138.071311 \nL 138.508603 137.780797 \nL 138.885757 137.63912 \nL 140.394375 137.454919 \nL 141.148684 137.05977 \nL 142.657302 137.019818 \nL 143.411611 136.850948 \nL 143.788765 136.842331 \nL 144.165919 136.960283 \nL 145.674537 136.971474 \nL 146.806001 137.276649 \nL 147.937464 137.137994 \nL 149.446082 136.172671 \nL 150.577545 135.821054 \nL 152.086163 134.396346 \nL 153.217626 134.095871 \nL 154.726244 133.066648 \nL 155.857707 132.744799 \nL 156.612016 132.159629 \nL 157.366325 131.275663 \nL 158.497788 130.881186 \nL 160.006406 129.258176 \nL 161.137869 128.765666 \nL 161.892178 127.803476 \nL 162.646487 126.942004 \nL 163.777951 126.432037 \nL 165.286568 124.424061 \nL 166.418032 123.845382 \nL 167.926649 121.796224 \nL 169.058113 121.418533 \nL 169.812422 120.818591 \nL 171.698194 120.101593 \nL 173.206812 118.206309 \nL 174.338275 117.739986 \nL 175.092584 117.180891 \nL 175.846893 116.686255 \nL 177.35551 116.179757 \nL 178.109819 115.975412 \nL 178.486974 115.937475 \nL 179.995592 116.059679 \nL 181.127055 116.271969 \nL 183.012827 116.433677 \nL 183.389982 116.686367 \nL 183.767136 117.131315 \nL 185.275754 117.449359 \nL 186.407217 118.7945 \nL 187.53868 118.957999 \nL 188.292989 119.220201 \nL 189.047298 119.023353 \nL 190.93307 118.864779 \nL 194.32746 118.033298 \nL 196.590387 117.782287 \nL 196.967542 117.511581 \nL 198.099005 117.195103 \nL 199.230468 116.483141 \nL 199.607623 116.308787 \nL 201.493395 116.268276 \nL 202.247704 116.626608 \nL 203.756322 116.67484 \nL 204.887785 117.414108 \nL 206.019248 117.731817 \nL 206.773557 118.107718 \nL 207.527866 118.339368 \nL 209.036484 118.283862 \nL 209.790793 117.935602 \nL 210.167947 117.721633 \nL 211.29941 117.487632 \nL 212.430874 116.125145 \nL 212.808028 115.941168 \nL 215.070955 115.457946 \nL 215.448109 115.593132 \nL 216.956727 115.889242 \nL 217.711036 115.607344 \nL 219.219654 115.303513 \nL 220.728272 114.296895 \nL 221.859735 113.913496 \nL 223.368353 112.62901 \nL 224.499816 112.358415 \nL 226.008434 111.444569 \nL 227.139897 111.15909 \nL 228.27136 110.199251 \nL 228.648515 109.67093 \nL 229.779978 109.035513 \nL 230.534287 107.667767 \nL 231.288596 106.278758 \nL 232.420059 105.631143 \nL 233.174368 104.308048 \nL 233.928677 103.324483 \nL 235.06014 102.759009 \nL 236.191604 101.578933 \nL 236.568758 101.270513 \nL 237.700222 101.052739 \nL 239.208839 100.052948 \nL 240.717457 99.458266 \nL 241.471766 98.317358 \nL 241.84892 97.646354 \nL 242.980384 96.920291 \nL 243.734693 95.524904 \nL 244.489002 94.501276 \nL 245.997619 93.881079 \nL 247.129083 93.415427 \nL 248.6377 93.234359 \nL 249.769164 92.769603 \nL 251.277782 92.58417 \nL 251.654936 92.210843 \nL 252.409245 91.138871 \nL 253.540708 90.575859 \nL 253.917863 90.077754 \nL 254.672172 89.557155 \nL 255.049326 88.982057 \nL 256.180789 88.406399 \nL 257.689407 86.369104 \nL 258.82087 85.700114 \nL 260.329488 83.060639 \nL 261.460952 82.358412 \nL 262.21526 80.702501 \nL 262.969569 78.621114 \nL 264.101033 77.46577 \nL 265.60965 72.970402 \nL 266.741114 72.066965 \nL 268.249732 67.851928 \nL 269.381195 67.026938 \nL 270.889813 63.866976 \nL 272.021276 63.05396 \nL 273.529894 59.510263 \nL 274.661357 58.525915 \nL 276.169975 54.673687 \nL 277.678593 53.77092 \nL 278.432902 52.03354 \nL 278.810056 51.665696 \nL 279.941519 51.249173 \nL 280.695828 50.604355 \nL 281.450137 49.947564 \nL 282.5816 49.646306 \nL 283.335909 48.918229 \nL 284.090218 48.516477 \nL 285.221681 48.435679 \nL 285.97599 48.637226 \nL 286.730299 48.340445 \nL 287.861763 48.556093 \nL 288.993226 49.594716 \nL 289.37038 49.965917 \nL 290.501844 50.501176 \nL 292.010461 54.244741 \nL 293.141925 54.976399 \nL 293.519079 55.835186 \nL 294.650543 59.707222 \nL 295.782006 61.020134 \nL 296.913469 64.202254 \nL 297.290624 65.303882 \nL 298.422087 66.172628 \nL 299.55355 69.996544 \nL 299.930705 71.474632 \nL 301.062168 73.00017 \nL 302.570786 79.607364 \nL 303.702249 81.163677 \nL 305.210867 88.290462 \nL 306.34233 90.02829 \nL 307.096639 93.430423 \nL 307.850948 95.128411 \nL 308.982411 96.681926 \nL 310.491029 104.418054 \nL 311.622493 106.198184 \nL 311.999647 107.870993 \nL 312.753956 109.474978 \nL 313.13111 111.16905 \nL 314.262574 112.930156 \nL 315.016883 116.110038 \nL 315.771191 118.651929 \nL 316.902655 120.150049 \nL 317.656964 122.926277 \nL 318.411273 124.96928 \nL 319.542736 125.553107 \nL 320.297045 126.228811 \nL 320.674199 126.960357 \nL 321.051354 127.355954 \nL 323.691435 127.630801 \nL 324.822898 127.741479 \nL 326.331516 128.788495 \nL 327.840134 128.977509 \nL 331.234524 128.089179 \nL 331.611678 127.770127 \nL 332.743141 127.484761 \nL 333.49745 126.567894 \nL 334.251759 125.231481 \nL 335.383223 124.622027 \nL 336.89184 121.707816 \nL 338.023304 120.444592 \nL 339.531921 116.006075 \nL 341.040539 115.03717 \nL 342.172003 112.029627 \nL 343.303466 111.059828 \nL 344.434929 107.887108 \nL 344.812084 106.732883 \nL 345.943547 105.510058 \nL 347.452165 100.942845 \nL 348.583628 100.041645 \nL 349.715091 97.543063 \nL 350.092246 96.717289 \nL 351.223709 95.78386 \nL 352.732327 91.885861 \nL 353.86379 90.966196 \nL 354.618099 89.066324 \nL 355.372408 86.949909 \nL 356.503871 85.98425 \nL 358.012489 83.050679 \nL 359.143953 82.738678 \nL 360.275416 81.488883 \nL 360.65257 81.020434 \nL 361.784034 80.724435 \nL 362.161188 80.495694 \nL 362.915497 80.463241 \nL 364.424115 80.574142 \nL 365.555578 81.246153 \nL 365.932733 81.583893 \nL 365.932733 81.583893 \n\" clip-path=\"url(#p50a03c3786)\" style=\"fill: none; stroke: #bc80bd; stroke-width: 2; stroke-linecap: square\"/>\n   </g>\n   <g id=\"patch_3\">\n    <path d=\"M 46.350914 207.137812 \nL 46.350914 11.297813 \n\" style=\"fill: none; stroke: #000000; stroke-width: 0.6; stroke-linejoin: miter; stroke-linecap: square\"/>\n   </g>\n   <g id=\"patch_4\">\n    <path d=\"M 46.350914 207.137812 \nL 381.150914 207.137812 \n\" style=\"fill: none; stroke: #000000; stroke-width: 0.6; stroke-linejoin: miter; stroke-linecap: square\"/>\n   </g>\n  </g>\n </g>\n <defs>\n  <clipPath id=\"p50a03c3786\">\n   <rect x=\"46.350914\" y=\"11.297812\" width=\"334.8\" height=\"195.84\"/>\n  </clipPath>\n </defs>\n</svg>\n",
      "text/plain": [
       "<Figure size 900x600 with 1 Axes>"
      ]
     },
     "metadata": {
      "needs_background": "light"
     },
     "output_type": "display_data"
    }
   ],
   "source": [
    "roll = xf[\"Close\"].rolling(50, center=True)\n",
    "\n",
    "fig, ax = plt.subplots()\n",
    "m = roll.agg([\"mean\", \"std\"])\n",
    "m[\"mean\"].plot(ax=ax)\n",
    "ax.fill_between(m.index, m[\"mean\"] - m[\"std\"], m[\"mean\"] + m[\"std\"], alpha=0.2)\n",
    "ax.set_ylabel(\"Close ($)\");"
   ]
  },
  {
   "cell_type": "markdown",
   "id": "f3884a6a",
   "metadata": {},
   "source": [
    "### Shifting\n",
    "\n",
    "Shifting can move series around in time; it's what we need to create leads and lags of time series. Let's create a lead and a lag in the data. Remember that a lead is going to shift the pattern in the data to the left (ie earlier in time), while the lag is going to shift patterns later in time (ie to the right)."
   ]
  },
  {
   "cell_type": "code",
   "execution_count": 52,
   "id": "3078fbb4",
   "metadata": {},
   "outputs": [
    {
     "data": {
      "text/html": [
       "<div>\n",
       "<style scoped>\n",
       "    .dataframe tbody tr th:only-of-type {\n",
       "        vertical-align: middle;\n",
       "    }\n",
       "\n",
       "    .dataframe tbody tr th {\n",
       "        vertical-align: top;\n",
       "    }\n",
       "\n",
       "    .dataframe thead th {\n",
       "        text-align: right;\n",
       "    }\n",
       "</style>\n",
       "<table border=\"1\" class=\"dataframe\">\n",
       "  <thead>\n",
       "    <tr style=\"text-align: right;\">\n",
       "      <th></th>\n",
       "      <th>Vacancies (ICT), thousands</th>\n",
       "      <th>lead (12 months)</th>\n",
       "      <th>lag (3 months)</th>\n",
       "    </tr>\n",
       "    <tr>\n",
       "      <th>date</th>\n",
       "      <th></th>\n",
       "      <th></th>\n",
       "      <th></th>\n",
       "    </tr>\n",
       "  </thead>\n",
       "  <tbody>\n",
       "    <tr>\n",
       "      <th>2001-05-31</th>\n",
       "      <td>50</td>\n",
       "      <td>44.0</td>\n",
       "      <td>NaN</td>\n",
       "    </tr>\n",
       "    <tr>\n",
       "      <th>2001-06-30</th>\n",
       "      <td>48</td>\n",
       "      <td>45.0</td>\n",
       "      <td>NaN</td>\n",
       "    </tr>\n",
       "    <tr>\n",
       "      <th>2001-07-31</th>\n",
       "      <td>47</td>\n",
       "      <td>45.0</td>\n",
       "      <td>NaN</td>\n",
       "    </tr>\n",
       "    <tr>\n",
       "      <th>2001-08-31</th>\n",
       "      <td>46</td>\n",
       "      <td>43.0</td>\n",
       "      <td>50.0</td>\n",
       "    </tr>\n",
       "    <tr>\n",
       "      <th>2001-09-30</th>\n",
       "      <td>44</td>\n",
       "      <td>40.0</td>\n",
       "      <td>48.0</td>\n",
       "    </tr>\n",
       "  </tbody>\n",
       "</table>\n",
       "</div>"
      ],
      "text/plain": [
       "            Vacancies (ICT), thousands  lead (12 months)  lag (3 months)\n",
       "date                                                                    \n",
       "2001-05-31                          50              44.0             NaN\n",
       "2001-06-30                          48              45.0             NaN\n",
       "2001-07-31                          47              45.0             NaN\n",
       "2001-08-31                          46              43.0            50.0\n",
       "2001-09-30                          44              40.0            48.0"
      ]
     },
     "execution_count": 52,
     "metadata": {},
     "output_type": "execute_result"
    }
   ],
   "source": [
    "lead = 12\n",
    "lag = 3\n",
    "orig_series_name = df.columns[0]\n",
    "df[f\"lead ({lead} months)\"] = df[orig_series_name].shift(-lead)\n",
    "df[f\"lag ({lag} months)\"] = df[orig_series_name].shift(lag)\n",
    "df.head()"
   ]
  },
  {
   "cell_type": "code",
   "execution_count": 53,
   "id": "18b9afb3",
   "metadata": {},
   "outputs": [
    {
     "data": {
      "image/svg+xml": "<?xml version=\"1.0\" encoding=\"utf-8\" standalone=\"no\"?>\n<!DOCTYPE svg PUBLIC \"-//W3C//DTD SVG 1.1//EN\"\n  \"http://www.w3.org/Graphics/SVG/1.1/DTD/svg11.dtd\">\n<svg xmlns:xlink=\"http://www.w3.org/1999/xlink\" width=\"368.2pt\" height=\"267.537812pt\" viewBox=\"0 0 368.2 267.537812\" xmlns=\"http://www.w3.org/2000/svg\" version=\"1.1\">\n <metadata>\n  <rdf:RDF xmlns:dc=\"http://purl.org/dc/elements/1.1/\" xmlns:cc=\"http://creativecommons.org/ns#\" xmlns:rdf=\"http://www.w3.org/1999/02/22-rdf-syntax-ns#\">\n   <cc:Work>\n    <dc:type rdf:resource=\"http://purl.org/dc/dcmitype/StillImage\"/>\n    <dc:date>2022-07-15T10:52:55.288606</dc:date>\n    <dc:format>image/svg+xml</dc:format>\n    <dc:creator>\n     <cc:Agent>\n      <dc:title>Matplotlib v3.5.2, https://matplotlib.org/</dc:title>\n     </cc:Agent>\n    </dc:creator>\n   </cc:Work>\n  </rdf:RDF>\n </metadata>\n <defs>\n  <style type=\"text/css\">*{stroke-linejoin: round; stroke-linecap: butt}</style>\n </defs>\n <g id=\"figure_1\">\n  <g id=\"patch_1\">\n   <path d=\"M -0 267.537812 \nL 368.2 267.537812 \nL 368.2 0 \nL -0 0 \nL -0 267.537812 \nz\n\" style=\"fill: none\"/>\n  </g>\n  <g id=\"axes_1\">\n   <g id=\"patch_2\">\n    <path d=\"M 26.2 228.737812 \nL 361 228.737812 \nL 361 11.297812 \nL 26.2 11.297812 \nz\n\" style=\"fill: #ffffff\"/>\n   </g>\n   <g id=\"matplotlib.axis_1\">\n    <g id=\"xtick_1\">\n     <g id=\"line2d_1\">\n      <defs>\n       <path id=\"mf5a505931a\" d=\"M 0 0 \nL 0 3.5 \n\" style=\"stroke: #323034; stroke-width: 0.8\"/>\n      </defs>\n      <g>\n       <use xlink:href=\"#mf5a505931a\" x=\"61.675497\" y=\"228.737812\" style=\"fill: #323034; stroke: #323034; stroke-width: 0.8\"/>\n      </g>\n     </g>\n     <g id=\"text_1\">\n      <!-- 2011 -->\n      <g style=\"fill: #323034\" transform=\"translate(49.675497 243.933437)scale(0.12 -0.12)\">\n       <defs>\n        <path id=\"STIXGeneral-Regular-32\" d=\"M 3034 877 \nL 2688 0 \nL 186 0 \nL 186 77 \nL 1325 1286 \nQ 1773 1754 1965 2144 \nQ 2157 2534 2157 2950 \nQ 2157 3379 1920 3616 \nQ 1683 3853 1267 3853 \nQ 922 3853 720 3673 \nQ 518 3494 326 3021 \nL 192 3053 \nQ 301 3648 630 3987 \nQ 960 4326 1523 4326 \nQ 2054 4326 2380 4006 \nQ 2707 3686 2707 3200 \nQ 2707 2477 1888 1613 \nL 832 486 \nL 2330 486 \nQ 2541 486 2665 569 \nQ 2790 653 2944 915 \nL 3034 877 \nz\n\" transform=\"scale(0.015625)\"/>\n        <path id=\"STIXGeneral-Regular-30\" d=\"M 3046 2112 \nQ 3046 1683 2963 1302 \nQ 2880 922 2717 602 \nQ 2554 282 2266 96 \nQ 1978 -90 1600 -90 \nQ 1210 -90 915 108 \nQ 621 307 461 640 \nQ 301 973 227 1350 \nQ 154 1728 154 2150 \nQ 154 2746 301 3222 \nQ 448 3699 790 4012 \nQ 1133 4326 1626 4326 \nQ 2253 4326 2649 3712 \nQ 3046 3098 3046 2112 \nz\nM 2432 2080 \nQ 2432 3091 2217 3625 \nQ 2003 4160 1587 4160 \nQ 1190 4160 979 3622 \nQ 768 3085 768 2106 \nQ 768 1120 979 598 \nQ 1190 77 1600 77 \nQ 2003 77 2217 598 \nQ 2432 1120 2432 2080 \nz\n\" transform=\"scale(0.015625)\"/>\n        <path id=\"STIXGeneral-Regular-31\" d=\"M 2522 0 \nL 755 0 \nL 755 96 \nQ 1107 115 1235 227 \nQ 1363 339 1363 608 \nL 1363 3482 \nQ 1363 3795 1171 3795 \nQ 1082 3795 883 3718 \nL 710 3654 \nL 710 3744 \nL 1856 4326 \nL 1914 4307 \nL 1914 486 \nQ 1914 275 2042 185 \nQ 2170 96 2522 96 \nL 2522 0 \nz\n\" transform=\"scale(0.015625)\"/>\n       </defs>\n       <use xlink:href=\"#STIXGeneral-Regular-32\"/>\n       <use xlink:href=\"#STIXGeneral-Regular-30\" x=\"49.999985\"/>\n       <use xlink:href=\"#STIXGeneral-Regular-31\" x=\"99.999969\"/>\n       <use xlink:href=\"#STIXGeneral-Regular-31\" x=\"149.999954\"/>\n      </g>\n     </g>\n    </g>\n    <g id=\"xtick_2\">\n     <g id=\"line2d_2\">\n      <g>\n       <use xlink:href=\"#mf5a505931a\" x=\"114.888742\" y=\"228.737812\" style=\"fill: #323034; stroke: #323034; stroke-width: 0.8\"/>\n      </g>\n     </g>\n     <g id=\"text_2\">\n      <!-- 2013 -->\n      <g style=\"fill: #323034\" transform=\"translate(102.888742 243.933437)scale(0.12 -0.12)\">\n       <defs>\n        <path id=\"STIXGeneral-Regular-33\" d=\"M 390 3264 \nL 288 3290 \nQ 435 3770 748 4048 \nQ 1062 4326 1542 4326 \nQ 1990 4326 2265 4083 \nQ 2541 3840 2541 3450 \nQ 2541 2925 1946 2566 \nQ 2298 2413 2477 2227 \nQ 2758 1914 2758 1402 \nQ 2758 890 2464 506 \nQ 2246 211 1840 60 \nQ 1434 -90 979 -90 \nQ 262 -90 262 275 \nQ 262 378 339 442 \nQ 416 506 525 506 \nQ 685 506 915 339 \nQ 1197 141 1466 141 \nQ 1818 141 2058 425 \nQ 2298 710 2298 1120 \nQ 2298 1856 1632 2048 \nQ 1434 2112 979 2112 \nL 979 2202 \nQ 1338 2323 1517 2432 \nQ 2035 2726 2035 3290 \nQ 2035 3610 1852 3776 \nQ 1670 3942 1344 3942 \nQ 768 3942 390 3264 \nz\n\" transform=\"scale(0.015625)\"/>\n       </defs>\n       <use xlink:href=\"#STIXGeneral-Regular-32\"/>\n       <use xlink:href=\"#STIXGeneral-Regular-30\" x=\"49.999985\"/>\n       <use xlink:href=\"#STIXGeneral-Regular-31\" x=\"99.999969\"/>\n       <use xlink:href=\"#STIXGeneral-Regular-33\" x=\"149.999954\"/>\n      </g>\n     </g>\n    </g>\n    <g id=\"xtick_3\">\n     <g id=\"line2d_3\">\n      <g>\n       <use xlink:href=\"#mf5a505931a\" x=\"168.101987\" y=\"228.737812\" style=\"fill: #323034; stroke: #323034; stroke-width: 0.8\"/>\n      </g>\n     </g>\n     <g id=\"text_3\">\n      <!-- 2015 -->\n      <g style=\"fill: #323034\" transform=\"translate(156.101987 243.933437)scale(0.12 -0.12)\">\n       <defs>\n        <path id=\"STIXGeneral-Regular-35\" d=\"M 2803 4358 \nL 2573 3814 \nQ 2534 3731 2400 3731 \nL 1158 3731 \nL 902 3187 \nQ 1606 3053 1920 2896 \nQ 2234 2739 2502 2368 \nQ 2726 2061 2726 1555 \nQ 2726 1094 2576 780 \nQ 2426 467 2099 224 \nQ 1664 -90 1011 -90 \nQ 646 -90 422 19 \nQ 198 128 198 307 \nQ 198 550 486 550 \nQ 717 550 960 352 \nQ 1210 147 1414 147 \nQ 1747 147 2012 480 \nQ 2278 813 2278 1229 \nQ 2278 1843 1850 2189 \nQ 1293 2637 486 2637 \nQ 410 2637 410 2688 \nL 416 2720 \nL 1114 4237 \nL 2438 4237 \nQ 2547 4237 2608 4269 \nQ 2669 4301 2746 4403 \nL 2803 4358 \nz\n\" transform=\"scale(0.015625)\"/>\n       </defs>\n       <use xlink:href=\"#STIXGeneral-Regular-32\"/>\n       <use xlink:href=\"#STIXGeneral-Regular-30\" x=\"49.999985\"/>\n       <use xlink:href=\"#STIXGeneral-Regular-31\" x=\"99.999969\"/>\n       <use xlink:href=\"#STIXGeneral-Regular-35\" x=\"149.999954\"/>\n      </g>\n     </g>\n    </g>\n    <g id=\"xtick_4\">\n     <g id=\"line2d_4\">\n      <g>\n       <use xlink:href=\"#mf5a505931a\" x=\"221.315232\" y=\"228.737812\" style=\"fill: #323034; stroke: #323034; stroke-width: 0.8\"/>\n      </g>\n     </g>\n     <g id=\"text_4\">\n      <!-- 2017 -->\n      <g style=\"fill: #323034\" transform=\"translate(209.315232 243.933437)scale(0.12 -0.12)\">\n       <defs>\n        <path id=\"STIXGeneral-Regular-37\" d=\"M 2874 4134 \nL 1517 -51 \nL 1101 -51 \nL 2368 3763 \nL 992 3763 \nQ 717 3763 582 3667 \nQ 448 3571 243 3238 \nL 128 3296 \nL 512 4237 \nL 2874 4237 \nL 2874 4134 \nz\n\" transform=\"scale(0.015625)\"/>\n       </defs>\n       <use xlink:href=\"#STIXGeneral-Regular-32\"/>\n       <use xlink:href=\"#STIXGeneral-Regular-30\" x=\"49.999985\"/>\n       <use xlink:href=\"#STIXGeneral-Regular-31\" x=\"99.999969\"/>\n       <use xlink:href=\"#STIXGeneral-Regular-37\" x=\"149.999954\"/>\n      </g>\n     </g>\n    </g>\n    <g id=\"xtick_5\">\n     <g id=\"line2d_5\">\n      <g>\n       <use xlink:href=\"#mf5a505931a\" x=\"274.528477\" y=\"228.737812\" style=\"fill: #323034; stroke: #323034; stroke-width: 0.8\"/>\n      </g>\n     </g>\n     <g id=\"text_5\">\n      <!-- 2019 -->\n      <g style=\"fill: #323034\" transform=\"translate(262.528477 243.933437)scale(0.12 -0.12)\">\n       <defs>\n        <path id=\"STIXGeneral-Regular-39\" d=\"M 378 -141 \nL 358 -13 \nQ 1094 115 1603 608 \nQ 2112 1101 2304 1882 \nQ 1933 1517 1344 1517 \nQ 826 1517 509 1875 \nQ 192 2234 192 2816 \nQ 192 3462 573 3894 \nQ 954 4326 1523 4326 \nQ 2131 4326 2528 3840 \nQ 2938 3328 2938 2522 \nQ 2938 1958 2742 1462 \nQ 2547 966 2170 621 \nQ 1773 262 1395 105 \nQ 1018 -51 378 -141 \nz\nM 2317 2272 \nL 2317 2522 \nQ 2317 4147 1472 4147 \nQ 1171 4147 1005 3930 \nQ 909 3802 845 3546 \nQ 781 3290 781 3034 \nQ 781 2464 995 2128 \nQ 1210 1792 1568 1792 \nQ 1824 1792 2070 1917 \nQ 2317 2042 2317 2272 \nz\n\" transform=\"scale(0.015625)\"/>\n       </defs>\n       <use xlink:href=\"#STIXGeneral-Regular-32\"/>\n       <use xlink:href=\"#STIXGeneral-Regular-30\" x=\"49.999985\"/>\n       <use xlink:href=\"#STIXGeneral-Regular-31\" x=\"99.999969\"/>\n       <use xlink:href=\"#STIXGeneral-Regular-39\" x=\"149.999954\"/>\n      </g>\n     </g>\n    </g>\n    <g id=\"xtick_6\">\n     <g id=\"line2d_6\">\n      <g>\n       <use xlink:href=\"#mf5a505931a\" x=\"327.741722\" y=\"228.737812\" style=\"fill: #323034; stroke: #323034; stroke-width: 0.8\"/>\n      </g>\n     </g>\n     <g id=\"text_6\">\n      <!-- 2021 -->\n      <g style=\"fill: #323034\" transform=\"translate(315.741722 243.933437)scale(0.12 -0.12)\">\n       <use xlink:href=\"#STIXGeneral-Regular-32\"/>\n       <use xlink:href=\"#STIXGeneral-Regular-30\" x=\"49.999985\"/>\n       <use xlink:href=\"#STIXGeneral-Regular-32\" x=\"99.999969\"/>\n       <use xlink:href=\"#STIXGeneral-Regular-31\" x=\"149.999954\"/>\n      </g>\n     </g>\n    </g>\n    <g id=\"xtick_7\">\n     <g id=\"line2d_7\">\n      <defs>\n       <path id=\"ma8208ca86d\" d=\"M 0 0 \nL 0 2 \n\" style=\"stroke: #323034; stroke-width: 0.6\"/>\n      </defs>\n      <g>\n       <use xlink:href=\"#ma8208ca86d\" x=\"35.068874\" y=\"228.737812\" style=\"fill: #323034; stroke: #323034; stroke-width: 0.6\"/>\n      </g>\n     </g>\n    </g>\n    <g id=\"xtick_8\">\n     <g id=\"line2d_8\">\n      <g>\n       <use xlink:href=\"#ma8208ca86d\" x=\"88.282119\" y=\"228.737812\" style=\"fill: #323034; stroke: #323034; stroke-width: 0.6\"/>\n      </g>\n     </g>\n    </g>\n    <g id=\"xtick_9\">\n     <g id=\"line2d_9\">\n      <g>\n       <use xlink:href=\"#ma8208ca86d\" x=\"141.495364\" y=\"228.737812\" style=\"fill: #323034; stroke: #323034; stroke-width: 0.6\"/>\n      </g>\n     </g>\n    </g>\n    <g id=\"xtick_10\">\n     <g id=\"line2d_10\">\n      <g>\n       <use xlink:href=\"#ma8208ca86d\" x=\"194.708609\" y=\"228.737812\" style=\"fill: #323034; stroke: #323034; stroke-width: 0.6\"/>\n      </g>\n     </g>\n    </g>\n    <g id=\"xtick_11\">\n     <g id=\"line2d_11\">\n      <g>\n       <use xlink:href=\"#ma8208ca86d\" x=\"247.921854\" y=\"228.737812\" style=\"fill: #323034; stroke: #323034; stroke-width: 0.6\"/>\n      </g>\n     </g>\n    </g>\n    <g id=\"xtick_12\">\n     <g id=\"line2d_12\">\n      <g>\n       <use xlink:href=\"#ma8208ca86d\" x=\"301.135099\" y=\"228.737812\" style=\"fill: #323034; stroke: #323034; stroke-width: 0.6\"/>\n      </g>\n     </g>\n    </g>\n    <g id=\"xtick_13\">\n     <g id=\"line2d_13\">\n      <g>\n       <use xlink:href=\"#ma8208ca86d\" x=\"354.348344\" y=\"228.737812\" style=\"fill: #323034; stroke: #323034; stroke-width: 0.6\"/>\n      </g>\n     </g>\n    </g>\n    <g id=\"text_7\">\n     <!-- date -->\n     <g transform=\"translate(183.603438 257.733437)scale(0.12 -0.12)\">\n      <defs>\n       <path id=\"STIXGeneral-Regular-64\" d=\"M 3142 269 \nL 2202 -64 \nL 2176 -45 \nL 2176 365 \nQ 1869 -64 1357 -64 \nQ 826 -64 499 317 \nQ 173 698 173 1312 \nQ 173 1990 563 2467 \nQ 954 2944 1504 2944 \nQ 1850 2944 2176 2669 \nL 2176 3667 \nQ 2176 3866 2118 3930 \nQ 2061 3994 1882 3994 \nQ 1792 3994 1741 3987 \nL 1741 4090 \nQ 2323 4243 2682 4371 \nL 2714 4358 \nL 2714 730 \nQ 2714 506 2768 435 \nQ 2822 365 2995 365 \nQ 3034 365 3142 371 \nL 3142 269 \nz\nM 2176 653 \nL 2176 2125 \nQ 2176 2381 1981 2573 \nQ 1786 2765 1523 2765 \nQ 1158 2765 940 2438 \nQ 723 2112 723 1568 \nQ 723 979 963 624 \nQ 1203 269 1606 269 \nQ 1907 269 2080 474 \nQ 2176 582 2176 653 \nz\n\" transform=\"scale(0.015625)\"/>\n       <path id=\"STIXGeneral-Regular-61\" d=\"M 2829 422 \nL 2829 243 \nQ 2586 -64 2253 -64 \nQ 1888 -64 1843 403 \nL 1837 403 \nQ 1427 -64 909 -64 \nQ 608 -64 422 112 \nQ 237 288 237 602 \nQ 237 1050 685 1350 \nQ 992 1555 1837 1869 \nL 1837 2214 \nQ 1837 2502 1699 2646 \nQ 1562 2790 1338 2790 \nQ 1146 2790 1018 2697 \nQ 890 2605 890 2477 \nQ 890 2419 909 2348 \nQ 928 2278 928 2208 \nQ 928 2112 841 2029 \nQ 755 1946 634 1946 \nQ 525 1946 441 2029 \nQ 358 2112 358 2240 \nQ 358 2547 685 2752 \nQ 986 2944 1421 2944 \nQ 1939 2944 2176 2656 \nQ 2291 2522 2323 2384 \nQ 2355 2246 2355 1946 \nL 2355 723 \nQ 2355 301 2554 301 \nQ 2682 301 2829 422 \nz\nM 1837 813 \nL 1837 1715 \nQ 1248 1510 1018 1293 \nQ 800 1094 800 800 \nQ 800 557 921 432 \nQ 1043 307 1242 307 \nQ 1453 307 1613 410 \nQ 1747 506 1792 589 \nQ 1837 672 1837 813 \nz\n\" transform=\"scale(0.015625)\"/>\n       <path id=\"STIXGeneral-Regular-74\" d=\"M 1702 493 \nL 1786 422 \nQ 1478 -64 1011 -64 \nQ 448 -64 448 749 \nL 448 2675 \nL 109 2675 \nQ 83 2694 83 2720 \nQ 83 2771 192 2842 \nQ 435 2982 813 3526 \nQ 826 3546 874 3606 \nQ 922 3667 941 3706 \nQ 986 3706 986 3622 \nL 986 2880 \nL 1632 2880 \nL 1632 2675 \nL 986 2675 \nL 986 845 \nQ 986 538 1062 403 \nQ 1139 269 1318 269 \nQ 1510 269 1702 493 \nz\n\" transform=\"scale(0.015625)\"/>\n       <path id=\"STIXGeneral-Regular-65\" d=\"M 2611 1050 \nL 2714 1005 \nQ 2330 -64 1376 -64 \nQ 813 -64 486 329 \nQ 160 723 160 1389 \nQ 160 2074 525 2509 \nQ 890 2944 1485 2944 \nQ 2061 2944 2374 2502 \nQ 2560 2246 2592 1773 \nL 621 1773 \nQ 646 1370 700 1158 \nQ 755 947 915 730 \nQ 1184 378 1626 378 \nQ 1939 378 2153 531 \nQ 2368 685 2611 1050 \nz\nM 634 1978 \nL 1939 1978 \nQ 1882 2381 1750 2547 \nQ 1619 2714 1312 2714 \nQ 1043 2714 864 2525 \nQ 685 2336 634 1978 \nz\n\" transform=\"scale(0.015625)\"/>\n      </defs>\n      <use xlink:href=\"#STIXGeneral-Regular-64\"/>\n      <use xlink:href=\"#STIXGeneral-Regular-61\" x=\"49.999985\"/>\n      <use xlink:href=\"#STIXGeneral-Regular-74\" x=\"94.399979\"/>\n      <use xlink:href=\"#STIXGeneral-Regular-65\" x=\"122.199966\"/>\n     </g>\n    </g>\n   </g>\n   <g id=\"matplotlib.axis_2\">\n    <g id=\"ytick_1\">\n     <g id=\"line2d_14\">\n      <defs>\n       <path id=\"m09cd208263\" d=\"M 0 0 \nL -3.5 0 \n\" style=\"stroke: #323034; stroke-width: 0.8\"/>\n      </defs>\n      <g>\n       <use xlink:href=\"#m09cd208263\" x=\"26.2\" y=\"228.737812\" style=\"fill: #323034; stroke: #323034; stroke-width: 0.8\"/>\n      </g>\n     </g>\n     <g id=\"text_8\">\n      <!-- $\\mathdefault{0}$ -->\n      <g style=\"fill: #323034\" transform=\"translate(13.2 232.835625)scale(0.12 -0.12)\">\n       <use xlink:href=\"#STIXGeneral-Regular-30\" transform=\"translate(0 0.40625)\"/>\n      </g>\n     </g>\n    </g>\n    <g id=\"ytick_2\">\n     <g id=\"line2d_15\">\n      <g>\n       <use xlink:href=\"#m09cd208263\" x=\"26.2\" y=\"204.577812\" style=\"fill: #323034; stroke: #323034; stroke-width: 0.8\"/>\n      </g>\n     </g>\n     <g id=\"text_9\">\n      <!-- $\\mathdefault{10}$ -->\n      <g style=\"fill: #323034\" transform=\"translate(7.2 208.675625)scale(0.12 -0.12)\">\n       <use xlink:href=\"#STIXGeneral-Regular-31\" transform=\"translate(0 0.40625)\"/>\n       <use xlink:href=\"#STIXGeneral-Regular-30\" transform=\"translate(49.999985 0.40625)\"/>\n      </g>\n     </g>\n    </g>\n    <g id=\"ytick_3\">\n     <g id=\"line2d_16\">\n      <g>\n       <use xlink:href=\"#m09cd208263\" x=\"26.2\" y=\"180.417812\" style=\"fill: #323034; stroke: #323034; stroke-width: 0.8\"/>\n      </g>\n     </g>\n     <g id=\"text_10\">\n      <!-- $\\mathdefault{20}$ -->\n      <g style=\"fill: #323034\" transform=\"translate(7.2 184.515625)scale(0.12 -0.12)\">\n       <use xlink:href=\"#STIXGeneral-Regular-32\" transform=\"translate(0 0.40625)\"/>\n       <use xlink:href=\"#STIXGeneral-Regular-30\" transform=\"translate(49.999985 0.40625)\"/>\n      </g>\n     </g>\n    </g>\n    <g id=\"ytick_4\">\n     <g id=\"line2d_17\">\n      <g>\n       <use xlink:href=\"#m09cd208263\" x=\"26.2\" y=\"156.257812\" style=\"fill: #323034; stroke: #323034; stroke-width: 0.8\"/>\n      </g>\n     </g>\n     <g id=\"text_11\">\n      <!-- $\\mathdefault{30}$ -->\n      <g style=\"fill: #323034\" transform=\"translate(7.2 160.355625)scale(0.12 -0.12)\">\n       <use xlink:href=\"#STIXGeneral-Regular-33\" transform=\"translate(0 0.40625)\"/>\n       <use xlink:href=\"#STIXGeneral-Regular-30\" transform=\"translate(49.999985 0.40625)\"/>\n      </g>\n     </g>\n    </g>\n    <g id=\"ytick_5\">\n     <g id=\"line2d_18\">\n      <g>\n       <use xlink:href=\"#m09cd208263\" x=\"26.2\" y=\"132.097812\" style=\"fill: #323034; stroke: #323034; stroke-width: 0.8\"/>\n      </g>\n     </g>\n     <g id=\"text_12\">\n      <!-- $\\mathdefault{40}$ -->\n      <g style=\"fill: #323034\" transform=\"translate(7.2 136.195625)scale(0.12 -0.12)\">\n       <defs>\n        <path id=\"STIXGeneral-Regular-34\" d=\"M 3027 1069 \nL 2368 1069 \nL 2368 0 \nL 1869 0 \nL 1869 1069 \nL 77 1069 \nL 77 1478 \nL 2086 4326 \nL 2368 4326 \nL 2368 1478 \nL 3027 1478 \nL 3027 1069 \nz\nM 1869 1478 \nL 1869 3674 \nL 333 1478 \nL 1869 1478 \nz\n\" transform=\"scale(0.015625)\"/>\n       </defs>\n       <use xlink:href=\"#STIXGeneral-Regular-34\" transform=\"translate(0 0.40625)\"/>\n       <use xlink:href=\"#STIXGeneral-Regular-30\" transform=\"translate(49.999985 0.40625)\"/>\n      </g>\n     </g>\n    </g>\n    <g id=\"ytick_6\">\n     <g id=\"line2d_19\">\n      <g>\n       <use xlink:href=\"#m09cd208263\" x=\"26.2\" y=\"107.937812\" style=\"fill: #323034; stroke: #323034; stroke-width: 0.8\"/>\n      </g>\n     </g>\n     <g id=\"text_13\">\n      <!-- $\\mathdefault{50}$ -->\n      <g style=\"fill: #323034\" transform=\"translate(7.2 112.035625)scale(0.12 -0.12)\">\n       <use xlink:href=\"#STIXGeneral-Regular-35\" transform=\"translate(0 0.203125)\"/>\n       <use xlink:href=\"#STIXGeneral-Regular-30\" transform=\"translate(49.999985 0.203125)\"/>\n      </g>\n     </g>\n    </g>\n    <g id=\"ytick_7\">\n     <g id=\"line2d_20\">\n      <g>\n       <use xlink:href=\"#m09cd208263\" x=\"26.2\" y=\"83.777812\" style=\"fill: #323034; stroke: #323034; stroke-width: 0.8\"/>\n      </g>\n     </g>\n     <g id=\"text_14\">\n      <!-- $\\mathdefault{60}$ -->\n      <g style=\"fill: #323034\" transform=\"translate(7.2 87.875625)scale(0.12 -0.12)\">\n       <defs>\n        <path id=\"STIXGeneral-Regular-36\" d=\"M 2854 4378 \nL 2867 4275 \nQ 2112 4154 1606 3664 \nQ 1101 3174 973 2451 \nQ 1344 2739 1786 2739 \nQ 2349 2739 2672 2380 \nQ 2995 2022 2995 1402 \nQ 2995 774 2669 378 \nQ 2291 -90 1651 -90 \nQ 870 -90 518 557 \nQ 218 1107 218 1786 \nQ 218 2835 915 3552 \nQ 1312 3962 1731 4131 \nQ 2150 4301 2854 4378 \nz\nM 2419 1203 \nQ 2419 2445 1555 2445 \nQ 1235 2445 1024 2275 \nQ 813 2106 813 1702 \nQ 813 954 1046 522 \nQ 1280 90 1722 90 \nQ 2061 90 2240 394 \nQ 2419 698 2419 1203 \nz\n\" transform=\"scale(0.015625)\"/>\n       </defs>\n       <use xlink:href=\"#STIXGeneral-Regular-36\" transform=\"translate(0 0.59375)\"/>\n       <use xlink:href=\"#STIXGeneral-Regular-30\" transform=\"translate(49.999985 0.59375)\"/>\n      </g>\n     </g>\n    </g>\n    <g id=\"ytick_8\">\n     <g id=\"line2d_21\">\n      <g>\n       <use xlink:href=\"#m09cd208263\" x=\"26.2\" y=\"59.617812\" style=\"fill: #323034; stroke: #323034; stroke-width: 0.8\"/>\n      </g>\n     </g>\n     <g id=\"text_15\">\n      <!-- $\\mathdefault{70}$ -->\n      <g style=\"fill: #323034\" transform=\"translate(7.2 63.715625)scale(0.12 -0.12)\">\n       <use xlink:href=\"#STIXGeneral-Regular-37\" transform=\"translate(0 0.40625)\"/>\n       <use xlink:href=\"#STIXGeneral-Regular-30\" transform=\"translate(49.999985 0.40625)\"/>\n      </g>\n     </g>\n    </g>\n    <g id=\"ytick_9\">\n     <g id=\"line2d_22\">\n      <g>\n       <use xlink:href=\"#m09cd208263\" x=\"26.2\" y=\"35.457812\" style=\"fill: #323034; stroke: #323034; stroke-width: 0.8\"/>\n      </g>\n     </g>\n     <g id=\"text_16\">\n      <!-- $\\mathdefault{80}$ -->\n      <g style=\"fill: #323034\" transform=\"translate(7.2 39.555625)scale(0.12 -0.12)\">\n       <defs>\n        <path id=\"STIXGeneral-Regular-38\" d=\"M 2848 992 \nQ 2848 499 2505 204 \nQ 2163 -90 1587 -90 \nQ 1050 -90 704 204 \nQ 358 499 358 954 \nQ 358 1293 524 1533 \nQ 691 1773 1190 2125 \nQ 710 2522 553 2765 \nQ 397 3008 397 3328 \nQ 397 3782 745 4054 \nQ 1094 4326 1638 4326 \nQ 2106 4326 2410 4060 \nQ 2714 3795 2714 3411 \nQ 2714 3059 2531 2848 \nQ 2349 2637 1856 2374 \nQ 2432 1990 2640 1689 \nQ 2848 1389 2848 992 \nz\nM 2272 3411 \nQ 2272 3744 2086 3945 \nQ 1901 4147 1574 4147 \nQ 1248 4147 1059 3977 \nQ 870 3808 870 3513 \nQ 870 3219 1059 2979 \nQ 1248 2739 1670 2490 \nQ 1997 2682 2134 2896 \nQ 2272 3110 2272 3411 \nz\nM 1734 1741 \nL 1357 1997 \nQ 1075 1766 960 1545 \nQ 845 1325 845 1011 \nQ 845 576 1065 333 \nQ 1286 90 1658 90 \nQ 1971 90 2166 285 \nQ 2362 480 2362 794 \nQ 2362 1082 2214 1299 \nQ 2067 1517 1734 1741 \nz\n\" transform=\"scale(0.015625)\"/>\n       </defs>\n       <use xlink:href=\"#STIXGeneral-Regular-38\" transform=\"translate(0 0.40625)\"/>\n       <use xlink:href=\"#STIXGeneral-Regular-30\" transform=\"translate(49.999985 0.40625)\"/>\n      </g>\n     </g>\n    </g>\n    <g id=\"ytick_10\">\n     <g id=\"line2d_23\">\n      <g>\n       <use xlink:href=\"#m09cd208263\" x=\"26.2\" y=\"11.297812\" style=\"fill: #323034; stroke: #323034; stroke-width: 0.8\"/>\n      </g>\n     </g>\n     <g id=\"text_17\">\n      <!-- $\\mathdefault{90}$ -->\n      <g style=\"fill: #323034\" transform=\"translate(7.2 15.395625)scale(0.12 -0.12)\">\n       <use xlink:href=\"#STIXGeneral-Regular-39\" transform=\"translate(0 0.40625)\"/>\n       <use xlink:href=\"#STIXGeneral-Regular-30\" transform=\"translate(49.999985 0.40625)\"/>\n      </g>\n     </g>\n    </g>\n   </g>\n   <g id=\"line2d_24\">\n    <path d=\"M 26.2 170.753812 \nL 28.417219 168.337812 \nL 30.634437 168.337812 \nL 32.851656 165.921812 \nL 35.068874 168.337812 \nL 41.72053 168.337812 \nL 46.154967 163.505812 \nL 48.372185 163.505812 \nL 52.806623 158.673812 \nL 57.24106 158.673812 \nL 59.458278 156.257812 \nL 61.675497 151.425812 \nL 63.892715 149.009812 \nL 66.109934 149.009812 \nL 70.544371 153.841812 \nL 74.978808 149.009812 \nL 77.196026 149.009812 \nL 79.413245 151.425812 \nL 81.630464 151.425812 \nL 86.064901 146.593812 \nL 90.499338 151.425812 \nL 94.933775 151.425812 \nL 106.019868 163.505812 \nL 108.237086 163.505812 \nL 110.454305 161.089812 \nL 112.671523 161.089812 \nL 114.888742 158.673812 \nL 121.540397 158.673812 \nL 125.974834 153.841812 \nL 130.409272 153.841812 \nL 132.62649 158.673812 \nL 134.843709 151.425812 \nL 137.060927 149.009812 \nL 139.278146 149.009812 \nL 141.495364 153.841812 \nL 143.712583 153.841812 \nL 145.929801 151.425812 \nL 152.581457 158.673812 \nL 154.798675 153.841812 \nL 157.015894 146.593812 \nL 159.233113 136.929812 \nL 161.450331 139.345812 \nL 163.66755 144.177812 \nL 168.101987 144.177812 \nL 170.319205 141.761812 \nL 172.536424 144.177812 \nL 174.753642 139.345812 \nL 176.970861 141.761812 \nL 179.188079 139.345812 \nL 181.405298 139.345812 \nL 183.622517 136.929812 \nL 185.839735 132.097812 \nL 188.056954 132.097812 \nL 190.274172 129.681812 \nL 192.491391 134.513812 \nL 194.708609 129.681812 \nL 196.925828 127.265812 \nL 201.360265 127.265812 \nL 205.794702 117.601812 \nL 208.011921 120.017812 \nL 210.229139 132.097812 \nL 212.446358 136.929812 \nL 214.663576 139.345812 \nL 219.098013 134.513812 \nL 221.315232 134.513812 \nL 227.966887 127.265812 \nL 230.184106 129.681812 \nL 232.401325 127.265812 \nL 234.618543 122.433812 \nL 239.05298 127.265812 \nL 241.270199 132.097812 \nL 243.487417 124.849812 \nL 245.704636 122.433812 \nL 247.921854 122.433812 \nL 252.356291 117.601812 \nL 254.57351 117.601812 \nL 256.790728 112.769812 \nL 259.007947 112.769812 \nL 261.225166 115.185812 \nL 263.442384 112.769812 \nL 265.659603 115.185812 \nL 267.876821 105.521812 \nL 270.09404 105.521812 \nL 272.311258 103.105812 \nL 274.528477 105.521812 \nL 278.962914 115.185812 \nL 281.180132 117.601812 \nL 283.397351 124.849812 \nL 285.61457 127.265812 \nL 287.831788 127.265812 \nL 290.049007 124.849812 \nL 292.266225 124.849812 \nL 294.483444 129.681812 \nL 296.700662 129.681812 \nL 298.917881 124.849812 \nL 303.352318 124.849812 \nL 305.569536 151.425812 \nL 307.786755 175.585812 \nL 310.003974 197.329812 \nL 312.221192 190.081812 \nL 314.438411 187.665812 \nL 316.655629 175.585812 \nL 318.872848 170.753812 \nL 321.090066 158.673812 \nL 323.307285 149.009812 \nL 327.741722 134.513812 \nL 329.95894 132.097812 \nL 332.176159 124.849812 \nL 334.393377 120.017812 \nL 336.610596 112.769812 \nL 338.827815 95.857812 \nL 341.045033 88.609812 \nL 343.262252 71.697812 \nL 345.47947 71.697812 \nL 347.696689 62.033812 \nL 349.913907 62.033812 \nL 352.131126 45.121812 \nL 354.348344 42.705812 \nL 356.565563 45.121812 \nL 358.782781 37.873812 \nL 361 37.873812 \nL 361 37.873812 \n\" clip-path=\"url(#pa6123350ba)\" style=\"fill: none; stroke: #bc80bd; stroke-width: 2; stroke-linecap: square\"/>\n   </g>\n   <g id=\"line2d_25\">\n    <path d=\"M 26.2 158.673812 \nL 30.634437 158.673812 \nL 32.851656 156.257812 \nL 35.068874 151.425812 \nL 37.286093 149.009812 \nL 39.503311 149.009812 \nL 43.937748 153.841812 \nL 48.372185 149.009812 \nL 50.589404 149.009812 \nL 52.806623 151.425812 \nL 55.023841 151.425812 \nL 59.458278 146.593812 \nL 63.892715 151.425812 \nL 68.327152 151.425812 \nL 79.413245 163.505812 \nL 81.630464 163.505812 \nL 83.847682 161.089812 \nL 86.064901 161.089812 \nL 88.282119 158.673812 \nL 94.933775 158.673812 \nL 99.368212 153.841812 \nL 103.802649 153.841812 \nL 106.019868 158.673812 \nL 108.237086 151.425812 \nL 110.454305 149.009812 \nL 112.671523 149.009812 \nL 114.888742 153.841812 \nL 117.10596 153.841812 \nL 119.323179 151.425812 \nL 125.974834 158.673812 \nL 128.192053 153.841812 \nL 130.409272 146.593812 \nL 132.62649 136.929812 \nL 134.843709 139.345812 \nL 137.060927 144.177812 \nL 141.495364 144.177812 \nL 143.712583 141.761812 \nL 145.929801 144.177812 \nL 148.14702 139.345812 \nL 150.364238 141.761812 \nL 152.581457 139.345812 \nL 154.798675 139.345812 \nL 157.015894 136.929812 \nL 159.233113 132.097812 \nL 161.450331 132.097812 \nL 163.66755 129.681812 \nL 165.884768 134.513812 \nL 168.101987 129.681812 \nL 170.319205 127.265812 \nL 174.753642 127.265812 \nL 179.188079 117.601812 \nL 181.405298 120.017812 \nL 183.622517 132.097812 \nL 185.839735 136.929812 \nL 188.056954 139.345812 \nL 192.491391 134.513812 \nL 194.708609 134.513812 \nL 201.360265 127.265812 \nL 203.577483 129.681812 \nL 205.794702 127.265812 \nL 208.011921 122.433812 \nL 212.446358 127.265812 \nL 214.663576 132.097812 \nL 216.880795 124.849812 \nL 219.098013 122.433812 \nL 221.315232 122.433812 \nL 225.749669 117.601812 \nL 227.966887 117.601812 \nL 230.184106 112.769812 \nL 232.401325 112.769812 \nL 234.618543 115.185812 \nL 236.835762 112.769812 \nL 239.05298 115.185812 \nL 241.270199 105.521812 \nL 243.487417 105.521812 \nL 245.704636 103.105812 \nL 247.921854 105.521812 \nL 252.356291 115.185812 \nL 254.57351 117.601812 \nL 256.790728 124.849812 \nL 259.007947 127.265812 \nL 261.225166 127.265812 \nL 263.442384 124.849812 \nL 265.659603 124.849812 \nL 267.876821 129.681812 \nL 270.09404 129.681812 \nL 272.311258 124.849812 \nL 276.745695 124.849812 \nL 278.962914 151.425812 \nL 281.180132 175.585812 \nL 283.397351 197.329812 \nL 285.61457 190.081812 \nL 287.831788 187.665812 \nL 290.049007 175.585812 \nL 292.266225 170.753812 \nL 294.483444 158.673812 \nL 296.700662 149.009812 \nL 301.135099 134.513812 \nL 303.352318 132.097812 \nL 305.569536 124.849812 \nL 307.786755 120.017812 \nL 310.003974 112.769812 \nL 312.221192 95.857812 \nL 314.438411 88.609812 \nL 316.655629 71.697812 \nL 318.872848 71.697812 \nL 321.090066 62.033812 \nL 323.307285 62.033812 \nL 325.524503 45.121812 \nL 327.741722 42.705812 \nL 329.95894 45.121812 \nL 332.176159 37.873812 \nL 334.393377 37.873812 \nL 334.393377 37.873812 \n\" clip-path=\"url(#pa6123350ba)\" style=\"fill: none; stroke: #fb8072; stroke-width: 2; stroke-linecap: square\"/>\n   </g>\n   <g id=\"line2d_26\">\n    <path d=\"M 26.2 178.001812 \nL 35.068874 168.337812 \nL 37.286093 168.337812 \nL 39.503311 165.921812 \nL 41.72053 168.337812 \nL 48.372185 168.337812 \nL 52.806623 163.505812 \nL 55.023841 163.505812 \nL 59.458278 158.673812 \nL 63.892715 158.673812 \nL 66.109934 156.257812 \nL 68.327152 151.425812 \nL 70.544371 149.009812 \nL 72.761589 149.009812 \nL 77.196026 153.841812 \nL 81.630464 149.009812 \nL 83.847682 149.009812 \nL 86.064901 151.425812 \nL 88.282119 151.425812 \nL 92.716556 146.593812 \nL 97.150993 151.425812 \nL 101.58543 151.425812 \nL 112.671523 163.505812 \nL 114.888742 163.505812 \nL 117.10596 161.089812 \nL 119.323179 161.089812 \nL 121.540397 158.673812 \nL 128.192053 158.673812 \nL 132.62649 153.841812 \nL 137.060927 153.841812 \nL 139.278146 158.673812 \nL 141.495364 151.425812 \nL 143.712583 149.009812 \nL 145.929801 149.009812 \nL 148.14702 153.841812 \nL 150.364238 153.841812 \nL 152.581457 151.425812 \nL 159.233113 158.673812 \nL 161.450331 153.841812 \nL 163.66755 146.593812 \nL 165.884768 136.929812 \nL 168.101987 139.345812 \nL 170.319205 144.177812 \nL 174.753642 144.177812 \nL 176.970861 141.761812 \nL 179.188079 144.177812 \nL 181.405298 139.345812 \nL 183.622517 141.761812 \nL 185.839735 139.345812 \nL 188.056954 139.345812 \nL 190.274172 136.929812 \nL 192.491391 132.097812 \nL 194.708609 132.097812 \nL 196.925828 129.681812 \nL 199.143046 134.513812 \nL 201.360265 129.681812 \nL 203.577483 127.265812 \nL 208.011921 127.265812 \nL 212.446358 117.601812 \nL 214.663576 120.017812 \nL 216.880795 132.097812 \nL 219.098013 136.929812 \nL 221.315232 139.345812 \nL 225.749669 134.513812 \nL 227.966887 134.513812 \nL 234.618543 127.265812 \nL 236.835762 129.681812 \nL 239.05298 127.265812 \nL 241.270199 122.433812 \nL 245.704636 127.265812 \nL 247.921854 132.097812 \nL 250.139073 124.849812 \nL 252.356291 122.433812 \nL 254.57351 122.433812 \nL 259.007947 117.601812 \nL 261.225166 117.601812 \nL 263.442384 112.769812 \nL 265.659603 112.769812 \nL 267.876821 115.185812 \nL 270.09404 112.769812 \nL 272.311258 115.185812 \nL 274.528477 105.521812 \nL 276.745695 105.521812 \nL 278.962914 103.105812 \nL 281.180132 105.521812 \nL 285.61457 115.185812 \nL 287.831788 117.601812 \nL 290.049007 124.849812 \nL 292.266225 127.265812 \nL 294.483444 127.265812 \nL 296.700662 124.849812 \nL 298.917881 124.849812 \nL 301.135099 129.681812 \nL 303.352318 129.681812 \nL 305.569536 124.849812 \nL 310.003974 124.849812 \nL 312.221192 151.425812 \nL 314.438411 175.585812 \nL 316.655629 197.329812 \nL 318.872848 190.081812 \nL 321.090066 187.665812 \nL 323.307285 175.585812 \nL 325.524503 170.753812 \nL 327.741722 158.673812 \nL 329.95894 149.009812 \nL 334.393377 134.513812 \nL 336.610596 132.097812 \nL 338.827815 124.849812 \nL 341.045033 120.017812 \nL 343.262252 112.769812 \nL 345.47947 95.857812 \nL 347.696689 88.609812 \nL 349.913907 71.697812 \nL 352.131126 71.697812 \nL 354.348344 62.033812 \nL 356.565563 62.033812 \nL 358.782781 45.121812 \nL 361 42.705812 \nL 361 42.705812 \n\" clip-path=\"url(#pa6123350ba)\" style=\"fill: none; stroke: #b3de69; stroke-width: 2; stroke-linecap: square\"/>\n   </g>\n   <g id=\"patch_3\">\n    <path d=\"M 26.2 228.737812 \nL 26.2 11.297812 \n\" style=\"fill: none; stroke: #000000; stroke-width: 0.6; stroke-linejoin: miter; stroke-linecap: square\"/>\n   </g>\n   <g id=\"patch_4\">\n    <path d=\"M 26.2 228.737812 \nL 361 228.737812 \n\" style=\"fill: none; stroke: #000000; stroke-width: 0.6; stroke-linejoin: miter; stroke-linecap: square\"/>\n   </g>\n   <g id=\"legend_1\">\n    <g id=\"patch_5\">\n     <path d=\"M 33.2 55.818125 \nL 172.564062 55.818125 \nQ 174.564062 55.818125 174.564062 53.818125 \nL 174.564062 18.297812 \nQ 174.564062 16.297812 172.564062 16.297812 \nL 33.2 16.297812 \nQ 31.2 16.297812 31.2 18.297812 \nL 31.2 53.818125 \nQ 31.2 55.818125 33.2 55.818125 \nz\n\" style=\"fill: #ffffff; opacity: 0.8; stroke: #e6e6e6; stroke-width: 0.8; stroke-linejoin: miter\"/>\n    </g>\n    <g id=\"line2d_27\">\n     <path d=\"M 33.2 21.797812 \nL 43.2 21.797812 \nL 53.2 21.797812 \n\" style=\"fill: none; stroke: #bc80bd; stroke-width: 2; stroke-linecap: square\"/>\n    </g>\n    <g id=\"text_18\">\n     <!-- Vacancies (ICT), thousands -->\n     <g style=\"fill: #323034\" transform=\"translate(61.2 25.297812)scale(0.1 -0.1)\">\n      <defs>\n       <path id=\"STIXGeneral-Regular-56\" d=\"M 4461 4237 \nL 4461 4115 \nQ 4262 4109 4134 3990 \nQ 4006 3872 3872 3533 \nL 2451 -70 \nL 2355 -70 \nL 794 3411 \nQ 589 3866 467 3987 \nQ 346 4109 102 4115 \nL 102 4237 \nL 1798 4237 \nL 1798 4115 \nL 1619 4102 \nQ 1331 4083 1331 3904 \nQ 1331 3776 1581 3219 \nL 2554 1030 \nL 3494 3392 \nQ 3616 3699 3616 3853 \nQ 3616 3898 3606 3933 \nQ 3597 3968 3584 3993 \nQ 3571 4019 3536 4038 \nQ 3501 4058 3481 4067 \nQ 3462 4077 3411 4086 \nQ 3360 4096 3337 4099 \nQ 3315 4102 3248 4108 \nQ 3181 4115 3155 4115 \nL 3155 4237 \nL 4461 4237 \nz\n\" transform=\"scale(0.015625)\"/>\n       <path id=\"STIXGeneral-Regular-63\" d=\"M 2547 998 \nL 2637 941 \nQ 2362 403 2112 205 \nQ 1786 -64 1376 -64 \nQ 845 -64 502 336 \nQ 160 736 160 1357 \nQ 160 2170 698 2618 \nQ 1094 2944 1562 2944 \nQ 1965 2944 2256 2749 \nQ 2547 2554 2547 2285 \nQ 2547 2176 2457 2096 \nQ 2368 2016 2246 2016 \nQ 2022 2016 1939 2310 \nL 1901 2451 \nQ 1850 2630 1773 2694 \nQ 1696 2758 1523 2758 \nQ 1133 2758 893 2451 \nQ 653 2144 653 1645 \nQ 653 1094 928 745 \nQ 1203 397 1645 397 \nQ 1920 397 2118 528 \nQ 2317 659 2547 998 \nz\n\" transform=\"scale(0.015625)\"/>\n       <path id=\"STIXGeneral-Regular-6e\" d=\"M 3104 0 \nL 1773 0 \nL 1779 96 \nQ 2016 115 2096 233 \nQ 2176 352 2176 672 \nL 2176 1946 \nQ 2176 2592 1709 2592 \nQ 1549 2592 1408 2515 \nQ 1267 2438 1050 2227 \nL 1050 461 \nQ 1050 269 1136 192 \nQ 1222 115 1466 96 \nL 1466 0 \nL 115 0 \nL 115 96 \nQ 358 115 435 214 \nQ 512 314 512 602 \nL 512 2157 \nQ 512 2394 467 2483 \nQ 422 2573 288 2573 \nQ 160 2573 102 2547 \nL 102 2656 \nQ 550 2784 979 2944 \nL 1030 2925 \nL 1030 2426 \nL 1037 2426 \nQ 1491 2944 1958 2944 \nQ 2323 2944 2518 2688 \nQ 2714 2432 2714 1958 \nL 2714 544 \nQ 2714 288 2790 205 \nQ 2867 122 3104 96 \nL 3104 0 \nz\n\" transform=\"scale(0.015625)\"/>\n       <path id=\"STIXGeneral-Regular-69\" d=\"M 1152 4045 \nQ 1152 3904 1056 3811 \nQ 960 3718 819 3718 \nQ 685 3718 592 3811 \nQ 499 3904 499 4045 \nQ 499 4179 595 4275 \nQ 691 4371 826 4371 \nQ 966 4371 1059 4275 \nQ 1152 4179 1152 4045 \nz\nM 1619 0 \nL 102 0 \nL 102 96 \nQ 435 115 521 211 \nQ 608 307 608 666 \nL 608 2118 \nQ 608 2342 563 2432 \nQ 518 2522 397 2522 \nQ 243 2522 128 2490 \nL 128 2592 \nL 1120 2944 \nL 1146 2918 \nL 1146 672 \nQ 1146 314 1226 218 \nQ 1306 122 1619 96 \nL 1619 0 \nz\n\" transform=\"scale(0.015625)\"/>\n       <path id=\"STIXGeneral-Regular-73\" d=\"M 998 1926 \nL 1664 1523 \nQ 1984 1331 2105 1164 \nQ 2227 998 2227 736 \nQ 2227 416 1961 176 \nQ 1696 -64 1331 -64 \nQ 1030 -64 864 -6 \nQ 691 51 570 51 \nQ 461 51 416 -26 \nL 333 -26 \nL 333 979 \nL 435 979 \nQ 538 512 730 294 \nQ 922 77 1248 77 \nQ 1485 77 1632 211 \nQ 1779 346 1779 550 \nQ 1779 845 1440 1030 \nL 1094 1222 \nQ 326 1651 326 2150 \nQ 326 2522 566 2730 \nQ 806 2938 1210 2938 \nQ 1491 2938 1638 2867 \nQ 1754 2816 1818 2816 \nQ 1862 2816 1920 2880 \nL 1990 2880 \nL 2022 2010 \nL 1926 2010 \nQ 1818 2445 1654 2621 \nQ 1491 2797 1203 2797 \nQ 986 2797 854 2688 \nQ 723 2579 723 2362 \nQ 723 2253 796 2128 \nQ 870 2003 998 1926 \nz\n\" transform=\"scale(0.015625)\"/>\n       <path id=\"STIXGeneral-Regular-20\" transform=\"scale(0.015625)\"/>\n       <path id=\"STIXGeneral-Regular-28\" d=\"M 1946 -1030 \nL 1869 -1133 \nQ 1126 -710 716 32 \nQ 307 774 307 1613 \nQ 307 3386 1888 4326 \nL 1946 4224 \nQ 1293 3667 1075 3126 \nQ 858 2586 858 1632 \nQ 858 685 1082 96 \nQ 1306 -493 1946 -1030 \nz\n\" transform=\"scale(0.015625)\"/>\n       <path id=\"STIXGeneral-Regular-49\" d=\"M 2016 0 \nL 115 0 \nL 115 122 \nQ 518 134 627 240 \nQ 736 346 736 717 \nL 736 3526 \nQ 736 3898 633 3994 \nQ 531 4090 115 4115 \nL 115 4237 \nL 2016 4237 \nL 2016 4115 \nQ 1613 4096 1501 3993 \nQ 1389 3891 1389 3526 \nL 1389 717 \nQ 1389 358 1504 246 \nQ 1619 134 2016 122 \nL 2016 0 \nz\n\" transform=\"scale(0.015625)\"/>\n       <path id=\"STIXGeneral-Regular-43\" d=\"M 3930 838 \nL 4051 723 \nQ 3482 -90 2304 -90 \nQ 1376 -90 794 480 \nQ 179 1082 179 2080 \nQ 179 3014 755 3661 \nQ 1357 4326 2310 4326 \nQ 2720 4326 3072 4230 \nQ 3475 4115 3514 4115 \nQ 3725 4115 3782 4326 \nL 3910 4326 \nL 3968 2874 \nL 3821 2874 \nQ 3718 3334 3488 3584 \nQ 3034 4070 2458 4070 \nQ 1747 4070 1334 3548 \nQ 922 3027 922 2182 \nQ 922 1152 1382 653 \nQ 1811 192 2522 192 \nQ 2944 192 3251 339 \nQ 3558 486 3930 838 \nz\n\" transform=\"scale(0.015625)\"/>\n       <path id=\"STIXGeneral-Regular-54\" d=\"M 3795 3149 \nL 3642 3149 \nQ 3539 3674 3353 3821 \nQ 3168 3968 2656 3968 \nL 2278 3968 \nL 2278 710 \nQ 2278 346 2387 243 \nQ 2496 141 2893 122 \nL 2893 0 \nL 1024 0 \nL 1024 122 \nQ 1427 147 1526 256 \nQ 1626 365 1626 787 \nL 1626 3968 \nL 1242 3968 \nQ 723 3968 540 3817 \nQ 358 3667 262 3149 \nL 109 3149 \nL 154 4237 \nL 3750 4237 \nL 3795 3149 \nz\n\" transform=\"scale(0.015625)\"/>\n       <path id=\"STIXGeneral-Regular-29\" d=\"M 186 4224 \nL 262 4326 \nQ 992 3891 1408 3148 \nQ 1824 2406 1824 1581 \nQ 1824 -166 243 -1133 \nL 186 -1030 \nQ 845 -486 1059 54 \nQ 1274 595 1274 1562 \nQ 1274 2534 1059 3120 \nQ 845 3706 186 4224 \nz\n\" transform=\"scale(0.015625)\"/>\n       <path id=\"STIXGeneral-Regular-2c\" d=\"M 531 -902 \nL 467 -781 \nQ 998 -422 998 -96 \nQ 998 -13 909 -13 \nQ 883 -13 822 -25 \nQ 762 -38 723 -38 \nQ 352 -38 352 288 \nQ 352 454 457 553 \nQ 563 653 736 653 \nQ 954 653 1101 496 \nQ 1248 339 1248 96 \nQ 1248 -198 1053 -473 \nQ 858 -749 531 -902 \nz\n\" transform=\"scale(0.015625)\"/>\n       <path id=\"STIXGeneral-Regular-68\" d=\"M 3117 0 \nL 1760 0 \nL 1760 96 \nQ 2042 128 2118 224 \nQ 2195 320 2195 653 \nL 2195 1920 \nQ 2195 2598 1722 2598 \nQ 1530 2598 1370 2508 \nQ 1210 2419 1005 2195 \nL 1005 653 \nQ 1005 320 1081 224 \nQ 1158 128 1440 96 \nL 1440 0 \nL 58 0 \nL 58 96 \nQ 333 134 400 224 \nQ 467 314 467 653 \nL 467 3667 \nQ 467 3872 406 3933 \nQ 346 3994 141 3994 \nQ 83 3994 64 3987 \nL 64 4090 \nL 237 4141 \nQ 730 4288 973 4371 \nL 1005 4352 \nL 1005 2406 \nQ 1229 2694 1446 2819 \nQ 1664 2944 1946 2944 \nQ 2733 2944 2733 1926 \nL 2733 653 \nQ 2733 320 2793 233 \nQ 2854 147 3117 96 \nL 3117 0 \nz\n\" transform=\"scale(0.015625)\"/>\n       <path id=\"STIXGeneral-Regular-6f\" d=\"M 3008 1478 \nQ 3008 806 2608 371 \nQ 2208 -64 1568 -64 \nQ 979 -64 582 368 \nQ 186 800 186 1459 \nQ 186 2125 582 2534 \nQ 979 2944 1626 2944 \nQ 2221 2944 2614 2537 \nQ 3008 2131 3008 1478 \nz\nM 2432 1306 \nQ 2432 2035 2112 2445 \nQ 1856 2765 1504 2765 \nQ 1171 2765 966 2493 \nQ 762 2221 762 1747 \nQ 762 928 1101 435 \nQ 1318 115 1677 115 \nQ 2029 115 2230 432 \nQ 2432 749 2432 1306 \nz\n\" transform=\"scale(0.015625)\"/>\n       <path id=\"STIXGeneral-Regular-75\" d=\"M 3072 320 \nL 3072 230 \nQ 2573 96 2195 -58 \nL 2163 -38 \nL 2163 486 \nL 2150 486 \nQ 1747 -64 1235 -64 \nQ 870 -64 662 160 \nQ 454 384 454 755 \nL 454 2362 \nQ 454 2598 371 2688 \nQ 288 2778 58 2790 \nL 58 2880 \nL 992 2880 \nL 992 813 \nQ 992 595 1123 451 \nQ 1254 307 1446 307 \nQ 1760 307 1984 506 \nQ 2067 582 2099 649 \nQ 2131 717 2131 877 \nL 2131 2355 \nQ 2131 2605 2041 2678 \nQ 1952 2752 1658 2771 \nL 1658 2880 \nL 2669 2880 \nL 2669 685 \nQ 2669 461 2742 390 \nQ 2816 320 3034 320 \nL 3072 320 \nz\n\" transform=\"scale(0.015625)\"/>\n      </defs>\n      <use xlink:href=\"#STIXGeneral-Regular-56\"/>\n      <use xlink:href=\"#STIXGeneral-Regular-61\" x=\"72.199982\"/>\n      <use xlink:href=\"#STIXGeneral-Regular-63\" x=\"116.599976\"/>\n      <use xlink:href=\"#STIXGeneral-Regular-61\" x=\"160.999969\"/>\n      <use xlink:href=\"#STIXGeneral-Regular-6e\" x=\"205.399963\"/>\n      <use xlink:href=\"#STIXGeneral-Regular-63\" x=\"255.399948\"/>\n      <use xlink:href=\"#STIXGeneral-Regular-69\" x=\"299.799942\"/>\n      <use xlink:href=\"#STIXGeneral-Regular-65\" x=\"327.59993\"/>\n      <use xlink:href=\"#STIXGeneral-Regular-73\" x=\"371.999924\"/>\n      <use xlink:href=\"#STIXGeneral-Regular-20\" x=\"410.899918\"/>\n      <use xlink:href=\"#STIXGeneral-Regular-28\" x=\"435.899902\"/>\n      <use xlink:href=\"#STIXGeneral-Regular-49\" x=\"469.19989\"/>\n      <use xlink:href=\"#STIXGeneral-Regular-43\" x=\"502.499878\"/>\n      <use xlink:href=\"#STIXGeneral-Regular-54\" x=\"569.199875\"/>\n      <use xlink:href=\"#STIXGeneral-Regular-29\" x=\"630.299866\"/>\n      <use xlink:href=\"#STIXGeneral-Regular-2c\" x=\"663.599854\"/>\n      <use xlink:href=\"#STIXGeneral-Regular-20\" x=\"688.599838\"/>\n      <use xlink:href=\"#STIXGeneral-Regular-74\" x=\"713.599823\"/>\n      <use xlink:href=\"#STIXGeneral-Regular-68\" x=\"741.399811\"/>\n      <use xlink:href=\"#STIXGeneral-Regular-6f\" x=\"791.399796\"/>\n      <use xlink:href=\"#STIXGeneral-Regular-75\" x=\"841.39978\"/>\n      <use xlink:href=\"#STIXGeneral-Regular-73\" x=\"891.399765\"/>\n      <use xlink:href=\"#STIXGeneral-Regular-61\" x=\"930.299759\"/>\n      <use xlink:href=\"#STIXGeneral-Regular-6e\" x=\"974.699753\"/>\n      <use xlink:href=\"#STIXGeneral-Regular-64\" x=\"1024.699738\"/>\n      <use xlink:href=\"#STIXGeneral-Regular-73\" x=\"1074.699722\"/>\n     </g>\n    </g>\n    <g id=\"line2d_28\">\n     <path d=\"M 33.2 34.968125 \nL 43.2 34.968125 \nL 53.2 34.968125 \n\" style=\"fill: none; stroke: #fb8072; stroke-width: 2; stroke-linecap: square\"/>\n    </g>\n    <g id=\"text_19\">\n     <!-- lead (12 months) -->\n     <g style=\"fill: #323034\" transform=\"translate(61.2 38.468125)scale(0.1 -0.1)\">\n      <defs>\n       <path id=\"STIXGeneral-Regular-6c\" d=\"M 1645 0 \nL 134 0 \nL 134 96 \nQ 435 122 531 221 \nQ 627 320 627 589 \nL 627 3590 \nQ 627 3821 569 3910 \nQ 512 4000 358 4000 \nQ 224 4000 122 3987 \nL 122 4090 \nQ 730 4237 1133 4371 \nL 1165 4346 \nL 1165 557 \nQ 1165 288 1254 201 \nQ 1344 115 1645 96 \nL 1645 0 \nz\n\" transform=\"scale(0.015625)\"/>\n       <path id=\"STIXGeneral-Regular-6d\" d=\"M 4960 0 \nL 3565 0 \nL 3565 96 \nQ 3834 122 3907 208 \nQ 3981 294 3981 576 \nL 3981 1894 \nQ 3981 2278 3869 2444 \nQ 3757 2611 3488 2611 \nQ 3264 2611 3107 2521 \nQ 2950 2432 2803 2221 \nL 2803 608 \nQ 2803 301 2896 201 \nQ 2989 102 3264 96 \nL 3264 0 \nL 1830 0 \nL 1830 96 \nQ 2112 115 2189 188 \nQ 2266 262 2266 550 \nL 2266 1901 \nQ 2266 2611 1850 2611 \nQ 1670 2611 1468 2531 \nQ 1267 2451 1171 2336 \nQ 1088 2240 1088 2227 \nL 1088 448 \nQ 1088 243 1177 176 \nQ 1267 109 1523 96 \nL 1523 0 \nL 102 0 \nL 102 96 \nQ 371 102 460 195 \nQ 550 288 550 563 \nL 550 2150 \nQ 550 2387 499 2480 \nQ 448 2573 326 2573 \nQ 230 2573 122 2547 \nL 122 2656 \nQ 557 2778 1011 2944 \nL 1062 2925 \nL 1062 2451 \nL 1075 2451 \nQ 1363 2752 1584 2848 \nQ 1805 2944 2054 2944 \nQ 2560 2944 2733 2406 \nQ 3232 2944 3776 2944 \nQ 4518 2944 4518 1792 \nL 4518 493 \nQ 4518 282 4582 202 \nQ 4646 122 4794 109 \nL 4960 96 \nL 4960 0 \nz\n\" transform=\"scale(0.015625)\"/>\n      </defs>\n      <use xlink:href=\"#STIXGeneral-Regular-6c\"/>\n      <use xlink:href=\"#STIXGeneral-Regular-65\" x=\"27.799988\"/>\n      <use xlink:href=\"#STIXGeneral-Regular-61\" x=\"72.199982\"/>\n      <use xlink:href=\"#STIXGeneral-Regular-64\" x=\"116.599976\"/>\n      <use xlink:href=\"#STIXGeneral-Regular-20\" x=\"166.59996\"/>\n      <use xlink:href=\"#STIXGeneral-Regular-28\" x=\"191.599945\"/>\n      <use xlink:href=\"#STIXGeneral-Regular-31\" x=\"224.899933\"/>\n      <use xlink:href=\"#STIXGeneral-Regular-32\" x=\"274.899918\"/>\n      <use xlink:href=\"#STIXGeneral-Regular-20\" x=\"324.899902\"/>\n      <use xlink:href=\"#STIXGeneral-Regular-6d\" x=\"349.899887\"/>\n      <use xlink:href=\"#STIXGeneral-Regular-6f\" x=\"427.699875\"/>\n      <use xlink:href=\"#STIXGeneral-Regular-6e\" x=\"477.69986\"/>\n      <use xlink:href=\"#STIXGeneral-Regular-74\" x=\"527.699844\"/>\n      <use xlink:href=\"#STIXGeneral-Regular-68\" x=\"555.499832\"/>\n      <use xlink:href=\"#STIXGeneral-Regular-73\" x=\"605.499817\"/>\n      <use xlink:href=\"#STIXGeneral-Regular-29\" x=\"644.399811\"/>\n     </g>\n    </g>\n    <g id=\"line2d_29\">\n     <path d=\"M 33.2 48.138437 \nL 43.2 48.138437 \nL 53.2 48.138437 \n\" style=\"fill: none; stroke: #b3de69; stroke-width: 2; stroke-linecap: square\"/>\n    </g>\n    <g id=\"text_20\">\n     <!-- lag (3 months) -->\n     <g style=\"fill: #323034\" transform=\"translate(61.2 51.638437)scale(0.1 -0.1)\">\n      <defs>\n       <path id=\"STIXGeneral-Regular-67\" d=\"M 3008 2483 \nL 2477 2483 \nQ 2598 2208 2598 1946 \nQ 2598 1453 2265 1203 \nQ 1933 954 1600 954 \nQ 1530 954 1357 973 \nL 1235 986 \nQ 1107 947 979 812 \nQ 851 678 851 582 \nQ 851 435 1350 410 \nL 2176 371 \nQ 2528 358 2739 172 \nQ 2950 -13 2950 -314 \nQ 2950 -685 2566 -986 \nQ 2035 -1395 1286 -1395 \nQ 826 -1395 502 -1212 \nQ 179 -1030 179 -774 \nQ 179 -595 320 -419 \nQ 461 -243 806 6 \nQ 602 102 534 172 \nQ 467 243 467 346 \nQ 467 531 762 787 \nQ 909 915 1037 1043 \nQ 717 1203 579 1401 \nQ 442 1600 442 1901 \nQ 442 2336 752 2640 \nQ 1062 2944 1510 2944 \nQ 1766 2944 2022 2848 \nL 2163 2797 \nQ 2349 2733 2515 2733 \nL 3008 2733 \nL 3008 2483 \nz\nM 973 2163 \nL 973 2144 \nQ 973 1683 1155 1398 \nQ 1338 1114 1632 1114 \nQ 1850 1114 1978 1270 \nQ 2106 1427 2106 1690 \nQ 2106 2112 1914 2464 \nQ 1754 2765 1446 2765 \nQ 1222 2765 1097 2605 \nQ 973 2445 973 2163 \nz\nM 2771 -410 \nQ 2771 -230 2595 -163 \nQ 2419 -96 1978 -96 \nQ 1344 -96 941 -13 \nQ 749 -243 688 -348 \nQ 627 -454 627 -563 \nQ 627 -774 880 -902 \nQ 1133 -1030 1555 -1030 \nQ 2099 -1030 2435 -860 \nQ 2771 -691 2771 -410 \nz\n\" transform=\"scale(0.015625)\"/>\n      </defs>\n      <use xlink:href=\"#STIXGeneral-Regular-6c\"/>\n      <use xlink:href=\"#STIXGeneral-Regular-61\" x=\"27.799988\"/>\n      <use xlink:href=\"#STIXGeneral-Regular-67\" x=\"72.199982\"/>\n      <use xlink:href=\"#STIXGeneral-Regular-20\" x=\"122.199966\"/>\n      <use xlink:href=\"#STIXGeneral-Regular-28\" x=\"147.199951\"/>\n      <use xlink:href=\"#STIXGeneral-Regular-33\" x=\"180.499939\"/>\n      <use xlink:href=\"#STIXGeneral-Regular-20\" x=\"230.499924\"/>\n      <use xlink:href=\"#STIXGeneral-Regular-6d\" x=\"255.499908\"/>\n      <use xlink:href=\"#STIXGeneral-Regular-6f\" x=\"333.299896\"/>\n      <use xlink:href=\"#STIXGeneral-Regular-6e\" x=\"383.299881\"/>\n      <use xlink:href=\"#STIXGeneral-Regular-74\" x=\"433.299866\"/>\n      <use xlink:href=\"#STIXGeneral-Regular-68\" x=\"461.099854\"/>\n      <use xlink:href=\"#STIXGeneral-Regular-73\" x=\"511.099838\"/>\n      <use xlink:href=\"#STIXGeneral-Regular-29\" x=\"549.999832\"/>\n     </g>\n    </g>\n   </g>\n  </g>\n </g>\n <defs>\n  <clipPath id=\"pa6123350ba\">\n   <rect x=\"26.2\" y=\"11.297812\" width=\"334.8\" height=\"217.44\"/>\n  </clipPath>\n </defs>\n</svg>\n",
      "text/plain": [
       "<Figure size 900x600 with 1 Axes>"
      ]
     },
     "metadata": {
      "needs_background": "light"
     },
     "output_type": "display_data"
    }
   ],
   "source": [
    "df.iloc[100:300, :].plot();"
   ]
  }
 ],
 "metadata": {
  "interpreter": {
   "hash": "9d7534ecd9fbc7d385378f8400cf4d6cb9c6175408a574f1c99c5269f08771cc"
  },
  "jupytext": {
   "cell_metadata_filter": "-all",
   "encoding": "# -*- coding: utf-8 -*-",
   "formats": "md:myst",
   "main_language": "python"
  },
  "kernelspec": {
   "display_name": "Python 3 (ipykernel)",
   "language": "python",
   "name": "python3"
  },
  "language_info": {
   "codemirror_mode": {
    "name": "ipython",
    "version": 3
   },
   "file_extension": ".py",
   "mimetype": "text/x-python",
   "name": "python",
   "nbconvert_exporter": "python",
   "pygments_lexer": "ipython3",
   "version": "3.9.12"
  },
  "toc-showtags": true
 },
 "nbformat": 4,
 "nbformat_minor": 5
}
