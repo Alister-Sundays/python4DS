{
 "cells": [
  {
   "cell_type": "markdown",
   "id": "95f0a171",
   "metadata": {},
   "source": [
    "(vis-layers)=\n",
    "# Layers\n"
   ]
  },
  {
   "cell_type": "markdown",
   "id": "9fdd3b8a",
   "metadata": {},
   "source": [
    "## Introduction\n",
    "\n",
    "In the previous chapters, you've learned much more than just how to make scatterplots, bar charts, and boxplots.\n",
    "You learned a foundation that you can use to make *any* type of plot with **lets-plot**.\n",
    "\n",
    "In this chapter, you'll expand on that foundation as you learn about the layered grammar of graphics.\n",
    "We'll start with a deeper dive into aesthetic mappings, geometric objects, and facets.\n",
    "Then, you will learn about statistical transformations **lets-plot** makes under the hood when creating a plot.\n",
    "These transformations are used to calculate new values to plot, such as the heights of bars in a bar plot or medians in a box plot.\n",
    "You will also learn about position adjustments, which modify how geoms are displayed in your plots.\n",
    "Finally, we'll briefly introduce coordinate systems.\n",
    "\n",
    "We will not cover every single function and option for each of these layers, but we will walk you through the most important and commonly used functionality provided by **lets-plot**."
   ]
  },
  {
   "cell_type": "markdown",
   "id": "17575f3a",
   "metadata": {},
   "source": [
    "### Prerequisites\n",
    "\n",
    "You will need to install the **letsplot** package for this chapter, as well as **pandas**.\n",
    "\n",
    "In your Python session, import the libraries we'll be using:"
   ]
  },
  {
   "cell_type": "code",
   "execution_count": null,
   "id": "a86fb211",
   "metadata": {},
   "outputs": [],
   "source": [
    "import pandas as pd\n",
    "from lets_plot import *\n",
    "\n",
    "LetsPlot.setup_html()"
   ]
  },
  {
   "cell_type": "markdown",
   "id": "55b00fde",
   "metadata": {},
   "source": [
    "## Aesthetic mappings\n",
    "\n",
    "> \"The greatest value of a picture is when it forces us to notice what we never expected to see.\" --- John Tukey\n",
    "\n",
    "We're going to use the `mpg` dataset for this section, so let's download it."
   ]
  },
  {
   "cell_type": "code",
   "execution_count": null,
   "id": "39a6d993",
   "metadata": {},
   "outputs": [],
   "source": [
    "mpg = pd.read_csv(\n",
    "    \"https://vincentarelbundock.github.io/Rdatasets/csv/ggplot2/mpg.csv\", index_col=0\n",
    ")\n",
    "\n",
    "mpg = mpg.astype(\n",
    "    {\n",
    "        \"manufacturer\": \"category\",\n",
    "        \"model\": \"category\",\n",
    "        \"displ\": \"double\",\n",
    "        \"year\": \"int64\",\n",
    "        \"cyl\": \"int64\",\n",
    "        \"trans\": \"category\",\n",
    "        \"drv\": \"category\",\n",
    "        \"cty\": \"double\",\n",
    "        \"hwy\": \"double\",\n",
    "        \"fl\": \"category\",\n",
    "        \"class\": \"category\",\n",
    "    }\n",
    ")\n",
    "mpg.head()"
   ]
  },
  {
   "cell_type": "markdown",
   "id": "6d6f1307",
   "metadata": {},
   "source": [
    "Among the variables in `mpg` are:\n",
    "\n",
    "1.  `displ`: A car's engine size, in liters.\n",
    "    A numerical variable.\n",
    "\n",
    "2.  `hwy`: A car's fuel efficiency on the highway, in miles per gallon (mpg).\n",
    "    A car with a low fuel efficiency consumes more fuel than a car with a high fuel efficiency when they travel the same distance.\n",
    "    A numerical variable.\n",
    "\n",
    "3.  `class`: Type of car.\n",
    "    A categorical variable.\n",
    "\n",
    "Let's start by visualising the relationship between `displ` and `hwy` for various `class`es of cars.\n",
    "We can do this with a scatterplot where the numerical variables are mapped to the `x` and `y` aesthetics and the categorical variable is mapped to an aesthetic like `color` or `shape`."
   ]
  },
  {
   "cell_type": "code",
   "execution_count": null,
   "id": "fe77349a",
   "metadata": {},
   "outputs": [],
   "source": [
    "(ggplot(mpg, aes(x=\"displ\", y=\"hwy\", color=\"class\")) + geom_point())"
   ]
  },
  {
   "cell_type": "code",
   "execution_count": null,
   "id": "e77b5640",
   "metadata": {},
   "outputs": [],
   "source": [
    "(ggplot(mpg, aes(x=\"displ\", y=\"hwy\", shape=\"class\")) + geom_point())"
   ]
  },
  {
   "cell_type": "markdown",
   "id": "53e51510",
   "metadata": {},
   "source": [
    "Similarly, we can map `class` to `size` or `alpha` aesthetics as well, which control the shape and the transparency of the points, respectively."
   ]
  },
  {
   "cell_type": "code",
   "execution_count": null,
   "id": "ef221330",
   "metadata": {},
   "outputs": [],
   "source": [
    "(ggplot(mpg, aes(x=\"displ\", y=\"hwy\", size=\"class\")) + geom_point())"
   ]
  },
  {
   "cell_type": "code",
   "execution_count": null,
   "id": "d042255e",
   "metadata": {},
   "outputs": [],
   "source": [
    "(ggplot(mpg, aes(x=\"displ\", y=\"hwy\", alpha=\"class\")) + geom_point())"
   ]
  },
  {
   "cell_type": "markdown",
   "id": "ec07349f",
   "metadata": {},
   "source": [
    "While we are able to do it, mapping an unordered discrete (categorical) variable (`class`) to an ordered aesthetic variable (`size` or `alpha`) is generally not a good idea because it implies a ranking that does not in fact exist.\n",
    "\n",
    "Once you map an aesthetic, **lets-plot** takes care of the rest.\n",
    "It selects a reasonable scale to use with the aesthetic, and it constructs a legend that explains the mapping between levels and values.\n",
    "For x and y aesthetics, **lets-plot** does not create a legend, but it creates an axis line with tick marks and a label.\n",
    "The axis line provides the same information as a legend; it explains the mapping between locations and values.\n",
    "\n",
    "You can also set the visual properties of your geom manually as an argument of your geom function (*outside* of `aes()`) instead of relying on a variable mapping to determine the appearance.\n",
    "For example, we can make all of the points in our plot blue:\n"
   ]
  },
  {
   "cell_type": "code",
   "execution_count": null,
   "id": "618edcb4",
   "metadata": {},
   "outputs": [],
   "source": [
    "(ggplot(mpg, aes(x=\"displ\", y=\"hwy\")) + geom_point(color=\"blue\"))"
   ]
  },
  {
   "cell_type": "markdown",
   "id": "52611640",
   "metadata": {},
   "source": [
    "Here, the colour doesn't convey information about a variable, but only changes the appearance of the plot.\n",
    "You'll need to pick a value that makes sense for that aesthetic:\n",
    "\n",
    "-   The name of a color as a character string, e.g., `color = \"blue\"`\n",
    "-   The size of a point in mm, e.g., `size = 1`\n",
    "-   The shape of a point as a number, e.g, `shape = 1`.\n",
    "\n",
    "Try changing the above plot but, instead of specifying colour, try specifying the shape aesthetic. What do you get with shape set to 1, 2, or 3?"
   ]
  },
  {
   "cell_type": "markdown",
   "id": "37d49ff8",
   "metadata": {},
   "source": [
    "So far we have discussed aesthetics that we can map or set in a scatterplot, when using a point geom.\n",
    "\n",
    "The specific aesthetics you can use for a plot depend on the geom you use to represent the data.\n",
    "In the next section we dive deeper into geoms."
   ]
  },
  {
   "cell_type": "markdown",
   "id": "3f1da019",
   "metadata": {},
   "source": [
    "1.  Create a scatterplot of `hwy` vs. `displ` where the points are pink filled in triangles.\n",
    "\n",
    "2.  Why does the following code not result in a plot with blue points?\n",
    "\n",
    "    ```python\n",
    "    (\n",
    "        ggplot(mpg) + \n",
    "      geom_point(aes(x = \"displ\", y = \"hwy\", color = \"blue\"))\n",
    "    )\n",
    "    ```\n",
    "\n",
    "3.  What does the `stroke` aesthetic do?\n",
    "    What shapes does it work with?\n",
    "    (Hint: use `stroke` in the global aesthetic and `shape` in `geom_point`)\n",
    "\n",
    "4.  Try changing the last plot from above but, instead of specifying colour, try specifying the shape aesthetic. What do you get with shape set to 1, 2, or 3?"
   ]
  },
  {
   "cell_type": "markdown",
   "id": "83aa98f0",
   "metadata": {},
   "source": [
    "## Geometric objects\n",
    "\n",
    "How are these two plots similar?"
   ]
  },
  {
   "cell_type": "code",
   "execution_count": null,
   "id": "277a4c0f",
   "metadata": {},
   "outputs": [],
   "source": [
    "(ggplot(mpg, aes(x=\"displ\", y=\"hwy\")) + geom_point(size=4))"
   ]
  },
  {
   "cell_type": "code",
   "execution_count": null,
   "id": "07247ba9",
   "metadata": {},
   "outputs": [],
   "source": [
    "(ggplot(mpg, aes(x=\"displ\", y=\"hwy\")) + geom_smooth(method=\"loess\", size=2))"
   ]
  },
  {
   "cell_type": "markdown",
   "id": "58824a10",
   "metadata": {},
   "source": [
    "Both plots contain the same x variable, the same y variable, and both describe the same data.\n",
    "But the plots are not identical.\n",
    "Each plot uses a different geometric object, geom, to represent the data.\n",
    "The plot on the left uses the point geom, and the plot on the right uses the smooth geom, a smooth line fitted to the data.\n",
    "\n",
    "To change the geom in your plot, change the geom function that you add to `ggplot()`."
   ]
  },
  {
   "cell_type": "markdown",
   "id": "0db26c6c",
   "metadata": {},
   "source": [
    "Every geom function in **lets-plot** takes a `mapping` argument, either defined locally in the geom layer or globally in the `ggplot()` layer.\n",
    "However, not every aesthetic works with every geom.\n",
    "You could set the shape of a point, but you couldn't set the \"shape\" of a line.\n",
    "If you try, **lets-plot** will silently ignore that aesthetic mapping.\n",
    "On the other hand, you *could* set the linetype of a line.\n",
    "`geom_smooth()` will draw a different line, with a different linetype, for each unique value of the variable that you map to linetype.\n",
    "\n",
    "Let's take a look:"
   ]
  },
  {
   "cell_type": "code",
   "execution_count": null,
   "id": "4b20c825",
   "metadata": {},
   "outputs": [],
   "source": [
    "(ggplot(mpg, aes(x=\"displ\", y=\"hwy\", line=\"drv\")) + geom_smooth(method=\"loess\"))"
   ]
  },
  {
   "cell_type": "code",
   "execution_count": null,
   "id": "84df3e78",
   "metadata": {},
   "outputs": [],
   "source": [
    "(ggplot(mpg, aes(x=\"displ\", y=\"hwy\", linetype=\"drv\")) + geom_smooth(method=\"loess\"))"
   ]
  },
  {
   "cell_type": "markdown",
   "id": "7b114911",
   "metadata": {},
   "source": [
    "Here, `geom_smooth()` separates the cars into three lines based on their `drv` value, which describes a car's drive train.\n",
    "One line describes all of the points that have a `4` value, one line describes all of the points that have an `f` value, and one line describes all of the points that have an `r` value.\n",
    "Here, `4` stands for four-wheel drive, `f` for front-wheel drive, and `r` for rear-wheel drive.\n",
    "\n",
    "If this is too confusing, we can make it clearer by overlaying the lines on top of the raw data and then coloring everything according to `drv`."
   ]
  },
  {
   "cell_type": "code",
   "execution_count": null,
   "id": "c9e8d92f",
   "metadata": {},
   "outputs": [],
   "source": [
    "(\n",
    "    ggplot(mpg, aes(x=\"displ\", y=\"hwy\", color=\"drv\"))\n",
    "    + geom_point()\n",
    "    + geom_smooth(aes(linetype=\"drv\"), method=\"loess\")\n",
    ")"
   ]
  },
  {
   "cell_type": "markdown",
   "id": "b6392da1",
   "metadata": {},
   "source": [
    "Notice that this plot contains two geoms in the same graph.\n",
    "\n",
    "Many geoms, like `geom_smooth()`, use a single geometric object to display multiple rows of data.\n",
    "For these geoms, you can set the `group` aesthetic to a categorical variable to draw multiple objects.\n",
    "**lets-plot** will draw a separate object for each unique value of the grouping variable.\n",
    "In practice, **lets-plot** will automatically group the data for these geoms whenever you map an aesthetic to a discrete variable.\n",
    "It is convenient to rely on this feature because the `group` aesthetic by itself does not add a legend or distinguishing features to the geoms.\n",
    "\n",
    "Note that if you place mappings in a geom function, **lets-plot** will treat them as local mappings for the layer.\n",
    "It will use these mappings to extend or overwrite the global mappings *for that layer only*.\n",
    "This makes it possible to display different aesthetics in different layers."
   ]
  },
  {
   "cell_type": "code",
   "execution_count": null,
   "id": "b3916558",
   "metadata": {},
   "outputs": [],
   "source": [
    "(ggplot(mpg, aes(x=\"displ\", y=\"hwy\")) + geom_point(aes(color=\"class\")) + geom_smooth())"
   ]
  },
  {
   "cell_type": "markdown",
   "id": "88708546",
   "metadata": {},
   "source": [
    "You can use the same idea to specify different data for each layer.\n",
    "Here, we use red points as well as open circles to highlight two-seater cars.\n",
    "The local data argument in `geom_point()` overrides the global data argument in `ggplot()` for that layer only.\n"
   ]
  },
  {
   "cell_type": "code",
   "execution_count": null,
   "id": "38870eb5",
   "metadata": {},
   "outputs": [],
   "source": [
    "(\n",
    "    ggplot(mpg, aes(x=\"displ\", y=\"hwy\"))\n",
    "    + geom_point()\n",
    "    + geom_point(data=mpg.loc[mpg[\"class\"] == \"2seater\", :], color=\"red\", size=2)\n",
    "    + geom_point(\n",
    "        data=mpg.loc[mpg[\"class\"] == \"2seater\", :], shape=1, size=3, color=\"red\"\n",
    "    )\n",
    ")"
   ]
  },
  {
   "cell_type": "markdown",
   "id": "35a3d017",
   "metadata": {},
   "source": [
    "Geoms are the fundamental building blocks of **lets-plot**.\n",
    "You can completely transform the look of your plot by changing its geom, and different geoms can reveal different features of your data.\n",
    "\n",
    "**lets-plot** provides over 40 geoms but these don't cover all possible plots one could make. You can find an overview at the relevant part of the [**lets-plot** documentation](https://lets-plot.org/pages/api.html#geometries).\n",
    "\n",
    "If you need a geom that is not included, you have three main options:\n",
    "1. Look for packages that extend **lets-plot** and that do what you need\n",
    "2. Raise an issue on the [**lets-plot** Github page](https://github.com/JetBrains/lets-plot) requesting it as a new feature—but bear in mind that it might not be a priority for the maintainers, and there's no guarantee that they'll add it, depending on how useful it is for others and how easy it is to implemet.\n",
    "3. Turn to an imperative plotting package that gives you fine-grained control so you can build your own chart from the ground up—[**matplotlib**](https://matplotlib.org/) is absolutely excellent for this.\n"
   ]
  },
  {
   "cell_type": "markdown",
   "id": "39a12f36",
   "metadata": {},
   "source": [
    "### Exercises\n",
    "\n",
    "1.  What geom would you use to draw a line chart?\n",
    "    A boxplot?\n",
    "    A histogram?\n",
    "    An area chart?\n",
    "\n",
    "2.  What effect would running the previous example:\n",
    "\n",
    "    ```python\n",
    "    (\n",
    "    ggplot(mpg, aes(x = \"displ\", y = \"hwy\", alpha = \"class\")) +\n",
    "      geom_point()\n",
    "    )\n",
    "    ```\n",
    "    with the keyword argument `show_legend=False` have on the chart generated by this code?\n",
    "\n",
    "3.  What does the `se` argument to `geom_smooth()` do?\n",
    "\n",
    "4.  Recreate the Python code necessary to generate the following graph.\n"
   ]
  },
  {
   "cell_type": "code",
   "execution_count": null,
   "id": "ae75c5c1",
   "metadata": {
    "tags": [
     "remove-cell"
    ]
   },
   "outputs": [],
   "source": [
    "(\n",
    "    ggplot(mpg, aes(x=\"displ\", y=\"hwy\", color=\"drv\"))\n",
    "    + geom_smooth(aes(group=\"drv\"), se=False, method=\"loess\")\n",
    "    + geom_point()\n",
    ")"
   ]
  }
 ],
 "metadata": {
  "interpreter": {
   "hash": "9d7534ecd9fbc7d385378f8400cf4d6cb9c6175408a574f1c99c5269f08771cc"
  },
  "jupytext": {
   "cell_metadata_filter": "-all",
   "encoding": "# -*- coding: utf-8 -*-",
   "formats": "md:myst",
   "main_language": "python"
  },
  "kernelspec": {
   "display_name": "Python 3 (ipykernel)",
   "language": "python",
   "name": "python3"
  },
  "language_info": {
   "codemirror_mode": {
    "name": "ipython",
    "version": 3
   },
   "file_extension": ".py",
   "mimetype": "text/x-python",
   "name": "python",
   "nbconvert_exporter": "python",
   "pygments_lexer": "ipython3",
   "version": "3.10.12"
  },
  "toc-showtags": true
 },
 "nbformat": 4,
 "nbformat_minor": 5
}
