{
 "cells": [
  {
   "cell_type": "markdown",
   "id": "95f0a171",
   "metadata": {},
   "source": [
    "(data-visualise)=\n",
    "# Data Visualisation\n",
    "\n",
    "## Introduction\n",
    "\n",
    "> \"The simple graph has brought more information to the data analyst's mind than any other device.\" --- John Tukey\n",
    "\n",
    "This chapter will teach you how to visualise your data using the **seaborn** package.\n",
    "\n",
    "There are a plethora of other options (and packages) for data visualisation using code. There are broadly two categories of approach to using code to create data visualisations: imperative, where you build what you want, and declarative, where you say what you want. Choosing which to use involves a trade-off: imperative libraries offer you flexibility but at the cost of some verbosity; declarative libraries offer you a quick way to plot your data, but only if it’s in the right format to begin with, and customisation may be more difficult.\n",
    "\n",
    "**seaborn** is a declarative visualisation package, and these can be easier to get started with. But it's built on top of an imperative package, the incredibly powerful **matplotlib**, so you can always dig further and tweak details if you need to. However, in this chapter, we'll focus on using **seaborn** declaratively."
   ]
  },
  {
   "cell_type": "code",
   "execution_count": null,
   "id": "51a55374",
   "metadata": {
    "tags": [
     "remove-cell"
    ]
   },
   "outputs": [],
   "source": [
    "import matplotlib_inline.backend_inline\n",
    "import matplotlib.pyplot as plt\n",
    "\n",
    "# Plot settings\n",
    "plt.style.use(\n",
    "    \"https://github.com/aeturrell/coding-for-economists/raw/main/plot_style.txt\"\n",
    ")\n",
    "matplotlib_inline.backend_inline.set_matplotlib_formats(\"svg\")"
   ]
  },
  {
   "cell_type": "markdown",
   "id": "17575f3a",
   "metadata": {},
   "source": [
    "### Prerequisites\n",
    "\n",
    "You will need to install the **seaborn** package for this chapter. This chapter uses the next generation version of **seaborn**, which can be installed by running the following on the command line (aka in the terminal): \n",
    "\n",
    "```bash\n",
    "pip install --pre seaborn\n",
    "```\n",
    "\n",
    "Once you've done this, you'll need to import the **seaborn** library into your session using"
   ]
  },
  {
   "cell_type": "code",
   "execution_count": null,
   "id": "ae4a818a",
   "metadata": {},
   "outputs": [],
   "source": [
    "import seaborn.objects as so"
   ]
  },
  {
   "cell_type": "markdown",
   "id": "e0ad70c8",
   "metadata": {},
   "source": [
    "The second import brings in the plotting part of **seaborn**.\n",
    "\n",
    "## First Steps\n",
    "\n",
    "Let's use our first graph to answer a question: Do cars with big engines use more fuel than cars with small engines? You probably already have an answer, but try to make your answer precise. What does the relationship between engine size and fuel efficiency look like? Is it positive? Negative? Linear? Non-linear?\n",
    "\n",
    "### The `mpg` data frame\n",
    "\n",
    "You can test your answer with the `mpg` data frame found in **seaborn** and obtained from the internet using the **pandas** package.\n",
    "\n",
    "A data frame is a rectangular collection of variables (in the columns) and observations (in the rows). `mpg` contains observations collected by the US Environmental Protection Agency on 38 car models."
   ]
  },
  {
   "cell_type": "code",
   "execution_count": null,
   "id": "0cf986aa",
   "metadata": {},
   "outputs": [],
   "source": [
    "import pandas as pd\n",
    "\n",
    "mpg = pd.read_csv(\n",
    "    \"https://vincentarelbundock.github.io/Rdatasets/csv/ggplot2/mpg.csv\", index_col=0\n",
    ")\n",
    "mpg"
   ]
  },
  {
   "cell_type": "markdown",
   "id": "cc310b4f",
   "metadata": {},
   "source": [
    "Among the variables in `mpg` are:\n",
    "\n",
    "1.  `displ`, a car's engine size, in litres.\n",
    "\n",
    "2.  `hwy`, a car's fuel efficiency on the highway, in miles per gallon (mpg). A car with a low fuel efficiency consumes more fuel than a car with a high fuel efficiency when they travel the same distance."
   ]
  },
  {
   "cell_type": "markdown",
   "id": "339966d7",
   "metadata": {},
   "source": [
    "### Creating a Plot\n",
    "\n",
    "To plot `mpg`, run this code to put `displ` on the x-axis and `hwy` on the y-axis:"
   ]
  },
  {
   "cell_type": "code",
   "execution_count": null,
   "id": "1b12b0ca",
   "metadata": {},
   "outputs": [],
   "source": [
    "so.Plot(mpg, x=\"displ\", y=\"hwy\").add(so.Scatter())"
   ]
  },
  {
   "cell_type": "markdown",
   "id": "7272e621",
   "metadata": {},
   "source": [
    "The plot shows a negative relationship between engine size (`displacement`) and fuel efficiency (`mpg`). In other words, cars with smaller engine sizes have higher fuel efficiency and, in general, as engine size increases, fuel efficiency decreases. Does this confirm or refute your hypothesis about fuel efficiency and engine size?\n",
    "\n",
    "With **seaborn**, you begin a plot with the function `so.Plot()`. **seaborn** creates a coordinate system that you can add layers to. The first argument of `so.Plot()` is the dataset to use in the graph. So `so.Plot(mpg)` creates an empty graph, but it's not very interesting so I'm not going to show it here.\n",
    "\n",
    "You complete your graph by adding one or more layers to the plot. The function `.add(so.Scatter())` adds a layer of points to your plot, creating a scatterplot. You can choose between telling `so.Plot` what the x and y axis variables are or passing it directly to `.add`.\n",
    "\n",
    "**seaborn** comes with many functions that each add a different type of layer to a plot. You'll learn a whole bunch of them throughout this chapter."
   ]
  },
  {
   "cell_type": "markdown",
   "id": "c5e295b2",
   "metadata": {},
   "source": [
    "### A graphing template\n",
    "\n",
    "Let's turn this code into a reusable template for making graphs with **seaborn**. To make a graph, replace the bracketed sections in the code below with a dataset, a geom function, or a collection of mappings.\n",
    "\n",
    "```python\n",
    "so.Plot(<data>, x=<X VARIABLE>, y=<Y VARIABLE>).add(so.<PLOT STYLE>)\n",
    "```\n",
    "\n",
    "The rest of this chapter will show you how to complete and extend this template to make different types of graphs."
   ]
  },
  {
   "cell_type": "markdown",
   "id": "351b59e2",
   "metadata": {},
   "source": [
    "### Exercises\n",
    "\n",
    "1.  Run `so.Plot(mpg)`.\n",
    "    What do you see?\n",
    "\n",
    "2.  How many rows are in `mpg` (the data frame)?\n",
    "    How many columns?\n",
    "\n",
    "3.  Make a scatterplot of `mpg` vs `cylinders`.\n",
    "\n",
    "4.  What happens if you make a scatterplot of `class` vs `drv`? Why is the plot not useful?"
   ]
  },
  {
   "cell_type": "markdown",
   "id": "e5867e3f",
   "metadata": {},
   "source": [
    "## Aesthetic mappings\n",
    "\n",
    "> \"The greatest value of a picture is when it forces us to notice what we never expected to see.\" --- John Tukey\n",
    "\n",
    "In the plot below, one group of points (highlighted in red) seems to fall outside of the linear trend. These cars have a higher mileage than you might expect. How can you explain these cars?\n"
   ]
  },
  {
   "cell_type": "code",
   "execution_count": null,
   "id": "11877e4c",
   "metadata": {},
   "outputs": [],
   "source": [
    "# hide input\n",
    "so.Plot(mpg, x=\"displ\", y=\"hwy\").add(so.Scatter()).add(\n",
    "    so.Scatter(color=\"red\", pointsize=5), data=mpg.query(\"displ > 5 and hwy > 20\")\n",
    ")"
   ]
  },
  {
   "cell_type": "markdown",
   "id": "801606f0",
   "metadata": {},
   "source": [
    "Let's hypothesize that the cars are hybrids. One way to test this hypothesis is to look at the `class` value for each car.\n",
    "The `class` variable of the `mpg` dataset classifies cars into groups such as compact, midsize, and SUV. If the outlying points are hybrids, they should be classified as compact cars or, perhaps, subcompact cars (keep in mind that this data was collected before hybrid trucks and SUVs became popular).\n",
    "\n",
    "You can add a third variable, like `class`, to a two dimensional scatterplot by mapping it to another dimension of the plot. These could be things like the size, the shape, or the colour of your points.\n",
    "\n",
    "For example, you can map the colours of your points to the `class` variable to reveal the class of each car."
   ]
  },
  {
   "cell_type": "code",
   "execution_count": null,
   "id": "d3bd2335",
   "metadata": {},
   "outputs": [],
   "source": [
    "so.Plot(mpg, x=\"displ\", y=\"hwy\", color=\"class\").add(so.Scatter())"
   ]
  },
  {
   "cell_type": "markdown",
   "id": "d4db1154",
   "metadata": {},
   "source": [
    "To map another dimension in the plot to a variable, assign that dimension to the variable, for example `color=\"class\"` within `so.Plot` or within `.add`. **seaborn** will automatically assign a unique level of the dimension (here a unique colour) to each unique value of the variable, a process known as scaling. **seaborn** will also add a legend that explains which levels correspond to which values."
   ]
  },
  {
   "cell_type": "markdown",
   "id": "9c4b3bb7",
   "metadata": {},
   "source": [
    "The colours reveal that many of the unusual points (with engine size greater than 5 litres and highway fuel efficiency greater than 20 miles per gallon) are two-seater cars. These cars don't seem like hybrids, and are, in fact, sports cars! Sports cars have large engines like SUVs and pickup trucks, but small bodies like midsize and compact cars, which improves their gas mileage. In hindsight, these cars were unlikely to be hybrids since they have large engines.\n",
    "\n",
    "\n",
    "In the above example, we mapped `class` to colour, but we could have mapped `class` to the size of points in the same way. In this case, the exact size of each point would reveal its class affiliation. Big warning here though: mapping an unordered variable (`class`) to an ordered variable (`size`) is generally not a good idea."
   ]
  },
  {
   "cell_type": "code",
   "execution_count": null,
   "id": "8ae59e98",
   "metadata": {},
   "outputs": [],
   "source": [
    "so.Plot(mpg, x=\"displ\", y=\"hwy\", pointsize=\"class\").add(so.Scatter())"
   ]
  },
  {
   "cell_type": "markdown",
   "id": "c1c17016",
   "metadata": {},
   "source": [
    "Similarly, we could have mapped `class` to *alpha* level, which controls the transparency of the points, or to the *marker* variable, which controls the shape of the points."
   ]
  },
  {
   "cell_type": "code",
   "execution_count": null,
   "id": "dcfa90ee",
   "metadata": {},
   "outputs": [],
   "source": [
    "so.Plot(mpg, x=\"displ\", y=\"hwy\", alpha=\"class\").add(so.Scatter())"
   ]
  },
  {
   "cell_type": "code",
   "execution_count": null,
   "id": "824214a5",
   "metadata": {},
   "outputs": [],
   "source": [
    "so.Plot(mpg, x=\"displ\", y=\"hwy\", marker=\"class\").add(so.Scatter())"
   ]
  },
  {
   "cell_type": "markdown",
   "id": "a637a55b",
   "metadata": {},
   "source": [
    "Once you map variables to dimensions, **seaborn** takes care of the rest. It selects a reasonable scale to use with the dimension, and it constructs a legend that explains the mapping between levels and values.\n",
    "\n",
    "You can also *set* a dimension property in your plot directly. For example, we can make all of the points in our plot purple:"
   ]
  },
  {
   "cell_type": "code",
   "execution_count": null,
   "id": "b3d9fb32",
   "metadata": {},
   "outputs": [],
   "source": [
    "so.Plot(mpg, x=\"displ\", y=\"hwy\").add(so.Scatter(color=\"purple\"))"
   ]
  },
  {
   "cell_type": "markdown",
   "id": "af32bb82",
   "metadata": {},
   "source": [
    "Here, the colour doesn't convey information about a variable, but only changes the appearance of the plot.\n",
    "To set a dimension manually like this, put it within the specific layer it applies to (eg `.add(so.Scatter(color=\"purple\"))`) rather than in the part that maps variables to dimensions (eg not in `so.Plot(mpg, x=\"displ\", y=\"hwy\")`).\n",
    "\n",
    "When assigning values to dimensions, you'll need to pick values that makes sense, for example:\n",
    "\n",
    "-   The name of a colour as a string, eg `color=\"purple\"`\n",
    "-   The size of a point in mm\n",
    "-   The shape of a marker as a string, eg `marker=\"*\"` for a star"
   ]
  },
  {
   "cell_type": "code",
   "execution_count": null,
   "id": "cc31c7f4",
   "metadata": {},
   "outputs": [],
   "source": [
    "# Hide input\n",
    "from matplotlib.lines import Line2D\n",
    "\n",
    "\n",
    "text_style = dict(\n",
    "    horizontalalignment=\"right\",\n",
    "    verticalalignment=\"center\",\n",
    "    fontsize=12,\n",
    "    fontfamily=\"monospace\",\n",
    ")\n",
    "marker_style = dict(\n",
    "    linestyle=\":\",\n",
    "    color=\"0.8\",\n",
    "    markersize=10,\n",
    "    markerfacecolor=\"tab:blue\",\n",
    "    markeredgecolor=\"tab:blue\",\n",
    ")\n",
    "\n",
    "\n",
    "def format_axes(ax):\n",
    "    ax.margins(0.2)\n",
    "    ax.set_axis_off()\n",
    "    ax.invert_yaxis()\n",
    "\n",
    "\n",
    "def split_list(a_list):\n",
    "    i_half = len(a_list) // 2\n",
    "    return a_list[:i_half], a_list[i_half:]\n",
    "\n",
    "\n",
    "fig, axs = plt.subplots(ncols=2)\n",
    "fig.suptitle(\"Un-filled markers\", fontsize=14)\n",
    "\n",
    "# Filter out filled markers and marker settings that do nothing.\n",
    "unfilled_markers = [\n",
    "    m\n",
    "    for m, func in Line2D.markers.items()\n",
    "    if func != \"nothing\" and m not in Line2D.filled_markers\n",
    "]\n",
    "\n",
    "for ax, markers in zip(axs, split_list(unfilled_markers)):\n",
    "    for y, marker in enumerate(markers):\n",
    "        ax.text(-0.5, y, repr(marker), **text_style)\n",
    "        ax.plot([y] * 3, marker=marker, **marker_style)\n",
    "    format_axes(ax)\n",
    "\n",
    "plt.show()\n",
    "\n",
    "fig, axs = plt.subplots(ncols=2)\n",
    "fig.suptitle(\"Filled markers\", fontsize=14)\n",
    "for ax, markers in zip(axs, split_list(Line2D.filled_markers)):\n",
    "    for y, marker in enumerate(markers):\n",
    "        ax.text(-0.5, y, repr(marker), **text_style)\n",
    "        ax.plot([y] * 3, marker=marker, **marker_style)\n",
    "    format_axes(ax)\n",
    "\n",
    "plt.show()"
   ]
  },
  {
   "cell_type": "markdown",
   "id": "42b0c66e",
   "metadata": {},
   "source": [
    "You can find more information on markers in the [**matplotlib** documentation](https://matplotlib.org/stable/gallery/lines_bars_and_markers/marker_reference.html)"
   ]
  },
  {
   "cell_type": "markdown",
   "id": "fc7ac561",
   "metadata": {},
   "source": [
    "## Facets\n",
    "\n"
   ]
  }
 ],
 "metadata": {
  "interpreter": {
   "hash": "9d7534ecd9fbc7d385378f8400cf4d6cb9c6175408a574f1c99c5269f08771cc"
  },
  "jupytext": {
   "cell_metadata_filter": "-all",
   "encoding": "# -*- coding: utf-8 -*-",
   "formats": "md:myst",
   "main_language": "python"
  },
  "kernelspec": {
   "display_name": "Python 3 (ipykernel)",
   "language": "python",
   "name": "python3"
  },
  "language_info": {
   "codemirror_mode": {
    "name": "ipython",
    "version": 3
   },
   "file_extension": ".py",
   "mimetype": "text/x-python",
   "name": "python",
   "nbconvert_exporter": "python",
   "pygments_lexer": "ipython3",
   "version": "3.9.12"
  },
  "toc-showtags": true
 },
 "nbformat": 4,
 "nbformat_minor": 5
}
